{
 "cells": [
  {
   "cell_type": "markdown",
   "metadata": {},
   "source": [
    "# Flux JL\n",
    "\n",
    "## Flux Model Zoo Examples\n",
    "\n",
    "# 1. 60 Minute Blitz Tutorial\n",
    "\n",
    "**FluxML contributors**\n",
    "\n",
    "**Source:** https://github.com/FluxML/model-zoo/blob/master/tutorials/60-minute-blitz/60-minute-blitz.jl\n",
    "\n",
    "In this notebook we will follow the Flux 60 minute blitz tutorial which is a quick introduction to `Flux.jl` and `Zygote.jl`. The JuliaAcademy Flux course is out of date.\n"
   ]
  },
  {
   "cell_type": "code",
   "execution_count": 1,
   "metadata": {},
   "outputs": [],
   "source": [
    "using Random\n",
    "Random.seed!(1901);"
   ]
  },
  {
   "cell_type": "markdown",
   "metadata": {},
   "source": [
    "### Arrays\n",
    "\n",
    "Python frameworks call the rich data structures needed for deep learning \"tensors\". In Julia, standard [arrays](https://docs.julialang.org/en/v1/manual/arrays/) are rich enough. The fundamentals we'll need for arrays are as follows:"
   ]
  },
  {
   "cell_type": "code",
   "execution_count": 2,
   "metadata": {},
   "outputs": [
    {
     "data": {
      "text/plain": "3-element Array{Int64,1}:\n 1\n 2\n 3"
     },
     "execution_count": 2,
     "metadata": {},
     "output_type": "execute_result"
    }
   ],
   "source": [
    "# simple one dimensional vector\n",
    "x = [1,2,3]"
   ]
  },
  {
   "cell_type": "code",
   "execution_count": 3,
   "metadata": {},
   "outputs": [
    {
     "data": {
      "text/plain": "2×2 Array{Int64,2}:\n 1  2\n 3  4"
     },
     "execution_count": 3,
     "metadata": {},
     "output_type": "execute_result"
    }
   ],
   "source": [
    "# simple two dimensional matrix\n",
    "A = [1 2; 3 4]"
   ]
  },
  {
   "cell_type": "markdown",
   "metadata": {},
   "source": [
    "We can get the transpose of an array using  `'`"
   ]
  },
  {
   "cell_type": "code",
   "execution_count": 4,
   "metadata": {},
   "outputs": [
    {
     "data": {
      "text/plain": "1×3 LinearAlgebra.Adjoint{Int64,Array{Int64,1}}:\n 1  2  3"
     },
     "execution_count": 4,
     "metadata": {},
     "output_type": "execute_result"
    }
   ],
   "source": [
    "x'"
   ]
  },
  {
   "cell_type": "code",
   "execution_count": 5,
   "metadata": {},
   "outputs": [
    {
     "data": {
      "text/plain": "2×2 LinearAlgebra.Adjoint{Int64,Array{Int64,2}}:\n 1  3\n 2  4"
     },
     "execution_count": 5,
     "metadata": {},
     "output_type": "execute_result"
    }
   ],
   "source": [
    "A'"
   ]
  },
  {
   "cell_type": "markdown",
   "metadata": {},
   "source": [
    "When doing practical machine learning, we rarely need to write down the arrays (mathematical quantities really) by hand. Instead they will be randomly initialized or loaded from a data source. These arrays will typically have thousands (modern deep learning accomdates up to millions) of elements and can be high dimensional (ie greater than two)."
   ]
  },
  {
   "cell_type": "code",
   "execution_count": 6,
   "metadata": {},
   "outputs": [
    {
     "data": {
      "text/plain": "5×3 Array{Float64,2}:\n 0.473992  0.679734   0.813061\n 0.144764  0.878979   0.784906\n 0.163162  0.276519   0.268337\n 0.851148  0.0819475  0.57531\n 0.545344  0.726505   0.146707"
     },
     "execution_count": 6,
     "metadata": {},
     "output_type": "execute_result"
    }
   ],
   "source": [
    "# random 5x3 matrix\n",
    "A = rand(5,3)"
   ]
  },
  {
   "cell_type": "code",
   "execution_count": 7,
   "metadata": {},
   "outputs": [
    {
     "data": {
      "text/plain": "5×3×3 Array{Float64,3}:\n[:, :, 1] =\n 0.339587  0.0489843  0.145054\n 0.881603  0.160171   0.777179\n 0.613293  0.978046   0.916764\n 0.408401  0.400148   0.89194\n 0.524516  0.743542   0.533591\n\n[:, :, 2] =\n 0.422338   0.00142709  0.944212\n 0.0819589  0.472919    0.93606\n 0.143972   0.329342    0.893447\n 0.545785   0.960097    0.208232\n 0.26603    0.656001    0.697613\n\n[:, :, 3] =\n 0.845347  0.161531  0.229013\n 0.831117  0.673546  0.629992\n 0.443505  0.710372  0.277925\n 0.060432  0.149023  0.689609\n 0.462454  0.33216   0.231105"
     },
     "execution_count": 7,
     "metadata": {},
     "output_type": "execute_result"
    }
   ],
   "source": [
    "# random 5x3x3 tensor\n",
    "A = rand(5,3,3)"
   ]
  },
  {
   "cell_type": "markdown",
   "metadata": {},
   "source": [
    "If we wanted arrays with ones and zeros, we can use such functions"
   ]
  },
  {
   "cell_type": "code",
   "execution_count": 8,
   "metadata": {},
   "outputs": [
    {
     "data": {
      "text/plain": "3-element Array{Float64,1}:\n 1.0\n 1.0\n 1.0"
     },
     "execution_count": 8,
     "metadata": {},
     "output_type": "execute_result"
    }
   ],
   "source": [
    "y = ones(3)"
   ]
  },
  {
   "cell_type": "code",
   "execution_count": 9,
   "metadata": {},
   "outputs": [
    {
     "data": {
      "text/plain": "3×3 Array{Float64,2}:\n 0.0  0.0  0.0\n 0.0  0.0  0.0\n 0.0  0.0  0.0"
     },
     "execution_count": 9,
     "metadata": {},
     "output_type": "execute_result"
    }
   ],
   "source": [
    "X = zeros(3,3)"
   ]
  },
  {
   "cell_type": "markdown",
   "metadata": {},
   "source": [
    "By default `rand` draws samples from a uniform distribution, $\\mathscr{U}(0,1)$. If we wanted to sample from a standard normal distribution, $\\mathscr{N}(0,1)$, we can use `randn`"
   ]
  },
  {
   "cell_type": "code",
   "execution_count": 10,
   "metadata": {},
   "outputs": [
    {
     "data": {
      "text/plain": "5×3 Array{Float64,2}:\n  0.778008   -0.486742   1.45372\n -1.00334     0.0533656  1.28723\n -0.0666296   0.510628   0.137943\n  0.897416    1.15795    0.0296086\n -0.989839   -0.798793   1.03184"
     },
     "execution_count": 10,
     "metadata": {},
     "output_type": "execute_result"
    }
   ],
   "source": [
    "A = randn(5,3)"
   ]
  },
  {
   "cell_type": "markdown",
   "metadata": {},
   "source": [
    "By default, Julia works stores numbers is a high-precision format called `Float64`. In ML we often don't need all those digits, and can ask Julia to work with `Float32` instead. We can even ask for more digits using `BigFloat`."
   ]
  },
  {
   "cell_type": "code",
   "execution_count": 11,
   "metadata": {},
   "outputs": [
    {
     "data": {
      "text/plain": "5×3 Array{BigFloat,2}:\n 0.498705  0.0458057  0.542354\n 0.279078  0.596522   0.345954\n 0.750618  0.986054   0.669849\n 0.576752  0.849148   0.805311\n 0.212028  0.0771651  0.420851"
     },
     "execution_count": 11,
     "metadata": {},
     "output_type": "execute_result"
    }
   ],
   "source": [
    "A = rand(BigFloat, 5, 3)"
   ]
  },
  {
   "cell_type": "code",
   "execution_count": 12,
   "metadata": {},
   "outputs": [
    {
     "data": {
      "text/plain": "5×3 Array{Float32,2}:\n 0.0808238  0.846249  0.914619\n 0.23529    0.894668  0.514459\n 0.246161   0.202211  0.140343\n 0.160066   0.354957  0.245969\n 0.932326   0.173908  0.625088"
     },
     "execution_count": 12,
     "metadata": {},
     "output_type": "execute_result"
    }
   ],
   "source": [
    "A = rand(Float32, 5, 3)"
   ]
  },
  {
   "cell_type": "markdown",
   "metadata": {},
   "source": [
    "To check the length (number of elements in Julia) and size (shape) of the array:"
   ]
  },
  {
   "cell_type": "code",
   "execution_count": 13,
   "metadata": {},
   "outputs": [
    {
     "data": {
      "text/plain": "15"
     },
     "execution_count": 13,
     "metadata": {},
     "output_type": "execute_result"
    }
   ],
   "source": [
    "length(A)  # number of elements"
   ]
  },
  {
   "cell_type": "code",
   "execution_count": 14,
   "metadata": {},
   "outputs": [
    {
     "data": {
      "text/plain": "(5, 3)"
     },
     "execution_count": 14,
     "metadata": {},
     "output_type": "execute_result"
    }
   ],
   "source": [
    "size(A)"
   ]
  },
  {
   "cell_type": "code",
   "execution_count": 15,
   "metadata": {},
   "outputs": [
    {
     "data": {
      "text/plain": "(3,)"
     },
     "execution_count": 15,
     "metadata": {},
     "output_type": "execute_result"
    }
   ],
   "source": [
    "size(x)"
   ]
  },
  {
   "cell_type": "code",
   "execution_count": 16,
   "metadata": {},
   "outputs": [
    {
     "data": {
      "text/plain": "(1, 3)"
     },
     "execution_count": 16,
     "metadata": {},
     "output_type": "execute_result"
    }
   ],
   "source": [
    "size(x')"
   ]
  },
  {
   "cell_type": "markdown",
   "metadata": {},
   "source": [
    "#### Array Indexing\n",
    "\n",
    "Let's work with the two dimensional matrix $A$."
   ]
  },
  {
   "cell_type": "code",
   "execution_count": 17,
   "metadata": {},
   "outputs": [
    {
     "data": {
      "text/plain": "0.51445925f0"
     },
     "execution_count": 17,
     "metadata": {},
     "output_type": "execute_result"
    }
   ],
   "source": [
    "# get the second row and third column (ie A_23)\n",
    "A[2,3]"
   ]
  },
  {
   "cell_type": "code",
   "execution_count": 18,
   "metadata": {},
   "outputs": [
    {
     "data": {
      "text/plain": "5-element Array{Float32,1}:\n 0.91461945\n 0.51445925\n 0.1403426\n 0.24596894\n 0.6250881"
     },
     "execution_count": 18,
     "metadata": {},
     "output_type": "execute_result"
    }
   ],
   "source": [
    "# get the entire third column\n",
    "A[:,3]"
   ]
  },
  {
   "cell_type": "code",
   "execution_count": 19,
   "metadata": {},
   "outputs": [
    {
     "data": {
      "text/plain": "(5,)"
     },
     "execution_count": 19,
     "metadata": {},
     "output_type": "execute_result"
    }
   ],
   "source": [
    "# the returned slice is a vector (1-D array)\n",
    "size(A[:,3])"
   ]
  },
  {
   "cell_type": "markdown",
   "metadata": {},
   "source": [
    "#### Array Operations\n",
    "\n",
    "Arrays can be added or subtracted, element-wise"
   ]
  },
  {
   "cell_type": "code",
   "execution_count": 20,
   "metadata": {},
   "outputs": [
    {
     "data": {
      "text/plain": "5×3 Array{Float32,2}:\n 0.161648  1.6925    1.82924\n 0.470579  1.78934   1.02892\n 0.492322  0.404422  0.280685\n 0.320131  0.709913  0.491938\n 1.86465   0.347815  1.25018"
     },
     "execution_count": 20,
     "metadata": {},
     "output_type": "execute_result"
    }
   ],
   "source": [
    "A + A"
   ]
  },
  {
   "cell_type": "code",
   "execution_count": 21,
   "metadata": {},
   "outputs": [
    {
     "data": {
      "text/plain": "5×3 Array{Float32,2}:\n 0.0  0.0  0.0\n 0.0  0.0  0.0\n 0.0  0.0  0.0\n 0.0  0.0  0.0\n 0.0  0.0  0.0"
     },
     "execution_count": 21,
     "metadata": {},
     "output_type": "execute_result"
    }
   ],
   "source": [
    "A - A"
   ]
  },
  {
   "cell_type": "markdown",
   "metadata": {},
   "source": [
    "Julia supports a feature called *broadcasting*, using the `.` syntax. This expands small arrays (or scalar numbers) to fill bigger ones."
   ]
  },
  {
   "cell_type": "code",
   "execution_count": 22,
   "metadata": {},
   "outputs": [
    {
     "data": {
      "text/plain": "3-element Array{Int64,1}:\n 2\n 3\n 4"
     },
     "execution_count": 22,
     "metadata": {},
     "output_type": "execute_result"
    }
   ],
   "source": [
    "x .+ 1"
   ]
  },
  {
   "cell_type": "code",
   "execution_count": 23,
   "metadata": {},
   "outputs": [
    {
     "data": {
      "text/plain": "3-element Array{Int64,1}:\n 2\n 3\n 4"
     },
     "execution_count": 23,
     "metadata": {},
     "output_type": "execute_result"
    }
   ],
   "source": [
    "# note broadcasting can be done from the left and right\n",
    "# broadcasting will always expand the smaller object\n",
    "1 .+ x"
   ]
  },
  {
   "cell_type": "code",
   "execution_count": 24,
   "metadata": {},
   "outputs": [
    {
     "data": {
      "text/plain": "5×5 Array{Float64,2}:\n 1.0  1.0  1.0  1.0  1.0\n 2.0  2.0  2.0  2.0  2.0\n 3.0  3.0  3.0  3.0  3.0\n 4.0  4.0  4.0  4.0  4.0\n 5.0  5.0  5.0  5.0  5.0"
     },
     "execution_count": 24,
     "metadata": {},
     "output_type": "execute_result"
    }
   ],
   "source": [
    "# check this example\n",
    "zeros(5,5) .+ (1:5)"
   ]
  },
  {
   "cell_type": "code",
   "execution_count": 25,
   "metadata": {},
   "outputs": [
    {
     "data": {
      "text/plain": "5×5 Array{Float64,2}:\n 1.0  2.0  3.0  4.0  5.0\n 1.0  2.0  3.0  4.0  5.0\n 1.0  2.0  3.0  4.0  5.0\n 1.0  2.0  3.0  4.0  5.0\n 1.0  2.0  3.0  4.0  5.0"
     },
     "execution_count": 25,
     "metadata": {},
     "output_type": "execute_result"
    }
   ],
   "source": [
    "# we can also expand along the columns by taking the transpose using \"'\"\n",
    "zeros(5,5) .+ (1:5)'"
   ]
  },
  {
   "cell_type": "markdown",
   "metadata": {},
   "source": [
    "Broadcasting lets us take an outerproduct of two vectors, eg the following will create a \"times table\""
   ]
  },
  {
   "cell_type": "code",
   "execution_count": 26,
   "metadata": {},
   "outputs": [
    {
     "data": {
      "text/plain": "5×5 Array{Int64,2}:\n 1   2   3   4   5\n 2   4   6   8  10\n 3   6   9  12  15\n 4   8  12  16  20\n 5  10  15  20  25"
     },
     "execution_count": 26,
     "metadata": {},
     "output_type": "execute_result"
    }
   ],
   "source": [
    "(1:5) .* (1:5)'"
   ]
  },
  {
   "cell_type": "markdown",
   "metadata": {},
   "source": [
    "Finally, and importantly for machine learning, we can conveniently do things like matrix multiply."
   ]
  },
  {
   "cell_type": "code",
   "execution_count": 27,
   "metadata": {},
   "outputs": [
    {
     "data": {
      "text/plain": "5-element Array{Float64,1}:\n  3.317276046866636\n  1.9248117938752447\n -0.6584877407322838\n -2.0769309246660996\n -1.4659838431773957"
     },
     "execution_count": 27,
     "metadata": {},
     "output_type": "execute_result"
    }
   ],
   "source": [
    "W = randn(5, 10)\n",
    "x = rand(10)\n",
    "z = W * x"
   ]
  },
  {
   "cell_type": "markdown",
   "metadata": {},
   "source": [
    "### Automatic Differentiation\n",
    "\n",
    "Here we will look at how we can automatically calculate gradients using `Flux.jl` (really `Zygote.jl`):"
   ]
  },
  {
   "cell_type": "code",
   "execution_count": 28,
   "metadata": {},
   "outputs": [
    {
     "name": "stderr",
     "output_type": "stream",
     "text": [
      "┌ Info: Precompiling Flux [587475ba-b771-5e3f-ad9e-33799f191a9c]\n",
      "└ @ Base loading.jl:1278\n"
     ]
    }
   ],
   "source": [
    "using Flux: gradient"
   ]
  },
  {
   "cell_type": "code",
   "execution_count": 29,
   "metadata": {},
   "outputs": [
    {
     "data": {
      "text/plain": "f (generic function with 1 method)"
     },
     "execution_count": 29,
     "metadata": {},
     "output_type": "execute_result"
    }
   ],
   "source": [
    "f(x) = 3x^2 + 2x + 1"
   ]
  },
  {
   "cell_type": "code",
   "execution_count": 30,
   "metadata": {},
   "outputs": [
    {
     "data": {
      "text/plain": "86"
     },
     "execution_count": 30,
     "metadata": {},
     "output_type": "execute_result"
    }
   ],
   "source": [
    "f(5)"
   ]
  },
  {
   "cell_type": "code",
   "execution_count": 31,
   "metadata": {},
   "outputs": [
    {
     "data": {
      "text/plain": "df (generic function with 1 method)"
     },
     "execution_count": 31,
     "metadata": {},
     "output_type": "execute_result"
    }
   ],
   "source": [
    "df(x) = gradient(f, x)[1]"
   ]
  },
  {
   "cell_type": "code",
   "execution_count": 32,
   "metadata": {},
   "outputs": [
    {
     "data": {
      "text/plain": "32"
     },
     "execution_count": 32,
     "metadata": {},
     "output_type": "execute_result"
    }
   ],
   "source": [
    "df(5)  # 6x + 2"
   ]
  },
  {
   "cell_type": "code",
   "execution_count": 33,
   "metadata": {},
   "outputs": [
    {
     "data": {
      "text/plain": "6"
     },
     "execution_count": 33,
     "metadata": {},
     "output_type": "execute_result"
    }
   ],
   "source": [
    "# second derivative\n",
    "ddf(x) = gradient(df, x)[1]\n",
    "ddf(5)  # 6"
   ]
  },
  {
   "cell_type": "markdown",
   "metadata": {},
   "source": [
    "Flux's AD can handle any Julia code you throw at it, including loops,recursion and custom layers, so long as the mathematical functions you call are differentiable. For example, we can differentiate a Taylor approximationto the `sin` function."
   ]
  },
  {
   "cell_type": "code",
   "execution_count": 34,
   "metadata": {},
   "outputs": [
    {
     "data": {
      "text/plain": "sin_taylor (generic function with 1 method)"
     },
     "execution_count": 34,
     "metadata": {},
     "output_type": "execute_result"
    }
   ],
   "source": [
    "sin_taylor(x) = sum((-1)^k*x^(1+2k)/factorial(1+2k) for k in 0:5)"
   ]
  },
  {
   "cell_type": "code",
   "execution_count": 35,
   "metadata": {},
   "outputs": [
    {
     "data": {
      "text/plain": "(0.4794255386041834, (0.8775825618898637,))"
     },
     "execution_count": 35,
     "metadata": {},
     "output_type": "execute_result"
    }
   ],
   "source": [
    "x = 0.5\n",
    "sin_taylor(x), gradient(sin_taylor, x)"
   ]
  },
  {
   "cell_type": "markdown",
   "metadata": {},
   "source": [
    "These should be close to the analytic values"
   ]
  },
  {
   "cell_type": "code",
   "execution_count": 36,
   "metadata": {},
   "outputs": [
    {
     "data": {
      "text/plain": "(0.479425538604203, 0.8775825618903728)"
     },
     "execution_count": 36,
     "metadata": {},
     "output_type": "execute_result"
    }
   ],
   "source": [
    "sin(x), cos(x)"
   ]
  },
  {
   "cell_type": "markdown",
   "metadata": {},
   "source": [
    "We can also calculate multivariate gradients. Let's consider a machine learning example"
   ]
  },
  {
   "cell_type": "code",
   "execution_count": 37,
   "metadata": {},
   "outputs": [
    {
     "data": {
      "text/plain": "myloss (generic function with 1 method)"
     },
     "execution_count": 37,
     "metadata": {},
     "output_type": "execute_result"
    }
   ],
   "source": [
    "myloss(W, b, x) = sum(W * x .+ b)"
   ]
  },
  {
   "cell_type": "code",
   "execution_count": 38,
   "metadata": {},
   "outputs": [
    {
     "name": "stdout",
     "output_type": "stream",
     "text": [
      "dW: [0.5464852179020285 0.025053840060029087 0.18317816405960574 0.5693114794752963 0.721741415631834; 0.5464852179020285 0.025053840060029087 0.18317816405960574 0.5693114794752963 0.721741415631834; 0.5464852179020285 0.025053840060029087 0.18317816405960574 0.5693114794752963 0.721741415631834]\n",
      "db: 3-element Fill{Float64}: entries equal to 1.0\n",
      "dx: [-1.263848689566458, 0.7568426248503717, -2.4902675217248746, 1.0587959985261206, 2.394014394952821]\n"
     ]
    }
   ],
   "source": [
    "W = randn(3, 5)\n",
    "b = zeros(3)\n",
    "x = rand(5)\n",
    "\n",
    "for (dx, var) in zip(gradient(myloss, W, b, x), [\"W\", \"b\", \"x\"])\n",
    "    println(\"d$var: $dx\")\n",
    "end"
   ]
  },
  {
   "cell_type": "markdown",
   "metadata": {},
   "source": [
    "#### Flux Gradients\n",
    "\n",
    "Since ML models can contain hundreds of parameters, Flux provides a slightly different way of writing `gradient`. We instead mark arrays with `param` to indicate that we want their derivatives. `W` and `b` represent the weight and bias respectively."
   ]
  },
  {
   "cell_type": "code",
   "execution_count": 39,
   "metadata": {},
   "outputs": [],
   "source": [
    "using Flux: params"
   ]
  },
  {
   "cell_type": "code",
   "execution_count": 40,
   "metadata": {},
   "outputs": [
    {
     "data": {
      "text/plain": "yhat (generic function with 1 method)"
     },
     "execution_count": 40,
     "metadata": {},
     "output_type": "execute_result"
    }
   ],
   "source": [
    "W = randn(3, 5)\n",
    "b = zeros(3)\n",
    "x = rand(5)\n",
    "\n",
    "yhat(x) = sum(W * x .+ b)"
   ]
  },
  {
   "cell_type": "code",
   "execution_count": 41,
   "metadata": {},
   "outputs": [
    {
     "name": "stdout",
     "output_type": "stream",
     "text": [
      "dW: [0.5563119744776965 0.051351248206179534 0.7628386843629329 0.9709129448623346 0.9811406999076913; 0.5563119744776965 0.051351248206179534 0.7628386843629329 0.9709129448623346 0.9811406999076913; 0.5563119744776965 0.051351248206179534 0.7628386843629329 0.9709129448623346 0.9811406999076913]\n",
      "db: 3-element Fill{Float64}: entries equal to 1.0\n"
     ]
    }
   ],
   "source": [
    "grads = gradient(() -> yhat(x), params([W, b]))\n",
    "\n",
    "println(\"dW: $(grads[W])\")\n",
    "println(\"db: $(grads[b])\")"
   ]
  },
  {
   "cell_type": "markdown",
   "metadata": {},
   "source": [
    "We will see how we can use this relatively low level API to grab the gradients from a layer during backpropagation, no matter how many parameters there are."
   ]
  },
  {
   "cell_type": "code",
   "execution_count": 42,
   "metadata": {},
   "outputs": [],
   "source": [
    "using Flux"
   ]
  },
  {
   "cell_type": "code",
   "execution_count": 43,
   "metadata": {},
   "outputs": [
    {
     "data": {
      "text/plain": "Params([Float32[-0.5668959 -0.21264602 … 0.31516832 -0.15080695; 0.4814028 0.13275658 … -0.18509413 0.49544686; … ; 0.1923382 0.3814014 … 0.12081754 0.3400128; 0.015165166 0.18423162 … -0.40377128 -0.019569416], Float32[0.0, 0.0, 0.0, 0.0, 0.0], Float32[-0.8286046 0.7093473 … -0.55147886 0.52152807; 0.658253 0.7882109 … 0.27874857 -0.67537874], Float32[0.0, 0.0]])"
     },
     "execution_count": 43,
     "metadata": {},
     "output_type": "execute_result"
    }
   ],
   "source": [
    "model = Chain(Dense(10, 5, relu), Dense(5, 2), softmax)\n",
    "params(model)"
   ]
  },
  {
   "cell_type": "code",
   "execution_count": 44,
   "metadata": {},
   "outputs": [
    {
     "data": {
      "text/plain": "l (generic function with 1 method)"
     },
     "execution_count": 44,
     "metadata": {},
     "output_type": "execute_result"
    }
   ],
   "source": [
    "l(x) = Flux.Losses.crossentropy(model(x), [0.5, 0.5])"
   ]
  },
  {
   "cell_type": "markdown",
   "metadata": {},
   "source": [
    "We use `do` notation to tell Flux to compute gradients"
   ]
  },
  {
   "cell_type": "code",
   "execution_count": 45,
   "metadata": {},
   "outputs": [
    {
     "data": {
      "text/plain": "Grads(...)"
     },
     "execution_count": 45,
     "metadata": {},
     "output_type": "execute_result"
    }
   ],
   "source": [
    "x = rand(Float32, 10)\n",
    "grads = gradient(params(model)) do\n",
    "    l(x)\n",
    "end"
   ]
  },
  {
   "cell_type": "code",
   "execution_count": 46,
   "metadata": {},
   "outputs": [
    {
     "name": "stdout",
     "output_type": "stream",
     "text": [
      "[0.0 0.0 0.0 0.0 0.0 0.0 0.0 0.0 0.0 0.0; 0.012677349556349008 0.0050397951998796785 0.00990453253237332 0.008800279002314554 0.0002037907186216896 0.008498870126550508 0.0026738913718240957 0.0017779994530914222 0.00853818041407442 0.006460303853001068; 0.0 0.0 0.0 0.0 0.0 0.0 0.0 0.0 0.0 0.0; 0.13345906045948655 0.053055753436042206 0.10426860915884109 0.09264373142113544 0.0021453788677770784 0.08947069077925505 0.028149025051979654 0.018717645628712955 0.0898845244450394 0.06800996364989617; -0.0 -0.0 -0.0 -0.0 -0.0 -0.0 -0.0 -0.0 -0.0 -0.0]\n",
      "[0.0, 0.012798206644624027, 0.0, 0.13473136689699228, -0.0]\n",
      "[-0.0 -0.17302000068559542 -0.0 -0.11520875894718191 -0.0; 0.0 0.17302003245980044 0.0 0.11520878010465915 0.0]\n",
      "[-0.16228246980159894, 0.1622824996039134]\n"
     ]
    }
   ],
   "source": [
    "for p in params(model)\n",
    "    println(grads[p])\n",
    "end"
   ]
  },
  {
   "cell_type": "markdown",
   "metadata": {},
   "source": [
    "#### Gradient Descent\n",
    "\n",
    "The next step is to update our weights and perform optimisation."
   ]
  },
  {
   "cell_type": "code",
   "execution_count": 47,
   "metadata": {},
   "outputs": [],
   "source": [
    "using Flux.Optimise: update!, Descent  # note that `Flux.Optimise.update!(x, x̄)` already updates with the negative of x̄`"
   ]
  },
  {
   "cell_type": "code",
   "execution_count": 48,
   "metadata": {},
   "outputs": [],
   "source": [
    "η = 0.1\n",
    "for p in params(model)\n",
    "    update!(p, η * grads[p])\n",
    "end"
   ]
  },
  {
   "cell_type": "markdown",
   "metadata": {},
   "source": [
    "While this is a valid way of updating our weights, it can get more complicated as the algorithms we use get more involved.\n",
    "\n",
    "We can use Flux's built-in implementation of gradient descent (and more advanced alternative algorithms)"
   ]
  },
  {
   "cell_type": "code",
   "execution_count": 49,
   "metadata": {},
   "outputs": [
    {
     "data": {
      "text/plain": "Descent(0.1)"
     },
     "execution_count": 49,
     "metadata": {},
     "output_type": "execute_result"
    }
   ],
   "source": [
    "optimizer = Descent(η)"
   ]
  },
  {
   "cell_type": "markdown",
   "metadata": {},
   "source": [
    "\"Training\" a network reduces to iterating the optimization algorithm on a dataset multiple times, performing these steps in order. Just for a quick implementation, let’s train a network that learns to predict  `0.5` for every input of 10 floats.\n",
    "\n",
    "We'll start with a manual implementation, however Flux makes this easy for us with an implementation of `train!`"
   ]
  },
  {
   "cell_type": "code",
   "execution_count": 50,
   "metadata": {},
   "outputs": [
    {
     "data": {
      "text/plain": "(Float32[0.6845659 0.085422516 … 0.2297672 0.9496074; 0.83940876 0.3463862 … 0.35171402 0.081863165; … ; 0.37230086 0.38022327 … 0.39008677 0.13162398; 0.5192108 0.42258346 … 0.8263433 0.76809907], Float32[0.5 0.5 … 0.5 0.5; 0.5 0.5 … 0.5 0.5])"
     },
     "execution_count": 50,
     "metadata": {},
     "output_type": "execute_result"
    }
   ],
   "source": [
    "data, labels = rand(Float32, 10, 100), fill(Float32(0.5), 2, 100)"
   ]
  },
  {
   "cell_type": "code",
   "execution_count": 51,
   "metadata": {},
   "outputs": [
    {
     "data": {
      "text/plain": "loss (generic function with 1 method)"
     },
     "execution_count": 51,
     "metadata": {},
     "output_type": "execute_result"
    }
   ],
   "source": [
    "loss(x, y) = Flux.Losses.crossentropy(model(x), y)"
   ]
  },
  {
   "cell_type": "code",
   "execution_count": 52,
   "metadata": {},
   "outputs": [
    {
     "data": {
      "text/plain": "0.7117351f0"
     },
     "execution_count": 52,
     "metadata": {},
     "output_type": "execute_result"
    }
   ],
   "source": [
    "loss(data[:,1], labels[1])"
   ]
  },
  {
   "cell_type": "code",
   "execution_count": 53,
   "metadata": {},
   "outputs": [
    {
     "data": {
      "text/plain": "Params([Float32[0.5846567 0.6151528 … -0.051943846 -0.3604978; -0.20348348 -0.41198173 … 0.39806646 0.097430445; … ; 0.18742111 -0.41094038 … -0.0016699898 -0.27028185; -0.40561873 0.46096334 … -0.059133776 0.106767915], Float32[0.0, 0.0, 0.0, 0.0, 0.0], Float32[-0.7249178 0.34832063 … 0.44402263 -0.50320196; 0.87539285 -0.44193316 … -0.03326486 0.49024823], Float32[0.0, 0.0]])"
     },
     "execution_count": 53,
     "metadata": {},
     "output_type": "execute_result"
    }
   ],
   "source": [
    "model = Chain(Dense(10, 5, relu), Dense(5, 2), softmax)\n",
    "params(model)"
   ]
  },
  {
   "cell_type": "code",
   "execution_count": 54,
   "metadata": {},
   "outputs": [],
   "source": [
    "Flux.train!(loss, params(model), [(data, labels)], optimizer)"
   ]
  },
  {
   "cell_type": "markdown",
   "metadata": {},
   "source": [
    "Weou don't have to use `train!`. In cases where arbitrary logic might be better suited. We could open up this training loop like so:\n",
    "\n",
    "```Julia\n",
    "for (x,y) in (data, labels)\n",
    "    grads = gradient(params(model)) do\n",
    "        l = loss(x, y)\n",
    "    end\n",
    "    update!(optimiser, params(model), grads)  # we can use the optimizer to tell Flux how to update the parameters using the gradients\n",
    "end\n",
    "```"
   ]
  },
  {
   "cell_type": "markdown",
   "metadata": {},
   "source": [
    "## Training a Classifier: CIFAR10\n",
    "\n",
    "We will train a simple classifier on CIFAR10:\n",
    "\n",
    "1. Load CIFAR10 training and test datasets\n",
    "2. Define a Convolution Neural Network\n",
    "3. Define a loss function\n",
    "4. Train the network on the training data\n",
    "5. Test the network on the test data\n"
   ]
  },
  {
   "cell_type": "code",
   "execution_count": 57,
   "metadata": {},
   "outputs": [
    {
     "name": "stderr",
     "output_type": "stream",
     "text": [
      "┌ Info: Precompiling Metalhead [dbeba491-748d-5e0e-a39e-b530a07fa0cc]\n",
      "└ @ Base loading.jl:1278\n"
     ]
    }
   ],
   "source": [
    "# [Metalhead.jl](https://github.com/FluxML/Metalhead.jl) is an excellent package\n",
    "# that has a number of predefined and pretrained computer vision models.\n",
    "# It also has a number of dataloaders that come in handy to load datasets.\n",
    "\n",
    "using Base.Iterators: partition\n",
    "using Images: channelview\n",
    "using Images.ImageCore\n",
    "using Flux, Flux.Optimise\n",
    "using Flux: onehotbatch, onecold, flatten\n",
    "using Metalhead\n",
    "using Metalhead: trainimgs, valimgs\n",
    "using Statistics"
   ]
  },
  {
   "cell_type": "code",
   "execution_count": 74,
   "metadata": {},
   "outputs": [],
   "source": [
    "Metalhead.download(CIFAR10)\n",
    "imgs = trainimgs(CIFAR10)\n",
    "labels = onehotbatch([imgs[i].ground_truth.class for i in 1:50000], 1:10)\n",
    ";"
   ]
  },
  {
   "cell_type": "markdown",
   "metadata": {},
   "source": [
    "Let's take a look at a random set of images from the dataset"
   ]
  },
  {
   "cell_type": "code",
   "execution_count": 75,
   "metadata": {},
   "outputs": [
    {
     "data": {
      "text/html": "<table><tbody><tr><td style='text-align:center;vertical-align:middle; margin: 0.5em;border:1px #90999f solid;border-collapse:collapse'><img style='max-width: 100px; max-height:100px;display:inline' src=\"data:image/png;base64,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\"></td><td style='text-align:center;vertical-align:middle; margin: 0.5em;border:1px #90999f solid;border-collapse:collapse'><img style='max-width: 100px; max-height:100px;display:inline' src=\"data:image/png;base64,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\"></td><td style='text-align:center;vertical-align:middle; margin: 0.5em;border:1px #90999f solid;border-collapse:collapse'><img style='max-width: 100px; max-height:100px;display:inline' src=\"data:image/png;base64,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\"></td><td style='text-align:center;vertical-align:middle; margin: 0.5em;border:1px #90999f solid;border-collapse:collapse'><img style='max-width: 100px; max-height:100px;display:inline' src=\"data:image/png;base64,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\"></td><td style='text-align:center;vertical-align:middle; margin: 0.5em;border:1px #90999f solid;border-collapse:collapse'><img style='max-width: 100px; max-height:100px;display:inline' src=\"data:image/png;base64,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\"></td><td style='text-align:center;vertical-align:middle; margin: 0.5em;border:1px #90999f solid;border-collapse:collapse'><img style='max-width: 100px; max-height:100px;display:inline' src=\"data:image/png;base64,iVBORw0KGgoAAAANSUhEUgAAAIAAAACACAIAAABMXPacAAAABGdBTUEAALGPC/xhBQAAACBjSFJNAAB6JgAAgIQAAPoAAACA6AAAdTAAAOpgAAA6mAAAF3CculE8AAAABmJLR0QA/wD/AP+gvaeTAAAOi0lEQVR42u1dW3PbxhXGAgvwToKkKVkXy7Jjq1Zip3XapGk6k2amP7OP/RmdTpuHNnHjmcZOndixLTuSFesu3kSCuG2fut+HGXKSmT6sHvZ7OoKWiwUPcc7Zc1vxpz/vOv+DcDNNSyk07XkervtS00GgNK1EAjpPHQDzuK5PVzHPLMZn0xxr8D2MEVmu6XgWY20B5i9VKxivAk1ntJyLiyHNg/VkCmvIBNbg5mWiR7hXgPEl+q5UjnW2QqyhHmKe3MN9XcfCKCwDDMMywDAky3flQH7liugEfMpSyP00Idnn0Dz4qJNmGV2HMHYFf5bmJ/kbOzSe5lQZxs9ioiOMcV2sk39nGV0WHv6QCvrGpfnjZKbp0ey1ppv5maZ7Xcj6PB5remVpVdObW/c0PY6bc1ZmYQSWAYZhGWAY0pMQroLYISVkuh9APlYrsLVLJdi2imRrmmLOLIPNnucYFEegLyawqYUSRNNKFekSxXY3bOpUYc2kYhxBE2UOxjs5xnuij/H5qaaj/qGmw+aJpjeXpprevobvxFP0JYa8j8EafnyDvYh9AwzDMsAwLAMMQ15ZquEPn/wqJcgvT0KOOwK2eZ5BDmapS+OJrySM4xnkeJqmNJ78SBnJTZL1/FNRBWOe/FEO5ncc0is8Dclo/vXVgnNNX1mGDgii15ru1jD//XdaGN9kZRVq6kStaXrnOb7DvTfz12BhAJYBhmEZYBhy7RpkmWLfC+8JfPyRkl0/7GP82dmFplnWK/Lvs18+z0kwkx+J9yJCsXzH3oLcV44MyHcvMZ59QazbKkEJzzKGPV734du5uTzBDU5IzyX0LE5b04nsano8vaLpnUN8V28Psf40a2CdjoVRWAYYhmWAYcjcgb87y0AHEj6TUhm2ed2ra9olGT0dUXw1htwk94xTLkH+8j9ikq0J6ZiCX0j4NA/FWjuYpwSXjFOp4LfV6eC+WQwb/8FfH2ra8w7wXFcxUVjH845j3Pd0WqWv8SaepbSi6dYqxle6WP/4gvSWY2EUlgGGYRlgGHJvHz5un/J2Oj34+oMSgq1uRjlCJMeXutATzRbkY0q6RJCRH00hB2fTnGiOGWDOhHw4owR+nmQKndElXdWDi8up+MeaPj/+Es8bfavpKaZ0js9hy88qsNljH/qg1Nyi7+eGpj2BMZ7L8XPQlbrVAZcGlgGGYRlgGDKOYGun5J/pC+RBqhgyqxIgp0UJktEeHD3Cg0z3KVcyTSmfkvI+yw3Kq2lxDij0xzTC/BnNGZax5m4V12spfDvx4TOMJ33wwd2epp88wj5g9w10XtBe1vTN7fc0vbQCue862GckFKuIs/l5UIG08YBLA8sAw7AMMAwZNiinnuK6ZR85jg2S1xcjyMdxBpkeccw2p3gs2fh5yrUCkJXlKmSokth/eB7nI+EGQpFsHe1p+u0u6GMFWb+5Tg/chD5rNnCvWhNrOx6A3rhzV9Ora7/AfT3+7dJzUW5rhWogFO1jOG/KvgGGYRlgGJYBhiGvbyIm7MQkr2fIibxSQc5MXIKv42AIepCDTgTs+sSHvyihvHsKFTuzMf4QlOvpUt2ZcKCTshg2fnTyFGs4fKnpsoeYREoKyqfaLteB/qu34PNR9SVNV1uI905oHt7rBFSnxjlRkn7faUI5uJRGZN8Aw7AMMAzLAMOQuYs4cJrDtz4b7WjaG8CHvtS+rumVxrua7kr4RvpUR/b2HPlCKoY+yHLO+cEaRIqcnJT8OSLvY/7TfTxBgjHKx/4gpkK1fkT5PAOqXZiBrvewnvA69MEwgS6Jz7A26WM8lUk4lQr0n0v7A94HCPIL2TfAMCwDDMMywDDkwTFknOAa4D7yZ9IYvvJkDDnbWUcOzHIXuqEUI+dycI5eFJMJ1QTQRkAJ2Pg7O/DdS6rburGKOMRKG+ts1CGv3+xifBLB3r9xA2tLaS8i3U2sLSO5XO/gO6lSfJvyoGYUn7ggOqDgMtfZeR73ycB1+wYYhmWAYVgGGIbMqaYpSzg3FLkx0RQO9ccP32p6fYC9wqdryI9s1iDTt1f6mn4xONL0cDjQ9CSFHhodYcz1dcj9dhmyOCA7uuZT76AeyVYB3dCmWLHXgs+q07uj6ThHPdch+etnVLPm0d7Fp35EwuX6BtrfUIOLCfmCMhsPuDywDDAMywDDkGFIPvoy1VhV4Nv56vEDTT/4F/YHt8ffa/rjTzG+VofNG7Yhr2+tQ25+9wL28rM9+HPYR+RQv7ZXrxGTGJ73Nb3WRTx5g3w4pRpk9+kA92pRrqeQ0AdS4F4N8ikJykNNZ1TsUPDzYM2UsuTEtLfIiM4d+p4dC6OwDDAMywDDkPUa2aQU2zwe4frjb99oejSE/Do7hOzuH2BM/Tp6pXke5L6UkMthG3b36iZisEfDR5repz2BRzKUawIU9ZzIqadpJrD+wRDj75bf0fTabegArmH2qN64TPk/Ecn9mHqdcjMKVWhjgevSJV+TZ31BlwaWAYZhGWAYUlFPZu7rUK0hZ2bzJuqhTva+0vS439f0xQn8P94KBGpKhnFCdnStCl/T3fegM2Q11PSTr7+m+VHL1m2Q7b8Jf9FwCF/W8Sn8S0EFusHx8dkZ9Qq9oFrliPqbJg4/C/1eaUtQ6E9HeqLCcWDeNxAD7BtgGJYBhmEZYBiyXqFYJdU3dVqIAXz2xz9oOhoiPpwOYftPhqgpmw4QEx6OqD/oEHuCcUo91PYQV2jQ/mDrDmT0948/13SvA3m9sUL2fhnP0q6iULjWpnrmJeR6JiTIuX0R2+kB2e9BMD+3h3UA+4i8nOsG5vuO7BtgGJYBhmEZYBiyzK2UXTZoIafWN5D/c2ub/DavIetf7cJv43rk+6b+aNEUOuDtKeq59g4xz/K1+7jXvVuaPt7HPH6A2gVB5xP0mhhztQsd4Aaw5cMmrns+1SJwLFewkQ9SkQVf7E1dUAKYk/sdLWCAfQMMwzLAMCwDDEP6lLuSFHL2gUYDtnO7i7zJZ//BmL0fEBu4iCDrOy3I2XgG/0z/FPlFW2vowdkM+5o+3kf91+EBro9z1BxUM9S4lSuoYS7XoVeOTvDZj29gb9Fg29+lOPBCia3mkgXamX82ziLYN8AwLAMMwzLAMCT3XfAKvfiJNzl86EEAP/7rPeqxnEAW9y/go281EVdwXTpjawXX778PvXI2/FHTX36BWrDJCOOjCeZ/iBRTp3sVa1YSOilX2B98JOgMrxzxg0J/C87fF/P9Pwz27SgakxcOwVmwV3AsjMIywDAsAwxDOiQH+0fw9b/8/pWmnz5/rekfdtGPYUa5NL0QPhaRYR/Qoz483SuIAbTX4F9qLsO/VBkhb6fxHcUVLui8X8o1mlE98Pkp9WIjH9eVVeinWkA9Hqj2OFH4QO5RXRifbbDoWyzIeoDPO1sE+wYYhmWAYVgGGIY8PYPd/eDLv2n66ePvNH1IOTZjqvVtNmFT98fI29nZQ2zgs9+hn8TNTeq5X6U+RWX076zJq5re3sZ9jw7Qr0K4fU3XqUd02cMf9Rbkb2+F4ro+/EUJ9UNVlFeaO2IuzWfaFPHTsn4R7BtgGJYBhmEZYBjy5BSye28Ptn/A9rLD+fLUz3kKX9CUeogGdI7j4QD+nC2Bng35hGQuHVomKEi9vf2Jpp8/wTxT+Y2m31nl+mGq81qG76hJtWMZrc11qU8cnVGTUT4P+3bEIhXwf8C+AYZhGWAYlgGGITvdDf3H3XeRk/PvL/6h6XgC21lSbe14DP9+awm2vE91tq92kTN65wauRxF6OzfpPMsq5XRWG6gbuP/Bx5o+28d9eyXMOTylvs1lzLOygmd0fFzPXOiJnGoFMvpdFmq+Cl8d//VzlMP8HCH7BhiGZYBhWAYYhmzUcUbKr375oaaTPoKtQqHv28PH1NMtoHPHwlDTw3PI/Z1X0B9/F881XSE/0ic3cTZLQv2cub/CxhZ8SnH8QtMvn+EsMJFQX7kWegH5lduajgTWmVGfai76Uot8O4UQ74IcoYXgeLutD7g0sAwwDMsAw5BxBn/OoI+ar9VVyGLlo0745QH6BUXkC8qof8PZEfTHjHLzFfVhvnUP/YWcKugoobPJKFdHBnRYcAN1A5Ma1nD/vd9rur0O3TZIkNeUKwoguHRuAdX0OoVzjOefa18g1cJE0bmwNWKXCJYBhmEZYBhyMIaf/Wzwg6a7MKmdD2//RtOPXsCH88XnqN2djWD7hw342YMSydMSJu2tf6Tp1EXP0SxCnlLiQa9MU9jp4er7mr6/is+G1H9iSv0eYs71JFnvZvNzNxf5/dl+Z7Gfc6O4nwHrC7pEsAwwDMsAw5DTCWzhoI6YbTlE7qagmoB7936t6YN95JLmE+whtjbgY/GpD12tc03Tm7dwr4jjw3zAGOfdU5xWUG5o4KG+7GJGdr2Y358nIN0gqD4uU9Q3QlG+ELt8CsEBLiCe7ztaVE/AsG+AYVgGGIZlgGGIb98gNzRTFPsVkK18JiLbvCcn6Nnw/Ju/aLpdgi+oRDqgvozc/9babzGni9iv47Acn293s2jlGi7nZ8jcgOS+R/0hEtIxacEXRPHh/Kd7RRS2EAsWzXXI9g0wDMsAw7AMMAyZCORWqkJcFLZ2IV+e5HK4jL5ymzH8RU+/ho8oDOEX6jRg+yc0f8p+f5K/3MfUKchcOgus0NL/p33x6cJe/9QzI1s0J+sAkuMuxxLm99soqicbD7g0sAwwDMsAw5Acg2Vfh6Q6AI/lJtXlspArNWHLd9fhr29RvpBbQU/QRCFOq8R8uZxn82Uu7w+ygo9+vp1eUCDu3KvOjM72SuhMTYf2Cmy/F/cBuTPvH4oepqAnCPYNMAzLAMOwDDAM8c8XyKtR5Afns19c6s0pqCdoSvLXp88K6j/BMjrNoW/cQs9OLIhatxX974segPvzkMwt6gzq5+yxzQ4yIuOf9wT5Al+/6y2Q6WK+36zQfzS3+4BLA8sAw7AMMIz/Am3oKi1sp8LBAAAAAElFTkSuQmCC\"></td><td style='text-align:center;vertical-align:middle; margin: 0.5em;border:1px #90999f solid;border-collapse:collapse'><img style='max-width: 100px; max-height:100px;display:inline' src=\"data:image/png;base64,iVBORw0KGgoAAAANSUhEUgAAAIAAAACACAIAAABMXPacAAAABGdBTUEAALGPC/xhBQAAACBjSFJNAAB6JgAAgIQAAPoAAACA6AAAdTAAAOpgAAA6mAAAF3CculE8AAAABmJLR0QA/wD/AP+gvaeTAAAPMklEQVR42u1dSW8cxxXupXqZnp6FnBnulCjbspZEkeLEDrIAQQ65BrnmbwbIJYfEiWE7huM4UhjZlmRKJkWTHHLI2bp7es8p9X0EaOQUFA/1nR4HvVT3Y7/36nuvXpm/+d1vjf9iPjmXsrAqKZf5QspplUm52W1KuddrS7kdBlIen0+lPDw+k7LTMKUcdltSjuNSyt+/82Mpv3P/p1L+wx9/j7E5uL5hxfi9TKUcBF0pLy+tSvnFy6+lvPf1vpTzpMZ7MB0p2xZuJfxCym5Ax9gNKd9+63tS3tp6A+8t6GDIhoZSaAUohlaAYoibt2CnxqNjKccz+INkdiHlxXwi5WieS3mpbUu5LqFX04TcIVufV5GUsyzBNWPY7pPjIxx/G783m/Axixp2Pytgu10X900SjH9vPMLzjudStkz4vEYgcK/Ao2vCbxkCz17TM9Ylzr339gMpv/ujX9Jr93FfQ0MptAIUQytAMYRhwMZ1u4iR20Eo5ZEJ+15UsIMm2cSygC4PX59K2ab5hOvgeMdHvFyQ/fU9yK02bH1tYH5wdnoiZa+D4/OM7HJdXikbNcXvAs/ley7GU+A6Lsy10QwR7+cVrplmNOYm3tugt45rLvh/3bpC0lACrQDF0ApQDCEMim3J1ts+eJ6N9RtStgSOPxl9K+Uigw2tcsTjyQKxti1gN/02HU//Bk3ikXZubdPviK/n87GU0xrj6fXBsWQ57msQfyWI0LFN/G5iyEaD/JNwcN+K/BD/LgTkXmeZ7gtxNMS8qq61D7g20ApQDK0AxRBOBY6lrmG02FbWHoLhnGLkEXFHixjcTuDj+CzF8dUCeYU4B/9jOriX42E8B6/3pLzShW11aD6Rp7DLgd/Fk5FjGc/A/7DLcyzMgapyJmWb5gQXF/AleYUxD9YwHo/mExfnYyn/9S9/ws1S+JXhEHkR/QUohlaAYmgFKIYYdBB3VyYMpCA7eDpCDJtRflhQXJ8ksKHxDHnaJcoBtDsrUj6+GEq5NsDPZCV8xsUYnNLrb1/iXgv4m5XVLSnfefO+lI+OMEd5tQfZRshuuBTLew7eg2XCN2Qp7jWLFnQd+AbPxZijC9j3/RLPaGTgkfZfHeBe/0tDGv9faAUohlaAYojXR6/lH3kBW3znHuypHyCuFy58g0ecSUmceJIhT2tR3B0G4Jf8BWyi4YCIsQXlk+nkgyPMOZIE41yiGpv1FvxNeo7rJxHGU1jEd+WUl17AjvsNPEtgES/kYpyNGj4jmmHuEtN1PIFxNgNcxw/wDvUXoBhaAYqhFaAY4tEP3pF/FJRTDVrIbcYJbJxhEZftsD8g3rwif7DAudMJbO7m8pqUHcothyHua1vwPUcHmIv0m7D7HtUU7X7wvpQj4qZM8gGzDHOXpgd/kKUYJ/NgrXaTfsf8IJ4hlzCn9xOllGNoYvzLLfgAi/yQ/gIUQytAMbQCFEPcWLkp/+C4O1rAbjoW8deUN46J388p/iVqx3jvZz+XcqcF212Sv3E9/B+kKWw6507XVmCLyxJjG/ThM0SBc5MK3FRvgGO8ErG8aUAenWE8SQabbqbECxXwH2Pi/XP6vaJrBh34gNAj32ZoH3BtoBWgGFoBiiGqGvbIoBob0wPXYVCNkEW8eRbB2C9i2FC2d7/6xa+lPJ2AQ//kX59LudPC+rIL4tzTFLaeUVTEsdiwuaurS1J2m7jOm5uoL5rO4Cf2Pj+UcjSl9WUG1SxRLT/fdx7jOgb9btt4n6GL2N8h32mUeM/6C1AMrQDF0ApQDGE2wJsvcsSzJ1NwKWdU2+OGfSlvb97DuRFsolXB3jk2OPofPsR6tP0zcDvNDnzGwwfgpgyT4u4Janv295HDCNvsq8DD5AL52HmEe80XWOPmteA/Blu0fo3Wmlm0Fqyi8bCPNMmPFgnGEIbE+9MaCJMKUfUXoBhaAYqhFaAYwvWhg9Ec9TxPX7yQ8vGccrw+Yu3eNvLGyQwxfpHBDg4j8CoPNqiG585DXJNi57U1rKtqNMDDlFSX6djPcC/6H/I7sK0L6vEwifC754LXCrcRv4dbuE5ZkC8p8OxVhblFN4XfKhLE9ekYvtNxaW2aiffQX8O8R38BiqEVoBhaAYoh5udYc3t+gng5nlAfHorrIyqwT2vwJE4HvMciwrm7x6jneSuGPZ234UuOTxDjP37yHIPj3Cxdf0QpasOFn3AKsvvem1IueojZj8Zf4FloTUBA+Vub1kxYBvWToL4UHtXIOsRfeQLxfkV+q6IcwOqW7hd0baAVoBhaAYohdv/xmfxjSjzGxSFq83PKAcQW9UvwYX9zqhmNLNQIPT5C3J1++KmUTymHvEhgQ1serl9TrapDx4yJm8qoXpNKPY2c8tLtAOuczZ2ulGcR+ghNebk0zQPsAj4gsOAb1j2csEr97xZT9J4r5/B/IsX/elXpdcLXBloBiqEVoBgioRpKg2o6jRwx8vQCcbpHPdTsObiOiOo4Ewc8yTn1jTj89N+4PNWVLi3h+I0VrL/tLEGmkktjQvVIxxOqBbIpBrdw314LY2stg2uqPKpT4nUD1A/DtfGMYYBj+pSLHtg4fjJCzWs6eYz3liE/YZJv01+AYmgFKIZWgGKIMAQ3TS1zjI012NOTp8TPlIiLb2/DRo8oB5BN0O9zTutmcw9517rZlXJcYf3wS1pr1h3A5m5uIpewtgxeKL9ALP9tNJZySj5gZMPfjMnNGQ3Mb/od+IMezUWWqKfQ3XU873s7ZOvH8EPPvsB1zgz8nlKuxTMov2JoKIVWgGJoBSiGKMkmltQL03VgB7c2N6T8z8eIbeMU8ez29qaUH23DDo7H8AHDEfr1H81Qb5pSPwZr6zauH8BWnpMvGfThM26t9aS8HsAu70/HUr5IqI6TevsEVBO1HmI87/ZR+/TeoCvlGw34EkF9NU5pfdyzGHVHF0PUni5TPsOtdW3otYFWgGJoBSiGKKkXdMbrtoir2dqAD3j/g4+lfEz7w8wTnLvcIv+xCn9wdwu9qcMxuPWXE/TzKamhT69LvaOHmH/MI3BT7T58wJI9kPLteztSjqkXXlHCz624uNcmxf5v+JADuteXu19J+emTL6W8u/tKysMz1K1u3eQeGLQnT805Zw2l0ApQDK0AxRA197KndUzcO+jlPvp3WjnXxkCejGBb4xgx9dEE9q7TAe/UCXDfyR64pulz1KT6VMvf38Y6rxdD1DI5TdxrcwdrnpsR1iKEtP7g9By1Twcx/EpMTNgpzRuefvwR5N0neK4T+K2whTnQ/fs/kfJ6gOetZnguwwK/pL8AxdAKUAytAMUQrgeOoqbcpl3CBwx6iLXf/RHWcCXEewypd8IprQcuqLdzRNzRmYO4OKMcb5/GUx6gV+h5RHX31KtudIb6pfE330B+Dr/Spt5Hz17CFi9ov8ntELkKZ4Tn2nuKWlJB66VXVnakfPvtR1JeX4ev8jzqa+3ewjspcH39BSiGVoBiaAUohvBoz8WacqdOTXzOGnj25WXkRedUU9QjW9w6BB8yHKI+ktfrJsQ1+ZSbHSxh3YBH+xDMItQp8Ro0m/YIs2lPx5zWtY2oZ1wV4dwGrXXIqR+1Ra2PbrxxV8rhKrimWzexP/CDu1grl5eUe6gx5nYD52aJzglfG2gFKIZWgGIIo0QMzoVBgvcU4/6glCsOPNSJNknuUH51mfifg9fwDafnVG9Kawvay5hzzCO2p7Q3ZIwx+zS2wTryFg3qTxdRnmNlHfVFXZpPuAv4hg7tC7bSh0/yaa+FBo1Z1Bgn75dZV7Q3Q0n9gky9n/C1gVaAYmgFKIYoiffnTbZssoPCIX/wXVdqXL3/IsfyAe0f0DjAWqrJFPGyENRrk/rtpFQD6tI6hjqH7b5H9UtbFKenl/r/wIdxT3+T+KjZELX8R0fY7+X5K+SBb1J+wqJ9b7hvdhCQz6D3wzW4+gtQDK0AxdAKUAxRU42jSfqoqa9ZSX0xDeJb6ku1pLD7jgs7S9sN8DaOhkc9HvYPMD+4sYU1vQ3an/2jj1GPlFPfnmg2lvKTv+GYF092pbyg9c82jY03uKmIX1rQPmgJ1a26tAdAp0W9VCu8K598HvsD6ztehP4CFEMrQDG0AhRD8JIpi2xiffVW80ZFtZUc0Qqq6Uyp/75D/eBaxBH5vEcxNXZwqH7/0UP0lVvQHi8ffPhnKc9i2OtDykPkGfVzpt4VnDPgvVwE5cN96oERtBDL+ybtCXyC2qScfMwS5TO4j7RHXJkt9P4B1wZaAYqhFaAYgnXgENdvctBOcwLue+xR7F9SDT7PCTLag16QjxFUg7+2hnzpyQl4mK++RCyfUB+6KELdUUrxu0F2vBESN0UxuElBuEO+gW30JXtNz+JSzlywXyFbb5q83gJjS8mHsS/RX4BiaAUohlaAYgiLN1nneQDF+FlO+2rRxMGjvRVdyhnkPFeoazpG0DHwDW3iWBbUk/mzv38i5YNDrLmNKX/gUu/+gPpeMB9V0xgu8zPMX129T7LnYr7SCZFnblEtKfM/Ll2HZQb7A/0FKIZWgGJoBSiGcMjGVWSXOfavad8r5oJMch8l2daMuCDml8xLMu3lm+O+gx64lHwHedcF1W5SuzbDFVTPSmt9mXPnHhgFyTX3iSN/4FKuIgzgkwKfc7yQwzb5HqpTYv9q8lzB0L0irg20AhRDK0AxREH5zJLqZxyyX41LeU7Y69KAPc2J9+B+DLxHPMfjBfmVS4UyxKVsrKIvUIPi+vEUXFBGuYSCapwKWuPG+YaKfEBJ9+I10sKm+lfyAYJqinhNQ0C5a8791lxnRb6B35X+AhRDK0AxtAIUQ3AM7hMPXpMdL4rq6rO5vkUwb3513pWPT4lfqsgPVZRXcMjm9nvo4+ZTjWlCTaXZxzAXzzLb6ILmLhUlwdkHcLxvX4rrBV2T9s4kvotzAzXXs9Z6L8lrA60AxdAKUAzBtfzM5zCPb5MtE2Tr84L3SmQbSjEv+RLOnboO/E1G8wD2PcynX+ppyrWY5A/Y5ibU8+dSDoD8U0bj59zApToisvWCeCfOgfOz25x/JpnXBxQ5+Q9DQym0AhRDK0AxRJJyvpdrPWGva7L73P9nkSZ0PM0DaI8ttqHM25TEKXE8zrRQVjCHg2Mal9ajUQ6AwHnaPL96DVeD7TVxQTUPouZjIIvvyDewn+N7ZSnWNOg1YtcIWgGKoRWgGP8BbiVzk8VmBDwAAAAASUVORK5C\"></td><td style='text-align:center;vertical-align:middle; margin: 0.5em;border:1px #90999f solid;border-collapse:collapse'><img style='max-width: 100px; max-height:100px;display:inline' src=\"data:image/png;base64,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\"></td><td style='text-align:center;vertical-align:middle; margin: 0.5em;border:1px #90999f solid;border-collapse:collapse'><img style='max-width: 100px; max-height:100px;display:inline' src=\"data:image/png;base64,iVBORw0KGgoAAAANSUhEUgAAAIAAAACACAIAAABMXPacAAAABGdBTUEAALGPC/xhBQAAACBjSFJNAAB6JgAAgIQAAPoAAACA6AAAdTAAAOpgAAA6mAAAF3CculE8AAAABmJLR0QA/wD/AP+gvaeTAAAOQ0lEQVR42u2dWW8b1xXHZ7nDTaQ2WlIkW7blOJudtQ26vgQpUPQLFAX61QrkC/RTdAmK1rAdGI0bJ3Hi2JGthRIpkRTJ4Sx96v3/CJBA364e7v/pcDRz584czTnnnu2Gf/7bP4P/IS0yS8eBUA1CSy836qJbotN0aumzXs/Sk8lE50xTS0caMkhqGidKapYeTXOdFCeWrCWRpdstnb+x1NScdUoQRIUl87C0dFngnFATyqZ6lkmqOeeFLig1TJBn+pHmmvM00/nTHDcLNTlO08MBPAMcwzPAMczW+or90e33LV3OyCnRWWQsnZbSFEUsGVomkulBiXGiio5DCYQVHY9ijbneaFi61WpZOs4lo2uBZGsF10JtBRnmPy0gr/Ei8lzHJ6nofKqB4kDPHlGJGdEGdGGgKHBf6hv/BTiGZ4BjeAY4hmnVJX/LcsnSMe3xVOsD2sX9sWTxjExMNGYcSS6T2yGO16o4v5QdXYFIr0aSoTFkaBjqpGGh+aSZxklhg2ew5ScTPVdBnQTaYPwCeiLA+NSXoZGeyKmIqJ8CjeO/AMfwDHAMzwDHMClkehM+mTr8KgP4c876kKeQrZCOQZzIb2MqouOYdjR0A0RlBH9UWEL3YA4UraXBGiXT+SUcPSHcMAn+5yrwL5UJZHSFcl8Xp+cDPCXWB9BhJY4nCZ4X98pyzdN/AY7hGeAYngGOYfoXY/ujWdUfkgi2LezrWkXHixA+HNjm9HWUcJyHOG6gA3BlENHfAj9PAblJ17qpaL0SB7LN40xzriKukEyk8ySVg6A0ms8Ufzg6P9XxiwtLt1balq7U9eJmXD5G74frnqLUDfwX4BieAY7hGeAYhrHK8Whk6XwquzsPEZulnwdy08DXQZ9+Cd8LjyeQiXE0//8gh9wfY54hzq/Fkr8mR/x2OLT0tHNi6dGZYh6HnSNLN7Yl02+896alt1aXNf7KquaAmEcxY+NDb1G7Yc6TzK8DLg08AxzDM8AxTKMiuztg3gts9jiGvR9J3s3Y7zCAR8Nz/EVnra+vYRzERTkQff3020DflDP2Pvwz57LTx4cdSw/PepbmuufJ0Zml39rawmvghASuP6YjjVOGoqvwKVWgL1O8n+lY+tV/AY7hGeAYngGOYdZXZOdOYZ/OOPgJyGj6PSLkXOapZFwfuUZbV9YtHcfRguHhT0f8oAK/f55rvZINNf5k0NU4sfTE5o1tS7/6+omlN25uWLp9VfrptHeod4J81jzX3Lh+Yri3WdO6pITtf4FcI9NQLpb/AhzDM8AxPAMcw9Qrklk10OGMPS5QNeTw9UcRbXbRBy/3LX0xkLze2Lhi6Qy++xB3yJBrP4Jv52Ik+30Ef31xAfua6xINH7Svb1q6ith1nmv8dIp8IeQCcX3A98DaiJfdY0t3z7Qeaq5K31y/rWf3X4BjeAY4hmeAY5g68nZY92Tge6F85zqAThxeGywhvwjjdw5fWbq9pnz/bAK/CoYZDuTnOT2VrJ+ZDuoPDPKaqLhyzMEgEjxlbitqHaACgvFI64DzvnRP70z0/v5zSx8dvLT0nbvvWfr9j+7q9bQUe/BfgGN4BjiGZ4BjmOUl1WHFyG0PIUSZczmFzT7NJB+LmRpaSfKdTcm7BLI4vdCagPXD5UwBru61tqxc1RC5Q51j+X/odxpcyK4/G0qXnJwoPtzv6PhZV9ceH+uck9MOjh9Y+mKs2EOjLt3zu9/+xtK//tWnll5dec3S49THhC8NPAMcwzPAMcIHXzy0PwaQoQZ+EuqAwyPJwRS5Q0PIXMrxRXRRIK4Lh3oDtcEV5N3XYeMfHmie9x98Zemvv/na0p2OZDfznRiPZW0EphMU8COVqCa+fkNx453dHUuzhvmPf/i9nmVJx58fyEd01JHe8l+AY3gGOIZngGOYzz77k/3RbitmW6vNjw0cHSteOpmMcI5s81t7tyzdasp+f/7DM0vnkMUhdEMVcr+COawhfpAHqmdeW1F8NaN8H8pOj7GmGYxwPNF9b+7dtPQKxhwgzvzJp7+09OtvvG7phw+kR+/d/9zSe7d0zlfffmfp4cDnBV0aeAY4hmeAY5i/fv4X++PDjz6wdAY/Txs5nQb92vpDycdaIrm8u3PN0nfefsvSb1zftfTkTH6YMJURHiK/KENdQnNDc9i4etPSnaOerp0o338wkJ0+hL1/7+EDS9cbqi/7+Gd3LJ1gDbS/j/5IyHfqQBdWKtIx//7y0dx3tXddvqBX+4qL+C/AMTwDHMMzwDHMnbuSfXXUu9ZqyhlttSTfqzXJxxZ89GWGGDLiyYwbL0OXDBP5fAr07UkY70X/tcqS5HWeyZavGOSJpoobHx+90ECIQ2xsyqe0sqJcnbyQfD9+JRn9/MUPmhtqpM+QjzREvCFHLtPTp081N/jT6JvyX4BjeAY4hmeAY5idHdnLMXp/VqvJ3OMp+iqzP0SEePKz55Kbx51DjCk/z3jKegKNyf4Nh8gr3UBtQaOJ2qux4hA11GRttiXfK03pj+1d1QqEsfRBhT0n2DoINXSscaug1+nysvz+u7u7c89hfIWxDf8FOIZngGN4BjiGqVZl+1P2sYYrQQ+1akXyK0Ts9McX8sMcH8hGvn5DMrHZ1LWPHsqHnsHHsndNfqRH9/5l6Tdv7mnM27ctPUDtVZJIT6SIDTTg37+xd9XSk4zdo1kFoVwmxkIWgTHtmbqKBXSOnqP+C3AMzwDH8AxwDLO0hH7RMXteQq6BTQb9OI8P4DN5+r2lS+RuNhDXDXLZ0TXwvo8c/FcvZPsvVWWbF5Dppx3l5p+mmvPjL76xdLerc9Y6q5bevnUTz8gGb6h3CxfUQxC4tJyh5xdYz+RE4R36L8AxPAMcwzPAMQxt2Chi7iZ6tOEC5o9++6XyMk9g+0dGsvveiXI0t3cUFx125MM5PNI5KXqUlqgdO1pTzW3tQLHoLgq6nn8nv1OKHHyzhjo47OtC3xGFekgdgOPsI53n8/cUW7RqmOmBkfi+oZcGngGO4RngGGbG5EUBbjGTMC9yij7M/XPJcdb0lqFingbribOudMP+C9VhdZEjtLmtXg6mopjz0335mpKedECKzQEGA913PJb+CAqNmYTci4bPO39fF76TGD0wIty3nNkmckGPDa4V/B4ylweeAY7hGeAYhjKaYF9Pejcy9Mw57sk2nyAfJkBfz6QmX1OjrlygelO5PUvL8tdzPsMBegShlriRUXajd9tMjbF8R1U8AX1QQYlnhBwvSuaqsn8qeoKin10w/xUG1AJ0KRWl1wGXBp4BjuEZ4BjGzOxtwl7/knFT5ALdRz3Utz/8aOkrV5SHQ6P39BVixafoDzGSr6aCvVa2XlMt7vGJrmVNcjLFvgUGfh7KesQhrl1THLiKPFHuHxlF8/UKcz15fHbPsvm10PT5GPbh8PsJXx54BjiGZ4BjmASyicYq84UOkC//+D/qvXyRSiYeHCsewH6flIkRfERV7NN7Pu1Zeq29amnGqMtgvlymrV3geA09fG5cv6HjNfmjsoA9IYRFvY9mYgP0HUF/cG7UE6QX+Z08HMAzwDE8AxzDsEc/e8ZxL3j2RFtqyEc/mcpOzyHXcsQSuI8K9xvgnroze43N2ObsS0odgF7T8Ok30bfnuKO+Ri9fqZfnhz99F/PRPHPGwBf4f/4fRAv3RINeDHxe0KWBZ4BjeAY4hqHfJqbsA31lXfnyt19XL6AnT1QHG0Ce8lruA9xEHiozcnrd+X2hWbfc7WqcGLVdlNG7qC3o9pRrxH6i3J8yg67Ky/nJnovXBMJsb22QC/ZVpm/NfwGO4RngGJ4BjmFmZBwM9YJxXfi1795529Kf//0flu52exoU6wmO2V5X7He1KZv9Ar0WtreVP2oSjfMSNcNcZ6w0pVfeeUdz+/6Z9NPpqfKIsoxyn7a5QJk+W+eFkxbss1ZgfPYlpdwvvS/o8sAzwDE8AxzDZPDpJyH8M2BNgXzK9pZqcVfQL6jXUw7PbBKMZB/jz5s76tnAHNM91ADHdZ3ffvTY0qMBfEFG81+7onUDe1CfnGj8EfYBri8t2As+Y5wAOhJ6MUROUcT8IrwrbtXcqDYwjuC/AMfwDHAMzwDHMNwvN0GNWIwcTbhPgmoNPXleUy7Qsxc9SyPNMihKxkV1vL2p/J8UvZQbDcnxrKILVrGGaNUlc/tj+f1PelorLHPPmVBzHmD/4VpDaxHWCnCr4ylyTIOSNNYHkXRJgrUL98xhnlU29b0iLg08AxzDM8AxTBlhD6+APhDJLMN8IfhePv6F+ul//0I5P+eoF1tqqO9/EMsWnqJfdAW1uxd9xZnrbd3r2o6uTQrFA+4/Un+67mlPc/u5+mAfHkhPhKHkuElWNbeC+ZrSYst1yHHUhY3hz5kgTWmMPRXOx3oPkynzhXxM+NLAM8AxPAMcw8TwpQQx89wR42UdFnTD5hb31VKsODlVr55KMt/zMc0kc69dUx1vqyWbfWNTfqftT35i6fMj2fJfPv5C1y6p3/W772vfgvW28kGrVa1vUu5lDzkewX9Vg1urXkNcN2XdAPfd1PhZIf0xns7fv8x/AY7hGeAYngGOYei5gXsjiCLY6RFiBtATLfRkrtVkp0exZGgQIwabQ4bmkpV3P7iDcSBb4WNpNHW8Af9SEzK931ftcQC/1s5V6ao4kg6bjBCrgC+oxph2yXiAUEcN2nDC/YHR/Ro6oCzhC4La9V+AY3gGOIZngGMYyrXZHBjKNfT/CRF3RR985ud890x75yZG51eR69lDDGAEe7wK332W6fxJKb/K0b78P5Oh4r39M9ET9Ixbwl4IlQhxAvjuDXJMWRuR4T10cS8TYx805gKNdK+LscYZIy8ozRSX9l+AY3gGOIZngGP8F+BJa/tDP/9dAAAAAElFTkSuQmCC\"></td><td style='text-align:center;vertical-align:middle; margin: 0.5em;border:1px #90999f solid;border-collapse:collapse'><img style='max-width: 100px; max-height:100px;display:inline' src=\"data:image/png;base64,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\"></td></tr></tbody></table><div><small>(a vector displayed as a row to save space)</small></div>",
      "text/plain": "10-element Array{Array{RGB{Normed{UInt8,8}},2},1}:\n [RGB{N0f8}(0.702,0.78,0.867) RGB{N0f8}(0.69,0.753,0.839) … RGB{N0f8}(0.533,0.553,0.643) RGB{N0f8}(0.592,0.608,0.698); RGB{N0f8}(0.706,0.773,0.843) RGB{N0f8}(0.694,0.749,0.824) … RGB{N0f8}(0.533,0.541,0.608) RGB{N0f8}(0.592,0.596,0.663); … ; RGB{N0f8}(0.478,0.392,0.38) RGB{N0f8}(0.396,0.322,0.322) … RGB{N0f8}(0.514,0.459,0.431) RGB{N0f8}(0.459,0.412,0.404); RGB{N0f8}(0.643,0.549,0.514) RGB{N0f8}(0.565,0.482,0.455) … RGB{N0f8}(0.471,0.412,0.388) RGB{N0f8}(0.478,0.424,0.404)]\n [RGB{N0f8}(0.976,0.996,0.992) RGB{N0f8}(0.667,0.729,0.682) … RGB{N0f8}(0.478,0.51,0.486) RGB{N0f8}(0.976,0.973,0.973); RGB{N0f8}(0.988,1.0,1.0) RGB{N0f8}(0.682,0.761,0.706) … RGB{N0f8}(0.514,0.565,0.522) RGB{N0f8}(0.976,0.988,0.98); … ; RGB{N0f8}(1.0,1.0,1.0) RGB{N0f8}(0.741,0.725,0.718) … RGB{N0f8}(0.722,0.722,0.71) RGB{N0f8}(0.992,0.992,0.976); RGB{N0f8}(1.0,0.996,0.996) RGB{N0f8}(0.737,0.714,0.706) … RGB{N0f8}(0.792,0.765,0.737) RGB{N0f8}(0.984,0.984,0.969)]\n [RGB{N0f8}(0.071,0.071,0.071) RGB{N0f8}(0.067,0.067,0.067) … RGB{N0f8}(0.102,0.086,0.043) RGB{N0f8}(0.141,0.118,0.047); RGB{N0f8}(0.067,0.067,0.067) RGB{N0f8}(0.063,0.063,0.063) … RGB{N0f8}(0.086,0.075,0.039) RGB{N0f8}(0.094,0.086,0.031); … ; RGB{N0f8}(0.89,0.929,0.976) RGB{N0f8}(0.682,0.729,0.698) … RGB{N0f8}(0.443,0.188,0.157) RGB{N0f8}(0.475,0.298,0.267); RGB{N0f8}(0.89,0.933,0.961) RGB{N0f8}(0.722,0.773,0.741) … RGB{N0f8}(0.439,0.129,0.11) RGB{N0f8}(0.412,0.149,0.125)]\n [RGB{N0f8}(0.541,0.561,0.537) RGB{N0f8}(0.537,0.557,0.533) … RGB{N0f8}(0.467,0.478,0.443) RGB{N0f8}(0.467,0.478,0.443); RGB{N0f8}(0.549,0.569,0.557) RGB{N0f8}(0.533,0.553,0.525) … RGB{N0f8}(0.467,0.478,0.443) RGB{N0f8}(0.467,0.478,0.443); … ; RGB{N0f8}(0.447,0.471,0.467) RGB{N0f8}(0.439,0.455,0.451) … RGB{N0f8}(0.275,0.263,0.224) RGB{N0f8}(0.263,0.255,0.212); RGB{N0f8}(0.443,0.459,0.455) RGB{N0f8}(0.435,0.451,0.447) … RGB{N0f8}(0.231,0.231,0.2) RGB{N0f8}(0.224,0.227,0.192)]\n [RGB{N0f8}(0.204,0.173,0.196) RGB{N0f8}(0.204,0.169,0.188) … RGB{N0f8}(0.184,0.173,0.2) RGB{N0f8}(0.192,0.173,0.204); RGB{N0f8}(0.184,0.157,0.212) RGB{N0f8}(0.2,0.165,0.2) … RGB{N0f8}(0.192,0.169,0.204) RGB{N0f8}(0.22,0.176,0.208); … ; RGB{N0f8}(0.765,0.816,0.882) RGB{N0f8}(0.498,0.561,0.749) … RGB{N0f8}(0.325,0.275,0.302) RGB{N0f8}(0.592,0.549,0.553); RGB{N0f8}(0.69,0.729,0.788) RGB{N0f8}(0.627,0.682,0.839) … RGB{N0f8}(0.22,0.173,0.22) RGB{N0f8}(0.302,0.255,0.278)]\n [RGB{N0f8}(0.608,0.639,0.886) RGB{N0f8}(0.612,0.647,0.875) … RGB{N0f8}(0.753,0.776,0.867) RGB{N0f8}(0.745,0.788,0.886); RGB{N0f8}(0.62,0.651,0.898) RGB{N0f8}(0.616,0.651,0.878) … RGB{N0f8}(0.929,0.949,0.894) RGB{N0f8}(0.882,0.925,0.949); … ; RGB{N0f8}(0.788,0.878,0.957) RGB{N0f8}(0.784,0.875,0.937) … RGB{N0f8}(0.792,0.871,0.969) RGB{N0f8}(0.792,0.871,0.969); RGB{N0f8}(0.776,0.863,0.965) RGB{N0f8}(0.773,0.859,0.953) … RGB{N0f8}(0.757,0.847,0.957) RGB{N0f8}(0.753,0.839,0.953)]\n [RGB{N0f8}(0.306,0.349,0.314) RGB{N0f8}(0.259,0.29,0.243) … RGB{N0f8}(0.486,0.557,0.482) RGB{N0f8}(0.529,0.596,0.541); RGB{N0f8}(0.427,0.478,0.482) RGB{N0f8}(0.365,0.404,0.388) … RGB{N0f8}(0.745,0.796,0.773) RGB{N0f8}(0.745,0.796,0.804); … ; RGB{N0f8}(0.557,0.541,0.553) RGB{N0f8}(0.561,0.541,0.557) … RGB{N0f8}(0.549,0.553,0.565) RGB{N0f8}(0.533,0.533,0.545); RGB{N0f8}(0.522,0.514,0.525) RGB{N0f8}(0.525,0.506,0.522) … RGB{N0f8}(0.525,0.525,0.533) RGB{N0f8}(0.522,0.525,0.533)]\n [RGB{N0f8}(0.059,0.055,0.051) RGB{N0f8}(0.067,0.059,0.055) … RGB{N0f8}(0.051,0.059,0.055) RGB{N0f8}(0.047,0.051,0.047); RGB{N0f8}(0.067,0.063,0.063) RGB{N0f8}(0.078,0.071,0.063) … RGB{N0f8}(0.055,0.063,0.059) RGB{N0f8}(0.051,0.059,0.055); … ; RGB{N0f8}(0.157,0.173,0.184) RGB{N0f8}(0.161,0.18,0.188) … RGB{N0f8}(0.384,0.51,0.627) RGB{N0f8}(0.357,0.486,0.604); RGB{N0f8}(0.161,0.173,0.188) RGB{N0f8}(0.153,0.173,0.18) … RGB{N0f8}(0.38,0.506,0.631) RGB{N0f8}(0.31,0.435,0.557)]\n [RGB{N0f8}(0.671,0.765,0.788) RGB{N0f8}(0.647,0.757,0.773) … RGB{N0f8}(0.729,0.78,0.784) RGB{N0f8}(0.729,0.784,0.792); RGB{N0f8}(0.761,0.835,0.847) RGB{N0f8}(0.694,0.784,0.796) … RGB{N0f8}(0.749,0.816,0.835) RGB{N0f8}(0.749,0.82,0.839); … ; RGB{N0f8}(0.569,0.584,0.49) RGB{N0f8}(0.592,0.604,0.533) … RGB{N0f8}(0.541,0.576,0.565) RGB{N0f8}(0.506,0.549,0.522); RGB{N0f8}(0.565,0.584,0.49) RGB{N0f8}(0.596,0.608,0.537) … RGB{N0f8}(0.51,0.533,0.522) RGB{N0f8}(0.482,0.518,0.49)]\n [RGB{N0f8}(0.376,0.376,0.376) RGB{N0f8}(0.471,0.471,0.471) … RGB{N0f8}(0.98,0.98,0.98) RGB{N0f8}(1.0,1.0,1.0); RGB{N0f8}(0.471,0.471,0.471) RGB{N0f8}(0.51,0.51,0.51) … RGB{N0f8}(0.98,0.98,0.98) RGB{N0f8}(1.0,1.0,1.0); … ; RGB{N0f8}(0.914,0.914,0.914) RGB{N0f8}(0.902,0.902,0.902) … RGB{N0f8}(0.969,0.969,0.969) RGB{N0f8}(0.992,0.992,0.992); RGB{N0f8}(0.894,0.894,0.894) RGB{N0f8}(0.882,0.882,0.882) … RGB{N0f8}(0.965,0.965,0.965) RGB{N0f8}(0.984,0.984,0.984)]"
     },
     "execution_count": 75,
     "metadata": {},
     "output_type": "execute_result"
    }
   ],
   "source": [
    "image(x) = x.img\n",
    "ground_truth(x) = x.ground_truth\n",
    "\n",
    "image.(imgs[ rand(1:end, 10) ])"
   ]
  },
  {
   "cell_type": "markdown",
   "metadata": {},
   "source": [
    "The images are simply 32 X 32 matrices of numbers in 3 channels (R,G,B). We will arrange them in batches of say, 1000, and keep a validation set to track our progress."
   ]
  },
  {
   "cell_type": "code",
   "execution_count": 76,
   "metadata": {},
   "outputs": [],
   "source": [
    "# Defining a `getarray` function would help in converting the images (matrices) to `Float` type\n",
    "getarray(X) = float.(permutedims(channelview(X), (2, 3, 1)))\n",
    "\n",
    "X = [getarray(imgs[i].img) for i in 1:50000]\n",
    ";"
   ]
  },
  {
   "cell_type": "markdown",
   "metadata": {},
   "source": [
    "The first 49k images (in batches of 1000) will be our training set, and the rest is for validation. \n",
    "\n",
    "* `partition` handily breaks down the set we give it in consecutive parts (1000 in this case). \n",
    "* `cat` is a shorthand for concatenating multi-dimensional arrays along any dimension."
   ]
  },
  {
   "cell_type": "code",
   "execution_count": 65,
   "metadata": {},
   "outputs": [
    {
     "name": "stdout",
     "output_type": "stream",
     "text": [
      "20\n",
      "40\n",
      "60\n",
      "80\n",
      "100\n"
     ]
    }
   ],
   "source": [
    "for b in partition(1:100, 20)\n",
    "    println(maximum(b))\n",
    "end"
   ]
  },
  {
   "cell_type": "code",
   "execution_count": 77,
   "metadata": {},
   "outputs": [],
   "source": [
    "trainXY = ([(cat(X[i]..., dims = 4), labels[:,i]) for i in partition(1:49000, 1000)]) |> cpu\n",
    "valX = cat(X[49001:50000]..., dims = 4) |> cpu\n",
    "valY = labels[:, 49001:50000] |> cpu\n",
    ";"
   ]
  },
  {
   "cell_type": "markdown",
   "metadata": {},
   "source": [
    "#### CNN Classifier"
   ]
  },
  {
   "cell_type": "code",
   "execution_count": 68,
   "metadata": {},
   "outputs": [
    {
     "data": {
      "text/plain": "Chain(Conv((5, 5), 3=>16, relu), MaxPool((2, 2), pad = (0, 0, 0, 0), stride = (2, 2)), Conv((5, 5), 16=>8, relu), MaxPool((2, 2), pad = (0, 0, 0, 0), stride = (2, 2)), flatten, Dense(200, 120), Dense(120, 84), Dense(84, 10), softmax)"
     },
     "execution_count": 68,
     "metadata": {},
     "output_type": "execute_result"
    }
   ],
   "source": [
    "cnn = Chain(\n",
    "    Conv((5,5), 3=>16, relu),\n",
    "    MaxPool((2,2)),\n",
    "    Conv((5,5), 16=>8, relu),\n",
    "    MaxPool((2,2)),\n",
    "    flatten,\n",
    "    Dense(200, 120),\n",
    "    Dense(120, 84),\n",
    "    Dense(84, 10),\n",
    "    softmax\n",
    ") |> cpu"
   ]
  },
  {
   "cell_type": "markdown",
   "metadata": {},
   "source": [
    "We will use a crossentropy loss and the Momentum optimiser here. Crossentropy will be a good option when it comes to working with multiple independent classes. Momentum smooths out the noisy gradients and helps towards a smooth convergence. Gradually lowering the  learning rate along with momentum helps to maintain a bit of adaptivity in our optimisation, preventing us from overshooting our desired destination."
   ]
  },
  {
   "cell_type": "code",
   "execution_count": 69,
   "metadata": {},
   "outputs": [],
   "source": [
    "using Flux: Momentum"
   ]
  },
  {
   "cell_type": "code",
   "execution_count": 79,
   "metadata": {},
   "outputs": [
    {
     "data": {
      "text/plain": "Momentum(0.01, 0.9, IdDict{Any,Any}())"
     },
     "execution_count": 79,
     "metadata": {},
     "output_type": "execute_result"
    }
   ],
   "source": [
    "loss(x, y) = Flux.Losses.crossentropy(cnn(x), y)\n",
    "opt = Momentum(0.01)"
   ]
  },
  {
   "cell_type": "markdown",
   "metadata": {},
   "source": [
    "We  will keep track of some basic accuracy numbers about our model. We can define an `accuracy` function for it like so."
   ]
  },
  {
   "cell_type": "code",
   "execution_count": 80,
   "metadata": {},
   "outputs": [
    {
     "data": {
      "text/plain": "accuracy (generic function with 1 method)"
     },
     "execution_count": 80,
     "metadata": {},
     "output_type": "execute_result"
    }
   ],
   "source": [
    "accuracy(x, y) = mean(onecold(cnn(x), 1:10) .== onecold(y, 1:10))  # onecold is the inverse of onehot ie onecold([0, 1, 0], [a, b, c]) => b"
   ]
  },
  {
   "cell_type": "markdown",
   "metadata": {},
   "source": [
    "#### Training Loop"
   ]
  },
  {
   "cell_type": "code",
   "execution_count": 81,
   "metadata": {},
   "outputs": [
    {
     "name": "stdout",
     "output_type": "stream",
     "text": [
      "accuracy(valX, valY) = 0.179\n",
      "accuracy(valX, valY) = 0.32\n",
      "accuracy(valX, valY) = 0.363\n",
      "accuracy(valX, valY) = 0.386\n",
      "accuracy(valX, valY) = 0.431\n",
      "accuracy(valX, valY) = 0.467\n",
      "accuracy(valX, valY) = 0.48\n",
      "accuracy(valX, valY) = 0.492\n",
      "accuracy(valX, valY) = 0.487\n",
      "accuracy(valX, valY) = 0.504\n"
     ]
    }
   ],
   "source": [
    "epochs = 10\n",
    "\n",
    "for epoch = 1:epochs\n",
    "  for xy in trainXY\n",
    "    grads = gradient(params(cnn)) do\n",
    "      l = loss(xy...)\n",
    "    end\n",
    "    update!(opt, params(cnn), grads)\n",
    "  end\n",
    "  @show accuracy(valX, valY)\n",
    "end"
   ]
  },
  {
   "cell_type": "markdown",
   "metadata": {},
   "source": [
    "2000 seconds to get to almost 50% accuracy, which is still better than random chance of 10%. Well this is a start"
   ]
  },
  {
   "cell_type": "markdown",
   "metadata": {},
   "source": [
    "#### Testing"
   ]
  },
  {
   "cell_type": "markdown",
   "metadata": {},
   "source": [
    "We have trained the network for 10 passes over the training dataset. But we need  check if the network has learnt anything at all. We will check this by predicting the class label that the neural network outputs, a checking it against the ground-truth. If the prediction is correct, we add the sample to the list of correct predictions. This will be done on a yet unseen section of data."
   ]
  },
  {
   "cell_type": "code",
   "execution_count": 82,
   "metadata": {},
   "outputs": [],
   "source": [
    "# repeat the exact same processing on the validation set as was done for the training set\n",
    "valset = valimgs(CIFAR10)\n",
    "valimg = [getarray(valset[i].img) for i in 1:10000]\n",
    "labels = onehotbatch([valset[i].ground_truth.class for i in 1:10000],1:10)\n",
    "testXY = ([(cat(valimg[i]..., dims = 4), labels[:,i]) for i in partition(1:10000, 1000)]) |> cpu\n",
    ";"
   ]
  },
  {
   "cell_type": "code",
   "execution_count": 86,
   "metadata": {},
   "outputs": [
    {
     "data": {
      "text/html": "<table><tbody><tr><td style='text-align:center;vertical-align:middle; margin: 0.5em;border:1px #90999f solid;border-collapse:collapse'><img style='max-width: 100px; max-height:100px;display:inline' src=\"data:image/png;base64,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\"></td><td style='text-align:center;vertical-align:middle; margin: 0.5em;border:1px #90999f solid;border-collapse:collapse'><img style='max-width: 100px; max-height:100px;display:inline' src=\"data:image/png;base64,iVBORw0KGgoAAAANSUhEUgAAAIAAAACACAIAAABMXPacAAAABGdBTUEAALGPC/xhBQAAACBjSFJNAAB6JgAAgIQAAPoAAACA6AAAdTAAAOpgAAA6mAAAF3CculE8AAAABmJLR0QA/wD/AP+gvaeTAAALfklEQVR42u1d3W9cRxXfuffuev0d20mcRCSkjSgSIXU+SPkQKKoESO0LKk8lfFVIFEVI/DlISHngAVQqBFIpFUIgCGoSEtIkLfloajdtGhLHsR17ba+93/fyxPn9prpTexvS44fze/rdu7Nz7+zZOWfmnDMzLqtnhf+h0+kId84JTwtA5grrI0OdLuXbWS7fCELlszSiK7du+W7Bbe9Qlc77HfJ/FJdye9PcMlHBoAoTgDJMAMpICjEuYr5wuTRoA1jjuqCuzEeapusXCsC3AXQ/Y/7x7YHzeEDXB9rIvwO3keuxHqAME4AyTADKSPgiC+lul18miID+dRsxCI8YG7EH/J5dTns+qtJcbj1AGSYAZZgAlJF4zg5S3uy66NBFxvorCozBiXtziIewB0FfkGdwPr6NCY3xu51BZKHvUnv5vvUAZZgAlGECUIY/DyDuPF0PH1Ea8Ol3q9M934jrzo/v+XnS/PJdzzm8uQ7q9Nrr8H8N+b7YDG3EJFkPUIYJQBkmAGUkrPtSGu/P3bsv/P1bk8K3jW8X/vi+zwp3GeyEr0NRZxThYXGU7xtpdfJjA1lgRJ4FFHDmKWP+RsDPw2XSwH0v0BH4Kred6gnNmawHKMMEoAwTgDKSjERQa9aEv/zSr4Rf+Ncp4V899jXhP37xZ8LjuE94hx4QJXhAfW1ZeOXBgvDevkHhg2MjwtttTirKD1BkQW8Njd/pf8Y+H85Z8nxWNLdwXq4RvwLVT6H0dqstvNVCmd5yOfctrQcowwSgDBOAMhLHNqAGG3D9+jXhs/dnhd+8eVN4vV4XPjDQL7zdbAmfmrwq/G9//ZPwG9dQ/8jINuHPHX9e+MTEEaoT78m5QFnA5+PNRVin0/2Yxuas97NA3g7XydMVRz9iu40ybA/SUr6tsh6gDBOAMkwAyvB8QdWVFeG8VmB4y6jwdgdfWKmuCe8fGhNer8OWvPaHV4SfP/t34cUY9czeuyv8Fz+fEX78+I+Ef/HoMeGOcljTQsg/w7EK0t1kTJoNtDEullA+RpjEjz1A8adpKPKNd4tpfsDxD67TeoAyTADKMAEow4sJLyzAP7O8DL/N4BD8M4sV2ImZ2Tnh23d9Snip3CP86NGnhL997Q3h9TXUU4zxP5ibgT34za9/iefO4t2OHfum8P7BLcI7KcbdtRrqn57+j/Arb74pPCZdv3/ikPDR7TuFcwhgoLcXz6KJgItgP1KynWyH/PVxqNN6gDJMAMowASjDswGs96srVXxAw9wHS0vCT585K3zfE4gP9/XCL/T5Jw8L37XnMeHXrsAexORLIXNQWFqED+rVV14WvrIMe/CNrz8rvN3CGP/ipXPCb33wrvDb798SPjYKH9TMzB3haQwb1mw2hB+ceFJ4sYQ29pONHBjYInyE5k+uBDvB9sB6gDJMAMowASgjuXzxLbm4dOmi8Bb5TIoJTMX4DoyRX33tj8J7+hATfvrY03gADaT3fQY2YGERPp/798CL9JeIHcbUnQ5s0l/+/Hvhk9evCN+ze7fwyhLsR6sN31RPTHOF6qLw8xcuCL87h/sDQ4hX//stlCn1DKAtFfjEDkzA5p34yU+Fe+vOnNmATQMTgDJMAMpIzrx+Si4unD8tvG8Iet/F7N+AbaiuQVf+7rcvCX/jNOr53BNDwneMw0G+a2RY+L3byEMtUOyU/SqFDLo7Ipt0fQox55u3Md7v64ffJs1QT3uN4rQd/P8qq7ATbd4rieZAJcpxatZhk96+DjtaLOEL/f1ob+TwXP7bWw9QhglAGSYAZSTPfevbcnH7g/eEnzl7Snh1BePcFsU22x3otQfz0OPpakX4cBm6fm4G352cQu5QsYwxdZZCF7cor4bjqxHp9FIZPpYOvVtlCX6tZgvPKrkeqh/law34fLhdw0N4t/5yUTiFPArjW2HnViqYf1y5cln4wYPIcUpi1GM9QBkmAGWYAJSRjI3tkIsy6evFRejiJAKvNTEPaNNiKkd6dmQ36lmtQcZTN2FL5qtQokNjyJ0voRpvEM5pODHvxVYgO0HzA877HBqAHm/U8P4NWg9RXa6gUvLdjwzB799qrKK9FE/u7wVfozUQJ0+eFH7iBOYlhw/BHlgPUIYJQBkmAGUk9SbG1NMzyPOpN6Df45jX/dJ6YFbMKZS3K0BXLi6gzNwCdGU1xXOrM5hDjJWgK0eGMb5ud6C7I44hO87Hx1g+IXswQH6hJq1pqJE/J4rQ3uFB1vsoX6D4ROZ4XTSK7N2LmMeBA4gh37hxQ/gE5SBZD1CGCUAZJgBlJPUGxtGO9gXqo7FzSr6RUk+Z7kPvJ7SOd2gQZRoN1Flr0prbiPzjtOag2oL96CHfS18f6my1oevLFERmfz0ndVZXlug+dP3QMNo4vAVzl0HKN63VYAN2fnqv8CNPfUn4/EJF+Lvv3RL+wgs/FD5Lua0p5ZVaD1CGCUAZJgBlJHECHf3Ms88If2zfHuGXL10Sfnca/u5mHfp6uBc6t0gZp1kM3bp1Kz5odeAXKqbQxa2U/Pht6N9eB/8Mb73DZ7Nw/hLvQeSfTwBe6kH5iNZ2dRrwEe3ZjXH98z94UfjhI1j38I/XzwifnsW6hMFBzGN6e5FfZOcHbCKYAJRhAlBGkiQYax869AXhBw5MCP/Kl7FH0OzsvPDlCsa2WRO8tooyvMwgppz62VmsBbt/B/lFo9sfF96m8b6LeO8Hyu0h/0+9xvFkCiyQ0XARb4qNetiWtImv1tCAc+f+KbxUQi5sSvtDjI1iTz3eR89RHNtswCaCCUAZJgBluMV58qeTTuTdDyIaXkfkY0lJz2YpxYrbuF9vks+HxuarVejW+XnYjK2jmDewXk4p3lCn2Gyd5iKTk+8Iv3oVOaPclnt3sWa4UV8jDlvSoVhFkXxfxR7EFXbuxDxpxzjWJYyPY730978LX1DKG+mZDdg8MAEowwSgDFd5QDagDUXF+zynni5GmYSUa5HKO1rs6yip018nhe96LhzWld720vmbO2eUd7+2Bp2+vIwYAO/dduE8xvK8d9Dk5JTwu3ewZriVwjYUErxco052IoFt2L8f8d7vfQf7HQ0PY81w2rE1YpsGJgBlmACUkbAujiLeZ433+oeSTignMuIzZFgvk7ul3QnobrrLRwnEvI8Ch3gDnOsplxBXGNgxQmVQanzbLqofD2b7sbgI39T0DOYNi0uYr/TTftelImxAH/n9y2Xc935nXutQMKjCBKAME4Ay3HIFernTzvfbZHTIgCOZJd6eB/n7aKahvZ2JezaAa/HsE9/Pcsts5Bx5/3XyD1B2+SU+VGf+gWH+O+TvFcq1Wg9QhglAGSYAZSQ8Fs7Yh+PZgHz96B0F5h1Iz/ODfBkHj1nM8v1F3uFe3v0ot7wL2h7evzPfgATUdaGQ5bcldLaMN3fxzj3Oe3uDCkwAyjABKCOh1FBfX7v8sa03Nuc9+rP8MyDDyp6KsE7MAjo9yh/7+wc/Bs6JDL1D6OziwJwgZByyQn7bffvHv6etD9g0MAEowwSgjITjui50LmNAEXo5jhQzyAohH1EA3nwif7wfGtd3e3a8bxvy5xwu5GAKGJaUfUFpfvnQvMp6gDJMAMowASiDV9YGRtQfhlv3vnfyb3cqOlh9t7q+20e54Bxi/edG9D9O3fpxCG6L9QBlmACUYQJQhneGjJ+7yee25yOoHTcwfu8WbgPnBmshlPMa+lF8f5pBFSYAZZgAlJGEPmDd2r2/ZX2dGM7bCfl8Qg/bgG34BM2E7/PxAsq5ZawHKMMEoAwTgDKSUD7lo/C9bATdPnYjxT/JmUI4VzW/jPUAZZgAlGECUEbyKFwpWeH/Pwbv9j03gYvoI97N1gdsGpgAlGECUEYSGqsyPJ3FiwKCCj5bt87QPCNN8/0nGxvxPwwC6wYeoh7vbuCHsB6gDBOAMkwAyvgvMWIxE7b/PnsAAAAASUVORK5C\"></td><td style='text-align:center;vertical-align:middle; margin: 0.5em;border:1px #90999f solid;border-collapse:collapse'><img style='max-width: 100px; max-height:100px;display:inline' src=\"data:image/png;base64,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\"></td><td style='text-align:center;vertical-align:middle; margin: 0.5em;border:1px #90999f solid;border-collapse:collapse'><img style='max-width: 100px; max-height:100px;display:inline' src=\"data:image/png;base64,iVBORw0KGgoAAAANSUhEUgAAAIAAAACACAIAAABMXPacAAAABGdBTUEAALGPC/xhBQAAACBjSFJNAAB6JgAAgIQAAPoAAACA6AAAdTAAAOpgAAA6mAAAF3CculE8AAAABmJLR0QA/wD/AP+gvaeTAAAQW0lEQVR42u2d2Y8kV1bGIzIiM3Lfa+mqrq7uquplemzs6Rl7EKMZ4REIARJv/Is8IMFIiBcQDyMMyBjbbeNxt9u4t+raK/c9IzMjeeL+vpEG8YRuP9zz9GUoMuJmnIyz33P8j97/yPsfGocTg0vFbYPvP3xkcJysDb549R3fvXxt8HA4NNj3fYPXHt9dr8HlZs7g7YOSwZkgY/CrJxcG1xplg6crj2umiwY3NyoGt15fcX6nw9rSfLeyyfmJNzd4Y5N7VausM17NDD47a3GdcsPgfDHkvjOeyToJDE55jqySY4BlcgywTGGmUjcfig3kVzyDN9d9dMOt2wcGt89ODB4NRwanFiqY/5c7+5yTFlnvy/nnx8jrURe5nPJ6nF/aMHjnzrsG15tVgyedbw0enA8MznmJwcsB69/d5zmUSlmDL88vWVxmyb0aeYODgONeCj2RieReMXrRvQGWyTHAMjkGWKYwEZkVYeZ6+Qgj+eV3vzF41OsbnMzQDUEQGbyaxdwgxBZW2z/xkIPLmPOnI67Z72A7B2vWs5gtDG5sYKfXi02DCxn5MWvs7sWCNaRE4Sz7yOtBr2dwc2ff4FJ1y+DrzpnBxZLcy0fW/5YCTFh/X3SqewMsk2OAZXIMsEzhzm6BT1ns3GiF7A4GxFLa06nBu3vIx0WpanB/ik29DpD1qyXycS06IFijPyZDsZ1DZLcX4Sus1/gQky466ezbZwZPlxwfdXsGFwrY7GEWuTwcEc/pj/A5Tq/xRVLRpsHlyi2D0ynW2R9wfhihA0KfONVCAljuDbBMjgGWyTHAMoWD9rX5kKtjj8fx2OC8yOL2CPl+eX7OlRbY5pkIvRKEyLu5xIgCEe+JxMcjj9jLjS1yAxdvkNGrJbJ1Ouhx/eFTfliWa9YaxPqrdWz54UR00hVrWyfEixbio5Rr6I/VlGtenD1nPTG+S63JvbKFXXCZ77o3wDI5BlgmxwDLFPbb2Mu5muRal8jETJmYeyXCP0jWyMfZVOLsWYn/+NjUYQq7OxWiM1aSZ46n/CcmQ9Y2X+AflArY1MslsaxFrHEq/IYkIFZT3UM/tb4lz5zOcN/1HB8lmwLHc35jv4fvEvrcS5bpBeENg28d/JTn2eW+7g2wTI4BlskxwDKFvtQCZXMS1w6Ra7MB9m+tUTV4PkCWJRP8htt39wy+bkncZoK8rlTRN7EIzjjGNg/E/wjTyGKtOwrEodAapKOj26xT651K6KdcjvMXfa6TzZIT7rXbHE/xfEZD1inqzGvWjwy+vOK7qeyxwdVGjeOeI6vkGGCZHAMsU9hsYhePJ8jWxYo4zCrE5u1MiAXNJfZ9e5+4R2Ob808vyB+kQnTJzT1iI74vtTRCJyfUHeVy6KSJxIKSROptxCfY2aG2dfuganBJ4ktnL4kvTdMI8lEXnVTQfPKI4/ksMatsjmdYq5CXPm79l8GDCf7Q3XfRke4NsEyOAZbJMcAyhb9VqzNHRudzhwaPpYZy+wZxoddjYiODGBm37SE3gxD5mM0Tw9ne4To3tqlPffKEmP4qEVmcx28YD+R4ofA78asXLw3+2S//0uAL8V0mQ3yXqei/8ZgYV0p0zGDcM3j/4TsGP7iPvjk5IUfy0w9/3+C7j9iHka3wnN0bYJkcAyyTY4BlCmdzqY+cY78Xs8i1MKEuqFIijnH0gx9zpQU2dauL/F1JfVG+iA7Y2CLe8id/+kcGvz5+YXAk9anZLGvTmstylfxqpYKemI2J/6xXxHwef/6VwYM+Por6EL78LZcxH4Ictv90jN8Qr9CF4zk1o4XggcGpFGvujchbuDfAMjkGWCbHAMsU9sfERnwPeX05P+WsgJh++xI7t9LEfr/zkP1ZX3zC/uHegLqjWhn79/PHXxh874jYyJ198qjdS/SKlxALKhT532QQy16tgY658+MfGnxyjl7p94lf5cusf9hHLmtd0ET2Azd3uX46h854/QpdcnWJvrm8/rXBLcmXHD3AP3BvgGVyDLBMjgGWKaxtIrv7HeR7JH0OIqkFSoXIuF4bGT3cQBjXG8R5Wll8iPEQ2drpcM2//dXfG/yhyO579+4Y3Jb86nwisfg0+unBXfYrDGfI3H/+9cf8YtmvkCT4FvobffE/pjPs90VCjKhU5fxehxxJJoOe29yuGtztUD/6n5/0eJ6eI6vkGGCZHAMsU9jcxu4uVpCn1arU4EsfiIszYh3pNLGX4+fY2r6H7VzMcc5giu1clPrOVht5/fG//ofB772DDnj4Q/Zk3b5Rkevgx6QL+Aoff/ZvBgdp8hONJvrp9ASdVChQ8zPpEkfKSfwnlL3Q0xnfjZOewesUusFbV3meRZ7txdkTg90bYJkcAyyTY4BlCr/5Bpm7t4cM3b6J7G5fIxMvLrDH/RX50lEHGTebd7mBlvxIfrV1zZ7ktS+19lI7dNXBzzg63DH4/j76oC75gH/5+hVrWPPfirLkihfSq2ciNaZhIDU/GmsKJE9eRN/MZujFQpnfpf0n0pLCmIyIF9Wrsk/Cc2SVHAMsk2OAZQojD/t3OUKWXZ1i72crxEB29hBs857Ytn3k/lR6LYQxSiArwXvtqZkrVw0OfGz203NyCZ9+8aXBP3lATU4kueLBXPK6WXRYq0VuYzaUmJL0JtrYYg1emucwn6IbghnPKpdHXzaauucAPOzw3EbybDe33P6At4YcAyyTY4BlCu8cUruSi5BZQXAqx5GbXgP5Ps9In7URsZG59BzVWvtaE3m9c8h+grm0Wbt4g9zfbGAva53os6fUHWn/59bwjcHta9a87IluWLC2ktjjaUx877LNb0n7+BC5Nba8J/uol7HEkdbSf2LF+WnZc7dKnB/w1pBjgGVyDLBMYbqE3Z0vEvfIRMTNhx3iNssltnNT4vKVJnu+nv8GGfpS+sdVd7hXaQPeh2PNE2BHN5sI5mhNLebVCbU9hS3WPByjP4qRHE+4fiqFnrt5RE5inUPHbAfI/ZXos51t5Hha9jCvlxy/bKF76tKOb3OLGqQwwh9yb4BlcgywTI4BlimMMhLPuWAOTLmMTJS2QF4QIL+WcjyTw7Zt7iMTs1n2zRZL0it0hbzekrhNfZfz09JfqHXK3q56jdzAwZ17Bj87Q1fl8+iARVn69afJP+/d5TpJyHdzOeR4PEInZSOuc3ZMLam4Fp6UBXnjMffSXtmFrM5CcGSVHAMsk2OAZQqrEg+JY2ztfF7iJxns5esria3PZV6YzFRJSc3+nUNk+uFNapBuiF1c8YiPn5+ge/7pH//d4O4l/sfdO+iMRp3re2vk9bnoM2/Bgvb3ua/2IxqNZG9wiphVLHvoziU3fvqmx7NqoPNu1Lh+xuM6ifS7vm6Ta3FvgGVyDLBMjgGWKZxOpCdahH0aBMRzVivkYLGMXJtJvrTXlroaOSdfIVa+W6D//uSUGNGrY2bUPHlKj6DTY9YQST/qitTmD4bEhRay1/fWDnGkQVtmlmX4LSfPkcVLiRctpX/GWvamrVf8lnSIXmk2iYnFsfhVErO6eRtdFUnfC/cGWCbHAMvkGGCZwl4Xmbv22oLJZ5bzyL6C5AwuL/EblohrbzFGhn7zCX3Tul8RbylJ34j+APu6J3sFfEn43rhJ74pimeOnJ+y98nzpD+GBpxP002yM/qjJ/K/ZnPPTRemZUUK+P5UedutAcuML/IliXmZb7tFzaTDi2e7W8RXcG2CZHAMsk2OAZQobGxLrOEGm9+diOyccL9ckLyqtpmvb2LZNqaOPe8j0MeWj3kT6RVcLfDctGwr8Nee894g5xu/96H2DP3v8mcGBz/lTseU96fG5XCKvexKvX8qcg7zsfSuUqF8qNfFd8gviYCnZq7x7cNvg+/f/2OBnT/B10p7rF/TWkGOAZXIMsEzheEZuti8zFyPJxx53xSeoS728zHdcSW1MlEUHlCrSk1l671y0kKdZT+vxka2VEtfZk1xCsYhPcHqms2vIK0Qx9+p7nFMpI9/XKdYgY2w8fyH71M44J/BkDqXs/yrXZf6Mj6I7b3/OmuvotkTmcbo3wDI5BlgmxwDLFGr8Op8l7iGl7d6V9G4bDjg/EXtWQileuEENzAeHyFxfZnJNU8T3M1nysXfvY+8XSvQWzeex3z/9gv4/Ly7oTxdUJBkttfxz6dd2+po9BI1N1pBIb9Hza37v9RU6KZL5w6U6uNzgvsmSHECvw31TgfQflT5F7g2wTI4BlskxwDKFo4700mnQc61zje0cBGIkr2QfmQfOywyvpuz7be5gv3/1PX0p/DT54Uj66a/WXKc/Iz5zKXsUXp8i93eOiK2PVyiibhf/I0jIAXSvsetXUgc1Gc/kuPSukP1cgegJX2YkaB+heMoa4j46oCJ7HQZDqUH6vzjk6P+XHAMsk2OAZQrnHdmHtXXT4FwdHZC6kHiI2PI1idWkJZ6ztUO+9+vvqSUdrKRWUuJCc6kRGsu8rSCDnX7wLrX8mTT+ynULu96X+n1vRWxqLrGXZIVMn0/QDcFaexaBRyLTg+h391JNpDfRYsz1e1KPNJM+ptU6z9m9AZbJMcAyOQZYpjBXpnf/cEZMY+sWxwsFYjIvnnxpcLGMnH3nHrnTV8+/N7jdkVodme3eupIE8Rx9UG5wTmlTgu4yT3gmvXeSKecMZS5YNi+9icrcKx5rTzds+ZuHDw3+4MOfG/yrv/4rg6cyCyFKo5/qFX77LOZeKZ3BeU3crIwKc2+AbXIMsEyOAZYpjJrEag7v0YttYxu5v7hFD+eJ7KWaDV5xjszd/fIx/XxSEieZSP84aavjRTKTIJJezeUqcrbXxy+ZyWz6egmbuiO1m3OfOP7932PO+/lLZHRlgxzyR3/x5wb/7Bd/xr3W3Osf/u5vDB7OsPF7femHUcM/KBWINa1kRlv3gpkK7g2wTI4BlskxwDKFH/z8D80Hf4HMGnbJi05kvm5e5qdnC/gKidTyj0c6l1F6OMvMgHSG833Zi7CWfOmbF8jxouwlzoo/0W2jTFYT8s+rlOzdvfcDgwftb7imzJ7cP0TPjcQviSpVg+8/+onBKfnvXl0+475z7P1gyfNc9Pkt3kxm8niOrJJjgGVyDLBM4bCPrB+0wMcvvjU4kt4Jc9lXfPM+MfqRzGjUWLknOqAge688X+Z2+dJDzUdPzGVvl7finI1dfJR0zPFqFV01lXqnfgs9UYjQJaU82Jc9xrMhvYl0z8GP3idedHgbn2nc55lMe/hAT7/61OD9TfRBruDqgt4acgywTI4Blik8+/5r86FapVYnLTMXT797bPDWhtbJIMueySyagyP6IsRL6aUs9ZEZiflsbBFPT2v/NcFbTc6vbeEH3KiyV6Am8+6nMrNsLPPls8Ftg1cB8atbNXC86Bn8B+8yr2Yt+852d6sGzyb4HIHPGu7dRVeF0vd0LYEw9wZYJscAy+QYYJnCgx3s8e1dkpUfPvqFwbMr4iTTCTby5mbV4IN95P7OjuZIpQ+P1FZGMruxIk2WiznkqW5SiGVul/bbyRZlHovM8Er5WrspNZ2JxJ3E//B9qXn15X+Zkv7S0vsz8XSmJjpmrvufN1lDMue78dzpgLeGHAMsk2OAZfpvvlmlxF9gf1wAAAAASUVORK5C\"></td><td style='text-align:center;vertical-align:middle; margin: 0.5em;border:1px #90999f solid;border-collapse:collapse'><img style='max-width: 100px; max-height:100px;display:inline' src=\"data:image/png;base64,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\"></td><td style='text-align:center;vertical-align:middle; margin: 0.5em;border:1px #90999f solid;border-collapse:collapse'><img style='max-width: 100px; max-height:100px;display:inline' src=\"data:image/png;base64,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\"></td><td style='text-align:center;vertical-align:middle; margin: 0.5em;border:1px #90999f solid;border-collapse:collapse'><img style='max-width: 100px; max-height:100px;display:inline' src=\"data:image/png;base64,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\"></td><td style='text-align:center;vertical-align:middle; margin: 0.5em;border:1px #90999f solid;border-collapse:collapse'><img style='max-width: 100px; max-height:100px;display:inline' src=\"data:image/png;base64,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\"></td><td style='text-align:center;vertical-align:middle; margin: 0.5em;border:1px #90999f solid;border-collapse:collapse'><img style='max-width: 100px; max-height:100px;display:inline' src=\"data:image/png;base64,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\"></td><td style='text-align:center;vertical-align:middle; margin: 0.5em;border:1px #90999f solid;border-collapse:collapse'><img style='max-width: 100px; max-height:100px;display:inline' src=\"data:image/png;base64,iVBORw0KGgoAAAANSUhEUgAAAIAAAACACAIAAABMXPacAAAABGdBTUEAALGPC/xhBQAAACBjSFJNAAB6JgAAgIQAAPoAAACA6AAAdTAAAOpgAAA6mAAAF3CculE8AAAABmJLR0QA/wD/AP+gvaeTAAAPaElEQVR42u1dSY/cxhUuksWl2exu9jI9myRrvCWKYxtO4sSALwECHwIDgQ/5ifkFOQbIKQlsB47hIF4U27JlSyONNEt3D/c9p9T3GUjOpUN9p6dWsVjkG7736m1lvfPeW+K/qLNa0fFzlqLdzlf0OPIUHYwcRVeVIsXFWaLoaCIxf4v5Aw9zbp72mH8aKloOWMPmSUNrwLXCxY29COtxfdy3LFtFOwJjwskI688xZneVgd7gWZJdrujFMlK0LVy8twP8Hi/His7KK0Vvk4SuNdAKwwDNMAzQDOmNS/WP7Aoyt61A+x741Pf4PUkgl1nmrg4hoxvSDddnuDYfMKd0QFsd9EE0XWJ+G+tMtj1di/tKifWEY+iqLK1pTsjoWQwdcLo9V3RFOkPSc/XDgPU4kO9lhbWVBemMAvPUNV5EW0IPmS9AMwwDNMMwQDNksoV8nB4Eig4l5KM1kC1fd4ruIHKF40A+Nj3+w3NhIx8ezhTd1qRXOlwbjnEv24GsH1zao6ygY4oE10YR5HI/YJ0SSxDzBZ7RsrCGYIT9hx/gvm1Z0Rjct2rwjFGMa+sav3f0bvMEemK5xnswX4BmGAZohmGAZsjpCPIoWsFO9wT5Ugqy0y3I3G6AvGtb/N435KvBz2LvYK7oLMW1Oe0n6hoXWBZksdVOML5JFe2GWGcjIPcdB7Z2FEzpWSDTp/FK0Yt9jE9TjNk/voXfryHHO9rfjOdYw24Lf5HlYh9g074hz+h3YaAVhgGaYRigGXJ9C76RPCP714IN2wv87ljQE7bE76LHPFJCJs7Jb96R/0fYkIOC7PGs3GLIcKDoaAq9kpxdK3oUwsiXDnSJQz6i0RRjBvqbsxzojKHHevqe4hMhbPzVHvRlkeLavIHcv3ECXXV2Bv/S5nyDZ4mwBvMFaIZhgGYYBmiGtCyH/gm5X+QdD1NUnsAAjiLogyAAL6cT2NdlhfhqU0FWdinu++j+haKPb+PaeQx5Oltjf2C7a0VfXewUHVOceRYjltDWmD+huHdVkO9rDN/XnVePFd23eHZhUfyZfFaegI3vUOxkVQY0Bnugy0voKvMFaIZhgGYYBmiG7MnfXTeQ19MxbN40I8dHD93Q1LCv3QnHeOEzqUvI3Lv/fKjoy9Oton/00omi9/ZiRU9GmH+1hr5xfKzTcqEn5kv4fNgH5TqQv3FEsQ3y6dsO9AeFMIRt43ktC/MPHZ6rpJyiJMfaRmOsOfQWWOeU9lLCQCsMAzTDMEAzpB/AV7PwSM5S/k8UQoZuc/g0XAk94Tk0nnwdvoTcTNagzx/An3Nj/0jRkznpFRu65+wS9xU2fDXzVazoqsA+w6V4gLRhj3N8WNK+IckRY2gbyov1//c+qW0xPvDwDv0WvqOsRI7QKsY6ZY1rzRegGYYBmmEYoBkyJn9LWVEeTg95Nyafuzvi+CrZ0XZI0yIvs6M5H3wNOX602sO1pG+CjnIxQ4zfPIQ8rSlWfHL7Bq1/q2jfw3NlXLxAG4SS8jUFzRm68CN1Hez6MoXeunmE+17XFLum2IDbwvb3XNCWbWLCzwwMAzTDMEAzJNd5eQHkeJ5B7tuU3xL7sJ13lIdjOVRjtb1U9MXXlDOaQ2e8+gb8P4cHNxXtt5hnW8PXb/N+hWLOoi6w/jH+nrYlrvVIP8mc7Pot1j8dQ2csgkNFVyXk/nzyiqJ/+fN3FP3x438p+rO779N6sP/oeuhFe0C8wXwBmmEYoBmGAZohyx62thSIizouZGXTwb/fd5BllqQcUMqr+eDPjxR95+BlRb/8AmT9LIZ/aXkAmzrfQH/U9xBrvXWbcupTylv9knJ7qNbsOaovm88RQ64H7G8e5o8V3ZVUr0C6TVCe66PdmaK/Pv1O0d/c/wLz054gr6CHwpDyoDqTF/TMwDBAMwwDNEPudvCxBC5s9opqX3uqexqNMGZM+T/JDr0QTh9BB1gN7PSjffhD7j/4RtHuCDb4i89hf7BLMOdnf7unaN+GHuIa5qKgWmLcSmRwz4i+gyxOKU9pdw15/fDiVNFzqiHgorg//ukP+H2MPdNuS3EF0jf7VH8wCvC85gvQDMMAzTAM0AxpdZBHPcVRr6+p3rWB3Mwr6Izeohz8AH6P3/7+Z4qewnwX4zFs6uszXPvVZ/ClPH0M/XHy/E26F/5WkgJyNqnIprZB17Sf2KZYs6RnzCmGfH6F/NGBcp9yymvyaP52D7qtIj/PLsO9PIl3UhaYx3VNv6BnBoYBmmEYoBlyf406rJLqbx3y85yTXdwTzwryxceUS7qYU02ZpPqvivpM+FtFe1Tr++332B+MI8rnIR3QEN0NuFdTQ84OLX53KRmIStxETbotK7GHGPmQ6bMpdOTjR/AdLamOwab9QXyMuEVCMfOeYsvptckLemZgGKAZhgGaIUuq1ZKU85M3iIVG5OvwgljRXQ+/EOdThhQLtQbMXyTQGZsN5HXnU8+fEDL06Rn87yxn64ZqFMi3Q1XLwvo/tb6upDgH+esDD8/IfYeWCziVHJvqwizqdSGgPy43eMaBetgd7uPdnj1G/bD5AjTDMEAzDAM0QwZka+cp/O9pAvm7XMEW3pC/+2BvX9GODRnaCZ7ziaKTEvJR+iSjDxGLrgdce34Gf856CVl8/gj7kiylmqwR5plHlOdDclySDhDU78gvqR9cDR9RXvzvnnGOi2vnPp69KKl3UINn7Crqa9SZGrFnBoYBmmEYoBlyR31sOIa5XsJH1LYkBz2u4YI8pXJjMVBeTX5FvhraKwR0ToBlQeY6FHMuKfZgD/C9/KBnEf0JFaRjJrQXKUrMT64j8eU95PbcuoncpMWC4sCE9BrrianWtyMfmhzhRSx92n9Q3dyRJD+SMNAKwwDNMAzQDFlSvDRawna+ukCMdDKhvspUG5zuqEcCyUebcjSdHjojpFri04ew8Tndf72gOPM+5Pin95B/eWONXM8t1SJUdPbAF189VfSD0+8V3dA5Np2kHqVXeJb2FGt+7Q70HNdOJ9fQc1kAX1DoY4zs4FMKHeqdR32HzBegGYYBmmEYoBmy6iG7Z8QOz4MsdulsgJb8J65E7HRE/hA6/kt4I+7TCV3ikN9mFnNffox/6XVMlF1+ouh4Giuaz2/55O6nip4vMOb4BDrjNtUVH1M83Alhy3/wIfJQP/j4I0W/+dM3FB310Jc/von5+4Br4uh8G9ozXVP82XwBmmEYoBmGAZoh5QA5XqaQTW0PWzXPIK9tQT5xCds5JD+7Sz1EJ1PEQmtML4IAdjT3oPYC8vMM0Cuvv/maopszjL+83ir6N+/iXMyTl9CDaDTCM0482OZNBX1mubjvzRvw1Xz0EfTB90+/xfgBdQwO9ayOX4E+KGysLaBzeKYrfp8GWmEYoBmGAZoh+SwwIWCn7+3Bzm1z+E8cqs+SPTlxGvLvD7CpczpbsSd9wzmmPeXV5An1ZgippxD5T06fIM58Qb6gt1bo5TAbx4rOWqxhQzEGi3JG2xz0X9+/q+h333lb0ftHiC3/48PPFZ1+hWc/mUNHehHe2zannttrOitNGGiFYYBmGAZohjxaw0/tkd+/Jdt2Oqe9QgH7PSDbmfPxPcqfqQUFix1q2klB5ILyUAcLcd2U+mvy2Y0O9QU6uEFnCZxjnuVhjGeh1g+Ohb2LS02iP/n7A0UfraF7Xn4V81ctdM+dX2Cv8OlfUDcQxy8qOmugAyTpsM0TrNN8AZphGKAZhgGaIaMF5drbVGNFZwJb5D/x6CxJi3xBdOyY6Knnfk3nJjYWZLrV23Qv0KEP31FHZ7gnGzpHfkx97irooZL2Kx2tv664JyjG3/8ce4jT7yDff/ferxRdUQ1EvsN944DyTSPk1O52VFfBRdIT6hm3gd41X4BmGAZohmGAZkibbOGCztHtKYaZtail4p7MLKMl9YvuB8wjXewJuO+Q1VP/nAE6JhpBPmbUz2f7FHVVRy+g31zRQmfwOfU+nX1W29hbsD745t+Y8+1f/0TRLrfBpmeczPi8MAzZP4Q+GFGSk0/9VlsLOU7zfYqFCAOtMAzQDMMAzZD5hmK81H+Ne4W2VN8k6Zxei/wqLdXlSvKzdzZyTP0Rxwyoj2ZLZwJT/YEvYkXHi62i14ewr4MZdMDpt+g11FIPat/GM1oUr16sMX84o36oVNts23gPFekPy8eeoxmgYxqBfqUDnU1m2dAlnTDnBzwzMAzQDMMAzZA92apyROec5LCRW+qhVlBeo++BllQn3FQkE6kmyw4pNtBQPwk6eyCnMwNyitMeP4+a5EFinmkMeZ2s8feUZqgfZr1F7bFFSr0iKopvb+m8+NGYekFT/bBocd+O8mWrDM/eL2mPRefYDBadzSAMtMIwQDMMAzRDcp1t17EPh/IX/R0Noj6dFsZwfwVBfqSOfD6cbyoH+Hwa8hHZtD/YbimnqIXOcHrId4972FGu59UW6+GYtl1iPScvYg2bK8juKdV58TkKJcWoAzoj0/OxL/lBLITi3iX1tJDUk858AZphGKAZhgGaIdnvIanXf0l5Pjb1SnMox2Yg/48gO3qToteQ70J2xxFs+ZTkNdcosP/dpvMsLy63ij46oh7UCeSsNUAnZSnl//j4O4sjXDte4r6XVCc8HyPeUJbwZTkd5ndd2ltQ3zqHzii2qU5YdLQ/oDoJ8wVohmGAZhgGaIYUPvc1g3ByWq7vhRyvBsqvpz4QXGfQc7yXaoMrsrXzAnJzOoY9nmekZHrI0+Uc86TZVtFlRvsSl3pTl9SbSMBOtyqq46WcIo/WbAuiqe5BDng/Gdn4vk/xErrWpd6iYUQxczqbzHwBmmEYoBmGAZohLQd5PgX5giZ0ttdAffYb6gfnUKy1pn4Ss/GKbkAxZL4x2c51CXpg55RFfvkR1XMV5E+ngAO5oMRqBV9NPIVd31GOU19jzQ6ts6G8Jo9qjEmkC4fOh3EF1sM99XjfMNA+wKW6aPMFaIZhgGYYBmiGHMgX75C9z+fushy3yTbPU8iyoqW+aaRXOpt6P1C/T5a5VU1xApKtA/UOajus52ByC2vo4asRPtvgZOPT+QQt5erUFp07T/EGQbVdrYQekh758ck/JkPM2VJDjJb2DZIUYEC6ynwBmmEYoBmGAZohO+q3XNG5YDlZ7RMJmd5QPkxN47lXqEUCryGZyGewSMrRdKhGzCc72hpI/pIuaXPUYU0nkN2jCfKauhbxW19ABwSS6g9of2NTzMDm9CXukUc1BxxH4XM0C4pnWLQ3GljHtOx3MtAKwwDNMAzQjP8A6hWI5TtDoVAAAAAASUVORK5C\"></td></tr></tbody></table><div><small>(a vector displayed as a row to save space)</small></div>",
      "text/plain": "10-element Array{Array{RGB{Normed{UInt8,8}},2},1}:\n [RGB{N0f8}(0.122,0.102,0.082) RGB{N0f8}(0.137,0.173,0.125) … RGB{N0f8}(0.243,0.184,0.184) RGB{N0f8}(0.192,0.125,0.129); RGB{N0f8}(0.137,0.165,0.098) RGB{N0f8}(0.114,0.204,0.11) … RGB{N0f8}(0.294,0.29,0.263) RGB{N0f8}(0.251,0.196,0.196); … ; RGB{N0f8}(0.082,0.055,0.039) RGB{N0f8}(0.063,0.125,0.067) … RGB{N0f8}(0.051,0.047,0.039) RGB{N0f8}(0.059,0.031,0.024); RGB{N0f8}(0.098,0.059,0.047) RGB{N0f8}(0.078,0.094,0.059) … RGB{N0f8}(0.047,0.027,0.027) RGB{N0f8}(0.055,0.016,0.02)]\n [RGB{N0f8}(1.0,0.973,1.0) RGB{N0f8}(0.988,0.961,0.988) … RGB{N0f8}(0.949,0.922,0.976) RGB{N0f8}(0.949,0.922,0.976); RGB{N0f8}(1.0,0.984,1.0) RGB{N0f8}(1.0,0.973,1.0) … RGB{N0f8}(0.961,0.937,0.992) RGB{N0f8}(0.965,0.937,0.996); … ; RGB{N0f8}(0.988,0.957,1.0) RGB{N0f8}(0.98,0.949,0.992) … RGB{N0f8}(0.992,0.965,0.996) RGB{N0f8}(0.992,0.965,0.996); RGB{N0f8}(0.984,0.953,1.0) RGB{N0f8}(0.976,0.945,0.992) … RGB{N0f8}(0.988,0.961,0.992) RGB{N0f8}(0.988,0.961,0.992)]\n [RGB{N0f8}(0.435,0.49,0.416) RGB{N0f8}(0.38,0.447,0.365) … RGB{N0f8}(0.522,0.525,0.412) RGB{N0f8}(0.529,0.525,0.42); RGB{N0f8}(0.388,0.443,0.353) RGB{N0f8}(0.337,0.396,0.325) … RGB{N0f8}(0.525,0.522,0.392) RGB{N0f8}(0.537,0.525,0.396); … ; RGB{N0f8}(0.635,0.616,0.584) RGB{N0f8}(0.573,0.549,0.518) … RGB{N0f8}(0.251,0.278,0.322) RGB{N0f8}(0.18,0.192,0.188); RGB{N0f8}(0.729,0.714,0.678) RGB{N0f8}(0.678,0.651,0.62) … RGB{N0f8}(0.224,0.251,0.294) RGB{N0f8}(0.184,0.192,0.196)]\n [RGB{N0f8}(0.255,0.188,0.255) RGB{N0f8}(0.212,0.204,0.216) … RGB{N0f8}(0.376,0.384,0.247) RGB{N0f8}(0.373,0.376,0.259); RGB{N0f8}(0.278,0.247,0.325) RGB{N0f8}(0.302,0.322,0.329) … RGB{N0f8}(0.4,0.412,0.239) RGB{N0f8}(0.384,0.388,0.251); … ; RGB{N0f8}(0.443,0.475,0.525) RGB{N0f8}(0.506,0.537,0.612) … RGB{N0f8}(0.851,0.808,0.675) RGB{N0f8}(0.847,0.804,0.667); RGB{N0f8}(0.576,0.576,0.541) RGB{N0f8}(0.671,0.682,0.671) … RGB{N0f8}(0.89,0.871,0.698) RGB{N0f8}(0.867,0.843,0.69)]\n [RGB{N0f8}(0.871,0.867,0.937) RGB{N0f8}(0.851,0.855,0.933) … RGB{N0f8}(0.769,0.78,0.906) RGB{N0f8}(0.761,0.776,0.898); RGB{N0f8}(0.843,0.843,0.937) RGB{N0f8}(0.827,0.831,0.933) … RGB{N0f8}(0.753,0.769,0.894) RGB{N0f8}(0.757,0.773,0.898); … ; RGB{N0f8}(0.647,0.702,0.839) RGB{N0f8}(0.635,0.694,0.835) … RGB{N0f8}(0.745,0.757,0.871) RGB{N0f8}(0.741,0.757,0.875); RGB{N0f8}(0.651,0.706,0.839) RGB{N0f8}(0.631,0.686,0.827) … RGB{N0f8}(0.745,0.757,0.875) RGB{N0f8}(0.733,0.749,0.867)]\n [RGB{N0f8}(0.376,0.361,0.345) RGB{N0f8}(0.373,0.357,0.345) … RGB{N0f8}(0.475,0.447,0.404) RGB{N0f8}(0.482,0.463,0.412); RGB{N0f8}(0.384,0.369,0.357) RGB{N0f8}(0.384,0.369,0.357) … RGB{N0f8}(0.482,0.459,0.412) RGB{N0f8}(0.49,0.471,0.42); … ; RGB{N0f8}(0.224,0.212,0.216) RGB{N0f8}(0.239,0.208,0.22) … RGB{N0f8}(0.255,0.216,0.243) RGB{N0f8}(0.259,0.22,0.247); RGB{N0f8}(0.224,0.212,0.216) RGB{N0f8}(0.239,0.208,0.22) … RGB{N0f8}(0.231,0.192,0.224) RGB{N0f8}(0.235,0.2,0.227)]\n [RGB{N0f8}(1.0,1.0,1.0) RGB{N0f8}(0.992,0.992,0.996) … RGB{N0f8}(0.992,0.988,0.992) RGB{N0f8}(1.0,1.0,1.0); RGB{N0f8}(1.0,1.0,1.0) RGB{N0f8}(0.973,0.965,0.949) … RGB{N0f8}(0.976,0.957,0.937) RGB{N0f8}(1.0,1.0,0.996); … ; RGB{N0f8}(1.0,1.0,0.992) RGB{N0f8}(0.851,0.871,0.839) … RGB{N0f8}(0.435,0.424,0.396) RGB{N0f8}(0.671,0.671,0.667); RGB{N0f8}(1.0,1.0,1.0) RGB{N0f8}(0.941,0.941,0.941) … RGB{N0f8}(0.651,0.651,0.651) RGB{N0f8}(0.812,0.812,0.812)]\n [RGB{N0f8}(1.0,1.0,1.0) RGB{N0f8}(1.0,1.0,1.0) … RGB{N0f8}(1.0,1.0,1.0) RGB{N0f8}(1.0,1.0,1.0); RGB{N0f8}(1.0,1.0,1.0) RGB{N0f8}(1.0,1.0,1.0) … RGB{N0f8}(1.0,1.0,1.0) RGB{N0f8}(1.0,1.0,1.0); … ; RGB{N0f8}(0.765,0.855,0.353) RGB{N0f8}(0.773,0.859,0.369) … RGB{N0f8}(0.82,0.914,0.435) RGB{N0f8}(0.824,0.918,0.439); RGB{N0f8}(0.737,0.843,0.341) RGB{N0f8}(0.729,0.835,0.349) … RGB{N0f8}(0.839,0.941,0.424) RGB{N0f8}(0.851,0.953,0.431)]\n [RGB{N0f8}(0.486,0.471,0.475) RGB{N0f8}(0.478,0.463,0.467) … RGB{N0f8}(0.443,0.427,0.431) RGB{N0f8}(0.463,0.447,0.451); RGB{N0f8}(0.435,0.42,0.424) RGB{N0f8}(0.443,0.427,0.431) … RGB{N0f8}(0.459,0.443,0.447) RGB{N0f8}(0.459,0.443,0.447); … ; RGB{N0f8}(0.635,0.608,0.537) RGB{N0f8}(0.655,0.616,0.541) … RGB{N0f8}(0.639,0.659,0.635) RGB{N0f8}(0.659,0.678,0.655); RGB{N0f8}(0.62,0.592,0.522) RGB{N0f8}(0.627,0.592,0.518) … RGB{N0f8}(0.612,0.631,0.608) RGB{N0f8}(0.647,0.667,0.643)]\n [RGB{N0f8}(0.271,0.314,0.22) RGB{N0f8}(0.247,0.271,0.196) … RGB{N0f8}(0.349,0.412,0.243) RGB{N0f8}(0.286,0.361,0.192); RGB{N0f8}(0.294,0.357,0.188) RGB{N0f8}(0.227,0.243,0.192) … RGB{N0f8}(0.318,0.384,0.216) RGB{N0f8}(0.271,0.329,0.204); … ; RGB{N0f8}(0.514,0.545,0.392) RGB{N0f8}(0.482,0.529,0.365) … RGB{N0f8}(0.522,0.502,0.361) RGB{N0f8}(0.553,0.529,0.38); RGB{N0f8}(0.502,0.514,0.357) RGB{N0f8}(0.455,0.49,0.322) … RGB{N0f8}(0.533,0.506,0.392) RGB{N0f8}(0.553,0.514,0.404)]"
     },
     "execution_count": 86,
     "metadata": {},
     "output_type": "execute_result"
    }
   ],
   "source": [
    "# let's view some random samples from the validation set\n",
    "random_validation_set_idx = rand(1:10000, 10)\n",
    "image.(valset[ random_validation_set_idx ])"
   ]
  },
  {
   "cell_type": "markdown",
   "metadata": {},
   "source": [
    "Now let's see how the model fares on these images"
   ]
  },
  {
   "cell_type": "code",
   "execution_count": 87,
   "metadata": {},
   "outputs": [
    {
     "data": {
      "text/plain": "10×10 Array{Float32,2}:\n 0.0130768   0.70111     0.0284376   0.00389475  …  0.18121     0.00879061\n 0.002371    0.00747397  0.00604577  0.00625129     0.00864162  0.000496413\n 0.111272    0.014708    0.0650842   0.153234       0.211006    0.294246\n 0.253436    0.0378753   0.461011    0.203333       0.079362    0.0406714\n 0.0965391   0.00539402  0.0181904   0.231379       0.153817    0.403133\n 0.14975     0.0144696   0.220007    0.0891994   …  0.063814    0.0602866\n 0.103718    0.0070733   0.0146803   0.263966       0.0353445   0.0938554\n 0.256029    0.0235148   0.134161    0.0291062      0.0270741   0.0959271\n 0.00483802  0.172233    0.00808989  0.00107957     0.228342    0.00161512\n 0.00897019  0.0161476   0.0442927   0.0185566      0.0113882   0.000978245"
     },
     "execution_count": 87,
     "metadata": {},
     "output_type": "execute_result"
    }
   ],
   "source": [
    "rand_test = getarray.(image.(valset[random_validation_set_idx]))\n",
    "rand_test = cat(rand_test..., dims = 4) |> cpu\n",
    "rand_truth = ground_truth.(valset[random_validation_set_idx])\n",
    "cnn(rand_test)"
   ]
  },
  {
   "cell_type": "markdown",
   "metadata": {},
   "source": [
    "The outputs are energies for the 10 classes. Higher the energy for a class, the more the network thinks that the image is of the particular class. Every column corresponds to the output of one image, with the 10 floats in the column being the energies.\n",
    "\n",
    "We don't actually know just from these softmax energies, which labels correspond to each output. But we can still calculate a comparison:"
   ]
  },
  {
   "cell_type": "code",
   "execution_count": 91,
   "metadata": {},
   "outputs": [
    {
     "name": "stdout",
     "output_type": "stream",
     "text": [
      "[8, 1, 4, 7, 1, 9, 7, 1, 9, 5]\n"
     ]
    }
   ],
   "source": [
    "onecold(cnn(rand_test), 1:10) |> println"
   ]
  },
  {
   "cell_type": "code",
   "execution_count": 95,
   "metadata": {},
   "outputs": [
    {
     "name": "stdout",
     "output_type": "stream",
     "text": [
      "[8, 1, 3, 5, 1, 9, 7, 1, 3, 5]\n"
     ]
    }
   ],
   "source": [
    "map(x -> x.class, rand_truth) |> println"
   ]
  },
  {
   "cell_type": "markdown",
   "metadata": {},
   "source": [
    "Our model was right on 7/10 classes.\n",
    "\n",
    "Now let's evaluate the model on the full dataset"
   ]
  },
  {
   "cell_type": "code",
   "execution_count": 98,
   "metadata": {},
   "outputs": [
    {
     "data": {
      "text/plain": "0.506"
     },
     "execution_count": 98,
     "metadata": {},
     "output_type": "execute_result"
    }
   ],
   "source": [
    "accuracy(testXY[1]...)"
   ]
  },
  {
   "cell_type": "code",
   "execution_count": null,
   "metadata": {},
   "outputs": [],
   "source": []
  }
 ],
 "metadata": {
  "kernelspec": {
   "display_name": "Julia 1.5.3",
   "language": "julia",
   "name": "julia-1.5"
  },
  "language_info": {
   "file_extension": ".jl",
   "mimetype": "application/julia",
   "name": "julia",
   "version": "1.5.3"
  },
  "orig_nbformat": 2
 },
 "nbformat": 4,
 "nbformat_minor": 2
}