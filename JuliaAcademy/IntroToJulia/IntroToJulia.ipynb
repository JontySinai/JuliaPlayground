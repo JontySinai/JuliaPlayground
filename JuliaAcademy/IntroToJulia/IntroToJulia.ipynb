{
 "cells": [
  {
   "cell_type": "markdown",
   "metadata": {
    "collapsed": true,
    "jupyter": {
     "outputs_hidden": false,
     "source_hidden": false
    },
    "nteract": {
     "transient": {
      "deleting": false
     }
    }
   },
   "source": [
    "# Julia Academy\n",
    "## Intro to Julia\n",
    "\n",
    "# 1. Getting Started\n",
    "\n",
    "### How to print"
   ]
  },
  {
   "cell_type": "code",
   "execution_count": 1,
   "metadata": {},
   "outputs": [
    {
     "name": "stdout",
     "output_type": "stream",
     "text": [
      "Hello World from Julia in VS Code\n"
     ]
    }
   ],
   "source": [
    "println(\"Hello World from Julia in VS Code\")"
   ]
  },
  {
   "cell_type": "markdown",
   "metadata": {},
   "source": [
    "### Assigning Variables"
   ]
  },
  {
   "cell_type": "code",
   "execution_count": 2,
   "metadata": {},
   "outputs": [
    {
     "data": {
      "text/plain": "Int64"
     },
     "execution_count": 2,
     "metadata": {},
     "output_type": "execute_result"
    }
   ],
   "source": [
    "my_int = 42\n",
    "typeof(my_int)"
   ]
  },
  {
   "cell_type": "code",
   "execution_count": 3,
   "metadata": {},
   "outputs": [
    {
     "data": {
      "text/plain": "Float64"
     },
     "execution_count": 3,
     "metadata": {},
     "output_type": "execute_result"
    }
   ],
   "source": [
    "my_π = 3.14159\n",
    "typeof(my_π)"
   ]
  },
  {
   "cell_type": "markdown",
   "metadata": {},
   "source": [
    "### How to comment"
   ]
  },
  {
   "cell_type": "code",
   "execution_count": 4,
   "metadata": {},
   "outputs": [],
   "source": [
    "# single line comment"
   ]
  },
  {
   "cell_type": "code",
   "execution_count": 5,
   "metadata": {},
   "outputs": [],
   "source": [
    "#=\n",
    "\n",
    "multiline\n",
    "comment\n",
    "\n",
    "=#"
   ]
  },
  {
   "cell_type": "markdown",
   "metadata": {},
   "source": [
    "### Syntax for basic maths"
   ]
  },
  {
   "cell_type": "code",
   "execution_count": 6,
   "metadata": {},
   "outputs": [
    {
     "name": "stdout",
     "output_type": "stream",
     "text": [
      "10\n"
     ]
    }
   ],
   "source": [
    "sum_ = 3 + 7\n",
    "println(sum_)"
   ]
  },
  {
   "cell_type": "code",
   "execution_count": 7,
   "metadata": {},
   "outputs": [
    {
     "name": "stdout",
     "output_type": "stream",
     "text": [
      "7\n"
     ]
    }
   ],
   "source": [
    "difference = 10 - 3\n",
    "println(difference)"
   ]
  },
  {
   "cell_type": "code",
   "execution_count": 8,
   "metadata": {},
   "outputs": [
    {
     "name": "stdout",
     "output_type": "stream",
     "text": [
      "100\n"
     ]
    }
   ],
   "source": [
    "product = 20 * 5\n",
    "println(product)"
   ]
  },
  {
   "cell_type": "code",
   "execution_count": 9,
   "metadata": {},
   "outputs": [
    {
     "name": "stdout",
     "output_type": "stream",
     "text": [
      "10.0\n"
     ]
    }
   ],
   "source": [
    "quotient = 100 / 10\n",
    "println(quotient)"
   ]
  },
  {
   "cell_type": "code",
   "execution_count": 10,
   "metadata": {},
   "outputs": [
    {
     "name": "stdout",
     "output_type": "stream",
     "text": [
      "100\n"
     ]
    }
   ],
   "source": [
    "power = 10 ^ 2\n",
    "println(power)"
   ]
  },
  {
   "cell_type": "code",
   "execution_count": 11,
   "metadata": {},
   "outputs": [
    {
     "name": "stdout",
     "output_type": "stream",
     "text": [
      "1\n"
     ]
    }
   ],
   "source": [
    "modulus = 101 % 2\n",
    "println(modulus)"
   ]
  },
  {
   "cell_type": "markdown",
   "metadata": {},
   "source": [
    "### 1. Exercises\n",
    "\n",
    "#### 1.1 Look up docs for the `convert` function"
   ]
  },
  {
   "cell_type": "code",
   "execution_count": 12,
   "metadata": {},
   "outputs": [
    {
     "name": "stdout",
     "output_type": "stream",
     "text": [
      "search:\u001b[0m\u001b[1mc\u001b[22m\u001b[0m\u001b[1mo\u001b[22m\u001b[0m\u001b[1mn\u001b[22m\u001b[0m\u001b[1mv\u001b[22m\u001b[0m\u001b[1me\u001b[22m\u001b[0m\u001b[1mr\u001b[22m\u001b[0m\u001b[1mt\u001b[22m \u001b[0m\u001b[1mc\u001b[22m\u001b[0m\u001b[1mo\u001b[22mde_\u001b[0m\u001b[1mn\u001b[22mati\u001b[0m\u001b[1mv\u001b[22m\u001b[0m\u001b[1me\u001b[22m @\u001b[0m\u001b[1mc\u001b[22m\u001b[0m\u001b[1mo\u001b[22mde_\u001b[0m\u001b[1mn\u001b[22mati\u001b[0m\u001b[1mv\u001b[22m\u001b[0m\u001b[1me\u001b[22m\n",
      "\n"
     ]
    },
    {
     "data": {
      "text/latex": "\\begin{verbatim}\nconvert(T, x)\n\\end{verbatim}\nConvert \\texttt{x} to a value of type \\texttt{T}.\n\nIf \\texttt{T} is an \\href{@ref}{\\texttt{Integer}} type, an \\href{@ref}{\\texttt{InexactError}} will be raised if \\texttt{x} is not representable by \\texttt{T}, for example if \\texttt{x} is not integer-valued, or is outside the range supported by \\texttt{T}.\n\n\\section{Examples}\n\\begin{verbatim}\njulia> convert(Int, 3.0)\n3\n\njulia> convert(Int, 3.5)\nERROR: InexactError: Int64(3.5)\nStacktrace:\n[...]\n\\end{verbatim}\nIf \\texttt{T} is a \\href{@ref}{\\texttt{AbstractFloat}} or \\href{@ref}{\\texttt{Rational}} type, then it will return the closest value to \\texttt{x} representable by \\texttt{T}.\n\n\\begin{verbatim}\njulia> x = 1/3\n0.3333333333333333\n\njulia> convert(Float32, x)\n0.33333334f0\n\njulia> convert(Rational{Int32}, x)\n1//3\n\njulia> convert(Rational{Int64}, x)\n6004799503160661//18014398509481984\n\\end{verbatim}\nIf \\texttt{T} is a collection type and \\texttt{x} a collection, the result of \\texttt{convert(T, x)} may alias all or part of \\texttt{x}.\n\n\\begin{verbatim}\njulia> x = Int[1, 2, 3];\n\njulia> y = convert(Vector{Int}, x);\n\njulia> y === x\ntrue\n\\end{verbatim}\n",
      "text/markdown": "```\nconvert(T, x)\n```\n\nConvert `x` to a value of type `T`.\n\nIf `T` is an [`Integer`](@ref) type, an [`InexactError`](@ref) will be raised if `x` is not representable by `T`, for example if `x` is not integer-valued, or is outside the range supported by `T`.\n\n# Examples\n\n```jldoctest\njulia> convert(Int, 3.0)\n3\n\njulia> convert(Int, 3.5)\nERROR: InexactError: Int64(3.5)\nStacktrace:\n[...]\n```\n\nIf `T` is a [`AbstractFloat`](@ref) or [`Rational`](@ref) type, then it will return the closest value to `x` representable by `T`.\n\n```jldoctest\njulia> x = 1/3\n0.3333333333333333\n\njulia> convert(Float32, x)\n0.33333334f0\n\njulia> convert(Rational{Int32}, x)\n1//3\n\njulia> convert(Rational{Int64}, x)\n6004799503160661//18014398509481984\n```\n\nIf `T` is a collection type and `x` a collection, the result of `convert(T, x)` may alias all or part of `x`.\n\n```jldoctest\njulia> x = Int[1, 2, 3];\n\njulia> y = convert(Vector{Int}, x);\n\njulia> y === x\ntrue\n```\n",
      "text/plain": "\u001b[36m  convert(T, x)\u001b[39m\n\n  Convert \u001b[36mx\u001b[39m to a value of type \u001b[36mT\u001b[39m.\n\n  If \u001b[36mT\u001b[39m is an \u001b[36mInteger\u001b[39m type, an \u001b[36mInexactError\u001b[39m will be raised if \u001b[36mx\u001b[39m is not\n  representable by \u001b[36mT\u001b[39m, for example if \u001b[36mx\u001b[39m is not integer-valued, or is outside\n  the range supported by \u001b[36mT\u001b[39m.\n\n\u001b[1m  Examples\u001b[22m\n\u001b[1m  ≡≡≡≡≡≡≡≡≡≡\u001b[22m\n\n\u001b[36m  julia> convert(Int, 3.0)\u001b[39m\n\u001b[36m  3\u001b[39m\n\u001b[36m  \u001b[39m\n\u001b[36m  julia> convert(Int, 3.5)\u001b[39m\n\u001b[36m  ERROR: InexactError: Int64(3.5)\u001b[39m\n\u001b[36m  Stacktrace:\u001b[39m\n\u001b[36m  [...]\u001b[39m\n\n  If \u001b[36mT\u001b[39m is a \u001b[36mAbstractFloat\u001b[39m or \u001b[36mRational\u001b[39m type, then it will return the closest\n  value to \u001b[36mx\u001b[39m representable by \u001b[36mT\u001b[39m.\n\n\u001b[36m  julia> x = 1/3\u001b[39m\n\u001b[36m  0.3333333333333333\u001b[39m\n\u001b[36m  \u001b[39m\n\u001b[36m  julia> convert(Float32, x)\u001b[39m\n\u001b[36m  0.33333334f0\u001b[39m\n\u001b[36m  \u001b[39m\n\u001b[36m  julia> convert(Rational{Int32}, x)\u001b[39m\n\u001b[36m  1//3\u001b[39m\n\u001b[36m  \u001b[39m\n\u001b[36m  julia> convert(Rational{Int64}, x)\u001b[39m\n\u001b[36m  6004799503160661//18014398509481984\u001b[39m\n\n  If \u001b[36mT\u001b[39m is a collection type and \u001b[36mx\u001b[39m a collection, the result of \u001b[36mconvert(T, x)\u001b[39m\n  may alias all or part of \u001b[36mx\u001b[39m.\n\n\u001b[36m  julia> x = Int[1, 2, 3];\u001b[39m\n\u001b[36m  \u001b[39m\n\u001b[36m  julia> y = convert(Vector{Int}, x);\u001b[39m\n\u001b[36m  \u001b[39m\n\u001b[36m  julia> y === x\u001b[39m\n\u001b[36m  true\u001b[39m"
     },
     "execution_count": 12,
     "metadata": {},
     "output_type": "execute_result"
    }
   ],
   "source": [
    "? convert"
   ]
  },
  {
   "cell_type": "markdown",
   "metadata": {},
   "source": [
    "#### 1.2\n",
    "\n",
    "Assign 365 to a variable named `days`. Convert `days` to a float and assign it to a variable `days_float`"
   ]
  },
  {
   "cell_type": "code",
   "execution_count": 13,
   "metadata": {},
   "outputs": [
    {
     "name": "stdout",
     "output_type": "stream",
     "text": [
      "Int64\n",
      "Float64\n"
     ]
    }
   ],
   "source": [
    "days = 365\n",
    "println(typeof(days))\n",
    "\n",
    "days_float = convert(Float64, days)\n",
    "println(typeof(days_float))"
   ]
  },
  {
   "cell_type": "markdown",
   "metadata": {},
   "source": [
    "#### 1.3\n",
    "\n",
    "See what happens when you execute\n",
    "\n",
    "`convert(Int64, \"1\")`\n",
    "\n",
    "and\n",
    "\n",
    "`parse(Int64, \"1\")`"
   ]
  },
  {
   "cell_type": "code",
   "execution_count": 14,
   "metadata": {},
   "outputs": [
    {
     "ename": "LoadError",
     "evalue": "MethodError: Cannot `convert` an object of type String to an object of type Int64\nClosest candidates are:\n  convert(::Type{T}, !Matched::T) where T<:Number at number.jl:6\n  convert(::Type{T}, !Matched::Number) where T<:Number at number.jl:7\n  convert(::Type{T}, !Matched::Ptr) where T<:Integer at pointer.jl:23\n  ...",
     "output_type": "error",
     "traceback": [
      "MethodError: Cannot `convert` an object of type String to an object of type Int64\nClosest candidates are:\n  convert(::Type{T}, !Matched::T) where T<:Number at number.jl:6\n  convert(::Type{T}, !Matched::Number) where T<:Number at number.jl:7\n  convert(::Type{T}, !Matched::Ptr) where T<:Integer at pointer.jl:23\n  ...",
      "",
      "Stacktrace:",
      " [1] top-level scope at In[14]:1",
      " [2] include_string(::Function, ::Module, ::String, ::String) at ./loading.jl:1091",
      " [3] execute_code(::String, ::String) at /Users/jontysinai/.julia/packages/IJulia/rWZ9e/src/execute_request.jl:27",
      " [4] execute_request(::ZMQ.Socket, ::IJulia.Msg) at /Users/jontysinai/.julia/packages/IJulia/rWZ9e/src/execute_request.jl:86",
      " [5] #invokelatest#1 at ./essentials.jl:710 [inlined]",
      " [6] invokelatest at ./essentials.jl:709 [inlined]",
      " [7] eventloop(::ZMQ.Socket) at /Users/jontysinai/.julia/packages/IJulia/rWZ9e/src/eventloop.jl:8",
      " [8] (::IJulia.var\"#15#18\")() at ./task.jl:356"
     ]
    }
   ],
   "source": [
    "convert(Int64, \"1\")"
   ]
  },
  {
   "cell_type": "code",
   "execution_count": 1,
   "metadata": {},
   "outputs": [
    {
     "data": {
      "text/plain": "1"
     },
     "execution_count": 1,
     "metadata": {},
     "output_type": "execute_result"
    }
   ],
   "source": [
    "parse(Int64, \"1\")"
   ]
  },
  {
   "cell_type": "code",
   "execution_count": 2,
   "metadata": {},
   "outputs": [
    {
     "data": {
      "text/plain": "Int64"
     },
     "execution_count": 2,
     "metadata": {},
     "output_type": "execute_result"
    }
   ],
   "source": [
    "one = parse(Int64, \"1\")\n",
    "typeof(one)"
   ]
  },
  {
   "cell_type": "markdown",
   "metadata": {},
   "source": [
    "# 2. Strings\n",
    "\n",
    "Use either `\" \"` or `\"\"\" \"\"\"`. Do not use `' '`."
   ]
  },
  {
   "cell_type": "code",
   "execution_count": 3,
   "metadata": {},
   "outputs": [
    {
     "data": {
      "text/plain": "String"
     },
     "execution_count": 3,
     "metadata": {},
     "output_type": "execute_result"
    }
   ],
   "source": [
    "s1 = \"I am a string\"\n",
    "typeof(s1)"
   ]
  },
  {
   "cell_type": "code",
   "execution_count": 4,
   "metadata": {},
   "outputs": [
    {
     "data": {
      "text/plain": "String"
     },
     "execution_count": 4,
     "metadata": {},
     "output_type": "execute_result"
    }
   ],
   "source": [
    "s2 = \"\"\"I am also a string\"\"\"\n",
    "typeof(s2)"
   ]
  },
  {
   "cell_type": "code",
   "execution_count": 5,
   "metadata": {},
   "outputs": [
    {
     "data": {
      "text/plain": "\"I am a \\\"string\\\" within a string\""
     },
     "execution_count": 5,
     "metadata": {},
     "output_type": "execute_result"
    }
   ],
   "source": [
    "s3 = \"\"\"I am a \"string\" within a string\"\"\""
   ]
  },
  {
   "cell_type": "markdown",
   "metadata": {},
   "source": [
    "### Chars"
   ]
  },
  {
   "cell_type": "code",
   "execution_count": 6,
   "metadata": {},
   "outputs": [
    {
     "name": "stdout",
     "output_type": "stream",
     "text": [
      "a\n"
     ]
    },
    {
     "data": {
      "text/plain": "Char"
     },
     "execution_count": 6,
     "metadata": {},
     "output_type": "execute_result"
    }
   ],
   "source": [
    "a = 'a'\n",
    "println(a)\n",
    "typeof(a)"
   ]
  },
  {
   "cell_type": "code",
   "execution_count": 7,
   "metadata": {},
   "outputs": [
    {
     "ename": "LoadError",
     "evalue": "syntax: character literal contains multiple characters",
     "output_type": "error",
     "traceback": [
      "syntax: character literal contains multiple characters",
      "",
      "Stacktrace:",
      " [1] top-level scope at In[7]:1",
      " [2] include_string(::Function, ::Module, ::String, ::String) at ./loading.jl:1091",
      " [3] execute_code(::String, ::String) at /Users/jontysinai/.julia/packages/IJulia/rWZ9e/src/execute_request.jl:27",
      " [4] execute_request(::ZMQ.Socket, ::IJulia.Msg) at /Users/jontysinai/.julia/packages/IJulia/rWZ9e/src/execute_request.jl:86",
      " [5] #invokelatest#1 at ./essentials.jl:710 [inlined]",
      " [6] invokelatest at ./essentials.jl:709 [inlined]",
      " [7] eventloop(::ZMQ.Socket) at /Users/jontysinai/.julia/packages/IJulia/rWZ9e/src/eventloop.jl:8",
      " [8] (::IJulia.var\"#15#18\")() at ./task.jl:356"
     ]
    }
   ],
   "source": [
    "'this is not a string'"
   ]
  },
  {
   "cell_type": "markdown",
   "metadata": {},
   "source": []
  },
  {
   "cell_type": "markdown",
   "metadata": {},
   "source": [
    "### String Interpolation\n",
    "\n",
    "We can use the `$` to insert and evaluate variables into a string"
   ]
  },
  {
   "cell_type": "code",
   "execution_count": 8,
   "metadata": {},
   "outputs": [
    {
     "name": "stdout",
     "output_type": "stream",
     "text": [
      "Hello world, my name is Jonty.\n",
      "20 digits in all!\n"
     ]
    }
   ],
   "source": [
    "name = \"Jonty\"\n",
    "num_fingers = 10\n",
    "num_toes = 10\n",
    "\n",
    "println(\"Hello world, my name is $name.\")\n",
    "println(\"$(num_fingers+num_toes) digits in all!\")"
   ]
  },
  {
   "cell_type": "markdown",
   "metadata": {},
   "source": [
    "### String Concatenation\n",
    "\n",
    "There are three ways to concat strings"
   ]
  },
  {
   "cell_type": "code",
   "execution_count": 9,
   "metadata": {},
   "outputs": [],
   "source": [
    "s1 = \"The temperature is \"\n",
    "s2 = \"16C\"\n",
    "tmp = 16;"
   ]
  },
  {
   "cell_type": "code",
   "execution_count": 10,
   "metadata": {},
   "outputs": [
    {
     "data": {
      "text/plain": "\"The temperature is 16C\""
     },
     "execution_count": 10,
     "metadata": {},
     "output_type": "execute_result"
    }
   ],
   "source": [
    "string(s1,s2)"
   ]
  },
  {
   "cell_type": "code",
   "execution_count": 11,
   "metadata": {},
   "outputs": [
    {
     "data": {
      "text/plain": "\"The temperature is 16C\""
     },
     "execution_count": 11,
     "metadata": {},
     "output_type": "execute_result"
    }
   ],
   "source": [
    "string(s1,tmp,\"C\")"
   ]
  },
  {
   "cell_type": "code",
   "execution_count": 12,
   "metadata": {},
   "outputs": [
    {
     "data": {
      "text/plain": "\"The temperature is 16C\""
     },
     "execution_count": 12,
     "metadata": {},
     "output_type": "execute_result"
    }
   ],
   "source": [
    "s1 * s2"
   ]
  },
  {
   "cell_type": "code",
   "execution_count": 13,
   "metadata": {},
   "outputs": [
    {
     "ename": "LoadError",
     "evalue": "MethodError: no method matching +(::String, ::String)\nClosest candidates are:\n  +(::Any, ::Any, !Matched::Any, !Matched::Any...) at operators.jl:538",
     "output_type": "error",
     "traceback": [
      "MethodError: no method matching +(::String, ::String)\nClosest candidates are:\n  +(::Any, ::Any, !Matched::Any, !Matched::Any...) at operators.jl:538",
      "",
      "Stacktrace:",
      " [1] top-level scope at In[13]:1",
      " [2] include_string(::Function, ::Module, ::String, ::String) at ./loading.jl:1091",
      " [3] execute_code(::String, ::String) at /Users/jontysinai/.julia/packages/IJulia/rWZ9e/src/execute_request.jl:27",
      " [4] execute_request(::ZMQ.Socket, ::IJulia.Msg) at /Users/jontysinai/.julia/packages/IJulia/rWZ9e/src/execute_request.jl:86",
      " [5] #invokelatest#1 at ./essentials.jl:710 [inlined]",
      " [6] invokelatest at ./essentials.jl:709 [inlined]",
      " [7] eventloop(::ZMQ.Socket) at /Users/jontysinai/.julia/packages/IJulia/rWZ9e/src/eventloop.jl:8",
      " [8] (::IJulia.var\"#15#18\")() at ./task.jl:356"
     ]
    }
   ],
   "source": [
    "s1 + s2"
   ]
  },
  {
   "cell_type": "markdown",
   "metadata": {},
   "source": [
    "### 2 Exercises\n",
    "\n",
    "#### 2.1 \n",
    "\n",
    "Create a string that says \"hi\" 1000 times, first with repeat and then with the exponentiation operator, which can call * under the hood. Assign it the variable hi below."
   ]
  },
  {
   "cell_type": "code",
   "execution_count": 14,
   "metadata": {},
   "outputs": [
    {
     "name": "stdout",
     "output_type": "stream",
     "text": [
      "search:\u001b[0m\u001b[1mr\u001b[22m\u001b[0m\u001b[1me\u001b[22m\u001b[0m\u001b[1mp\u001b[22m\u001b[0m\u001b[1me\u001b[22m\u001b[0m\u001b[1ma\u001b[22m\u001b[0m\u001b[1mt\u001b[22m\n",
      "\n"
     ]
    },
    {
     "data": {
      "text/latex": "\\begin{verbatim}\nrepeat(A::AbstractArray, counts::Integer...)\n\\end{verbatim}\nConstruct an array by repeating array \\texttt{A} a given number of times in each dimension, specified by \\texttt{counts}.\n\n\\section{Examples}\n\\begin{verbatim}\njulia> repeat([1, 2, 3], 2)\n6-element Array{Int64,1}:\n 1\n 2\n 3\n 1\n 2\n 3\n\njulia> repeat([1, 2, 3], 2, 3)\n6×3 Array{Int64,2}:\n 1  1  1\n 2  2  2\n 3  3  3\n 1  1  1\n 2  2  2\n 3  3  3\n\\end{verbatim}\n\\rule{\\textwidth}{1pt}\n\\begin{verbatim}\nrepeat(A::AbstractArray; inner=ntuple(x->1, ndims(A)), outer=ntuple(x->1, ndims(A)))\n\\end{verbatim}\nConstruct an array by repeating the entries of \\texttt{A}. The i-th element of \\texttt{inner} specifies the number of times that the individual entries of the i-th dimension of \\texttt{A} should be repeated. The i-th element of \\texttt{outer} specifies the number of times that a slice along the i-th dimension of \\texttt{A} should be repeated. If \\texttt{inner} or \\texttt{outer} are omitted, no repetition is performed.\n\n\\section{Examples}\n\\begin{verbatim}\njulia> repeat(1:2, inner=2)\n4-element Array{Int64,1}:\n 1\n 1\n 2\n 2\n\njulia> repeat(1:2, outer=2)\n4-element Array{Int64,1}:\n 1\n 2\n 1\n 2\n\njulia> repeat([1 2; 3 4], inner=(2, 1), outer=(1, 3))\n4×6 Array{Int64,2}:\n 1  2  1  2  1  2\n 1  2  1  2  1  2\n 3  4  3  4  3  4\n 3  4  3  4  3  4\n\\end{verbatim}\n\\rule{\\textwidth}{1pt}\n\\begin{verbatim}\nrepeat(s::AbstractString, r::Integer)\n\\end{verbatim}\nRepeat a string \\texttt{r} times. This can be written as \\texttt{s\\^{}r}.\n\nSee also: \\href{@ref}{\\texttt{\\^{}}}\n\n\\section{Examples}\n\\begin{verbatim}\njulia> repeat(\"ha\", 3)\n\"hahaha\"\n\\end{verbatim}\n\\rule{\\textwidth}{1pt}\n\\begin{verbatim}\nrepeat(c::AbstractChar, r::Integer) -> String\n\\end{verbatim}\nRepeat a character \\texttt{r} times. This can equivalently be accomplished by calling \\href{@ref ^}{\\texttt{c\\^{}r}}.\n\n\\section{Examples}\n\\begin{verbatim}\njulia> repeat('A', 3)\n\"AAA\"\n\\end{verbatim}\n",
      "text/markdown": "```\nrepeat(A::AbstractArray, counts::Integer...)\n```\n\nConstruct an array by repeating array `A` a given number of times in each dimension, specified by `counts`.\n\n# Examples\n\n```jldoctest\njulia> repeat([1, 2, 3], 2)\n6-element Array{Int64,1}:\n 1\n 2\n 3\n 1\n 2\n 3\n\njulia> repeat([1, 2, 3], 2, 3)\n6×3 Array{Int64,2}:\n 1  1  1\n 2  2  2\n 3  3  3\n 1  1  1\n 2  2  2\n 3  3  3\n```\n\n---\n\n```\nrepeat(A::AbstractArray; inner=ntuple(x->1, ndims(A)), outer=ntuple(x->1, ndims(A)))\n```\n\nConstruct an array by repeating the entries of `A`. The i-th element of `inner` specifies the number of times that the individual entries of the i-th dimension of `A` should be repeated. The i-th element of `outer` specifies the number of times that a slice along the i-th dimension of `A` should be repeated. If `inner` or `outer` are omitted, no repetition is performed.\n\n# Examples\n\n```jldoctest\njulia> repeat(1:2, inner=2)\n4-element Array{Int64,1}:\n 1\n 1\n 2\n 2\n\njulia> repeat(1:2, outer=2)\n4-element Array{Int64,1}:\n 1\n 2\n 1\n 2\n\njulia> repeat([1 2; 3 4], inner=(2, 1), outer=(1, 3))\n4×6 Array{Int64,2}:\n 1  2  1  2  1  2\n 1  2  1  2  1  2\n 3  4  3  4  3  4\n 3  4  3  4  3  4\n```\n\n---\n\n```\nrepeat(s::AbstractString, r::Integer)\n```\n\nRepeat a string `r` times. This can be written as `s^r`.\n\nSee also: [`^`](@ref)\n\n# Examples\n\n```jldoctest\njulia> repeat(\"ha\", 3)\n\"hahaha\"\n```\n\n---\n\n```\nrepeat(c::AbstractChar, r::Integer) -> String\n```\n\nRepeat a character `r` times. This can equivalently be accomplished by calling [`c^r`](@ref ^).\n\n# Examples\n\n```jldoctest\njulia> repeat('A', 3)\n\"AAA\"\n```\n",
      "text/plain": "\u001b[36m  repeat(A::AbstractArray, counts::Integer...)\u001b[39m\n\n  Construct an array by repeating array \u001b[36mA\u001b[39m a given number of times in each\n  dimension, specified by \u001b[36mcounts\u001b[39m.\n\n\u001b[1m  Examples\u001b[22m\n\u001b[1m  ≡≡≡≡≡≡≡≡≡≡\u001b[22m\n\n\u001b[36m  julia> repeat([1, 2, 3], 2)\u001b[39m\n\u001b[36m  6-element Array{Int64,1}:\u001b[39m\n\u001b[36m   1\u001b[39m\n\u001b[36m   2\u001b[39m\n\u001b[36m   3\u001b[39m\n\u001b[36m   1\u001b[39m\n\u001b[36m   2\u001b[39m\n\u001b[36m   3\u001b[39m\n\u001b[36m  \u001b[39m\n\u001b[36m  julia> repeat([1, 2, 3], 2, 3)\u001b[39m\n\u001b[36m  6×3 Array{Int64,2}:\u001b[39m\n\u001b[36m   1  1  1\u001b[39m\n\u001b[36m   2  2  2\u001b[39m\n\u001b[36m   3  3  3\u001b[39m\n\u001b[36m   1  1  1\u001b[39m\n\u001b[36m   2  2  2\u001b[39m\n\u001b[36m   3  3  3\u001b[39m\n\n  ────────────────────────────────────────────────────────────────────────────\n\n\u001b[36m  repeat(A::AbstractArray; inner=ntuple(x->1, ndims(A)), outer=ntuple(x->1, ndims(A)))\u001b[39m\n\n  Construct an array by repeating the entries of \u001b[36mA\u001b[39m. The i-th element of \u001b[36minner\u001b[39m\n  specifies the number of times that the individual entries of the i-th\n  dimension of \u001b[36mA\u001b[39m should be repeated. The i-th element of \u001b[36mouter\u001b[39m specifies the\n  number of times that a slice along the i-th dimension of \u001b[36mA\u001b[39m should be\n  repeated. If \u001b[36minner\u001b[39m or \u001b[36mouter\u001b[39m are omitted, no repetition is performed.\n\n\u001b[1m  Examples\u001b[22m\n\u001b[1m  ≡≡≡≡≡≡≡≡≡≡\u001b[22m\n\n\u001b[36m  julia> repeat(1:2, inner=2)\u001b[39m\n\u001b[36m  4-element Array{Int64,1}:\u001b[39m\n\u001b[36m   1\u001b[39m\n\u001b[36m   1\u001b[39m\n\u001b[36m   2\u001b[39m\n\u001b[36m   2\u001b[39m\n\u001b[36m  \u001b[39m\n\u001b[36m  julia> repeat(1:2, outer=2)\u001b[39m\n\u001b[36m  4-element Array{Int64,1}:\u001b[39m\n\u001b[36m   1\u001b[39m\n\u001b[36m   2\u001b[39m\n\u001b[36m   1\u001b[39m\n\u001b[36m   2\u001b[39m\n\u001b[36m  \u001b[39m\n\u001b[36m  julia> repeat([1 2; 3 4], inner=(2, 1), outer=(1, 3))\u001b[39m\n\u001b[36m  4×6 Array{Int64,2}:\u001b[39m\n\u001b[36m   1  2  1  2  1  2\u001b[39m\n\u001b[36m   1  2  1  2  1  2\u001b[39m\n\u001b[36m   3  4  3  4  3  4\u001b[39m\n\u001b[36m   3  4  3  4  3  4\u001b[39m\n\n  ────────────────────────────────────────────────────────────────────────────\n\n\u001b[36m  repeat(s::AbstractString, r::Integer)\u001b[39m\n\n  Repeat a string \u001b[36mr\u001b[39m times. This can be written as \u001b[36ms^r\u001b[39m.\n\n  See also: \u001b[36m^\u001b[39m\n\n\u001b[1m  Examples\u001b[22m\n\u001b[1m  ≡≡≡≡≡≡≡≡≡≡\u001b[22m\n\n\u001b[36m  julia> repeat(\"ha\", 3)\u001b[39m\n\u001b[36m  \"hahaha\"\u001b[39m\n\n  ────────────────────────────────────────────────────────────────────────────\n\n\u001b[36m  repeat(c::AbstractChar, r::Integer) -> String\u001b[39m\n\n  Repeat a character \u001b[36mr\u001b[39m times. This can equivalently be accomplished by calling\n  \u001b[36mc^r\u001b[39m.\n\n\u001b[1m  Examples\u001b[22m\n\u001b[1m  ≡≡≡≡≡≡≡≡≡≡\u001b[22m\n\n\u001b[36m  julia> repeat('A', 3)\u001b[39m\n\u001b[36m  \"AAA\"\u001b[39m"
     },
     "execution_count": 14,
     "metadata": {},
     "output_type": "execute_result"
    }
   ],
   "source": [
    "? repeat"
   ]
  },
  {
   "cell_type": "code",
   "execution_count": 15,
   "metadata": {},
   "outputs": [],
   "source": [
    "hi = repeat(\"hi\", 100)\n",
    "\n",
    "hi_ = \"hi\" ^ 100;"
   ]
  },
  {
   "cell_type": "code",
   "execution_count": 16,
   "metadata": {},
   "outputs": [],
   "source": [
    "@assert hi == hi_"
   ]
  },
  {
   "cell_type": "markdown",
   "metadata": {},
   "source": [
    "#### 2.2\n",
    "\n",
    "Declare two variables\n",
    "\n",
    "`a = 3`\\\n",
    "`b = 4`\n",
    " \n",
    "and use them to create two strings:\n",
    "\n",
    "`\"3 + 4\"`\\\n",
    " `\"7\"`"
   ]
  },
  {
   "cell_type": "code",
   "execution_count": 17,
   "metadata": {},
   "outputs": [
    {
     "data": {
      "text/plain": "4"
     },
     "execution_count": 17,
     "metadata": {},
     "output_type": "execute_result"
    }
   ],
   "source": [
    "a = 3\n",
    "b = 4"
   ]
  },
  {
   "cell_type": "code",
   "execution_count": 18,
   "metadata": {},
   "outputs": [
    {
     "name": "stdout",
     "output_type": "stream",
     "text": [
      "3 + 4\n"
     ]
    }
   ],
   "source": [
    "c = \"$a + $b\"\n",
    "println(c)"
   ]
  },
  {
   "cell_type": "code",
   "execution_count": 19,
   "metadata": {},
   "outputs": [
    {
     "name": "stdout",
     "output_type": "stream",
     "text": [
      "7\n"
     ]
    }
   ],
   "source": [
    "d = \"$(a + b)\"\n",
    "println(d)"
   ]
  },
  {
   "cell_type": "markdown",
   "metadata": {},
   "source": [
    "# 3. Data Structures\n",
    "\n",
    "\n",
    "### Tuples\n",
    "\n",
    "These are immutable (cannot change contents once declared)"
   ]
  },
  {
   "cell_type": "code",
   "execution_count": 20,
   "metadata": {},
   "outputs": [
    {
     "name": "stdout",
     "output_type": "stream",
     "text": [
      "(\"penguins\", \"dogs\", \"otters\")\n"
     ]
    },
    {
     "data": {
      "text/plain": "Tuple{String,String,String}"
     },
     "execution_count": 20,
     "metadata": {},
     "output_type": "execute_result"
    }
   ],
   "source": [
    "my_fav_animals = (\"penguins\", \"dogs\", \"otters\")\n",
    "println(my_fav_animals)\n",
    "typeof(my_fav_animals)"
   ]
  },
  {
   "cell_type": "code",
   "execution_count": 21,
   "metadata": {},
   "outputs": [
    {
     "data": {
      "text/plain": "\"penguins\""
     },
     "execution_count": 21,
     "metadata": {},
     "output_type": "execute_result"
    }
   ],
   "source": [
    "my_fav_animals[1]"
   ]
  },
  {
   "cell_type": "code",
   "execution_count": 22,
   "metadata": {},
   "outputs": [
    {
     "ename": "LoadError",
     "evalue": "MethodError: no method matching setindex!(::Tuple{String,String,String}, ::String, ::Int64)",
     "output_type": "error",
     "traceback": [
      "MethodError: no method matching setindex!(::Tuple{String,String,String}, ::String, ::Int64)",
      "",
      "Stacktrace:",
      " [1] top-level scope at In[22]:1",
      " [2] include_string(::Function, ::Module, ::String, ::String) at ./loading.jl:1091",
      " [3] execute_code(::String, ::String) at /Users/jontysinai/.julia/packages/IJulia/rWZ9e/src/execute_request.jl:27",
      " [4] execute_request(::ZMQ.Socket, ::IJulia.Msg) at /Users/jontysinai/.julia/packages/IJulia/rWZ9e/src/execute_request.jl:86",
      " [5] #invokelatest#1 at ./essentials.jl:710 [inlined]",
      " [6] invokelatest at ./essentials.jl:709 [inlined]",
      " [7] eventloop(::ZMQ.Socket) at /Users/jontysinai/.julia/packages/IJulia/rWZ9e/src/eventloop.jl:8",
      " [8] (::IJulia.var\"#15#18\")() at ./task.jl:356"
     ]
    }
   ],
   "source": [
    "my_fav_animals[1] = \"lion\""
   ]
  },
  {
   "cell_type": "markdown",
   "metadata": {},
   "source": [
    "### Named Tuples"
   ]
  },
  {
   "cell_type": "code",
   "execution_count": 23,
   "metadata": {},
   "outputs": [
    {
     "name": "stdout",
     "output_type": "stream",
     "text": [
      "(color = \"green\", animal = \"dog\", food = \"pasta\")\n"
     ]
    },
    {
     "data": {
      "text/plain": "NamedTuple{(:color, :animal, :food),Tuple{String,String,String}}"
     },
     "execution_count": 23,
     "metadata": {},
     "output_type": "execute_result"
    }
   ],
   "source": [
    "my_favs = (color=\"green\", animal=\"dog\", food=\"pasta\")\n",
    "println(my_favs)\n",
    "typeof(my_favs)"
   ]
  },
  {
   "cell_type": "code",
   "execution_count": 24,
   "metadata": {},
   "outputs": [
    {
     "data": {
      "text/plain": "\"pasta\""
     },
     "execution_count": 24,
     "metadata": {},
     "output_type": "execute_result"
    }
   ],
   "source": [
    "my_favs.food"
   ]
  },
  {
   "cell_type": "markdown",
   "metadata": {},
   "source": [
    "### Dictionaries"
   ]
  },
  {
   "cell_type": "code",
   "execution_count": 25,
   "metadata": {},
   "outputs": [
    {
     "name": "stdout",
     "output_type": "stream",
     "text": [
      "Dict(\"Jenny\" => \"867-5309\",\"Ghostbusters\" => \"555-2368\")\n"
     ]
    },
    {
     "data": {
      "text/plain": "Dict{String,String}"
     },
     "execution_count": 25,
     "metadata": {},
     "output_type": "execute_result"
    }
   ],
   "source": [
    "myphonebook = Dict(\"Jenny\" => \"867-5309\", \"Ghostbusters\" => \"555-2368\")\n",
    "println(myphonebook)\n",
    "typeof(myphonebook)"
   ]
  },
  {
   "cell_type": "code",
   "execution_count": 26,
   "metadata": {},
   "outputs": [
    {
     "data": {
      "text/plain": "\"867-5309\""
     },
     "execution_count": 26,
     "metadata": {},
     "output_type": "execute_result"
    }
   ],
   "source": [
    "myphonebook[\"Jenny\"]"
   ]
  },
  {
   "cell_type": "code",
   "execution_count": 27,
   "metadata": {},
   "outputs": [
    {
     "name": "stdout",
     "output_type": "stream",
     "text": [
      "Dict(\"Jenny\" => \"867-5309\",\"Rog\" => \"555-1717\",\"Ghostbusters\" => \"555-2368\")\n"
     ]
    }
   ],
   "source": [
    "myphonebook[\"Rog\"] = \"555-1717\"\n",
    "println(myphonebook)"
   ]
  },
  {
   "cell_type": "code",
   "execution_count": 28,
   "metadata": {},
   "outputs": [
    {
     "data": {
      "text/plain": "Dict{String,String} with 3 entries:\n  \"Jenny\"        => \"867-5309\"\n  \"Rog\"          => \"555-1717\"\n  \"Ghostbusters\" => \"555-2368\""
     },
     "execution_count": 28,
     "metadata": {},
     "output_type": "execute_result"
    }
   ],
   "source": [
    "myphonebook"
   ]
  },
  {
   "cell_type": "markdown",
   "metadata": {},
   "source": [
    "We can also delete an entry and simultaneously get the value using `pop!`"
   ]
  },
  {
   "cell_type": "code",
   "execution_count": 29,
   "metadata": {},
   "outputs": [
    {
     "data": {
      "text/plain": "\"555-1717\""
     },
     "execution_count": 29,
     "metadata": {},
     "output_type": "execute_result"
    }
   ],
   "source": [
    "pop!(myphonebook, \"Rog\")"
   ]
  },
  {
   "cell_type": "code",
   "execution_count": 30,
   "metadata": {},
   "outputs": [
    {
     "data": {
      "text/plain": "Dict{String,String} with 2 entries:\n  \"Jenny\"        => \"867-5309\"\n  \"Ghostbusters\" => \"555-2368\""
     },
     "execution_count": 30,
     "metadata": {},
     "output_type": "execute_result"
    }
   ],
   "source": [
    "myphonebook"
   ]
  },
  {
   "cell_type": "code",
   "execution_count": 31,
   "metadata": {},
   "outputs": [
    {
     "name": "stdout",
     "output_type": "stream",
     "text": [
      "search:\u001b[0m\u001b[1mp\u001b[22m\u001b[0m\u001b[1mo\u001b[22m\u001b[0m\u001b[1mp\u001b[22m! \u001b[0m\u001b[1mp\u001b[22m\u001b[0m\u001b[1mo\u001b[22m\u001b[0m\u001b[1mp\u001b[22mat! \u001b[0m\u001b[1mp\u001b[22m\u001b[0m\u001b[1mo\u001b[22m\u001b[0m\u001b[1mp\u001b[22mfirst! \u001b[0m\u001b[1mp\u001b[22m\u001b[0m\u001b[1mo\u001b[22m\u001b[0m\u001b[1mp\u001b[22mdisplay \u001b[0m\u001b[1mp\u001b[22mr\u001b[0m\u001b[1mo\u001b[22m\u001b[0m\u001b[1mp\u001b[22mertynames a\u001b[0m\u001b[1mp\u001b[22mr\u001b[0m\u001b[1mo\u001b[22m\u001b[0m\u001b[1mp\u001b[22mos dee\u001b[0m\u001b[1mp\u001b[22mc\u001b[0m\u001b[1mo\u001b[22m\u001b[0m\u001b[1mp\u001b[22my\n",
      "\n",
      "Couldn't find \u001b[36mpop\u001b[39m\n",
      "Perhaps you meant pop!, prod, pi, pwd, cp, tmp, cmp, copy, exp, map, zip or chop\n"
     ]
    },
    {
     "data": {
      "text/latex": "No documentation found.\n\nBinding \\texttt{pop} does not exist.\n\n",
      "text/markdown": "No documentation found.\n\nBinding `pop` does not exist.\n",
      "text/plain": "  No documentation found.\n\n  Binding \u001b[36mpop\u001b[39m does not exist."
     },
     "execution_count": 31,
     "metadata": {},
     "output_type": "execute_result"
    }
   ],
   "source": [
    "? pop"
   ]
  },
  {
   "cell_type": "markdown",
   "metadata": {},
   "source": [
    "Note that by convention functions which modify their arguments are appended with `!` in their names."
   ]
  },
  {
   "cell_type": "markdown",
   "metadata": {},
   "source": [
    "### Arrays"
   ]
  },
  {
   "cell_type": "code",
   "execution_count": 32,
   "metadata": {},
   "outputs": [
    {
     "name": "stdout",
     "output_type": "stream",
     "text": [
      "[\"Ted\", \"Robyn\", \"Barney\", \"Lily\", \"Marshall\"]\n"
     ]
    },
    {
     "data": {
      "text/plain": "Array{String,1}"
     },
     "execution_count": 32,
     "metadata": {},
     "output_type": "execute_result"
    }
   ],
   "source": [
    "myfriends = [\"Ted\", \"Robyn\", \"Barney\", \"Lily\", \"Marshall\"]\n",
    "println(myfriends)\n",
    "typeof(myfriends)"
   ]
  },
  {
   "cell_type": "code",
   "execution_count": 33,
   "metadata": {},
   "outputs": [
    {
     "name": "stdout",
     "output_type": "stream",
     "text": [
      "[1 4; 2 5; 3 6]\n"
     ]
    },
    {
     "data": {
      "text/plain": "Array{Int64,2}"
     },
     "execution_count": 33,
     "metadata": {},
     "output_type": "execute_result"
    }
   ],
   "source": [
    "twoD_array = [[1, 2, 3] [4, 5, 6]]\n",
    "println(twoD_array)\n",
    "typeof(twoD_array)"
   ]
  },
  {
   "cell_type": "code",
   "execution_count": 34,
   "metadata": {},
   "outputs": [
    {
     "data": {
      "text/plain": "3×2 Array{Int64,2}:\n 1  4\n 2  5\n 3  6"
     },
     "execution_count": 34,
     "metadata": {},
     "output_type": "execute_result"
    }
   ],
   "source": [
    "[[1, 2, 3] [4, 5, 6]]"
   ]
  },
  {
   "cell_type": "code",
   "execution_count": 35,
   "metadata": {},
   "outputs": [
    {
     "data": {
      "text/plain": "2×3 Array{Int64,2}:\n 1  2  3\n 4  5  6"
     },
     "execution_count": 35,
     "metadata": {},
     "output_type": "execute_result"
    }
   ],
   "source": [
    "[[1, 4] [2, 5] [3, 6]]"
   ]
  },
  {
   "cell_type": "code",
   "execution_count": 36,
   "metadata": {},
   "outputs": [
    {
     "name": "stdout",
     "output_type": "stream",
     "text": [
      "[1, 1, 2, 3, 5, 8, 13]\n"
     ]
    },
    {
     "data": {
      "text/plain": "Array{Int64,1}"
     },
     "execution_count": 36,
     "metadata": {},
     "output_type": "execute_result"
    }
   ],
   "source": [
    "fibonacci = [1, 1, 2, 3, 5, 8, 13]\n",
    "println(fibonacci)\n",
    "typeof(fibonacci)"
   ]
  },
  {
   "cell_type": "code",
   "execution_count": 37,
   "metadata": {},
   "outputs": [
    {
     "data": {
      "text/plain": "1"
     },
     "execution_count": 37,
     "metadata": {},
     "output_type": "execute_result"
    }
   ],
   "source": [
    "fibonacci[2]"
   ]
  },
  {
   "cell_type": "markdown",
   "metadata": {},
   "source": [
    "Arrays are mutable"
   ]
  },
  {
   "cell_type": "code",
   "execution_count": 38,
   "metadata": {},
   "outputs": [
    {
     "name": "stdout",
     "output_type": "stream",
     "text": [
      "[\"Ted\", \"Robyn\", \"Ross\", \"Lily\", \"Marshall\"]\n"
     ]
    }
   ],
   "source": [
    "myfriends[3] = \"Ross\"\n",
    "println(myfriends)"
   ]
  },
  {
   "cell_type": "markdown",
   "metadata": {},
   "source": [
    "We can add to an arra using `push`"
   ]
  },
  {
   "cell_type": "code",
   "execution_count": 39,
   "metadata": {},
   "outputs": [
    {
     "name": "stdout",
     "output_type": "stream",
     "text": [
      "[1, 1, 2, 3, 5, 8, 13, 21]"
     ]
    }
   ],
   "source": [
    "push!(fibonacci, 21)\n",
    "print(fibonacci)"
   ]
  },
  {
   "cell_type": "code",
   "execution_count": 40,
   "metadata": {},
   "outputs": [
    {
     "name": "stdout",
     "output_type": "stream",
     "text": [
      "[1, 1, 2, 3, 5, 8, 13]"
     ]
    }
   ],
   "source": [
    "pop!(fibonacci)\n",
    "print(fibonacci)"
   ]
  },
  {
   "cell_type": "markdown",
   "metadata": {},
   "source": [
    "### Copying Arrays\n",
    "\n",
    "Beware, arrays are pointers and assigning a variable to an array will just create a new access point:"
   ]
  },
  {
   "cell_type": "code",
   "execution_count": 41,
   "metadata": {},
   "outputs": [
    {
     "name": "stdout",
     "output_type": "stream",
     "text": [
      "[404, 1, 2, 3, 5, 8, 13]"
     ]
    }
   ],
   "source": [
    "somenumbers = fibonacci\n",
    "somenumbers[1] = 404\n",
    "print(fibonacci)"
   ]
  },
  {
   "cell_type": "markdown",
   "metadata": {},
   "source": [
    "If we want to create a new array we need to use `copy`"
   ]
  },
  {
   "cell_type": "code",
   "execution_count": 42,
   "metadata": {},
   "outputs": [],
   "source": [
    "fibonacci[1] = 1;"
   ]
  },
  {
   "cell_type": "code",
   "execution_count": 43,
   "metadata": {},
   "outputs": [
    {
     "name": "stdout",
     "output_type": "stream",
     "text": [
      "somenumbers: [404, 1, 2, 3, 5, 8, 13]\n",
      "fibonacci: [1, 1, 2, 3, 5, 8, 13]\n"
     ]
    }
   ],
   "source": [
    "somenumbers = copy(fibonacci)\n",
    "somenumbers[1] = 404\n",
    "println(\"somenumbers: $somenumbers\")\n",
    "println(\"fibonacci: $fibonacci\")"
   ]
  },
  {
   "cell_type": "markdown",
   "metadata": {},
   "source": [
    "### Exercises\n",
    "#### 3.1\n",
    "\n",
    "Create an array, `a_ray`, with the following code:\n",
    "\n",
    "`a_ray = [1, 2, 3]`\n",
    "\n",
    "Add the number 4 to the end of this array and then remove it.\n"
   ]
  },
  {
   "cell_type": "code",
   "execution_count": 44,
   "metadata": {},
   "outputs": [
    {
     "name": "stdout",
     "output_type": "stream",
     "text": [
      "[1, 2, 3]\n",
      "[1, 2, 3, 4]\n",
      "[1, 2, 3]\n"
     ]
    }
   ],
   "source": [
    "a_ray = [1, 2, 3]\n",
    "println(a_ray)\n",
    "\n",
    "push!(a_ray, 4)\n",
    "println(a_ray)\n",
    "\n",
    "pop!(a_ray)\n",
    "println(a_ray)"
   ]
  },
  {
   "cell_type": "markdown",
   "metadata": {},
   "source": [
    "#### 3.2\n",
    "\n",
    "Try to add \"Emergency\" as key to myphonebook with the value string(911) with the following code\n",
    "\n",
    "`myphonebook[\"Emergency\"] = 911`\n",
    "\n",
    "Why doesn't this work?"
   ]
  },
  {
   "cell_type": "code",
   "execution_count": 45,
   "metadata": {},
   "outputs": [
    {
     "ename": "LoadError",
     "evalue": "MethodError: Cannot `convert` an object of type Int64 to an object of type String\nClosest candidates are:\n  convert(::Type{T}, !Matched::T) where T<:AbstractString at strings/basic.jl:229\n  convert(::Type{T}, !Matched::AbstractString) where T<:AbstractString at strings/basic.jl:230\n  convert(::Type{T}, !Matched::T) where T at essentials.jl:171",
     "output_type": "error",
     "traceback": [
      "MethodError: Cannot `convert` an object of type Int64 to an object of type String\nClosest candidates are:\n  convert(::Type{T}, !Matched::T) where T<:AbstractString at strings/basic.jl:229\n  convert(::Type{T}, !Matched::AbstractString) where T<:AbstractString at strings/basic.jl:230\n  convert(::Type{T}, !Matched::T) where T at essentials.jl:171",
      "",
      "Stacktrace:",
      " [1] setindex!(::Dict{String,String}, ::Int64, ::String) at ./dict.jl:380",
      " [2] top-level scope at In[45]:1",
      " [3] include_string(::Function, ::Module, ::String, ::String) at ./loading.jl:1091",
      " [4] execute_code(::String, ::String) at /Users/jontysinai/.julia/packages/IJulia/rWZ9e/src/execute_request.jl:27",
      " [5] execute_request(::ZMQ.Socket, ::IJulia.Msg) at /Users/jontysinai/.julia/packages/IJulia/rWZ9e/src/execute_request.jl:86",
      " [6] #invokelatest#1 at ./essentials.jl:710 [inlined]",
      " [7] invokelatest at ./essentials.jl:709 [inlined]",
      " [8] eventloop(::ZMQ.Socket) at /Users/jontysinai/.julia/packages/IJulia/rWZ9e/src/eventloop.jl:8",
      " [9] (::IJulia.var\"#15#18\")() at ./task.jl:356"
     ]
    }
   ],
   "source": [
    "myphonebook[\"Emergency\"] = 911"
   ]
  },
  {
   "cell_type": "markdown",
   "metadata": {},
   "source": [
    "The values in the dictionary must be of the same type:"
   ]
  },
  {
   "cell_type": "code",
   "execution_count": 46,
   "metadata": {},
   "outputs": [
    {
     "name": "stdout",
     "output_type": "stream",
     "text": [
      "Dict(\"Jenny\" => \"867-5309\",\"Emergency\" => \"911\",\"Ghostbusters\" => \"555-2368\")\n"
     ]
    },
    {
     "data": {
      "text/plain": "Dict{String,String}"
     },
     "execution_count": 46,
     "metadata": {},
     "output_type": "execute_result"
    }
   ],
   "source": [
    "myphonebook[\"Emergency\"] = \"911\"\n",
    "\n",
    "println(myphonebook)\n",
    "typeof(myphonebook)"
   ]
  },
  {
   "cell_type": "markdown",
   "metadata": {},
   "source": [
    "#### 3.3\n",
    "\n",
    "Create a new dictionary called flexible_phonebook that has Jenny's number stored as an integer and Ghostbusters' number stored as a string with the following code\n",
    "\n",
    "`flexible_phonebook = Dict(\"Jenny\" => 8675309, \"Ghostbusters\" => \"555-2368\")`"
   ]
  },
  {
   "cell_type": "code",
   "execution_count": 47,
   "metadata": {},
   "outputs": [
    {
     "data": {
      "text/plain": "Dict{String,Any} with 2 entries:\n  \"Jenny\"        => 8675309\n  \"Ghostbusters\" => \"555-2368\""
     },
     "execution_count": 47,
     "metadata": {},
     "output_type": "execute_result"
    }
   ],
   "source": [
    "flexible_phonebook = Dict(\"Jenny\" => 8675309, \"Ghostbusters\" => \"555-2368\")"
   ]
  },
  {
   "cell_type": "code",
   "execution_count": 48,
   "metadata": {},
   "outputs": [
    {
     "data": {
      "text/plain": "Dict{String,Any}"
     },
     "execution_count": 48,
     "metadata": {},
     "output_type": "execute_result"
    }
   ],
   "source": [
    "typeof(flexible_phonebook)"
   ]
  },
  {
   "cell_type": "code",
   "execution_count": 49,
   "metadata": {},
   "outputs": [
    {
     "name": "stdout",
     "output_type": "stream",
     "text": [
      "Dict{String,Any}(\"Jenny\" => 8675309,\"Emergency\" => 911,\"Ghostbusters\" => \"555-2368\")\n"
     ]
    }
   ],
   "source": [
    "flexible_phonebook[\"Emergency\"] = 911\n",
    "println(flexible_phonebook)"
   ]
  },
  {
   "cell_type": "markdown",
   "metadata": {},
   "source": [
    "#### 3.5\n",
    "\n",
    "Why can we add an integer as a value to flexible_phonebook but not myphonebook? How could we have initialized myphonebook so that it would accept integers as values?\n",
    "\n",
    "> We can set the type of the dict as follows:"
   ]
  },
  {
   "cell_type": "code",
   "execution_count": 50,
   "metadata": {},
   "outputs": [
    {
     "name": "stdout",
     "output_type": "stream",
     "text": [
      "Dict{String,Any}(\"Jenny\" => \"867-5309\",\"Ghostbusters\" => \"555-2368\")\n"
     ]
    },
    {
     "data": {
      "text/plain": "Dict{String,Any}"
     },
     "execution_count": 50,
     "metadata": {},
     "output_type": "execute_result"
    }
   ],
   "source": [
    "myphonebook = Dict{String, Any}(\"Jenny\" => \"867-5309\", \"Ghostbusters\" => \"555-2368\")\n",
    "println(myphonebook)\n",
    "typeof(myphonebook)"
   ]
  },
  {
   "cell_type": "code",
   "execution_count": 51,
   "metadata": {},
   "outputs": [
    {
     "name": "stdout",
     "output_type": "stream",
     "text": [
      "Dict{String,Any}(\"Jenny\" => \"867-5309\",\"Emergency\" => 911,\"Ghostbusters\" => \"555-2368\")\n"
     ]
    }
   ],
   "source": [
    "myphonebook[\"Emergency\"] = 911\n",
    "println(myphonebook)"
   ]
  },
  {
   "cell_type": "markdown",
   "metadata": {},
   "source": [
    "# 4. Loops\n",
    "\n",
    "## While Loops\n",
    "\n",
    "```julia\n",
    "while <condition>\n",
    "    <code>\n",
    "end\n",
    "```"
   ]
  },
  {
   "cell_type": "code",
   "execution_count": 52,
   "metadata": {},
   "outputs": [
    {
     "name": "stdout",
     "output_type": "stream",
     "text": [
      "1\n",
      "2\n",
      "3\n",
      "4\n",
      "5\n",
      "6\n",
      "7\n",
      "8\n",
      "9\n",
      "10\n"
     ]
    }
   ],
   "source": [
    "n = 0\n",
    "while n < 10\n",
    "    n+=1\n",
    "    println(n)\n",
    "end"
   ]
  },
  {
   "cell_type": "code",
   "execution_count": 53,
   "metadata": {},
   "outputs": [
    {
     "name": "stdout",
     "output_type": "stream",
     "text": [
      "Hi Ted, it's great to see you!\n",
      "Hi Robyn, it's great to see you!\n",
      "Hi Barney, it's great to see you!\n",
      "Hi Lily, it's great to see you!\n",
      "Hi Marshal, it's great to see you!\n"
     ]
    }
   ],
   "source": [
    "myfriends = [\"Ted\", \"Robyn\", \"Barney\", \"Lily\", \"Marshal\"]\n",
    "\n",
    "i = 1\n",
    "while i <= length(myfriends)\n",
    "    friend = myfriends[i]\n",
    "    println(\"Hi $friend, it's great to see you!\")\n",
    "    i += 1\n",
    "end"
   ]
  },
  {
   "cell_type": "markdown",
   "metadata": {},
   "source": [
    "## for loops\n",
    "\n",
    "```julia\n",
    "for <var> in <iterable>\n",
    "    <code>\n",
    "end\n",
    "```"
   ]
  },
  {
   "cell_type": "code",
   "execution_count": 54,
   "metadata": {},
   "outputs": [
    {
     "name": "stdout",
     "output_type": "stream",
     "text": [
      "1\n",
      "2\n",
      "3\n",
      "4\n",
      "5\n",
      "6\n",
      "7\n",
      "8\n",
      "9\n",
      "10\n"
     ]
    }
   ],
   "source": [
    "for n in 1:10\n",
    "    println(n)\n",
    "end"
   ]
  },
  {
   "cell_type": "markdown",
   "metadata": {},
   "source": [
    "We can also be fancy and use the $\\in$ symbol"
   ]
  },
  {
   "cell_type": "code",
   "execution_count": 55,
   "metadata": {},
   "outputs": [
    {
     "name": "stdout",
     "output_type": "stream",
     "text": [
      "1\n",
      "2\n",
      "3\n",
      "4\n",
      "5\n",
      "6\n",
      "7\n",
      "8\n",
      "9\n",
      "10\n"
     ]
    }
   ],
   "source": [
    "for n ∈ 1:10\n",
    "    println(n)\n",
    "end"
   ]
  },
  {
   "cell_type": "markdown",
   "metadata": {},
   "source": [
    "Let's create a matrix where the value of the entry is the sum of the row and column indices:\n",
    "\n",
    "$$A_ij = i + j$$"
   ]
  },
  {
   "cell_type": "code",
   "execution_count": 56,
   "metadata": {},
   "outputs": [],
   "source": [
    "m, n = 5, 5\n",
    "A = zeros(m, n);\n"
   ]
  },
  {
   "cell_type": "code",
   "execution_count": 57,
   "metadata": {},
   "outputs": [
    {
     "data": {
      "text/plain": "5×5 Array{Float64,2}:\n 2.0  3.0  4.0  5.0   6.0\n 3.0  4.0  5.0  6.0   7.0\n 4.0  5.0  6.0  7.0   8.0\n 5.0  6.0  7.0  8.0   9.0\n 6.0  7.0  8.0  9.0  10.0"
     },
     "execution_count": 57,
     "metadata": {},
     "output_type": "execute_result"
    }
   ],
   "source": [
    "for i in 1:m\n",
    "    for j in 1:n\n",
    "        A[i,j] = i + j\n",
    "    end\n",
    "end\n",
    "A"
   ]
  },
  {
   "cell_type": "markdown",
   "metadata": {},
   "source": [
    "We can make the syntax for nested loops easier:"
   ]
  },
  {
   "cell_type": "code",
   "execution_count": 58,
   "metadata": {},
   "outputs": [
    {
     "data": {
      "text/plain": "5×5 Array{Float64,2}:\n 2.0  3.0  4.0  5.0   6.0\n 3.0  4.0  5.0  6.0   7.0\n 4.0  5.0  6.0  7.0   8.0\n 5.0  6.0  7.0  8.0   9.0\n 6.0  7.0  8.0  9.0  10.0"
     },
     "execution_count": 58,
     "metadata": {},
     "output_type": "execute_result"
    }
   ],
   "source": [
    "B = zeros(m,n)\n",
    "\n",
    "for i in 1:m, j in 1:n\n",
    "    B[i,j] = i + j\n",
    "end\n",
    "B"
   ]
  },
  {
   "cell_type": "markdown",
   "metadata": {},
   "source": [
    "And finally we can use a comprehension"
   ]
  },
  {
   "cell_type": "code",
   "execution_count": 59,
   "metadata": {},
   "outputs": [
    {
     "data": {
      "text/plain": "5×5 Array{Int64,2}:\n 2  3  4  5   6\n 3  4  5  6   7\n 4  5  6  7   8\n 5  6  7  8   9\n 6  7  8  9  10"
     },
     "execution_count": 59,
     "metadata": {},
     "output_type": "execute_result"
    }
   ],
   "source": [
    "C = [i + j for i in 1:m, j in 1:n]\n",
    "C"
   ]
  },
  {
   "cell_type": "markdown",
   "metadata": {},
   "source": [
    "### Exercises\n",
    "\n",
    "#### 4.1\n",
    "\n",
    "Loop over integers between 1 and 10 and create a dictionary such that the key's values are the squares"
   ]
  },
  {
   "cell_type": "code",
   "execution_count": 60,
   "metadata": {},
   "outputs": [
    {
     "data": {
      "text/plain": "Dict{Int64,Int64}()"
     },
     "execution_count": 60,
     "metadata": {},
     "output_type": "execute_result"
    }
   ],
   "source": [
    "squares = Dict{Int64, Int64}()"
   ]
  },
  {
   "cell_type": "code",
   "execution_count": 61,
   "metadata": {},
   "outputs": [
    {
     "data": {
      "text/plain": "Dict{Int64,Int64}"
     },
     "execution_count": 61,
     "metadata": {},
     "output_type": "execute_result"
    }
   ],
   "source": [
    "typeof(squares)"
   ]
  },
  {
   "cell_type": "code",
   "execution_count": 62,
   "metadata": {},
   "outputs": [
    {
     "data": {
      "text/plain": "Dict{Int64,Int64} with 10 entries:\n  7  => 49\n  4  => 16\n  9  => 81\n  10 => 100\n  2  => 4\n  3  => 9\n  5  => 25\n  8  => 64\n  6  => 36\n  1  => 1"
     },
     "execution_count": 62,
     "metadata": {},
     "output_type": "execute_result"
    }
   ],
   "source": [
    "for i in 1:10\n",
    "    squares[i] = i ^ 2\n",
    "end\n",
    "\n",
    "squares\n"
   ]
  },
  {
   "cell_type": "markdown",
   "metadata": {},
   "source": [
    "#### 4.2\n",
    "\n",
    "Use an array comprehension to create an array `squares_arr` that stores the squares for all integers between and 1 and 10"
   ]
  },
  {
   "cell_type": "code",
   "execution_count": 63,
   "metadata": {},
   "outputs": [
    {
     "data": {
      "text/plain": "10-element Array{Int64,1}:\n   1\n   4\n   9\n  16\n  25\n  36\n  49\n  64\n  81\n 100"
     },
     "execution_count": 63,
     "metadata": {},
     "output_type": "execute_result"
    }
   ],
   "source": [
    "squares_arr = [i^2 for i in 1:10]\n",
    "squares_arr"
   ]
  },
  {
   "cell_type": "markdown",
   "metadata": {},
   "source": [
    "# 5. Conditionals\n",
    "\n",
    "```julia\n",
    "if <condition1>\n",
    "    <code1>\n",
    "elseif <condition2>\n",
    "    <code2>\n",
    "else\n",
    "    <code3>\n",
    "end\n",
    "```"
   ]
  },
  {
   "cell_type": "code",
   "execution_count": 64,
   "metadata": {},
   "outputs": [],
   "source": [
    "x = 300\n",
    "y = 90;"
   ]
  },
  {
   "cell_type": "code",
   "execution_count": 65,
   "metadata": {},
   "outputs": [
    {
     "name": "stdout",
     "output_type": "stream",
     "text": [
      "300 is larger than 90\n"
     ]
    }
   ],
   "source": [
    "if x > y\n",
    "    println(\"$x is larger than $y\")\n",
    "elseif x < y\n",
    "    println(\"$x is smaller than $y\")\n",
    "else\n",
    "    println(\"$x and $y are equal!\")\n",
    "end\n"
   ]
  },
  {
   "cell_type": "markdown",
   "metadata": {},
   "source": [
    "### Ternary Expressions\n",
    "\n",
    "```julia\n",
    "if a\n",
    "    b\n",
    "else\n",
    "    c\n",
    "end\n",
    "```\n",
    "\n",
    "can be abbreviated as\n",
    "\n",
    "```julia\n",
    "a ? b : c\n",
    "```"
   ]
  },
  {
   "cell_type": "code",
   "execution_count": 66,
   "metadata": {},
   "outputs": [
    {
     "data": {
      "text/plain": "300"
     },
     "execution_count": 66,
     "metadata": {},
     "output_type": "execute_result"
    }
   ],
   "source": [
    "(x > y) ? x : y"
   ]
  },
  {
   "cell_type": "markdown",
   "metadata": {},
   "source": [
    "### Short Circuit evaluations\n",
    "\n",
    "```julia\n",
    "a && b\n",
    "```\n",
    "\n",
    "`b` executes only if `a` evaluates true"
   ]
  },
  {
   "cell_type": "code",
   "execution_count": 67,
   "metadata": {},
   "outputs": [
    {
     "name": "stdout",
     "output_type": "stream",
     "text": [
      "300 is larger than 90\n"
     ]
    },
    {
     "data": {
      "text/plain": "false"
     },
     "execution_count": 67,
     "metadata": {},
     "output_type": "execute_result"
    }
   ],
   "source": [
    "(x > y) && println(\"$x is larger than $y\")\n",
    "(x < y) && println(\"$x is smaller than $y\")\n"
   ]
  },
  {
   "cell_type": "markdown",
   "metadata": {},
   "source": [
    "### Exercises\n",
    "\n",
    "#### 5.1\n",
    "\n",
    "Write a conditional statementh that prints a number if the number is even and the string `\"odd\"` if the number is odd."
   ]
  },
  {
   "cell_type": "code",
   "execution_count": 68,
   "metadata": {},
   "outputs": [
    {
     "name": "stdout",
     "output_type": "stream",
     "text": [
      "odd\n",
      "2\n",
      "odd\n",
      "4\n",
      "odd\n",
      "6\n",
      "odd\n",
      "8\n",
      "odd\n",
      "10\n"
     ]
    }
   ],
   "source": [
    "for n in 1:10\n",
    "    if n % 2 == 0\n",
    "        println(n)\n",
    "    else\n",
    "        println(\"odd\")\n",
    "    end\n",
    "end"
   ]
  },
  {
   "cell_type": "markdown",
   "metadata": {},
   "source": [
    "#### 5.2\n",
    "\n",
    "Rewrite the code using a ternary operator"
   ]
  },
  {
   "cell_type": "code",
   "execution_count": 69,
   "metadata": {},
   "outputs": [
    {
     "name": "stdout",
     "output_type": "stream",
     "text": [
      "odd\n",
      "2\n",
      "odd\n",
      "4\n",
      "odd\n",
      "6\n",
      "odd\n",
      "8\n",
      "odd\n",
      "10\n"
     ]
    }
   ],
   "source": [
    "for n in 1:10\n",
    "    (n % 2 == 0) ? println(n) : println(\"odd\")\n",
    "end"
   ]
  },
  {
   "cell_type": "markdown",
   "metadata": {},
   "source": [
    "# 6. Functions\n",
    "\n",
    "## 6.1 Declaring Functions\n",
    "\n",
    "Here is a standard syntax\n",
    "\n",
    "```julia\n",
    "function alias(args)\n",
    "    <code>\n",
    "end\n",
    "```"
   ]
  },
  {
   "cell_type": "code",
   "execution_count": 70,
   "metadata": {},
   "outputs": [
    {
     "data": {
      "text/plain": "sayhi (generic function with 1 method)"
     },
     "execution_count": 70,
     "metadata": {},
     "output_type": "execute_result"
    }
   ],
   "source": [
    "function sayhi(name)\n",
    "    println(\"Hi $name, it's great to see you!\")\n",
    "end"
   ]
  },
  {
   "cell_type": "code",
   "execution_count": 71,
   "metadata": {},
   "outputs": [
    {
     "name": "stdout",
     "output_type": "stream",
     "text": [
      "Hi Ted, it's great to see you!\n"
     ]
    }
   ],
   "source": [
    "sayhi(\"Ted\")"
   ]
  },
  {
   "cell_type": "markdown",
   "metadata": {},
   "source": [
    "We can also compres the function definition to a single line of code"
   ]
  },
  {
   "cell_type": "code",
   "execution_count": 72,
   "metadata": {},
   "outputs": [
    {
     "data": {
      "text/plain": "f (generic function with 1 method)"
     },
     "execution_count": 72,
     "metadata": {},
     "output_type": "execute_result"
    }
   ],
   "source": [
    "f(x) = x^2"
   ]
  },
  {
   "cell_type": "code",
   "execution_count": 73,
   "metadata": {},
   "outputs": [
    {
     "data": {
      "text/plain": "1764"
     },
     "execution_count": 73,
     "metadata": {},
     "output_type": "execute_result"
    }
   ],
   "source": [
    "f(42)"
   ]
  },
  {
   "cell_type": "markdown",
   "metadata": {},
   "source": [
    "## 6.2 Anonymous Functions\n",
    "\n",
    "Aka lambda functions\n",
    "\n",
    "```julia\n",
    "alias = args -> <code>\n",
    "```"
   ]
  },
  {
   "cell_type": "code",
   "execution_count": 74,
   "metadata": {},
   "outputs": [
    {
     "data": {
      "text/plain": "#5 (generic function with 1 method)"
     },
     "execution_count": 74,
     "metadata": {},
     "output_type": "execute_result"
    }
   ],
   "source": [
    "f2 = x -> x^2"
   ]
  },
  {
   "cell_type": "code",
   "execution_count": 75,
   "metadata": {},
   "outputs": [
    {
     "data": {
      "text/plain": "1764"
     },
     "execution_count": 75,
     "metadata": {},
     "output_type": "execute_result"
    }
   ],
   "source": [
    "f2(42)"
   ]
  },
  {
   "cell_type": "markdown",
   "metadata": {},
   "source": [
    "## 6.3 Duck-typing in Julia\n",
    "\n",
    "_\"If it quacks like a duck, it is a duck.\"_\n",
    "\n",
    "Julia functions will try to work on whatever argument type makes sense:"
   ]
  },
  {
   "cell_type": "code",
   "execution_count": 76,
   "metadata": {},
   "outputs": [
    {
     "name": "stdout",
     "output_type": "stream",
     "text": [
      "Hi 58136311, it's great to see you!\n"
     ]
    }
   ],
   "source": [
    "sayhi(58136311)"
   ]
  },
  {
   "cell_type": "code",
   "execution_count": 77,
   "metadata": {},
   "outputs": [
    {
     "data": {
      "text/plain": "\"hihi\""
     },
     "execution_count": 77,
     "metadata": {},
     "output_type": "execute_result"
    }
   ],
   "source": [
    "f(\"hi\")"
   ]
  },
  {
   "cell_type": "markdown",
   "metadata": {},
   "source": [
    "## 6.4 Mutating and Non-Mutating Functions\n",
    "\n",
    "By convention, functions followed by `!` alter their contents, whereas functions that lack `!` do not.\n",
    "\n",
    "For example, let's consider `sort` vs `sort!`"
   ]
  },
  {
   "cell_type": "code",
   "execution_count": 78,
   "metadata": {},
   "outputs": [
    {
     "name": "stdout",
     "output_type": "stream",
     "text": [
      "[3, 5, 2] is initialized and unsorted.\n"
     ]
    }
   ],
   "source": [
    "v = [3,5,2]\n",
    "\n",
    "println(\"$v is initialized and unsorted.\")"
   ]
  },
  {
   "cell_type": "code",
   "execution_count": 79,
   "metadata": {},
   "outputs": [
    {
     "data": {
      "text/plain": "3-element Array{Int64,1}:\n 2\n 3\n 5"
     },
     "execution_count": 79,
     "metadata": {},
     "output_type": "execute_result"
    }
   ],
   "source": [
    "sort(v)"
   ]
  },
  {
   "cell_type": "code",
   "execution_count": 80,
   "metadata": {},
   "outputs": [
    {
     "name": "stdout",
     "output_type": "stream",
     "text": [
      "[3, 5, 2] has not been mutated by sort.\n"
     ]
    }
   ],
   "source": [
    "println(\"$v has not been mutated by sort.\")"
   ]
  },
  {
   "cell_type": "code",
   "execution_count": 81,
   "metadata": {},
   "outputs": [
    {
     "data": {
      "text/plain": "3-element Array{Int64,1}:\n 2\n 3\n 5"
     },
     "execution_count": 81,
     "metadata": {},
     "output_type": "execute_result"
    }
   ],
   "source": [
    "sort!(v)"
   ]
  },
  {
   "cell_type": "code",
   "execution_count": 82,
   "metadata": {},
   "outputs": [
    {
     "name": "stdout",
     "output_type": "stream",
     "text": [
      "[2, 3, 5] has been mutated by sort!\n"
     ]
    }
   ],
   "source": [
    "println(\"$v has been mutated by sort!\")"
   ]
  },
  {
   "cell_type": "markdown",
   "metadata": {},
   "source": [
    "## 6.5 Broadcasting\n",
    "\n",
    "By placing a `.` between any function name its argument list, we can apply the function elementwise over an array.\n",
    "\n",
    "Eg earlier we defined the square function `f`"
   ]
  },
  {
   "cell_type": "code",
   "execution_count": 83,
   "metadata": {},
   "outputs": [
    {
     "ename": "LoadError",
     "evalue": "MethodError: no method matching ^(::Array{Int64,1}, ::Int64)\nClosest candidates are:\n  ^(!Matched::Irrational{:ℯ}, ::Integer) at mathconstants.jl:91\n  ^(!Matched::Irrational{:ℯ}, ::Number) at mathconstants.jl:91\n  ^(!Matched::BigInt, ::Integer) at gmp.jl:602\n  ...",
     "output_type": "error",
     "traceback": [
      "MethodError: no method matching ^(::Array{Int64,1}, ::Int64)\nClosest candidates are:\n  ^(!Matched::Irrational{:ℯ}, ::Integer) at mathconstants.jl:91\n  ^(!Matched::Irrational{:ℯ}, ::Number) at mathconstants.jl:91\n  ^(!Matched::BigInt, ::Integer) at gmp.jl:602\n  ...",
      "",
      "Stacktrace:",
      " [1] macro expansion at ./none:0 [inlined]",
      " [2] literal_pow at ./none:0 [inlined]",
      " [3] f(::Array{Int64,1}) at ./In[72]:1",
      " [4] top-level scope at In[83]:1",
      " [5] include_string(::Function, ::Module, ::String, ::String) at ./loading.jl:1091",
      " [6] execute_code(::String, ::String) at /Users/jontysinai/.julia/packages/IJulia/rWZ9e/src/execute_request.jl:27",
      " [7] execute_request(::ZMQ.Socket, ::IJulia.Msg) at /Users/jontysinai/.julia/packages/IJulia/rWZ9e/src/execute_request.jl:86",
      " [8] #invokelatest#1 at ./essentials.jl:710 [inlined]",
      " [9] invokelatest at ./essentials.jl:709 [inlined]",
      " [10] eventloop(::ZMQ.Socket) at /Users/jontysinai/.julia/packages/IJulia/rWZ9e/src/eventloop.jl:8",
      " [11] (::IJulia.var\"#15#18\")() at ./task.jl:356"
     ]
    }
   ],
   "source": [
    "f(v)"
   ]
  },
  {
   "cell_type": "markdown",
   "metadata": {},
   "source": [
    "That doesn't work because the square of a 1-D array is ambiguous. However if we meant to square each element then we can do that."
   ]
  },
  {
   "cell_type": "code",
   "execution_count": 84,
   "metadata": {},
   "outputs": [
    {
     "data": {
      "text/plain": "3-element Array{Int64,1}:\n  4\n  9\n 25"
     },
     "execution_count": 84,
     "metadata": {},
     "output_type": "execute_result"
    }
   ],
   "source": [
    "f.(v)"
   ]
  },
  {
   "cell_type": "markdown",
   "metadata": {},
   "source": [
    "Similarly we can distinguish between the square of a matrix and the square of a matrices' elements."
   ]
  },
  {
   "cell_type": "code",
   "execution_count": 85,
   "metadata": {},
   "outputs": [
    {
     "data": {
      "text/plain": "3×3 Array{Int64,2}:\n 1  2  3\n 4  5  6\n 7  8  9"
     },
     "execution_count": 85,
     "metadata": {},
     "output_type": "execute_result"
    }
   ],
   "source": [
    "A = [i + 3*j for j in 0:2, i in 1:3]\n",
    "A"
   ]
  },
  {
   "cell_type": "code",
   "execution_count": 86,
   "metadata": {},
   "outputs": [
    {
     "data": {
      "text/plain": "3×3 Array{Int64,2}:\n  30   36   42\n  66   81   96\n 102  126  150"
     },
     "execution_count": 86,
     "metadata": {},
     "output_type": "execute_result"
    }
   ],
   "source": [
    "f(A)"
   ]
  },
  {
   "cell_type": "code",
   "execution_count": 87,
   "metadata": {},
   "outputs": [
    {
     "data": {
      "text/plain": "3×3 Array{Int64,2}:\n  1   4   9\n 16  25  36\n 49  64  81"
     },
     "execution_count": 87,
     "metadata": {},
     "output_type": "execute_result"
    }
   ],
   "source": [
    "f.(A)"
   ]
  },
  {
   "cell_type": "markdown",
   "metadata": {},
   "source": [
    "### Exercises\n",
    "\n",
    "#### 6.1\n",
    "\n",
    "Write a function `add_one` that adds 1 to its input."
   ]
  },
  {
   "cell_type": "code",
   "execution_count": 88,
   "metadata": {},
   "outputs": [
    {
     "data": {
      "text/plain": "add_one (generic function with 1 method)"
     },
     "execution_count": 88,
     "metadata": {},
     "output_type": "execute_result"
    }
   ],
   "source": [
    "function add_one(n)\n",
    "    return n+=1\n",
    "end"
   ]
  },
  {
   "cell_type": "code",
   "execution_count": 89,
   "metadata": {},
   "outputs": [
    {
     "data": {
      "text/plain": "2"
     },
     "execution_count": 89,
     "metadata": {},
     "output_type": "execute_result"
    }
   ],
   "source": [
    "add_one(1)"
   ]
  },
  {
   "cell_type": "code",
   "execution_count": 90,
   "metadata": {},
   "outputs": [
    {
     "data": {
      "text/plain": "12"
     },
     "execution_count": 90,
     "metadata": {},
     "output_type": "execute_result"
    }
   ],
   "source": [
    "add_one(11)"
   ]
  },
  {
   "cell_type": "markdown",
   "metadata": {},
   "source": [
    "#### 6.2\n",
    "\n",
    "Use `map` or `broadcast` to increment every element of matrix `A` by 1 and assign it to variable `A1`"
   ]
  },
  {
   "cell_type": "code",
   "execution_count": 91,
   "metadata": {},
   "outputs": [
    {
     "data": {
      "text/plain": "3×3 Array{Int64,2}:\n 2  3   4\n 5  6   7\n 8  9  10"
     },
     "execution_count": 91,
     "metadata": {},
     "output_type": "execute_result"
    }
   ],
   "source": [
    "A1 = add_one.(A)\n",
    "A1"
   ]
  },
  {
   "cell_type": "markdown",
   "metadata": {},
   "source": [
    "# 7. Packages\n",
    "\n",
    "To install a package use\n",
    "\n",
    "```julia\n",
    "Pkg.add(\"<name>\")\n",
    "```\n",
    "\n",
    "And then inside Julia REPL or a julia script use\n",
    "\n",
    "```julia\n",
    "using <name>\n",
    "```\n",
    "\n",
    "> **Note:** You can search for Julia packages using [Julia Observer](https://juliaobserver.com) or [Julia Hub](https://juliahub.com/ui/Home)\n",
    "\n",
    "## Example Package\n",
    "\n",
    "We will use a package called [Example](https://github.com/JuliaLang/Example.jl/blob/master/src/Example.jl) which has just two simple functions."
   ]
  },
  {
   "cell_type": "code",
   "execution_count": 92,
   "metadata": {},
   "outputs": [],
   "source": [
    "using Example"
   ]
  },
  {
   "cell_type": "code",
   "execution_count": 93,
   "metadata": {},
   "outputs": [
    {
     "data": {
      "text/plain": "\"Hello, it's me\""
     },
     "execution_count": 93,
     "metadata": {},
     "output_type": "execute_result"
    }
   ],
   "source": [
    "hello(\"it's me\")"
   ]
  },
  {
   "cell_type": "markdown",
   "metadata": {},
   "source": [
    "## Colors Package"
   ]
  },
  {
   "cell_type": "code",
   "execution_count": 94,
   "metadata": {},
   "outputs": [],
   "source": [
    "using Colors"
   ]
  },
  {
   "cell_type": "code",
   "execution_count": 95,
   "metadata": {},
   "outputs": [
    {
     "data": {
      "image/svg+xml": "<?xml version=\"1.0\" encoding=\"UTF-8\"?>\n<!DOCTYPE svg PUBLIC \"-//W3C//DTD SVG 1.1//EN\"\n \"http://www.w3.org/Graphics/SVG/1.1/DTD/svg11.dtd\">\n<svg xmlns=\"http://www.w3.org/2000/svg\" version=\"1.1\"\n     width=\"180mm\" height=\"25mm\"\n     viewBox=\"0 0 100 1\" preserveAspectRatio=\"none\"\n     shape-rendering=\"crispEdges\" stroke=\"none\">\n<rect width=\"1\" height=\".96\" x=\"0\" y=\"0\" fill=\"#000000\" />\n<rect width=\"1\" height=\".96\" x=\"1\" y=\"0\" fill=\"#FFFF74\" />\n<rect width=\"1\" height=\".96\" x=\"2\" y=\"0\" fill=\"#FF9BFF\" />\n<rect width=\"1\" height=\".96\" x=\"3\" y=\"0\" fill=\"#00D3FF\" />\n<rect width=\"1\" height=\".96\" x=\"4\" y=\"0\" fill=\"#E2630D\" />\n<rect width=\"1\" height=\".96\" x=\"5\" y=\"0\" fill=\"#007E00\" />\n<rect width=\"1\" height=\".96\" x=\"6\" y=\"0\" fill=\"#0050E6\" />\n<rect width=\"1\" height=\".96\" x=\"7\" y=\"0\" fill=\"#AC0047\" />\n<rect width=\"1\" height=\".96\" x=\"8\" y=\"0\" fill=\"#00FFC8\" />\n<rect width=\"1\" height=\".96\" x=\"9\" y=\"0\" fill=\"#006468\" />\n<rect width=\"1\" height=\".96\" x=\"10\" y=\"0\" fill=\"#FFD5C4\" />\n<rect width=\"1\" height=\".96\" x=\"11\" y=\"0\" fill=\"#6C5200\" />\n<rect width=\"1\" height=\".96\" x=\"12\" y=\"0\" fill=\"#7A7581\" />\n<rect width=\"1\" height=\".96\" x=\"13\" y=\"0\" fill=\"#44005C\" />\n<rect width=\"1\" height=\".96\" x=\"14\" y=\"0\" fill=\"#9E9E77\" />\n<rect width=\"1\" height=\".96\" x=\"15\" y=\"0\" fill=\"#FF5C78\" />\n<rect width=\"1\" height=\".96\" x=\"16\" y=\"0\" fill=\"#8197F1\" />\n<rect width=\"1\" height=\".96\" x=\"17\" y=\"0\" fill=\"#003200\" />\n<rect width=\"1\" height=\".96\" x=\"18\" y=\"0\" fill=\"#C721DD\" />\n<rect width=\"1\" height=\".96\" x=\"19\" y=\"0\" fill=\"#FFAD07\" />\n<rect width=\"1\" height=\".96\" x=\"20\" y=\"0\" fill=\"#611C00\" />\n<rect width=\"1\" height=\".96\" x=\"21\" y=\"0\" fill=\"#F3FFFA\" />\n<rect width=\"1\" height=\".96\" x=\"22\" y=\"0\" fill=\"#009E88\" />\n<rect width=\"1\" height=\".96\" x=\"23\" y=\"0\" fill=\"#5EC700\" />\n<rect width=\"1\" height=\".96\" x=\"24\" y=\"0\" fill=\"#002D54\" />\n<rect width=\"1\" height=\".96\" x=\"25\" y=\"0\" fill=\"#553C4A\" />\n<rect width=\"1\" height=\".96\" x=\"26\" y=\"0\" fill=\"#444439\" />\n<rect width=\"1\" height=\".96\" x=\"27\" y=\"0\" fill=\"#008FB6\" />\n<rect width=\"1\" height=\".96\" x=\"28\" y=\"0\" fill=\"#CFD4FD\" />\n<rect width=\"1\" height=\".96\" x=\"29\" y=\"0\" fill=\"#C40000\" />\n<rect width=\"1\" height=\".96\" x=\"30\" y=\"0\" fill=\"#A4675C\" />\n<rect width=\"1\" height=\".96\" x=\"31\" y=\"0\" fill=\"#BB8FA8\" />\n<rect width=\"1\" height=\".96\" x=\"32\" y=\"0\" fill=\"#290001\" />\n<rect width=\"1\" height=\".96\" x=\"33\" y=\"0\" fill=\"#A78600\" />\n<rect width=\"1\" height=\".96\" x=\"34\" y=\"0\" fill=\"#002D30\" />\n<rect width=\"1\" height=\".96\" x=\"35\" y=\"0\" fill=\"#C7DEAA\" />\n<rect width=\"1\" height=\".96\" x=\"36\" y=\"0\" fill=\"#8D9FA3\" />\n<rect width=\"1\" height=\".96\" x=\"37\" y=\"0\" fill=\"#6F5B95\" />\n<rect width=\"1\" height=\".96\" x=\"38\" y=\"0\" fill=\"#A1FFFF\" />\n<rect width=\"1\" height=\".96\" x=\"39\" y=\"0\" fill=\"#B39688\" />\n<rect width=\"1\" height=\".96\" x=\"40\" y=\"0\" fill=\"#4E6D50\" />\n<rect width=\"1\" height=\".96\" x=\"41\" y=\"0\" fill=\"#FF977B\" />\n<rect width=\"1\" height=\".96\" x=\"42\" y=\"0\" fill=\"#FFD1EC\" />\n<rect width=\"1\" height=\".96\" x=\"43\" y=\"0\" fill=\"#9E5100\" />\n<rect width=\"1\" height=\".96\" x=\"44\" y=\"0\" fill=\"#AE5B8E\" />\n<rect width=\"1\" height=\".96\" x=\"45\" y=\"0\" fill=\"#799400\" />\n<rect width=\"1\" height=\".96\" x=\"46\" y=\"0\" fill=\"#362200\" />\n<rect width=\"1\" height=\".96\" x=\"47\" y=\"0\" fill=\"#0E0026\" />\n<rect width=\"1\" height=\".96\" x=\"48\" y=\"0\" fill=\"#80765F\" />\n<rect width=\"1\" height=\".96\" x=\"49\" y=\"0\" fill=\"#485C00\" />\n<rect width=\"1\" height=\".96\" x=\"50\" y=\"0\" fill=\"#C8C2B5\" />\n<rect width=\"1\" height=\".96\" x=\"51\" y=\"0\" fill=\"#8800A1\" />\n<rect width=\"1\" height=\".96\" x=\"52\" y=\"0\" fill=\"#00A853\" />\n<rect width=\"1\" height=\".96\" x=\"53\" y=\"0\" fill=\"#FFE1AA\" />\n<rect width=\"1\" height=\".96\" x=\"54\" y=\"0\" fill=\"#674F42\" />\n<rect width=\"1\" height=\".96\" x=\"55\" y=\"0\" fill=\"#FF342D\" />\n<rect width=\"1\" height=\".96\" x=\"56\" y=\"0\" fill=\"#6B0041\" />\n<rect width=\"1\" height=\".96\" x=\"57\" y=\"0\" fill=\"#0806B1\" />\n<rect width=\"1\" height=\".96\" x=\"58\" y=\"0\" fill=\"#986DFF\" />\n<rect width=\"1\" height=\".96\" x=\"59\" y=\"0\" fill=\"#FF4EC7\" />\n<rect width=\"1\" height=\".96\" x=\"60\" y=\"0\" fill=\"#8AB9A2\" />\n<rect width=\"1\" height=\".96\" x=\"61\" y=\"0\" fill=\"#2EFF71\" />\n<rect width=\"1\" height=\".96\" x=\"62\" y=\"0\" fill=\"#005577\" />\n<rect width=\"1\" height=\".96\" x=\"63\" y=\"0\" fill=\"#0078E3\" />\n<rect width=\"1\" height=\".96\" x=\"64\" y=\"0\" fill=\"#B2ADB9\" />\n<rect width=\"1\" height=\".96\" x=\"65\" y=\"0\" fill=\"#00C3C6\" />\n<rect width=\"1\" height=\".96\" x=\"66\" y=\"0\" fill=\"#00AEFF\" />\n<rect width=\"1\" height=\".96\" x=\"67\" y=\"0\" fill=\"#4E545F\" />\n<rect width=\"1\" height=\".96\" x=\"68\" y=\"0\" fill=\"#FF9BB0\" />\n<rect width=\"1\" height=\".96\" x=\"69\" y=\"0\" fill=\"#FED206\" />\n<rect width=\"1\" height=\".96\" x=\"70\" y=\"0\" fill=\"#687B7A\" />\n<rect width=\"1\" height=\".96\" x=\"71\" y=\"0\" fill=\"#B1DCFC\" />\n<rect width=\"1\" height=\".96\" x=\"72\" y=\"0\" fill=\"#FFF6FF\" />\n<rect width=\"1\" height=\".96\" x=\"73\" y=\"0\" fill=\"#620019\" />\n<rect width=\"1\" height=\".96\" x=\"74\" y=\"0\" fill=\"#C79253\" />\n<rect width=\"1\" height=\".96\" x=\"75\" y=\"0\" fill=\"#A891CF\" />\n<rect width=\"1\" height=\".96\" x=\"76\" y=\"0\" fill=\"#EF007A\" />\n<rect width=\"1\" height=\".96\" x=\"77\" y=\"0\" fill=\"#B8CE00\" />\n<rect width=\"1\" height=\".96\" x=\"78\" y=\"0\" fill=\"#001700\" />\n<rect width=\"1\" height=\".96\" x=\"79\" y=\"0\" fill=\"#204B39\" />\n<rect width=\"1\" height=\".96\" x=\"80\" y=\"0\" fill=\"#875866\" />\n<rect width=\"1\" height=\".96\" x=\"81\" y=\"0\" fill=\"#B5FF4E\" />\n<rect width=\"1\" height=\".96\" x=\"82\" y=\"0\" fill=\"#B40080\" />\n<rect width=\"1\" height=\".96\" x=\"83\" y=\"0\" fill=\"#853F34\" />\n<rect width=\"1\" height=\".96\" x=\"84\" y=\"0\" fill=\"#69936B\" />\n<rect width=\"1\" height=\".96\" x=\"85\" y=\"0\" fill=\"#FFBC80\" />\n<rect width=\"1\" height=\".96\" x=\"86\" y=\"0\" fill=\"#4C3779\" />\n<rect width=\"1\" height=\".96\" x=\"87\" y=\"0\" fill=\"#323606\" />\n<rect width=\"1\" height=\".96\" x=\"88\" y=\"0\" fill=\"#008E94\" />\n<rect width=\"1\" height=\".96\" x=\"89\" y=\"0\" fill=\"#CAAC51\" />\n<rect width=\"1\" height=\".96\" x=\"90\" y=\"0\" fill=\"#787B3B\" />\n<rect width=\"1\" height=\".96\" x=\"91\" y=\"0\" fill=\"#B6F9D9\" />\n<rect width=\"1\" height=\".96\" x=\"92\" y=\"0\" fill=\"#DA003F\" />\n<rect width=\"1\" height=\".96\" x=\"93\" y=\"0\" fill=\"#2E2124\" />\n<rect width=\"1\" height=\".96\" x=\"94\" y=\"0\" fill=\"#005815\" />\n<rect width=\"1\" height=\".96\" x=\"95\" y=\"0\" fill=\"#FF8E1D\" />\n<rect width=\"1\" height=\".96\" x=\"96\" y=\"0\" fill=\"#6674B1\" />\n<rect width=\"1\" height=\".96\" x=\"97\" y=\"0\" fill=\"#00CDAD\" />\n<rect width=\"1\" height=\".96\" x=\"98\" y=\"0\" fill=\"#007F63\" />\n<rect width=\"1\" height=\".96\" x=\"99\" y=\"0\" fill=\"#996F3D\" />\n</svg>",
      "text/plain": "100-element Array{RGB{N0f8},1} with eltype RGB{FixedPointNumbers.Normed{UInt8,8}}:\n RGB{N0f8}(0.0,0.0,0.0)\n RGB{N0f8}(1.0,1.0,0.455)\n RGB{N0f8}(1.0,0.608,1.0)\n RGB{N0f8}(0.0,0.827,1.0)\n RGB{N0f8}(0.886,0.388,0.051)\n RGB{N0f8}(0.0,0.494,0.0)\n RGB{N0f8}(0.0,0.314,0.902)\n RGB{N0f8}(0.675,0.0,0.278)\n RGB{N0f8}(0.0,1.0,0.784)\n RGB{N0f8}(0.0,0.392,0.408)\n RGB{N0f8}(1.0,0.835,0.769)\n RGB{N0f8}(0.424,0.322,0.0)\n RGB{N0f8}(0.478,0.459,0.506)\n ⋮\n RGB{N0f8}(0.0,0.557,0.58)\n RGB{N0f8}(0.792,0.675,0.318)\n RGB{N0f8}(0.471,0.482,0.231)\n RGB{N0f8}(0.714,0.976,0.851)\n RGB{N0f8}(0.855,0.0,0.247)\n RGB{N0f8}(0.18,0.129,0.141)\n RGB{N0f8}(0.0,0.345,0.082)\n RGB{N0f8}(1.0,0.557,0.114)\n RGB{N0f8}(0.4,0.455,0.694)\n RGB{N0f8}(0.0,0.804,0.678)\n RGB{N0f8}(0.0,0.498,0.388)\n RGB{N0f8}(0.6,0.435,0.239)"
     },
     "execution_count": 95,
     "metadata": {},
     "output_type": "execute_result"
    }
   ],
   "source": [
    "palette = distinguishable_colors(100)"
   ]
  },
  {
   "cell_type": "code",
   "execution_count": 96,
   "metadata": {},
   "outputs": [
    {
     "data": {
      "image/svg+xml": "<?xml version=\"1.0\" encoding=\"UTF-8\"?>\n<!DOCTYPE svg PUBLIC \"-//W3C//DTD SVG 1.1//EN\"\n \"http://www.w3.org/Graphics/SVG/1.1/DTD/svg11.dtd\">\n<svg xmlns=\"http://www.w3.org/2000/svg\" version=\"1.1\"\n     width=\"75mm\" height=\"50mm\"\n     viewBox=\"0 0 3 2\" preserveAspectRatio=\"none\"\n     shape-rendering=\"crispEdges\" stroke=\"none\">\n<rect width=\".96\" height=\".96\" x=\"0\" y=\"0\" fill=\"#485C00\" />\n<rect width=\".96\" height=\".96\" x=\"1\" y=\"0\" fill=\"#C40000\" />\n<rect width=\".96\" height=\".96\" x=\"2\" y=\"0\" fill=\"#2E2124\" />\n<rect width=\".96\" height=\".96\" x=\"0\" y=\"1\" fill=\"#FFE1AA\" />\n<rect width=\".96\" height=\".96\" x=\"1\" y=\"1\" fill=\"#B6F9D9\" />\n<rect width=\".96\" height=\".96\" x=\"2\" y=\"1\" fill=\"#BB8FA8\" />\n</svg>",
      "text/plain": "2×3 Array{RGB{N0f8},2} with eltype RGB{FixedPointNumbers.Normed{UInt8,8}}:\n RGB{N0f8}(0.282,0.361,0.0)  …  RGB{N0f8}(0.18,0.129,0.141)\n RGB{N0f8}(1.0,0.882,0.667)     RGB{N0f8}(0.733,0.561,0.659)"
     },
     "execution_count": 96,
     "metadata": {},
     "output_type": "execute_result"
    }
   ],
   "source": [
    "rand(palette, 2, 3)"
   ]
  },
  {
   "cell_type": "markdown",
   "metadata": {},
   "source": [
    "That is fun!"
   ]
  },
  {
   "cell_type": "markdown",
   "metadata": {},
   "source": [
    "# 8. Plots\n",
    "\n",
    "The default plotting library in Julia is called `Plots.jl`. There is also another called `Gadfly.jl`\n",
    "\n",
    "Beware, precompiling Plots can take time. "
   ]
  },
  {
   "cell_type": "code",
   "execution_count": 97,
   "metadata": {},
   "outputs": [],
   "source": [
    "using Plots"
   ]
  },
  {
   "cell_type": "code",
   "execution_count": 98,
   "metadata": {},
   "outputs": [],
   "source": [
    "x = -3:0.1:3\n",
    "y = sin.(x);"
   ]
  },
  {
   "cell_type": "markdown",
   "metadata": {},
   "source": [
    "`Plots` supports different backends. In this tutorial we'll try the `GR` and `Plotly` backends.\n",
    "\n",
    "## GR Backend"
   ]
  },
  {
   "cell_type": "code",
   "execution_count": 99,
   "metadata": {},
   "outputs": [
    {
     "data": {
      "text/plain": "Plots.GRBackend()"
     },
     "execution_count": 99,
     "metadata": {},
     "output_type": "execute_result"
    }
   ],
   "source": [
    "gr()"
   ]
  },
  {
   "cell_type": "code",
   "execution_count": 100,
   "metadata": {},
   "outputs": [
    {
     "data": {
      "image/svg+xml": "<?xml version=\"1.0\" encoding=\"utf-8\"?>\n<svg xmlns=\"http://www.w3.org/2000/svg\" xmlns:xlink=\"http://www.w3.org/1999/xlink\" width=\"600\" height=\"400\" viewBox=\"0 0 2400 1600\">\n<defs>\n  <clipPath id=\"clip940\">\n    <rect x=\"0\" y=\"0\" width=\"2400\" height=\"1600\"/>\n  </clipPath>\n</defs>\n<path clip-path=\"url(#clip940)\" d=\"\nM0 1600 L2400 1600 L2400 0 L0 0  Z\n  \" fill=\"#ffffff\" fill-rule=\"evenodd\" fill-opacity=\"1\"/>\n<defs>\n  <clipPath id=\"clip941\">\n    <rect x=\"480\" y=\"0\" width=\"1681\" height=\"1600\"/>\n  </clipPath>\n</defs>\n<path clip-path=\"url(#clip940)\" d=\"\nM179.654 1486.45 L2352.76 1486.45 L2352.76 47.2441 L179.654 47.2441  Z\n  \" fill=\"#ffffff\" fill-rule=\"evenodd\" fill-opacity=\"1\"/>\n<defs>\n  <clipPath id=\"clip942\">\n    <rect x=\"179\" y=\"47\" width=\"2174\" height=\"1440\"/>\n  </clipPath>\n</defs>\n<polyline clip-path=\"url(#clip942)\" style=\"stroke:#000000; stroke-width:2; stroke-opacity:0.1; fill:none\" points=\"\n  241.157,1486.45 241.157,47.2441 \n  \"/>\n<polyline clip-path=\"url(#clip942)\" style=\"stroke:#000000; stroke-width:2; stroke-opacity:0.1; fill:none\" points=\"\n  582.839,1486.45 582.839,47.2441 \n  \"/>\n<polyline clip-path=\"url(#clip942)\" style=\"stroke:#000000; stroke-width:2; stroke-opacity:0.1; fill:none\" points=\"\n  924.522,1486.45 924.522,47.2441 \n  \"/>\n<polyline clip-path=\"url(#clip942)\" style=\"stroke:#000000; stroke-width:2; stroke-opacity:0.1; fill:none\" points=\"\n  1266.2,1486.45 1266.2,47.2441 \n  \"/>\n<polyline clip-path=\"url(#clip942)\" style=\"stroke:#000000; stroke-width:2; stroke-opacity:0.1; fill:none\" points=\"\n  1607.89,1486.45 1607.89,47.2441 \n  \"/>\n<polyline clip-path=\"url(#clip942)\" style=\"stroke:#000000; stroke-width:2; stroke-opacity:0.1; fill:none\" points=\"\n  1949.57,1486.45 1949.57,47.2441 \n  \"/>\n<polyline clip-path=\"url(#clip942)\" style=\"stroke:#000000; stroke-width:2; stroke-opacity:0.1; fill:none\" points=\"\n  2291.25,1486.45 2291.25,47.2441 \n  \"/>\n<polyline clip-path=\"url(#clip940)\" style=\"stroke:#000000; stroke-width:4; stroke-opacity:1; fill:none\" points=\"\n  179.654,1486.45 2352.76,1486.45 \n  \"/>\n<polyline clip-path=\"url(#clip940)\" style=\"stroke:#000000; stroke-width:4; stroke-opacity:1; fill:none\" points=\"\n  241.157,1486.45 241.157,1469.18 \n  \"/>\n<polyline clip-path=\"url(#clip940)\" style=\"stroke:#000000; stroke-width:4; stroke-opacity:1; fill:none\" points=\"\n  582.839,1486.45 582.839,1469.18 \n  \"/>\n<polyline clip-path=\"url(#clip940)\" style=\"stroke:#000000; stroke-width:4; stroke-opacity:1; fill:none\" points=\"\n  924.522,1486.45 924.522,1469.18 \n  \"/>\n<polyline clip-path=\"url(#clip940)\" style=\"stroke:#000000; stroke-width:4; stroke-opacity:1; fill:none\" points=\"\n  1266.2,1486.45 1266.2,1469.18 \n  \"/>\n<polyline clip-path=\"url(#clip940)\" style=\"stroke:#000000; stroke-width:4; stroke-opacity:1; fill:none\" points=\"\n  1607.89,1486.45 1607.89,1469.18 \n  \"/>\n<polyline clip-path=\"url(#clip940)\" style=\"stroke:#000000; stroke-width:4; stroke-opacity:1; fill:none\" points=\"\n  1949.57,1486.45 1949.57,1469.18 \n  \"/>\n<polyline clip-path=\"url(#clip940)\" style=\"stroke:#000000; stroke-width:4; stroke-opacity:1; fill:none\" points=\"\n  2291.25,1486.45 2291.25,1469.18 \n  \"/>\n<path clip-path=\"url(#clip940)\" d=\"M 0 0 M213.136 1530.29 L242.812 1530.29 L242.812 1534.23 L213.136 1534.23 L213.136 1530.29 Z\" fill=\"#000000\" fill-rule=\"evenodd\" fill-opacity=\"1\" /><path clip-path=\"url(#clip940)\" d=\"M 0 0 M262.048 1528.49 Q265.404 1529.2 267.279 1531.47 Q269.177 1533.74 269.177 1537.07 Q269.177 1542.19 265.659 1544.99 Q262.14 1547.79 255.659 1547.79 Q253.483 1547.79 251.168 1547.35 Q248.876 1546.93 246.423 1546.08 L246.423 1541.56 Q248.367 1542.7 250.682 1543.28 Q252.997 1543.86 255.52 1543.86 Q259.918 1543.86 262.21 1542.12 Q264.524 1540.38 264.524 1537.07 Q264.524 1534.02 262.372 1532.31 Q260.242 1530.57 256.423 1530.57 L252.395 1530.57 L252.395 1526.73 L256.608 1526.73 Q260.057 1526.73 261.886 1525.36 Q263.714 1523.97 263.714 1521.38 Q263.714 1518.72 261.816 1517.31 Q259.941 1515.87 256.423 1515.87 Q254.501 1515.87 252.302 1516.29 Q250.103 1516.7 247.464 1517.58 L247.464 1513.42 Q250.126 1512.68 252.441 1512.31 Q254.779 1511.93 256.839 1511.93 Q262.163 1511.93 265.265 1514.37 Q268.367 1516.77 268.367 1520.89 Q268.367 1523.76 266.724 1525.75 Q265.08 1527.72 262.048 1528.49 Z\" fill=\"#000000\" fill-rule=\"evenodd\" fill-opacity=\"1\" /><path clip-path=\"url(#clip940)\" d=\"M 0 0 M555.293 1530.29 L584.969 1530.29 L584.969 1534.23 L555.293 1534.23 L555.293 1530.29 Z\" fill=\"#000000\" fill-rule=\"evenodd\" fill-opacity=\"1\" /><path clip-path=\"url(#clip940)\" d=\"M 0 0 M594.066 1543.18 L610.385 1543.18 L610.385 1547.12 L588.441 1547.12 L588.441 1543.18 Q591.103 1540.43 595.686 1535.8 Q600.293 1531.15 601.473 1529.81 Q603.719 1527.28 604.598 1525.55 Q605.501 1523.79 605.501 1522.1 Q605.501 1519.34 603.557 1517.61 Q601.635 1515.87 598.534 1515.87 Q596.335 1515.87 593.881 1516.63 Q591.45 1517.4 588.673 1518.95 L588.673 1514.23 Q591.497 1513.09 593.95 1512.51 Q596.404 1511.93 598.441 1511.93 Q603.811 1511.93 607.006 1514.62 Q610.2 1517.31 610.2 1521.8 Q610.2 1523.93 609.39 1525.85 Q608.603 1527.74 606.497 1530.34 Q605.918 1531.01 602.816 1534.23 Q599.714 1537.42 594.066 1543.18 Z\" fill=\"#000000\" fill-rule=\"evenodd\" fill-opacity=\"1\" /><path clip-path=\"url(#clip940)\" d=\"M 0 0 M896.791 1530.29 L926.466 1530.29 L926.466 1534.23 L896.791 1534.23 L896.791 1530.29 Z\" fill=\"#000000\" fill-rule=\"evenodd\" fill-opacity=\"1\" /><path clip-path=\"url(#clip940)\" d=\"M 0 0 M932.346 1543.18 L939.985 1543.18 L939.985 1516.82 L931.675 1518.49 L931.675 1514.23 L939.939 1512.56 L944.615 1512.56 L944.615 1543.18 L952.253 1543.18 L952.253 1547.12 L932.346 1547.12 L932.346 1543.18 Z\" fill=\"#000000\" fill-rule=\"evenodd\" fill-opacity=\"1\" /><path clip-path=\"url(#clip940)\" d=\"M 0 0 M1266.2 1515.64 Q1262.59 1515.64 1260.77 1519.2 Q1258.96 1522.75 1258.96 1529.87 Q1258.96 1536.98 1260.77 1540.55 Q1262.59 1544.09 1266.2 1544.09 Q1269.84 1544.09 1271.64 1540.55 Q1273.47 1536.98 1273.47 1529.87 Q1273.47 1522.75 1271.64 1519.2 Q1269.84 1515.64 1266.2 1515.64 M1266.2 1511.93 Q1272.01 1511.93 1275.07 1516.54 Q1278.15 1521.12 1278.15 1529.87 Q1278.15 1538.6 1275.07 1543.21 Q1272.01 1547.79 1266.2 1547.79 Q1260.39 1547.79 1257.32 1543.21 Q1254.26 1538.6 1254.26 1529.87 Q1254.26 1521.12 1257.32 1516.54 Q1260.39 1511.93 1266.2 1511.93 Z\" fill=\"#000000\" fill-rule=\"evenodd\" fill-opacity=\"1\" /><path clip-path=\"url(#clip940)\" d=\"M 0 0 M1598.27 1543.18 L1605.91 1543.18 L1605.91 1516.82 L1597.6 1518.49 L1597.6 1514.23 L1605.86 1512.56 L1610.54 1512.56 L1610.54 1543.18 L1618.18 1543.18 L1618.18 1547.12 L1598.27 1547.12 L1598.27 1543.18 Z\" fill=\"#000000\" fill-rule=\"evenodd\" fill-opacity=\"1\" /><path clip-path=\"url(#clip940)\" d=\"M 0 0 M1944.22 1543.18 L1960.54 1543.18 L1960.54 1547.12 L1938.6 1547.12 L1938.6 1543.18 Q1941.26 1540.43 1945.84 1535.8 Q1950.45 1531.15 1951.63 1529.81 Q1953.88 1527.28 1954.76 1525.55 Q1955.66 1523.79 1955.66 1522.1 Q1955.66 1519.34 1953.71 1517.61 Q1951.79 1515.87 1948.69 1515.87 Q1946.49 1515.87 1944.04 1516.63 Q1941.61 1517.4 1938.83 1518.95 L1938.83 1514.23 Q1941.65 1513.09 1944.11 1512.51 Q1946.56 1511.93 1948.6 1511.93 Q1953.97 1511.93 1957.16 1514.62 Q1960.36 1517.31 1960.36 1521.8 Q1960.36 1523.93 1959.55 1525.85 Q1958.76 1527.74 1956.65 1530.34 Q1956.07 1531.01 1952.97 1534.23 Q1949.87 1537.42 1944.22 1543.18 Z\" fill=\"#000000\" fill-rule=\"evenodd\" fill-opacity=\"1\" /><path clip-path=\"url(#clip940)\" d=\"M 0 0 M2295.5 1528.49 Q2298.86 1529.2 2300.73 1531.47 Q2302.63 1533.74 2302.63 1537.07 Q2302.63 1542.19 2299.11 1544.99 Q2295.59 1547.79 2289.11 1547.79 Q2286.94 1547.79 2284.62 1547.35 Q2282.33 1546.93 2279.88 1546.08 L2279.88 1541.56 Q2281.82 1542.7 2284.13 1543.28 Q2286.45 1543.86 2288.97 1543.86 Q2293.37 1543.86 2295.66 1542.12 Q2297.98 1540.38 2297.98 1537.07 Q2297.98 1534.02 2295.82 1532.31 Q2293.7 1530.57 2289.88 1530.57 L2285.85 1530.57 L2285.85 1526.73 L2290.06 1526.73 Q2293.51 1526.73 2295.34 1525.36 Q2297.17 1523.97 2297.17 1521.38 Q2297.17 1518.72 2295.27 1517.31 Q2293.39 1515.87 2289.88 1515.87 Q2287.95 1515.87 2285.76 1516.29 Q2283.56 1516.7 2280.92 1517.58 L2280.92 1513.42 Q2283.58 1512.68 2285.89 1512.31 Q2288.23 1511.93 2290.29 1511.93 Q2295.62 1511.93 2298.72 1514.37 Q2301.82 1516.77 2301.82 1520.89 Q2301.82 1523.76 2300.18 1525.75 Q2298.53 1527.72 2295.5 1528.49 Z\" fill=\"#000000\" fill-rule=\"evenodd\" fill-opacity=\"1\" /><polyline clip-path=\"url(#clip942)\" style=\"stroke:#000000; stroke-width:2; stroke-opacity:0.1; fill:none\" points=\"\n  179.654,1446.01 2352.76,1446.01 \n  \"/>\n<polyline clip-path=\"url(#clip942)\" style=\"stroke:#000000; stroke-width:2; stroke-opacity:0.1; fill:none\" points=\"\n  179.654,1106.43 2352.76,1106.43 \n  \"/>\n<polyline clip-path=\"url(#clip942)\" style=\"stroke:#000000; stroke-width:2; stroke-opacity:0.1; fill:none\" points=\"\n  179.654,766.846 2352.76,766.846 \n  \"/>\n<polyline clip-path=\"url(#clip942)\" style=\"stroke:#000000; stroke-width:2; stroke-opacity:0.1; fill:none\" points=\"\n  179.654,427.266 2352.76,427.266 \n  \"/>\n<polyline clip-path=\"url(#clip942)\" style=\"stroke:#000000; stroke-width:2; stroke-opacity:0.1; fill:none\" points=\"\n  179.654,87.6867 2352.76,87.6867 \n  \"/>\n<polyline clip-path=\"url(#clip940)\" style=\"stroke:#000000; stroke-width:4; stroke-opacity:1; fill:none\" points=\"\n  179.654,1486.45 179.654,47.2441 \n  \"/>\n<polyline clip-path=\"url(#clip940)\" style=\"stroke:#000000; stroke-width:4; stroke-opacity:1; fill:none\" points=\"\n  179.654,1446.01 205.731,1446.01 \n  \"/>\n<polyline clip-path=\"url(#clip940)\" style=\"stroke:#000000; stroke-width:4; stroke-opacity:1; fill:none\" points=\"\n  179.654,1106.43 205.731,1106.43 \n  \"/>\n<polyline clip-path=\"url(#clip940)\" style=\"stroke:#000000; stroke-width:4; stroke-opacity:1; fill:none\" points=\"\n  179.654,766.846 205.731,766.846 \n  \"/>\n<polyline clip-path=\"url(#clip940)\" style=\"stroke:#000000; stroke-width:4; stroke-opacity:1; fill:none\" points=\"\n  179.654,427.266 205.731,427.266 \n  \"/>\n<polyline clip-path=\"url(#clip940)\" style=\"stroke:#000000; stroke-width:4; stroke-opacity:1; fill:none\" points=\"\n  179.654,87.6867 205.731,87.6867 \n  \"/>\n<path clip-path=\"url(#clip940)\" d=\"M 0 0 M51.2236 1446.46 L80.8994 1446.46 L80.8994 1450.39 L51.2236 1450.39 L51.2236 1446.46 Z\" fill=\"#000000\" fill-rule=\"evenodd\" fill-opacity=\"1\" /><path clip-path=\"url(#clip940)\" d=\"M 0 0 M86.779 1459.35 L94.4178 1459.35 L94.4178 1432.98 L86.1077 1434.65 L86.1077 1430.39 L94.3715 1428.73 L99.0474 1428.73 L99.0474 1459.35 L106.686 1459.35 L106.686 1463.29 L86.779 1463.29 L86.779 1459.35 Z\" fill=\"#000000\" fill-rule=\"evenodd\" fill-opacity=\"1\" /><path clip-path=\"url(#clip940)\" d=\"M 0 0 M111.756 1457.41 L116.64 1457.41 L116.64 1463.29 L111.756 1463.29 L111.756 1457.41 Z\" fill=\"#000000\" fill-rule=\"evenodd\" fill-opacity=\"1\" /><path clip-path=\"url(#clip940)\" d=\"M 0 0 M131.709 1431.8 Q128.098 1431.8 126.27 1435.37 Q124.464 1438.91 124.464 1446.04 Q124.464 1453.15 126.27 1456.71 Q128.098 1460.25 131.709 1460.25 Q135.344 1460.25 137.149 1456.71 Q138.978 1453.15 138.978 1446.04 Q138.978 1438.91 137.149 1435.37 Q135.344 1431.8 131.709 1431.8 M131.709 1428.1 Q137.519 1428.1 140.575 1432.71 Q143.654 1437.29 143.654 1446.04 Q143.654 1454.77 140.575 1459.37 Q137.519 1463.96 131.709 1463.96 Q125.899 1463.96 122.82 1459.37 Q119.765 1454.77 119.765 1446.04 Q119.765 1437.29 122.82 1432.71 Q125.899 1428.1 131.709 1428.1 Z\" fill=\"#000000\" fill-rule=\"evenodd\" fill-opacity=\"1\" /><path clip-path=\"url(#clip940)\" d=\"M 0 0 M50.9921 1106.88 L80.6679 1106.88 L80.6679 1110.81 L50.9921 1110.81 L50.9921 1106.88 Z\" fill=\"#000000\" fill-rule=\"evenodd\" fill-opacity=\"1\" /><path clip-path=\"url(#clip940)\" d=\"M 0 0 M95.7373 1092.22 Q92.1262 1092.22 90.2975 1095.79 Q88.4919 1099.33 88.4919 1106.46 Q88.4919 1113.57 90.2975 1117.13 Q92.1262 1120.67 95.7373 1120.67 Q99.3715 1120.67 101.177 1117.13 Q103.006 1113.57 103.006 1106.46 Q103.006 1099.33 101.177 1095.79 Q99.3715 1092.22 95.7373 1092.22 M95.7373 1088.52 Q101.547 1088.52 104.603 1093.13 Q107.682 1097.71 107.682 1106.46 Q107.682 1115.19 104.603 1119.79 Q101.547 1124.38 95.7373 1124.38 Q89.9271 1124.38 86.8484 1119.79 Q83.7929 1115.19 83.7929 1106.46 Q83.7929 1097.71 86.8484 1093.13 Q89.9271 1088.52 95.7373 1088.52 Z\" fill=\"#000000\" fill-rule=\"evenodd\" fill-opacity=\"1\" /><path clip-path=\"url(#clip940)\" d=\"M 0 0 M112.751 1117.83 L117.635 1117.83 L117.635 1123.71 L112.751 1123.71 L112.751 1117.83 Z\" fill=\"#000000\" fill-rule=\"evenodd\" fill-opacity=\"1\" /><path clip-path=\"url(#clip940)\" d=\"M 0 0 M122.751 1089.15 L141.107 1089.15 L141.107 1093.08 L127.033 1093.08 L127.033 1101.55 Q128.052 1101.21 129.07 1101.04 Q130.089 1100.86 131.107 1100.86 Q136.894 1100.86 140.274 1104.03 Q143.654 1107.2 143.654 1112.62 Q143.654 1118.2 140.181 1121.3 Q136.709 1124.38 130.39 1124.38 Q128.214 1124.38 125.945 1124.01 Q123.7 1123.64 121.293 1122.9 L121.293 1118.2 Q123.376 1119.33 125.598 1119.89 Q127.82 1120.44 130.297 1120.44 Q134.302 1120.44 136.64 1118.34 Q138.978 1116.23 138.978 1112.62 Q138.978 1109.01 136.64 1106.9 Q134.302 1104.79 130.297 1104.79 Q128.422 1104.79 126.547 1105.21 Q124.695 1105.63 122.751 1106.51 L122.751 1089.15 Z\" fill=\"#000000\" fill-rule=\"evenodd\" fill-opacity=\"1\" /><path clip-path=\"url(#clip940)\" d=\"M 0 0 M94.7419 752.645 Q91.1308 752.645 89.3021 756.209 Q87.4966 759.751 87.4966 766.881 Q87.4966 773.987 89.3021 777.552 Q91.1308 781.094 94.7419 781.094 Q98.3761 781.094 100.182 777.552 Q102.01 773.987 102.01 766.881 Q102.01 759.751 100.182 756.209 Q98.3761 752.645 94.7419 752.645 M94.7419 748.941 Q100.552 748.941 103.608 753.547 Q106.686 758.131 106.686 766.881 Q106.686 775.608 103.608 780.214 Q100.552 784.797 94.7419 784.797 Q88.9317 784.797 85.8531 780.214 Q82.7975 775.608 82.7975 766.881 Q82.7975 758.131 85.8531 753.547 Q88.9317 748.941 94.7419 748.941 Z\" fill=\"#000000\" fill-rule=\"evenodd\" fill-opacity=\"1\" /><path clip-path=\"url(#clip940)\" d=\"M 0 0 M111.756 778.246 L116.64 778.246 L116.64 784.126 L111.756 784.126 L111.756 778.246 Z\" fill=\"#000000\" fill-rule=\"evenodd\" fill-opacity=\"1\" /><path clip-path=\"url(#clip940)\" d=\"M 0 0 M131.709 752.645 Q128.098 752.645 126.27 756.209 Q124.464 759.751 124.464 766.881 Q124.464 773.987 126.27 777.552 Q128.098 781.094 131.709 781.094 Q135.344 781.094 137.149 777.552 Q138.978 773.987 138.978 766.881 Q138.978 759.751 137.149 756.209 Q135.344 752.645 131.709 752.645 M131.709 748.941 Q137.519 748.941 140.575 753.547 Q143.654 758.131 143.654 766.881 Q143.654 775.608 140.575 780.214 Q137.519 784.797 131.709 784.797 Q125.899 784.797 122.82 780.214 Q119.765 775.608 119.765 766.881 Q119.765 758.131 122.82 753.547 Q125.899 748.941 131.709 748.941 Z\" fill=\"#000000\" fill-rule=\"evenodd\" fill-opacity=\"1\" /><path clip-path=\"url(#clip940)\" d=\"M 0 0 M95.7373 413.065 Q92.1262 413.065 90.2975 416.63 Q88.4919 420.171 88.4919 427.301 Q88.4919 434.408 90.2975 437.972 Q92.1262 441.514 95.7373 441.514 Q99.3715 441.514 101.177 437.972 Q103.006 434.408 103.006 427.301 Q103.006 420.171 101.177 416.63 Q99.3715 413.065 95.7373 413.065 M95.7373 409.361 Q101.547 409.361 104.603 413.968 Q107.682 418.551 107.682 427.301 Q107.682 436.028 104.603 440.634 Q101.547 445.218 95.7373 445.218 Q89.9271 445.218 86.8484 440.634 Q83.7929 436.028 83.7929 427.301 Q83.7929 418.551 86.8484 413.968 Q89.9271 409.361 95.7373 409.361 Z\" fill=\"#000000\" fill-rule=\"evenodd\" fill-opacity=\"1\" /><path clip-path=\"url(#clip940)\" d=\"M 0 0 M112.751 438.667 L117.635 438.667 L117.635 444.546 L112.751 444.546 L112.751 438.667 Z\" fill=\"#000000\" fill-rule=\"evenodd\" fill-opacity=\"1\" /><path clip-path=\"url(#clip940)\" d=\"M 0 0 M122.751 409.986 L141.107 409.986 L141.107 413.921 L127.033 413.921 L127.033 422.394 Q128.052 422.046 129.07 421.884 Q130.089 421.699 131.107 421.699 Q136.894 421.699 140.274 424.871 Q143.654 428.042 143.654 433.458 Q143.654 439.037 140.181 442.139 Q136.709 445.218 130.39 445.218 Q128.214 445.218 125.945 444.847 Q123.7 444.477 121.293 443.736 L121.293 439.037 Q123.376 440.171 125.598 440.727 Q127.82 441.282 130.297 441.282 Q134.302 441.282 136.64 439.176 Q138.978 437.07 138.978 433.458 Q138.978 429.847 136.64 427.741 Q134.302 425.634 130.297 425.634 Q128.422 425.634 126.547 426.051 Q124.695 426.468 122.751 427.347 L122.751 409.986 Z\" fill=\"#000000\" fill-rule=\"evenodd\" fill-opacity=\"1\" /><path clip-path=\"url(#clip940)\" d=\"M 0 0 M86.779 101.032 L94.4178 101.032 L94.4178 74.6659 L86.1077 76.3326 L86.1077 72.0733 L94.3715 70.4067 L99.0474 70.4067 L99.0474 101.032 L106.686 101.032 L106.686 104.967 L86.779 104.967 L86.779 101.032 Z\" fill=\"#000000\" fill-rule=\"evenodd\" fill-opacity=\"1\" /><path clip-path=\"url(#clip940)\" d=\"M 0 0 M111.756 99.0871 L116.64 99.0871 L116.64 104.967 L111.756 104.967 L111.756 99.0871 Z\" fill=\"#000000\" fill-rule=\"evenodd\" fill-opacity=\"1\" /><path clip-path=\"url(#clip940)\" d=\"M 0 0 M131.709 73.4854 Q128.098 73.4854 126.27 77.0502 Q124.464 80.5918 124.464 87.7214 Q124.464 94.8279 126.27 98.3926 Q128.098 101.934 131.709 101.934 Q135.344 101.934 137.149 98.3926 Q138.978 94.8279 138.978 87.7214 Q138.978 80.5918 137.149 77.0502 Q135.344 73.4854 131.709 73.4854 M131.709 69.7817 Q137.519 69.7817 140.575 74.3881 Q143.654 78.9715 143.654 87.7214 Q143.654 96.4482 140.575 101.055 Q137.519 105.638 131.709 105.638 Q125.899 105.638 122.82 101.055 Q119.765 96.4482 119.765 87.7214 Q119.765 78.9715 122.82 74.3881 Q125.899 69.7817 131.709 69.7817 Z\" fill=\"#000000\" fill-rule=\"evenodd\" fill-opacity=\"1\" /><polyline clip-path=\"url(#clip942)\" style=\"stroke:#009af9; stroke-width:4; stroke-opacity:1; fill:none\" points=\"\n  241.157,862.689 275.325,929.334 309.493,994.356 343.661,1057.11 377.83,1116.95 411.998,1173.3 446.166,1225.59 480.334,1273.3 514.503,1315.94 548.671,1353.1 \n  582.839,1384.4 617.008,1409.53 651.176,1428.24 685.344,1440.34 719.512,1445.72 753.681,1444.3 787.849,1436.12 822.017,1421.26 856.185,1399.85 890.354,1372.12 \n  924.522,1338.34 958.69,1298.85 992.859,1254.05 1027.03,1204.37 1061.2,1150.33 1095.36,1092.45 1129.53,1031.32 1163.7,967.551 1197.87,901.774 1232.04,834.649 \n  1266.2,766.846 1300.37,699.043 1334.54,631.918 1368.71,566.141 1402.88,502.369 1437.05,441.24 1471.21,383.364 1505.38,329.32 1539.55,279.647 1573.72,234.842 \n  1607.89,195.353 1642.06,161.574 1676.22,133.843 1710.39,112.436 1744.56,97.5686 1778.73,89.388 1812.9,87.9763 1847.07,93.3476 1881.23,105.448 1915.4,124.157 \n  1949.57,149.288 1983.74,180.589 2017.91,217.748 2052.08,260.393 2086.24,308.099 2120.41,360.388 2154.58,416.738 2188.75,476.587 2222.92,539.336 2257.08,604.358 \n  2291.25,671.003 \n  \"/>\n<circle clip-path=\"url(#clip942)\" cx=\"241.157\" cy=\"862.689\" r=\"14\" fill=\"#e26f46\" fill-rule=\"evenodd\" fill-opacity=\"1\" stroke=\"#000000\" stroke-opacity=\"1\" stroke-width=\"3.2\"/>\n<circle clip-path=\"url(#clip942)\" cx=\"275.325\" cy=\"929.334\" r=\"14\" fill=\"#e26f46\" fill-rule=\"evenodd\" fill-opacity=\"1\" stroke=\"#000000\" stroke-opacity=\"1\" stroke-width=\"3.2\"/>\n<circle clip-path=\"url(#clip942)\" cx=\"309.493\" cy=\"994.356\" r=\"14\" fill=\"#e26f46\" fill-rule=\"evenodd\" fill-opacity=\"1\" stroke=\"#000000\" stroke-opacity=\"1\" stroke-width=\"3.2\"/>\n<circle clip-path=\"url(#clip942)\" cx=\"343.661\" cy=\"1057.11\" r=\"14\" fill=\"#e26f46\" fill-rule=\"evenodd\" fill-opacity=\"1\" stroke=\"#000000\" stroke-opacity=\"1\" stroke-width=\"3.2\"/>\n<circle clip-path=\"url(#clip942)\" cx=\"377.83\" cy=\"1116.95\" r=\"14\" fill=\"#e26f46\" fill-rule=\"evenodd\" fill-opacity=\"1\" stroke=\"#000000\" stroke-opacity=\"1\" stroke-width=\"3.2\"/>\n<circle clip-path=\"url(#clip942)\" cx=\"411.998\" cy=\"1173.3\" r=\"14\" fill=\"#e26f46\" fill-rule=\"evenodd\" fill-opacity=\"1\" stroke=\"#000000\" stroke-opacity=\"1\" stroke-width=\"3.2\"/>\n<circle clip-path=\"url(#clip942)\" cx=\"446.166\" cy=\"1225.59\" r=\"14\" fill=\"#e26f46\" fill-rule=\"evenodd\" fill-opacity=\"1\" stroke=\"#000000\" stroke-opacity=\"1\" stroke-width=\"3.2\"/>\n<circle clip-path=\"url(#clip942)\" cx=\"480.334\" cy=\"1273.3\" r=\"14\" fill=\"#e26f46\" fill-rule=\"evenodd\" fill-opacity=\"1\" stroke=\"#000000\" stroke-opacity=\"1\" stroke-width=\"3.2\"/>\n<circle clip-path=\"url(#clip942)\" cx=\"514.503\" cy=\"1315.94\" r=\"14\" fill=\"#e26f46\" fill-rule=\"evenodd\" fill-opacity=\"1\" stroke=\"#000000\" stroke-opacity=\"1\" stroke-width=\"3.2\"/>\n<circle clip-path=\"url(#clip942)\" cx=\"548.671\" cy=\"1353.1\" r=\"14\" fill=\"#e26f46\" fill-rule=\"evenodd\" fill-opacity=\"1\" stroke=\"#000000\" stroke-opacity=\"1\" stroke-width=\"3.2\"/>\n<circle clip-path=\"url(#clip942)\" cx=\"582.839\" cy=\"1384.4\" r=\"14\" fill=\"#e26f46\" fill-rule=\"evenodd\" fill-opacity=\"1\" stroke=\"#000000\" stroke-opacity=\"1\" stroke-width=\"3.2\"/>\n<circle clip-path=\"url(#clip942)\" cx=\"617.008\" cy=\"1409.53\" r=\"14\" fill=\"#e26f46\" fill-rule=\"evenodd\" fill-opacity=\"1\" stroke=\"#000000\" stroke-opacity=\"1\" stroke-width=\"3.2\"/>\n<circle clip-path=\"url(#clip942)\" cx=\"651.176\" cy=\"1428.24\" r=\"14\" fill=\"#e26f46\" fill-rule=\"evenodd\" fill-opacity=\"1\" stroke=\"#000000\" stroke-opacity=\"1\" stroke-width=\"3.2\"/>\n<circle clip-path=\"url(#clip942)\" cx=\"685.344\" cy=\"1440.34\" r=\"14\" fill=\"#e26f46\" fill-rule=\"evenodd\" fill-opacity=\"1\" stroke=\"#000000\" stroke-opacity=\"1\" stroke-width=\"3.2\"/>\n<circle clip-path=\"url(#clip942)\" cx=\"719.512\" cy=\"1445.72\" r=\"14\" fill=\"#e26f46\" fill-rule=\"evenodd\" fill-opacity=\"1\" stroke=\"#000000\" stroke-opacity=\"1\" stroke-width=\"3.2\"/>\n<circle clip-path=\"url(#clip942)\" cx=\"753.681\" cy=\"1444.3\" r=\"14\" fill=\"#e26f46\" fill-rule=\"evenodd\" fill-opacity=\"1\" stroke=\"#000000\" stroke-opacity=\"1\" stroke-width=\"3.2\"/>\n<circle clip-path=\"url(#clip942)\" cx=\"787.849\" cy=\"1436.12\" r=\"14\" fill=\"#e26f46\" fill-rule=\"evenodd\" fill-opacity=\"1\" stroke=\"#000000\" stroke-opacity=\"1\" stroke-width=\"3.2\"/>\n<circle clip-path=\"url(#clip942)\" cx=\"822.017\" cy=\"1421.26\" r=\"14\" fill=\"#e26f46\" fill-rule=\"evenodd\" fill-opacity=\"1\" stroke=\"#000000\" stroke-opacity=\"1\" stroke-width=\"3.2\"/>\n<circle clip-path=\"url(#clip942)\" cx=\"856.185\" cy=\"1399.85\" r=\"14\" fill=\"#e26f46\" fill-rule=\"evenodd\" fill-opacity=\"1\" stroke=\"#000000\" stroke-opacity=\"1\" stroke-width=\"3.2\"/>\n<circle clip-path=\"url(#clip942)\" cx=\"890.354\" cy=\"1372.12\" r=\"14\" fill=\"#e26f46\" fill-rule=\"evenodd\" fill-opacity=\"1\" stroke=\"#000000\" stroke-opacity=\"1\" stroke-width=\"3.2\"/>\n<circle clip-path=\"url(#clip942)\" cx=\"924.522\" cy=\"1338.34\" r=\"14\" fill=\"#e26f46\" fill-rule=\"evenodd\" fill-opacity=\"1\" stroke=\"#000000\" stroke-opacity=\"1\" stroke-width=\"3.2\"/>\n<circle clip-path=\"url(#clip942)\" cx=\"958.69\" cy=\"1298.85\" r=\"14\" fill=\"#e26f46\" fill-rule=\"evenodd\" fill-opacity=\"1\" stroke=\"#000000\" stroke-opacity=\"1\" stroke-width=\"3.2\"/>\n<circle clip-path=\"url(#clip942)\" cx=\"992.859\" cy=\"1254.05\" r=\"14\" fill=\"#e26f46\" fill-rule=\"evenodd\" fill-opacity=\"1\" stroke=\"#000000\" stroke-opacity=\"1\" stroke-width=\"3.2\"/>\n<circle clip-path=\"url(#clip942)\" cx=\"1027.03\" cy=\"1204.37\" r=\"14\" fill=\"#e26f46\" fill-rule=\"evenodd\" fill-opacity=\"1\" stroke=\"#000000\" stroke-opacity=\"1\" stroke-width=\"3.2\"/>\n<circle clip-path=\"url(#clip942)\" cx=\"1061.2\" cy=\"1150.33\" r=\"14\" fill=\"#e26f46\" fill-rule=\"evenodd\" fill-opacity=\"1\" stroke=\"#000000\" stroke-opacity=\"1\" stroke-width=\"3.2\"/>\n<circle clip-path=\"url(#clip942)\" cx=\"1095.36\" cy=\"1092.45\" r=\"14\" fill=\"#e26f46\" fill-rule=\"evenodd\" fill-opacity=\"1\" stroke=\"#000000\" stroke-opacity=\"1\" stroke-width=\"3.2\"/>\n<circle clip-path=\"url(#clip942)\" cx=\"1129.53\" cy=\"1031.32\" r=\"14\" fill=\"#e26f46\" fill-rule=\"evenodd\" fill-opacity=\"1\" stroke=\"#000000\" stroke-opacity=\"1\" stroke-width=\"3.2\"/>\n<circle clip-path=\"url(#clip942)\" cx=\"1163.7\" cy=\"967.551\" r=\"14\" fill=\"#e26f46\" fill-rule=\"evenodd\" fill-opacity=\"1\" stroke=\"#000000\" stroke-opacity=\"1\" stroke-width=\"3.2\"/>\n<circle clip-path=\"url(#clip942)\" cx=\"1197.87\" cy=\"901.774\" r=\"14\" fill=\"#e26f46\" fill-rule=\"evenodd\" fill-opacity=\"1\" stroke=\"#000000\" stroke-opacity=\"1\" stroke-width=\"3.2\"/>\n<circle clip-path=\"url(#clip942)\" cx=\"1232.04\" cy=\"834.649\" r=\"14\" fill=\"#e26f46\" fill-rule=\"evenodd\" fill-opacity=\"1\" stroke=\"#000000\" stroke-opacity=\"1\" stroke-width=\"3.2\"/>\n<circle clip-path=\"url(#clip942)\" cx=\"1266.2\" cy=\"766.846\" r=\"14\" fill=\"#e26f46\" fill-rule=\"evenodd\" fill-opacity=\"1\" stroke=\"#000000\" stroke-opacity=\"1\" stroke-width=\"3.2\"/>\n<circle clip-path=\"url(#clip942)\" cx=\"1300.37\" cy=\"699.043\" r=\"14\" fill=\"#e26f46\" fill-rule=\"evenodd\" fill-opacity=\"1\" stroke=\"#000000\" stroke-opacity=\"1\" stroke-width=\"3.2\"/>\n<circle clip-path=\"url(#clip942)\" cx=\"1334.54\" cy=\"631.918\" r=\"14\" fill=\"#e26f46\" fill-rule=\"evenodd\" fill-opacity=\"1\" stroke=\"#000000\" stroke-opacity=\"1\" stroke-width=\"3.2\"/>\n<circle clip-path=\"url(#clip942)\" cx=\"1368.71\" cy=\"566.141\" r=\"14\" fill=\"#e26f46\" fill-rule=\"evenodd\" fill-opacity=\"1\" stroke=\"#000000\" stroke-opacity=\"1\" stroke-width=\"3.2\"/>\n<circle clip-path=\"url(#clip942)\" cx=\"1402.88\" cy=\"502.369\" r=\"14\" fill=\"#e26f46\" fill-rule=\"evenodd\" fill-opacity=\"1\" stroke=\"#000000\" stroke-opacity=\"1\" stroke-width=\"3.2\"/>\n<circle clip-path=\"url(#clip942)\" cx=\"1437.05\" cy=\"441.24\" r=\"14\" fill=\"#e26f46\" fill-rule=\"evenodd\" fill-opacity=\"1\" stroke=\"#000000\" stroke-opacity=\"1\" stroke-width=\"3.2\"/>\n<circle clip-path=\"url(#clip942)\" cx=\"1471.21\" cy=\"383.364\" r=\"14\" fill=\"#e26f46\" fill-rule=\"evenodd\" fill-opacity=\"1\" stroke=\"#000000\" stroke-opacity=\"1\" stroke-width=\"3.2\"/>\n<circle clip-path=\"url(#clip942)\" cx=\"1505.38\" cy=\"329.32\" r=\"14\" fill=\"#e26f46\" fill-rule=\"evenodd\" fill-opacity=\"1\" stroke=\"#000000\" stroke-opacity=\"1\" stroke-width=\"3.2\"/>\n<circle clip-path=\"url(#clip942)\" cx=\"1539.55\" cy=\"279.647\" r=\"14\" fill=\"#e26f46\" fill-rule=\"evenodd\" fill-opacity=\"1\" stroke=\"#000000\" stroke-opacity=\"1\" stroke-width=\"3.2\"/>\n<circle clip-path=\"url(#clip942)\" cx=\"1573.72\" cy=\"234.842\" r=\"14\" fill=\"#e26f46\" fill-rule=\"evenodd\" fill-opacity=\"1\" stroke=\"#000000\" stroke-opacity=\"1\" stroke-width=\"3.2\"/>\n<circle clip-path=\"url(#clip942)\" cx=\"1607.89\" cy=\"195.353\" r=\"14\" fill=\"#e26f46\" fill-rule=\"evenodd\" fill-opacity=\"1\" stroke=\"#000000\" stroke-opacity=\"1\" stroke-width=\"3.2\"/>\n<circle clip-path=\"url(#clip942)\" cx=\"1642.06\" cy=\"161.574\" r=\"14\" fill=\"#e26f46\" fill-rule=\"evenodd\" fill-opacity=\"1\" stroke=\"#000000\" stroke-opacity=\"1\" stroke-width=\"3.2\"/>\n<circle clip-path=\"url(#clip942)\" cx=\"1676.22\" cy=\"133.843\" r=\"14\" fill=\"#e26f46\" fill-rule=\"evenodd\" fill-opacity=\"1\" stroke=\"#000000\" stroke-opacity=\"1\" stroke-width=\"3.2\"/>\n<circle clip-path=\"url(#clip942)\" cx=\"1710.39\" cy=\"112.436\" r=\"14\" fill=\"#e26f46\" fill-rule=\"evenodd\" fill-opacity=\"1\" stroke=\"#000000\" stroke-opacity=\"1\" stroke-width=\"3.2\"/>\n<circle clip-path=\"url(#clip942)\" cx=\"1744.56\" cy=\"97.5686\" r=\"14\" fill=\"#e26f46\" fill-rule=\"evenodd\" fill-opacity=\"1\" stroke=\"#000000\" stroke-opacity=\"1\" stroke-width=\"3.2\"/>\n<circle clip-path=\"url(#clip942)\" cx=\"1778.73\" cy=\"89.388\" r=\"14\" fill=\"#e26f46\" fill-rule=\"evenodd\" fill-opacity=\"1\" stroke=\"#000000\" stroke-opacity=\"1\" stroke-width=\"3.2\"/>\n<circle clip-path=\"url(#clip942)\" cx=\"1812.9\" cy=\"87.9763\" r=\"14\" fill=\"#e26f46\" fill-rule=\"evenodd\" fill-opacity=\"1\" stroke=\"#000000\" stroke-opacity=\"1\" stroke-width=\"3.2\"/>\n<circle clip-path=\"url(#clip942)\" cx=\"1847.07\" cy=\"93.3476\" r=\"14\" fill=\"#e26f46\" fill-rule=\"evenodd\" fill-opacity=\"1\" stroke=\"#000000\" stroke-opacity=\"1\" stroke-width=\"3.2\"/>\n<circle clip-path=\"url(#clip942)\" cx=\"1881.23\" cy=\"105.448\" r=\"14\" fill=\"#e26f46\" fill-rule=\"evenodd\" fill-opacity=\"1\" stroke=\"#000000\" stroke-opacity=\"1\" stroke-width=\"3.2\"/>\n<circle clip-path=\"url(#clip942)\" cx=\"1915.4\" cy=\"124.157\" r=\"14\" fill=\"#e26f46\" fill-rule=\"evenodd\" fill-opacity=\"1\" stroke=\"#000000\" stroke-opacity=\"1\" stroke-width=\"3.2\"/>\n<circle clip-path=\"url(#clip942)\" cx=\"1949.57\" cy=\"149.288\" r=\"14\" fill=\"#e26f46\" fill-rule=\"evenodd\" fill-opacity=\"1\" stroke=\"#000000\" stroke-opacity=\"1\" stroke-width=\"3.2\"/>\n<circle clip-path=\"url(#clip942)\" cx=\"1983.74\" cy=\"180.589\" r=\"14\" fill=\"#e26f46\" fill-rule=\"evenodd\" fill-opacity=\"1\" stroke=\"#000000\" stroke-opacity=\"1\" stroke-width=\"3.2\"/>\n<circle clip-path=\"url(#clip942)\" cx=\"2017.91\" cy=\"217.748\" r=\"14\" fill=\"#e26f46\" fill-rule=\"evenodd\" fill-opacity=\"1\" stroke=\"#000000\" stroke-opacity=\"1\" stroke-width=\"3.2\"/>\n<circle clip-path=\"url(#clip942)\" cx=\"2052.08\" cy=\"260.393\" r=\"14\" fill=\"#e26f46\" fill-rule=\"evenodd\" fill-opacity=\"1\" stroke=\"#000000\" stroke-opacity=\"1\" stroke-width=\"3.2\"/>\n<circle clip-path=\"url(#clip942)\" cx=\"2086.24\" cy=\"308.099\" r=\"14\" fill=\"#e26f46\" fill-rule=\"evenodd\" fill-opacity=\"1\" stroke=\"#000000\" stroke-opacity=\"1\" stroke-width=\"3.2\"/>\n<circle clip-path=\"url(#clip942)\" cx=\"2120.41\" cy=\"360.388\" r=\"14\" fill=\"#e26f46\" fill-rule=\"evenodd\" fill-opacity=\"1\" stroke=\"#000000\" stroke-opacity=\"1\" stroke-width=\"3.2\"/>\n<circle clip-path=\"url(#clip942)\" cx=\"2154.58\" cy=\"416.738\" r=\"14\" fill=\"#e26f46\" fill-rule=\"evenodd\" fill-opacity=\"1\" stroke=\"#000000\" stroke-opacity=\"1\" stroke-width=\"3.2\"/>\n<circle clip-path=\"url(#clip942)\" cx=\"2188.75\" cy=\"476.587\" r=\"14\" fill=\"#e26f46\" fill-rule=\"evenodd\" fill-opacity=\"1\" stroke=\"#000000\" stroke-opacity=\"1\" stroke-width=\"3.2\"/>\n<circle clip-path=\"url(#clip942)\" cx=\"2222.92\" cy=\"539.336\" r=\"14\" fill=\"#e26f46\" fill-rule=\"evenodd\" fill-opacity=\"1\" stroke=\"#000000\" stroke-opacity=\"1\" stroke-width=\"3.2\"/>\n<circle clip-path=\"url(#clip942)\" cx=\"2257.08\" cy=\"604.358\" r=\"14\" fill=\"#e26f46\" fill-rule=\"evenodd\" fill-opacity=\"1\" stroke=\"#000000\" stroke-opacity=\"1\" stroke-width=\"3.2\"/>\n<circle clip-path=\"url(#clip942)\" cx=\"2291.25\" cy=\"671.003\" r=\"14\" fill=\"#e26f46\" fill-rule=\"evenodd\" fill-opacity=\"1\" stroke=\"#000000\" stroke-opacity=\"1\" stroke-width=\"3.2\"/>\n<path clip-path=\"url(#clip940)\" d=\"\nM1914.67 276.658 L2280.32 276.658 L2280.32 95.2176 L1914.67 95.2176  Z\n  \" fill=\"#ffffff\" fill-rule=\"evenodd\" fill-opacity=\"1\"/>\n<polyline clip-path=\"url(#clip940)\" style=\"stroke:#000000; stroke-width:4; stroke-opacity:1; fill:none\" points=\"\n  1914.67,276.658 2280.32,276.658 2280.32,95.2176 1914.67,95.2176 1914.67,276.658 \n  \"/>\n<polyline clip-path=\"url(#clip940)\" style=\"stroke:#009af9; stroke-width:4; stroke-opacity:1; fill:none\" points=\"\n  1938.82,155.698 2083.69,155.698 \n  \"/>\n<path clip-path=\"url(#clip940)\" d=\"M 0 0 M2107.84 136.959 L2112.1 136.959 L2112.1 172.978 L2107.84 172.978 L2107.84 136.959 Z\" fill=\"#000000\" fill-rule=\"evenodd\" fill-opacity=\"1\" /><path clip-path=\"url(#clip940)\" d=\"M 0 0 M2116.57 147.052 L2120.82 147.052 L2120.82 172.978 L2116.57 172.978 L2116.57 147.052 M2116.57 136.959 L2120.82 136.959 L2120.82 142.353 L2116.57 142.353 L2116.57 136.959 Z\" fill=\"#000000\" fill-rule=\"evenodd\" fill-opacity=\"1\" /><path clip-path=\"url(#clip940)\" d=\"M 0 0 M2146.84 157.329 L2146.84 172.978 L2142.58 172.978 L2142.58 157.468 Q2142.58 153.788 2141.15 151.959 Q2139.71 150.13 2136.84 150.13 Q2133.39 150.13 2131.4 152.33 Q2129.41 154.529 2129.41 158.325 L2129.41 172.978 L2125.13 172.978 L2125.13 147.052 L2129.41 147.052 L2129.41 151.08 Q2130.94 148.742 2133 147.584 Q2135.08 146.427 2137.79 146.427 Q2142.26 146.427 2144.55 149.205 Q2146.84 151.959 2146.84 157.329 Z\" fill=\"#000000\" fill-rule=\"evenodd\" fill-opacity=\"1\" /><path clip-path=\"url(#clip940)\" d=\"M 0 0 M2173.49 158.95 L2173.49 161.033 L2153.9 161.033 Q2154.18 165.431 2156.54 167.746 Q2158.93 170.038 2163.16 170.038 Q2165.62 170.038 2167.91 169.436 Q2170.22 168.834 2172.49 167.63 L2172.49 171.658 Q2170.2 172.63 2167.79 173.14 Q2165.38 173.649 2162.91 173.649 Q2156.7 173.649 2153.07 170.038 Q2149.46 166.427 2149.46 160.269 Q2149.46 153.904 2152.88 150.177 Q2156.33 146.427 2162.17 146.427 Q2167.4 146.427 2170.43 149.806 Q2173.49 153.163 2173.49 158.95 M2169.23 157.7 Q2169.18 154.205 2167.26 152.121 Q2165.36 150.038 2162.21 150.038 Q2158.65 150.038 2156.5 152.052 Q2154.37 154.066 2154.04 157.723 L2169.23 157.7 Z\" fill=\"#000000\" fill-rule=\"evenodd\" fill-opacity=\"1\" /><circle clip-path=\"url(#clip940)\" cx=\"2011.26\" cy=\"216.178\" r=\"23\" fill=\"#e26f46\" fill-rule=\"evenodd\" fill-opacity=\"1\" stroke=\"#000000\" stroke-opacity=\"1\" stroke-width=\"5.12\"/>\n<path clip-path=\"url(#clip940)\" d=\"M 0 0 M2112.12 229.569 L2112.12 243.319 L2107.84 243.319 L2107.84 207.532 L2112.12 207.532 L2112.12 211.467 Q2113.46 209.152 2115.5 208.041 Q2117.56 206.907 2120.41 206.907 Q2125.13 206.907 2128.07 210.657 Q2131.03 214.407 2131.03 220.518 Q2131.03 226.629 2128.07 230.379 Q2125.13 234.129 2120.41 234.129 Q2117.56 234.129 2115.5 233.018 Q2113.46 231.883 2112.12 229.569 M2126.61 220.518 Q2126.61 215.819 2124.67 213.157 Q2122.75 210.472 2119.37 210.472 Q2115.99 210.472 2114.04 213.157 Q2112.12 215.819 2112.12 220.518 Q2112.12 225.217 2114.04 227.902 Q2115.99 230.564 2119.37 230.564 Q2122.75 230.564 2124.67 227.902 Q2126.61 225.217 2126.61 220.518 Z\" fill=\"#000000\" fill-rule=\"evenodd\" fill-opacity=\"1\" /><path clip-path=\"url(#clip940)\" d=\"M 0 0 M2145.55 210.518 Q2142.12 210.518 2140.13 213.203 Q2138.14 215.865 2138.14 220.518 Q2138.14 225.171 2140.11 227.856 Q2142.1 230.518 2145.55 230.518 Q2148.95 230.518 2150.94 227.833 Q2152.93 225.147 2152.93 220.518 Q2152.93 215.911 2150.94 213.226 Q2148.95 210.518 2145.55 210.518 M2145.55 206.907 Q2151.1 206.907 2154.27 210.518 Q2157.45 214.129 2157.45 220.518 Q2157.45 226.884 2154.27 230.518 Q2151.1 234.129 2145.55 234.129 Q2139.97 234.129 2136.8 230.518 Q2133.65 226.884 2133.65 220.518 Q2133.65 214.129 2136.8 210.518 Q2139.97 206.907 2145.55 206.907 Z\" fill=\"#000000\" fill-rule=\"evenodd\" fill-opacity=\"1\" /><path clip-path=\"url(#clip940)\" d=\"M 0 0 M2161.91 207.532 L2166.17 207.532 L2166.17 233.458 L2161.91 233.458 L2161.91 207.532 M2161.91 197.439 L2166.17 197.439 L2166.17 202.833 L2161.91 202.833 L2161.91 197.439 Z\" fill=\"#000000\" fill-rule=\"evenodd\" fill-opacity=\"1\" /><path clip-path=\"url(#clip940)\" d=\"M 0 0 M2192.19 217.809 L2192.19 233.458 L2187.93 233.458 L2187.93 217.948 Q2187.93 214.268 2186.5 212.439 Q2185.06 210.61 2182.19 210.61 Q2178.74 210.61 2176.75 212.81 Q2174.76 215.009 2174.76 218.805 L2174.76 233.458 L2170.48 233.458 L2170.48 207.532 L2174.76 207.532 L2174.76 211.56 Q2176.29 209.222 2178.35 208.064 Q2180.43 206.907 2183.14 206.907 Q2187.61 206.907 2189.9 209.685 Q2192.19 212.439 2192.19 217.809 Z\" fill=\"#000000\" fill-rule=\"evenodd\" fill-opacity=\"1\" /><path clip-path=\"url(#clip940)\" d=\"M 0 0 M2200.87 200.171 L2200.87 207.532 L2209.64 207.532 L2209.64 210.842 L2200.87 210.842 L2200.87 224.916 Q2200.87 228.087 2201.73 228.99 Q2202.61 229.893 2205.27 229.893 L2209.64 229.893 L2209.64 233.458 L2205.27 233.458 Q2200.34 233.458 2198.46 231.629 Q2196.59 229.777 2196.59 224.916 L2196.59 210.842 L2193.46 210.842 L2193.46 207.532 L2196.59 207.532 L2196.59 200.171 L2200.87 200.171 Z\" fill=\"#000000\" fill-rule=\"evenodd\" fill-opacity=\"1\" /><path clip-path=\"url(#clip940)\" d=\"M 0 0 M2230.64 208.296 L2230.64 212.323 Q2228.83 211.397 2226.89 210.935 Q2224.94 210.472 2222.86 210.472 Q2219.69 210.472 2218.09 211.444 Q2216.52 212.416 2216.52 214.36 Q2216.52 215.842 2217.65 216.698 Q2218.79 217.532 2222.21 218.296 L2223.67 218.62 Q2228.21 219.592 2230.11 221.374 Q2232.03 223.134 2232.03 226.305 Q2232.03 229.916 2229.16 232.022 Q2226.31 234.129 2221.31 234.129 Q2219.23 234.129 2216.96 233.712 Q2214.71 233.319 2212.21 232.508 L2212.21 228.11 Q2214.57 229.337 2216.87 229.962 Q2219.16 230.564 2221.4 230.564 Q2224.41 230.564 2226.03 229.546 Q2227.65 228.504 2227.65 226.629 Q2227.65 224.893 2226.47 223.967 Q2225.32 223.041 2221.36 222.184 L2219.88 221.837 Q2215.92 221.004 2214.16 219.291 Q2212.4 217.555 2212.4 214.546 Q2212.4 210.888 2214.99 208.898 Q2217.58 206.907 2222.35 206.907 Q2224.71 206.907 2226.8 207.254 Q2228.88 207.601 2230.64 208.296 Z\" fill=\"#000000\" fill-rule=\"evenodd\" fill-opacity=\"1\" /></svg>\n"
     },
     "execution_count": 100,
     "metadata": {},
     "output_type": "execute_result"
    }
   ],
   "source": [
    "plot(x, y, label=\"line\")\n",
    "scatter!(x, y, label=\"points\")"
   ]
  },
  {
   "cell_type": "markdown",
   "metadata": {},
   "source": [
    "> **Note:** the `scatter!` command is followed by a bang (`!`) to indicate that it must mutate the existing plot instead of overwriting it. "
   ]
  },
  {
   "cell_type": "markdown",
   "metadata": {},
   "source": [
    "### Plotly "
   ]
  },
  {
   "cell_type": "code",
   "execution_count": 101,
   "metadata": {},
   "outputs": [
    {
     "data": {
      "text/html": "<script>\n// Immediately-invoked-function-expression to avoid global variables.\n(function() {\n    var warning_div = document.getElementById(\"webio-warning-13657804067202808328\");\n    var hide = function () {\n        var script = document.getElementById(\"webio-setup-15412153755866457067\");\n        var parent = script && script.parentElement;\n        var grandparent = parent && parent.parentElement;\n        if (grandparent) {\n            grandparent.style.display = \"none\";\n        }\n        warning_div.style.display = \"none\";\n    };\n    if (typeof Jupyter !== \"undefined\") {\n        console.log(\"WebIO detected Jupyter notebook environment.\");\n        // Jupyter notebook.\n        var extensions = (\n            Jupyter\n            && Jupyter.notebook.config.data\n            && Jupyter.notebook.config.data.load_extensions\n        );\n        if (extensions && extensions[\"webio-jupyter-notebook\"]) {\n            // Extension already loaded.\n            console.log(\"Jupyter WebIO nbextension detected; not loading ad-hoc.\");\n            hide();\n            return;\n        }\n    } else if (window.location.pathname.includes(\"/lab\")) {\n        // Guessing JupyterLa\n        console.log(\"Jupyter Lab detected; make sure the @webio/jupyter-lab-provider labextension is installed.\");\n        hide();\n        return;\n    }\n})();\n\n</script>\n<p\n    id=\"webio-warning-13657804067202808328\"\n    class=\"output_text output_stderr\"\n    style=\"padding: 1em; font-weight: bold;\"\n>\n    Unable to load WebIO. Please make sure WebIO works for your Jupyter client.\n    For troubleshooting, please see <a href=\"https://juliagizmos.github.io/WebIO.jl/latest/providers/ijulia/\">\n    the WebIO/IJulia documentation</a>.\n    <!-- TODO: link to installation docs. -->\n</p>\n",
      "text/plain": "HTML{String}(\"<script>\\n// Immediately-invoked-function-expression to avoid global variables.\\n(function() {\\n    var warning_div = document.getElementById(\\\"webio-warning-13657804067202808328\\\");\\n    var hide = function () {\\n        var script = document.getElementById(\\\"webio-setup-15412153755866457067\\\");\\n        var parent = script && script.parentElement;\\n        var grandparent = parent && parent.parentElement;\\n        if (grandparent) {\\n            grandparent.style.display = \\\"none\\\";\\n        }\\n        warning_div.style.display = \\\"none\\\";\\n    };\\n    if (typeof Jupyter !== \\\"undefined\\\") {\\n        console.log(\\\"WebIO detected Jupyter notebook environment.\\\");\\n        // Jupyter notebook.\\n        var extensions = (\\n            Jupyter\\n            && Jupyter.notebook.config.data\\n            && Jupyter.notebook.config.data.load_extensions\\n        );\\n        if (extensions && extensions[\\\"webio-jupyter-notebook\\\"]) {\\n            // Extension already loaded.\\n            console.log(\\\"Jupyter WebIO nbextension detected; not loading ad-hoc.\\\");\\n            hide();\\n            return;\\n        }\\n    } else if (window.location.pathname.includes(\\\"/lab\\\")) {\\n        // Guessing JupyterLa\\n        console.log(\\\"Jupyter Lab detected; make sure the @webio/jupyter-lab-provider labextension is installed.\\\");\\n        hide();\\n        return;\\n    }\\n})();\\n\\n</script>\\n<p\\n    id=\\\"webio-warning-13657804067202808328\\\"\\n    class=\\\"output_text output_stderr\\\"\\n    style=\\\"padding: 1em; font-weight: bold;\\\"\\n>\\n    Unable to load WebIO. Please make sure WebIO works for your Jupyter client.\\n    For troubleshooting, please see <a href=\\\"https://juliagizmos.github.io/WebIO.jl/latest/providers/ijulia/\\\">\\n    the WebIO/IJulia documentation</a>.\\n    <!-- TODO: link to installation docs. -->\\n</p>\\n\")"
     },
     "metadata": {},
     "output_type": "display_data"
    },
    {
     "data": {
      "text/plain": "Plots.PlotlyJSBackend()"
     },
     "execution_count": 101,
     "metadata": {},
     "output_type": "execute_result"
    }
   ],
   "source": [
    "plotlyjs()"
   ]
  },
  {
   "cell_type": "code",
   "execution_count": 102,
   "metadata": {},
   "outputs": [
    {
     "data": {
      "text/html": "    <script type=\"text/javascript\">\n        requirejs([\"https://cdn.plot.ly/plotly-1.57.1.min.js\"], function(p) {\n            window.Plotly = p\n        });\n    </script>\n"
     },
     "metadata": {},
     "output_type": "display_data"
    },
    {
     "data": {
      "application/vnd.plotly.v1+json": {
       "data": [
        {
         "colorbar": {
          "title": ""
         },
         "legendgroup": "line",
         "line": {
          "color": "rgba(0, 154, 250, 1.000)",
          "dash": "solid",
          "shape": "linear",
          "width": 1
         },
         "mode": "lines",
         "name": "line",
         "showlegend": true,
         "type": "scatter",
         "x": [
          -3,
          -2.9,
          -2.8,
          -2.7,
          -2.6,
          -2.5,
          -2.4,
          -2.3,
          -2.2,
          -2.1,
          -2,
          -1.9,
          -1.8,
          -1.7,
          -1.6,
          -1.5,
          -1.4,
          -1.3,
          -1.2,
          -1.1,
          -1,
          -0.9,
          -0.8,
          -0.7,
          -0.6,
          -0.5,
          -0.4,
          -0.3,
          -0.2,
          -0.1,
          0,
          0.1,
          0.2,
          0.3,
          0.4,
          0.5,
          0.6,
          0.7,
          0.8,
          0.9,
          1,
          1.1,
          1.2,
          1.3,
          1.4,
          1.5,
          1.6,
          1.7,
          1.8,
          1.9,
          2,
          2.1,
          2.2,
          2.3,
          2.4,
          2.5,
          2.6,
          2.7,
          2.8,
          2.9,
          3
         ],
         "xaxis": "x",
         "y": [
          -0.1411200080598672,
          -0.23924932921398243,
          -0.3349881501559051,
          -0.4273798802338298,
          -0.5155013718214642,
          -0.5984721441039564,
          -0.675463180551151,
          -0.7457052121767203,
          -0.8084964038195901,
          -0.8632093666488737,
          -0.9092974268256817,
          -0.9463000876874145,
          -0.9738476308781951,
          -0.9916648104524686,
          -0.9995736030415051,
          -0.9974949866040544,
          -0.9854497299884601,
          -0.963558185417193,
          -0.9320390859672263,
          -0.8912073600614354,
          -0.8414709848078965,
          -0.7833269096274834,
          -0.7173560908995228,
          -0.644217687237691,
          -0.5646424733950354,
          -0.479425538604203,
          -0.3894183423086505,
          -0.29552020666133955,
          -0.19866933079506122,
          -0.09983341664682815,
          0,
          0.09983341664682815,
          0.19866933079506122,
          0.29552020666133955,
          0.3894183423086505,
          0.479425538604203,
          0.5646424733950354,
          0.644217687237691,
          0.7173560908995228,
          0.7833269096274834,
          0.8414709848078965,
          0.8912073600614354,
          0.9320390859672263,
          0.963558185417193,
          0.9854497299884601,
          0.9974949866040544,
          0.9995736030415051,
          0.9916648104524686,
          0.9738476308781951,
          0.9463000876874145,
          0.9092974268256817,
          0.8632093666488737,
          0.8084964038195901,
          0.7457052121767203,
          0.675463180551151,
          0.5984721441039564,
          0.5155013718214642,
          0.4273798802338298,
          0.3349881501559051,
          0.23924932921398243,
          0.1411200080598672
         ],
         "yaxis": "y",
         "zmax": null,
         "zmin": null
        },
        {
         "colorbar": {
          "title": ""
         },
         "legendgroup": "points",
         "marker": {
          "color": "rgba(227, 111, 71, 1.000)",
          "line": {
           "color": "rgba(0, 0, 0, 1.000)",
           "width": 1
          },
          "size": 8,
          "symbol": "circle"
         },
         "mode": "markers",
         "name": "points",
         "showlegend": true,
         "type": "scatter",
         "x": [
          -3,
          -2.9,
          -2.8,
          -2.7,
          -2.6,
          -2.5,
          -2.4,
          -2.3,
          -2.2,
          -2.1,
          -2,
          -1.9,
          -1.8,
          -1.7,
          -1.6,
          -1.5,
          -1.4,
          -1.3,
          -1.2,
          -1.1,
          -1,
          -0.9,
          -0.8,
          -0.7,
          -0.6,
          -0.5,
          -0.4,
          -0.3,
          -0.2,
          -0.1,
          0,
          0.1,
          0.2,
          0.3,
          0.4,
          0.5,
          0.6,
          0.7,
          0.8,
          0.9,
          1,
          1.1,
          1.2,
          1.3,
          1.4,
          1.5,
          1.6,
          1.7,
          1.8,
          1.9,
          2,
          2.1,
          2.2,
          2.3,
          2.4,
          2.5,
          2.6,
          2.7,
          2.8,
          2.9,
          3
         ],
         "xaxis": "x",
         "y": [
          -0.1411200080598672,
          -0.23924932921398243,
          -0.3349881501559051,
          -0.4273798802338298,
          -0.5155013718214642,
          -0.5984721441039564,
          -0.675463180551151,
          -0.7457052121767203,
          -0.8084964038195901,
          -0.8632093666488737,
          -0.9092974268256817,
          -0.9463000876874145,
          -0.9738476308781951,
          -0.9916648104524686,
          -0.9995736030415051,
          -0.9974949866040544,
          -0.9854497299884601,
          -0.963558185417193,
          -0.9320390859672263,
          -0.8912073600614354,
          -0.8414709848078965,
          -0.7833269096274834,
          -0.7173560908995228,
          -0.644217687237691,
          -0.5646424733950354,
          -0.479425538604203,
          -0.3894183423086505,
          -0.29552020666133955,
          -0.19866933079506122,
          -0.09983341664682815,
          0,
          0.09983341664682815,
          0.19866933079506122,
          0.29552020666133955,
          0.3894183423086505,
          0.479425538604203,
          0.5646424733950354,
          0.644217687237691,
          0.7173560908995228,
          0.7833269096274834,
          0.8414709848078965,
          0.8912073600614354,
          0.9320390859672263,
          0.963558185417193,
          0.9854497299884601,
          0.9974949866040544,
          0.9995736030415051,
          0.9916648104524686,
          0.9738476308781951,
          0.9463000876874145,
          0.9092974268256817,
          0.8632093666488737,
          0.8084964038195901,
          0.7457052121767203,
          0.675463180551151,
          0.5984721441039564,
          0.5155013718214642,
          0.4273798802338298,
          0.3349881501559051,
          0.23924932921398243,
          0.1411200080598672
         ],
         "yaxis": "y",
         "zmax": null,
         "zmin": null
        }
       ],
       "layout": {
        "annotations": [],
        "height": 400,
        "legend": {
         "bgcolor": "rgba(255, 255, 255, 1.000)",
         "bordercolor": "rgba(0, 0, 0, 1.000)",
         "borderwidth": 1,
         "font": {
          "color": "rgba(0, 0, 0, 1.000)",
          "family": "sans-serif",
          "size": 11
         },
         "title": {
          "font": {
           "color": "rgba(0, 0, 0, 1.000)",
           "family": "sans-serif",
           "size": 15
          },
          "text": ""
         },
         "tracegroupgap": 0,
         "traceorder": "normal",
         "x": 1,
         "xanchor": "auto",
         "y": 1,
         "yanchor": "auto"
        },
        "margin": {
         "b": 20,
         "l": 0,
         "r": 0,
         "t": 20
        },
        "paper_bgcolor": "rgba(255, 255, 255, 1.000)",
        "plot_bgcolor": "rgba(255, 255, 255, 1.000)",
        "showlegend": true,
        "width": 600,
        "xaxis": {
         "anchor": "y",
         "domain": [
          0.0658209390492855,
          0.9934383202099738
         ],
         "gridcolor": "rgba(0, 0, 0, 0.100)",
         "gridwidth": 0.5,
         "linecolor": "rgba(0, 0, 0, 1.000)",
         "mirror": false,
         "range": [
          -3.18,
          3.18
         ],
         "showgrid": true,
         "showline": true,
         "showticklabels": true,
         "tickangle": 0,
         "tickcolor": "rgb(0, 0, 0)",
         "tickfont": {
          "color": "rgba(0, 0, 0, 1.000)",
          "family": "sans-serif",
          "size": 11
         },
         "tickmode": "array",
         "ticks": "inside",
         "ticktext": [
          "-3",
          "-2",
          "-1",
          "0",
          "1",
          "2",
          "3"
         ],
         "tickvals": [
          -3,
          -2,
          -1,
          0,
          1,
          2,
          3
         ],
         "title": "",
         "titlefont": {
          "color": "rgba(0, 0, 0, 1.000)",
          "family": "sans-serif",
          "size": 15
         },
         "type": "-",
         "visible": true,
         "zeroline": false,
         "zerolinecolor": "rgba(0, 0, 0, 1.000)"
        },
        "yaxis": {
         "anchor": "x",
         "domain": [
          0.03762029746281716,
          0.9901574803149606
         ],
         "gridcolor": "rgba(0, 0, 0, 0.100)",
         "gridwidth": 0.5,
         "linecolor": "rgba(0, 0, 0, 1.000)",
         "mirror": false,
         "range": [
          -1.0595480192239954,
          1.0595480192239954
         ],
         "showgrid": true,
         "showline": true,
         "showticklabels": true,
         "tickangle": 0,
         "tickcolor": "rgb(0, 0, 0)",
         "tickfont": {
          "color": "rgba(0, 0, 0, 1.000)",
          "family": "sans-serif",
          "size": 11
         },
         "tickmode": "array",
         "ticks": "inside",
         "ticktext": [
          "-1.0",
          "-0.5",
          "0.0",
          "0.5",
          "1.0"
         ],
         "tickvals": [
          -1,
          -0.5,
          0,
          0.5,
          1
         ],
         "title": "",
         "titlefont": {
          "color": "rgba(0, 0, 0, 1.000)",
          "family": "sans-serif",
          "size": 15
         },
         "type": "-",
         "visible": true,
         "zeroline": false,
         "zerolinecolor": "rgba(0, 0, 0, 1.000)"
        }
       }
      },
      "text/html": "<!DOCTYPE html>\n<html>\n    <head>\n        <title>Plots.jl</title>\n        <meta http-equiv=\"content-type\" content=\"text/html; charset=UTF-8\">\n        <script src=\"https://cdn.plot.ly/plotly-1.57.1.min.js\"></script>\n    </head>\n    <body>\n            <div id=\"8138d536-527b-46f9-80e6-28c5b9af60e9\" style=\"width:600px;height:400px;\"></div>\n    <script>\n    PLOT = document.getElementById('8138d536-527b-46f9-80e6-28c5b9af60e9');\n    Plotly.plot(PLOT, [\n    {\n        \"xaxis\": \"x\",\n        \"colorbar\": {\n            \"title\": \"\"\n        },\n        \"yaxis\": \"y\",\n        \"x\": [\n            -3.0,\n            -2.9,\n            -2.8,\n            -2.7,\n            -2.6,\n            -2.5,\n            -2.4,\n            -2.3,\n            -2.2,\n            -2.1,\n            -2.0,\n            -1.9,\n            -1.8,\n            -1.7,\n            -1.6,\n            -1.5,\n            -1.4,\n            -1.3,\n            -1.2,\n            -1.1,\n            -1.0,\n            -0.9,\n            -0.8,\n            -0.7,\n            -0.6,\n            -0.5,\n            -0.4,\n            -0.3,\n            -0.2,\n            -0.1,\n            0.0,\n            0.1,\n            0.2,\n            0.3,\n            0.4,\n            0.5,\n            0.6,\n            0.7,\n            0.8,\n            0.9,\n            1.0,\n            1.1,\n            1.2,\n            1.3,\n            1.4,\n            1.5,\n            1.6,\n            1.7,\n            1.8,\n            1.9,\n            2.0,\n            2.1,\n            2.2,\n            2.3,\n            2.4,\n            2.5,\n            2.6,\n            2.7,\n            2.8,\n            2.9,\n            3.0\n        ],\n        \"showlegend\": true,\n        \"mode\": \"lines\",\n        \"name\": \"line\",\n        \"zmin\": null,\n        \"legendgroup\": \"line\",\n        \"zmax\": null,\n        \"line\": {\n            \"color\": \"rgba(0, 154, 250, 1.000)\",\n            \"shape\": \"linear\",\n            \"dash\": \"solid\",\n            \"width\": 1\n        },\n        \"y\": [\n            -0.1411200080598672,\n            -0.23924932921398243,\n            -0.3349881501559051,\n            -0.4273798802338298,\n            -0.5155013718214642,\n            -0.5984721441039564,\n            -0.675463180551151,\n            -0.7457052121767203,\n            -0.8084964038195901,\n            -0.8632093666488737,\n            -0.9092974268256817,\n            -0.9463000876874145,\n            -0.9738476308781951,\n            -0.9916648104524686,\n            -0.9995736030415051,\n            -0.9974949866040544,\n            -0.9854497299884601,\n            -0.963558185417193,\n            -0.9320390859672263,\n            -0.8912073600614354,\n            -0.8414709848078965,\n            -0.7833269096274834,\n            -0.7173560908995228,\n            -0.644217687237691,\n            -0.5646424733950354,\n            -0.479425538604203,\n            -0.3894183423086505,\n            -0.29552020666133955,\n            -0.19866933079506122,\n            -0.09983341664682815,\n            0.0,\n            0.09983341664682815,\n            0.19866933079506122,\n            0.29552020666133955,\n            0.3894183423086505,\n            0.479425538604203,\n            0.5646424733950354,\n            0.644217687237691,\n            0.7173560908995228,\n            0.7833269096274834,\n            0.8414709848078965,\n            0.8912073600614354,\n            0.9320390859672263,\n            0.963558185417193,\n            0.9854497299884601,\n            0.9974949866040544,\n            0.9995736030415051,\n            0.9916648104524686,\n            0.9738476308781951,\n            0.9463000876874145,\n            0.9092974268256817,\n            0.8632093666488737,\n            0.8084964038195901,\n            0.7457052121767203,\n            0.675463180551151,\n            0.5984721441039564,\n            0.5155013718214642,\n            0.4273798802338298,\n            0.3349881501559051,\n            0.23924932921398243,\n            0.1411200080598672\n        ],\n        \"type\": \"scatter\"\n    },\n    {\n        \"xaxis\": \"x\",\n        \"colorbar\": {\n            \"title\": \"\"\n        },\n        \"yaxis\": \"y\",\n        \"x\": [\n            -3.0,\n            -2.9,\n            -2.8,\n            -2.7,\n            -2.6,\n            -2.5,\n            -2.4,\n            -2.3,\n            -2.2,\n            -2.1,\n            -2.0,\n            -1.9,\n            -1.8,\n            -1.7,\n            -1.6,\n            -1.5,\n            -1.4,\n            -1.3,\n            -1.2,\n            -1.1,\n            -1.0,\n            -0.9,\n            -0.8,\n            -0.7,\n            -0.6,\n            -0.5,\n            -0.4,\n            -0.3,\n            -0.2,\n            -0.1,\n            0.0,\n            0.1,\n            0.2,\n            0.3,\n            0.4,\n            0.5,\n            0.6,\n            0.7,\n            0.8,\n            0.9,\n            1.0,\n            1.1,\n            1.2,\n            1.3,\n            1.4,\n            1.5,\n            1.6,\n            1.7,\n            1.8,\n            1.9,\n            2.0,\n            2.1,\n            2.2,\n            2.3,\n            2.4,\n            2.5,\n            2.6,\n            2.7,\n            2.8,\n            2.9,\n            3.0\n        ],\n        \"showlegend\": true,\n        \"mode\": \"markers\",\n        \"name\": \"points\",\n        \"zmin\": null,\n        \"legendgroup\": \"points\",\n        \"marker\": {\n            \"symbol\": \"circle\",\n            \"color\": \"rgba(227, 111, 71, 1.000)\",\n            \"line\": {\n                \"color\": \"rgba(0, 0, 0, 1.000)\",\n                \"width\": 1\n            },\n            \"size\": 8\n        },\n        \"zmax\": null,\n        \"y\": [\n            -0.1411200080598672,\n            -0.23924932921398243,\n            -0.3349881501559051,\n            -0.4273798802338298,\n            -0.5155013718214642,\n            -0.5984721441039564,\n            -0.675463180551151,\n            -0.7457052121767203,\n            -0.8084964038195901,\n            -0.8632093666488737,\n            -0.9092974268256817,\n            -0.9463000876874145,\n            -0.9738476308781951,\n            -0.9916648104524686,\n            -0.9995736030415051,\n            -0.9974949866040544,\n            -0.9854497299884601,\n            -0.963558185417193,\n            -0.9320390859672263,\n            -0.8912073600614354,\n            -0.8414709848078965,\n            -0.7833269096274834,\n            -0.7173560908995228,\n            -0.644217687237691,\n            -0.5646424733950354,\n            -0.479425538604203,\n            -0.3894183423086505,\n            -0.29552020666133955,\n            -0.19866933079506122,\n            -0.09983341664682815,\n            0.0,\n            0.09983341664682815,\n            0.19866933079506122,\n            0.29552020666133955,\n            0.3894183423086505,\n            0.479425538604203,\n            0.5646424733950354,\n            0.644217687237691,\n            0.7173560908995228,\n            0.7833269096274834,\n            0.8414709848078965,\n            0.8912073600614354,\n            0.9320390859672263,\n            0.963558185417193,\n            0.9854497299884601,\n            0.9974949866040544,\n            0.9995736030415051,\n            0.9916648104524686,\n            0.9738476308781951,\n            0.9463000876874145,\n            0.9092974268256817,\n            0.8632093666488737,\n            0.8084964038195901,\n            0.7457052121767203,\n            0.675463180551151,\n            0.5984721441039564,\n            0.5155013718214642,\n            0.4273798802338298,\n            0.3349881501559051,\n            0.23924932921398243,\n            0.1411200080598672\n        ],\n        \"type\": \"scatter\"\n    }\n]\n, {\n    \"showlegend\": true,\n    \"xaxis\": {\n        \"showticklabels\": true,\n        \"gridwidth\": 0.5,\n        \"tickvals\": [\n            -3.0,\n            -2.0,\n            -1.0,\n            0.0,\n            1.0,\n            2.0,\n            3.0\n        ],\n        \"visible\": true,\n        \"ticks\": \"inside\",\n        \"range\": [\n            -3.18,\n            3.18\n        ],\n        \"domain\": [\n            0.0658209390492855,\n            0.9934383202099738\n        ],\n        \"tickmode\": \"array\",\n        \"linecolor\": \"rgba(0, 0, 0, 1.000)\",\n        \"showgrid\": true,\n        \"title\": \"\",\n        \"mirror\": false,\n        \"tickangle\": 0,\n        \"showline\": true,\n        \"gridcolor\": \"rgba(0, 0, 0, 0.100)\",\n        \"titlefont\": {\n            \"color\": \"rgba(0, 0, 0, 1.000)\",\n            \"family\": \"sans-serif\",\n            \"size\": 15\n        },\n        \"tickcolor\": \"rgb(0, 0, 0)\",\n        \"ticktext\": [\n            \"-3\",\n            \"-2\",\n            \"-1\",\n            \"0\",\n            \"1\",\n            \"2\",\n            \"3\"\n        ],\n        \"zeroline\": false,\n        \"type\": \"-\",\n        \"tickfont\": {\n            \"color\": \"rgba(0, 0, 0, 1.000)\",\n            \"family\": \"sans-serif\",\n            \"size\": 11\n        },\n        \"zerolinecolor\": \"rgba(0, 0, 0, 1.000)\",\n        \"anchor\": \"y\"\n    },\n    \"paper_bgcolor\": \"rgba(255, 255, 255, 1.000)\",\n    \"annotations\": [],\n    \"height\": 400,\n    \"margin\": {\n        \"l\": 0,\n        \"b\": 20,\n        \"r\": 0,\n        \"t\": 20\n    },\n    \"plot_bgcolor\": \"rgba(255, 255, 255, 1.000)\",\n    \"yaxis\": {\n        \"showticklabels\": true,\n        \"gridwidth\": 0.5,\n        \"tickvals\": [\n            -1.0,\n            -0.5,\n            0.0,\n            0.5,\n            1.0\n        ],\n        \"visible\": true,\n        \"ticks\": \"inside\",\n        \"range\": [\n            -1.0595480192239954,\n            1.0595480192239954\n        ],\n        \"domain\": [\n            0.03762029746281716,\n            0.9901574803149606\n        ],\n        \"tickmode\": \"array\",\n        \"linecolor\": \"rgba(0, 0, 0, 1.000)\",\n        \"showgrid\": true,\n        \"title\": \"\",\n        \"mirror\": false,\n        \"tickangle\": 0,\n        \"showline\": true,\n        \"gridcolor\": \"rgba(0, 0, 0, 0.100)\",\n        \"titlefont\": {\n            \"color\": \"rgba(0, 0, 0, 1.000)\",\n            \"family\": \"sans-serif\",\n            \"size\": 15\n        },\n        \"tickcolor\": \"rgb(0, 0, 0)\",\n        \"ticktext\": [\n            \"-1.0\",\n            \"-0.5\",\n            \"0.0\",\n            \"0.5\",\n            \"1.0\"\n        ],\n        \"zeroline\": false,\n        \"type\": \"-\",\n        \"tickfont\": {\n            \"color\": \"rgba(0, 0, 0, 1.000)\",\n            \"family\": \"sans-serif\",\n            \"size\": 11\n        },\n        \"zerolinecolor\": \"rgba(0, 0, 0, 1.000)\",\n        \"anchor\": \"x\"\n    },\n    \"legend\": {\n        \"borderwidth\": 1,\n        \"tracegroupgap\": 0,\n        \"font\": {\n            \"color\": \"rgba(0, 0, 0, 1.000)\",\n            \"family\": \"sans-serif\",\n            \"size\": 11\n        },\n        \"title\": {\n            \"font\": {\n                \"color\": \"rgba(0, 0, 0, 1.000)\",\n                \"family\": \"sans-serif\",\n                \"size\": 15\n            },\n            \"text\": \"\"\n        },\n        \"traceorder\": \"normal\",\n        \"x\": 1.0,\n        \"yanchor\": \"auto\",\n        \"xanchor\": \"auto\",\n        \"bordercolor\": \"rgba(0, 0, 0, 1.000)\",\n        \"bgcolor\": \"rgba(255, 255, 255, 1.000)\",\n        \"y\": 1.0\n    },\n    \"width\": 600\n}\n);\n    </script>\n\n    </body>\n</html>\n"
     },
     "execution_count": 102,
     "metadata": {},
     "output_type": "execute_result"
    }
   ],
   "source": [
    "plot(x, y, label=\"line\")\n",
    "scatter!(x, y, label=\"points\")"
   ]
  },
  {
   "cell_type": "markdown",
   "metadata": {},
   "source": [
    "Notice how the PlotlyJS plot is interactive and has built-in tooltips."
   ]
  },
  {
   "cell_type": "code",
   "execution_count": 103,
   "metadata": {},
   "outputs": [],
   "source": [
    "globaltemperatures = [14.4, 14.5, 14.8, 15.2, 15.5, 15.8]\n",
    "numpirates = [45000, 20000, 15000, 5000, 400, 17];"
   ]
  },
  {
   "cell_type": "code",
   "execution_count": 104,
   "metadata": {},
   "outputs": [
    {
     "data": {
      "application/vnd.plotly.v1+json": {
       "data": [
        {
         "colorbar": {
          "title": ""
         },
         "legendgroup": "line",
         "line": {
          "color": "rgba(0, 154, 250, 1.000)",
          "dash": "solid",
          "shape": "linear",
          "width": 1
         },
         "mode": "lines",
         "name": "line",
         "showlegend": true,
         "type": "scatter",
         "x": [
          45000,
          20000,
          15000,
          5000,
          400,
          17
         ],
         "xaxis": "x",
         "y": [
          14.4,
          14.5,
          14.8,
          15.2,
          15.5,
          15.8
         ],
         "yaxis": "y",
         "zmax": null,
         "zmin": null
        },
        {
         "colorbar": {
          "title": ""
         },
         "legendgroup": "points",
         "marker": {
          "color": "rgba(227, 111, 71, 1.000)",
          "line": {
           "color": "rgba(0, 0, 0, 1.000)",
           "width": 1
          },
          "size": 8,
          "symbol": "circle"
         },
         "mode": "markers",
         "name": "points",
         "showlegend": true,
         "type": "scatter",
         "x": [
          45000,
          20000,
          15000,
          5000,
          400,
          17
         ],
         "xaxis": "x",
         "y": [
          14.4,
          14.5,
          14.8,
          15.2,
          15.5,
          15.8
         ],
         "yaxis": "y",
         "zmax": null,
         "zmin": null
        }
       ],
       "layout": {
        "annotations": [
         {
          "font": {
           "color": "rgba(0, 0, 0, 1.000)",
           "family": "sans-serif",
           "size": 20
          },
          "rotation": 0,
          "showarrow": false,
          "text": "Influence of Pirate Population on Global Warming",
          "x": 0.5497685185185185,
          "xanchor": "center",
          "xref": "paper",
          "y": 1,
          "yanchor": "top",
          "yref": "paper"
         }
        ],
        "height": 400,
        "legend": {
         "bgcolor": "rgba(255, 255, 255, 1.000)",
         "bordercolor": "rgba(0, 0, 0, 1.000)",
         "borderwidth": 1,
         "font": {
          "color": "rgba(0, 0, 0, 1.000)",
          "family": "sans-serif",
          "size": 11
         },
         "title": {
          "font": {
           "color": "rgba(0, 0, 0, 1.000)",
           "family": "sans-serif",
           "size": 15
          },
          "text": ""
         },
         "tracegroupgap": 0,
         "traceorder": "normal",
         "x": 1,
         "xanchor": "auto",
         "y": 1,
         "yanchor": "auto"
        },
        "margin": {
         "b": 20,
         "l": 0,
         "r": 0,
         "t": 20
        },
        "paper_bgcolor": "rgba(255, 255, 255, 1.000)",
        "plot_bgcolor": "rgba(255, 255, 255, 1.000)",
        "showlegend": true,
        "width": 600,
        "xaxis": {
         "anchor": "y",
         "domain": [
          0.10609871682706327,
          0.9934383202099737
         ],
         "gridcolor": "rgba(0, 0, 0, 0.100)",
         "gridwidth": 0.5,
         "linecolor": "rgba(0, 0, 0, 1.000)",
         "mirror": false,
         "range": [
          46349.49,
          -1332.49
         ],
         "showgrid": true,
         "showline": true,
         "showticklabels": true,
         "tickangle": 0,
         "tickcolor": "rgb(0, 0, 0)",
         "tickfont": {
          "color": "rgba(0, 0, 0, 1.000)",
          "family": "sans-serif",
          "size": 11
         },
         "tickmode": "array",
         "ticks": "inside",
         "ticktext": [
          "0",
          "1×10⁴",
          "2×10⁴",
          "3×10⁴",
          "4×10⁴"
         ],
         "tickvals": [
          0,
          10000,
          20000,
          30000,
          40000
         ],
         "title": "Number of Pirates [Approximate]",
         "titlefont": {
          "color": "rgba(0, 0, 0, 1.000)",
          "family": "sans-serif",
          "size": 15
         },
         "type": "-",
         "visible": true,
         "zeroline": false,
         "zerolinecolor": "rgba(0, 0, 0, 1.000)"
        },
        "yaxis": {
         "anchor": "x",
         "domain": [
          0.07581474190726165,
          0.9415463692038496
         ],
         "gridcolor": "rgba(0, 0, 0, 0.100)",
         "gridwidth": 0.5,
         "linecolor": "rgba(0, 0, 0, 1.000)",
         "mirror": false,
         "range": [
          14.358,
          15.842
         ],
         "showgrid": true,
         "showline": true,
         "showticklabels": true,
         "tickangle": 0,
         "tickcolor": "rgb(0, 0, 0)",
         "tickfont": {
          "color": "rgba(0, 0, 0, 1.000)",
          "family": "sans-serif",
          "size": 11
         },
         "tickmode": "array",
         "ticks": "inside",
         "ticktext": [
          "14.50",
          "14.75",
          "15.00",
          "15.25",
          "15.50",
          "15.75"
         ],
         "tickvals": [
          14.5,
          14.75,
          15,
          15.25,
          15.5,
          15.75
         ],
         "title": "Global Temperatures (C)",
         "titlefont": {
          "color": "rgba(0, 0, 0, 1.000)",
          "family": "sans-serif",
          "size": 15
         },
         "type": "-",
         "visible": true,
         "zeroline": false,
         "zerolinecolor": "rgba(0, 0, 0, 1.000)"
        }
       }
      },
      "text/html": "<!DOCTYPE html>\n<html>\n    <head>\n        <title>Plots.jl</title>\n        <meta http-equiv=\"content-type\" content=\"text/html; charset=UTF-8\">\n        <script src=\"https://cdn.plot.ly/plotly-1.57.1.min.js\"></script>\n    </head>\n    <body>\n            <div id=\"9c54fc02-c284-4fe4-8742-6d7ec1e0481d\" style=\"width:600px;height:400px;\"></div>\n    <script>\n    PLOT = document.getElementById('9c54fc02-c284-4fe4-8742-6d7ec1e0481d');\n    Plotly.plot(PLOT, [\n    {\n        \"xaxis\": \"x\",\n        \"colorbar\": {\n            \"title\": \"\"\n        },\n        \"yaxis\": \"y\",\n        \"x\": [\n            45000.0,\n            20000.0,\n            15000.0,\n            5000.0,\n            400.0,\n            17.0\n        ],\n        \"showlegend\": true,\n        \"mode\": \"lines\",\n        \"name\": \"line\",\n        \"zmin\": null,\n        \"legendgroup\": \"line\",\n        \"zmax\": null,\n        \"line\": {\n            \"color\": \"rgba(0, 154, 250, 1.000)\",\n            \"shape\": \"linear\",\n            \"dash\": \"solid\",\n            \"width\": 1\n        },\n        \"y\": [\n            14.4,\n            14.5,\n            14.8,\n            15.2,\n            15.5,\n            15.8\n        ],\n        \"type\": \"scatter\"\n    },\n    {\n        \"xaxis\": \"x\",\n        \"colorbar\": {\n            \"title\": \"\"\n        },\n        \"yaxis\": \"y\",\n        \"x\": [\n            45000.0,\n            20000.0,\n            15000.0,\n            5000.0,\n            400.0,\n            17.0\n        ],\n        \"showlegend\": true,\n        \"mode\": \"markers\",\n        \"name\": \"points\",\n        \"zmin\": null,\n        \"legendgroup\": \"points\",\n        \"marker\": {\n            \"symbol\": \"circle\",\n            \"color\": \"rgba(227, 111, 71, 1.000)\",\n            \"line\": {\n                \"color\": \"rgba(0, 0, 0, 1.000)\",\n                \"width\": 1\n            },\n            \"size\": 8\n        },\n        \"zmax\": null,\n        \"y\": [\n            14.4,\n            14.5,\n            14.8,\n            15.2,\n            15.5,\n            15.8\n        ],\n        \"type\": \"scatter\"\n    }\n]\n, {\n    \"showlegend\": true,\n    \"xaxis\": {\n        \"showticklabels\": true,\n        \"gridwidth\": 0.5,\n        \"tickvals\": [\n            0.0,\n            10000.0,\n            20000.0,\n            30000.0,\n            40000.0\n        ],\n        \"visible\": true,\n        \"ticks\": \"inside\",\n        \"range\": [\n            46349.49,\n            -1332.49\n        ],\n        \"domain\": [\n            0.10609871682706327,\n            0.9934383202099737\n        ],\n        \"tickmode\": \"array\",\n        \"linecolor\": \"rgba(0, 0, 0, 1.000)\",\n        \"showgrid\": true,\n        \"title\": \"Number of Pirates [Approximate]\",\n        \"mirror\": false,\n        \"tickangle\": 0,\n        \"showline\": true,\n        \"gridcolor\": \"rgba(0, 0, 0, 0.100)\",\n        \"titlefont\": {\n            \"color\": \"rgba(0, 0, 0, 1.000)\",\n            \"family\": \"sans-serif\",\n            \"size\": 15\n        },\n        \"tickcolor\": \"rgb(0, 0, 0)\",\n        \"ticktext\": [\n            \"0\",\n            \"1×10⁴\",\n            \"2×10⁴\",\n            \"3×10⁴\",\n            \"4×10⁴\"\n        ],\n        \"zeroline\": false,\n        \"type\": \"-\",\n        \"tickfont\": {\n            \"color\": \"rgba(0, 0, 0, 1.000)\",\n            \"family\": \"sans-serif\",\n            \"size\": 11\n        },\n        \"zerolinecolor\": \"rgba(0, 0, 0, 1.000)\",\n        \"anchor\": \"y\"\n    },\n    \"paper_bgcolor\": \"rgba(255, 255, 255, 1.000)\",\n    \"annotations\": [\n        {\n            \"yanchor\": \"top\",\n            \"xanchor\": \"center\",\n            \"rotation\": -0.0,\n            \"y\": 1.0,\n            \"font\": {\n                \"color\": \"rgba(0, 0, 0, 1.000)\",\n                \"family\": \"sans-serif\",\n                \"size\": 20\n            },\n            \"yref\": \"paper\",\n            \"showarrow\": false,\n            \"text\": \"Influence of Pirate Population on Global Warming\",\n            \"xref\": \"paper\",\n            \"x\": 0.5497685185185185\n        }\n    ],\n    \"height\": 400,\n    \"margin\": {\n        \"l\": 0,\n        \"b\": 20,\n        \"r\": 0,\n        \"t\": 20\n    },\n    \"plot_bgcolor\": \"rgba(255, 255, 255, 1.000)\",\n    \"yaxis\": {\n        \"showticklabels\": true,\n        \"gridwidth\": 0.5,\n        \"tickvals\": [\n            14.5,\n            14.75,\n            15.0,\n            15.25,\n            15.5,\n            15.75\n        ],\n        \"visible\": true,\n        \"ticks\": \"inside\",\n        \"range\": [\n            14.358,\n            15.842\n        ],\n        \"domain\": [\n            0.07581474190726165,\n            0.9415463692038496\n        ],\n        \"tickmode\": \"array\",\n        \"linecolor\": \"rgba(0, 0, 0, 1.000)\",\n        \"showgrid\": true,\n        \"title\": \"Global Temperatures (C)\",\n        \"mirror\": false,\n        \"tickangle\": 0,\n        \"showline\": true,\n        \"gridcolor\": \"rgba(0, 0, 0, 0.100)\",\n        \"titlefont\": {\n            \"color\": \"rgba(0, 0, 0, 1.000)\",\n            \"family\": \"sans-serif\",\n            \"size\": 15\n        },\n        \"tickcolor\": \"rgb(0, 0, 0)\",\n        \"ticktext\": [\n            \"14.50\",\n            \"14.75\",\n            \"15.00\",\n            \"15.25\",\n            \"15.50\",\n            \"15.75\"\n        ],\n        \"zeroline\": false,\n        \"type\": \"-\",\n        \"tickfont\": {\n            \"color\": \"rgba(0, 0, 0, 1.000)\",\n            \"family\": \"sans-serif\",\n            \"size\": 11\n        },\n        \"zerolinecolor\": \"rgba(0, 0, 0, 1.000)\",\n        \"anchor\": \"x\"\n    },\n    \"legend\": {\n        \"borderwidth\": 1,\n        \"tracegroupgap\": 0,\n        \"font\": {\n            \"color\": \"rgba(0, 0, 0, 1.000)\",\n            \"family\": \"sans-serif\",\n            \"size\": 11\n        },\n        \"title\": {\n            \"font\": {\n                \"color\": \"rgba(0, 0, 0, 1.000)\",\n                \"family\": \"sans-serif\",\n                \"size\": 15\n            },\n            \"text\": \"\"\n        },\n        \"traceorder\": \"normal\",\n        \"x\": 1.0,\n        \"yanchor\": \"auto\",\n        \"xanchor\": \"auto\",\n        \"bordercolor\": \"rgba(0, 0, 0, 1.000)\",\n        \"bgcolor\": \"rgba(255, 255, 255, 1.000)\",\n        \"y\": 1.0\n    },\n    \"width\": 600\n}\n);\n    </script>\n\n    </body>\n</html>\n"
     },
     "execution_count": 104,
     "metadata": {},
     "output_type": "execute_result"
    }
   ],
   "source": [
    "plot(numpirates, globaltemperatures, label=\"line\")  \n",
    "scatter!(numpirates, globaltemperatures, label=\"points\")\n",
    "\n",
    "xflip!()\n",
    "\n",
    "xlabel!(\"Number of Pirates [Approximate]\")\n",
    "ylabel!(\"Global Temperatures (C)\")\n",
    "title!(\"Influence of Pirate Population on Global Warming\")\n"
   ]
  },
  {
   "cell_type": "markdown",
   "metadata": {},
   "source": [
    "## Subplots"
   ]
  },
  {
   "cell_type": "code",
   "execution_count": 105,
   "metadata": {},
   "outputs": [
    {
     "data": {
      "text/plain": "-10:10"
     },
     "execution_count": 105,
     "metadata": {},
     "output_type": "execute_result"
    }
   ],
   "source": [
    "x = -10:10"
   ]
  },
  {
   "cell_type": "code",
   "execution_count": 106,
   "metadata": {},
   "outputs": [
    {
     "data": {
      "application/vnd.plotly.v1+json": {
       "data": [
        {
         "colorbar": {
          "title": ""
         },
         "legendgroup": "y1",
         "line": {
          "color": "rgba(0, 154, 250, 1.000)",
          "dash": "solid",
          "shape": "linear",
          "width": 1
         },
         "mode": "lines",
         "name": "y1",
         "showlegend": true,
         "type": "scatter",
         "x": [
          -10,
          -9,
          -8,
          -7,
          -6,
          -5,
          -4,
          -3,
          -2,
          -1,
          0,
          1,
          2,
          3,
          4,
          5,
          6,
          7,
          8,
          9,
          10
         ],
         "xaxis": "x1",
         "y": [
          -10,
          -9,
          -8,
          -7,
          -6,
          -5,
          -4,
          -3,
          -2,
          -1,
          0,
          1,
          2,
          3,
          4,
          5,
          6,
          7,
          8,
          9,
          10
         ],
         "yaxis": "y1",
         "zmax": null,
         "zmin": null
        },
        {
         "colorbar": {
          "title": ""
         },
         "legendgroup": "y1",
         "line": {
          "color": "rgba(0, 154, 250, 1.000)",
          "dash": "solid",
          "shape": "linear",
          "width": 1
         },
         "mode": "lines",
         "name": "y1",
         "showlegend": true,
         "type": "scatter",
         "x": [
          -10,
          -9,
          -8,
          -7,
          -6,
          -5,
          -4,
          -3,
          -2,
          -1,
          0,
          1,
          2,
          3,
          4,
          5,
          6,
          7,
          8,
          9,
          10
         ],
         "xaxis": "x2",
         "y": [
          100,
          81,
          64,
          49,
          36,
          25,
          16,
          9,
          4,
          1,
          0,
          1,
          4,
          9,
          16,
          25,
          36,
          49,
          64,
          81,
          100
         ],
         "yaxis": "y2",
         "zmax": null,
         "zmin": null
        },
        {
         "colorbar": {
          "title": ""
         },
         "legendgroup": "y1",
         "line": {
          "color": "rgba(0, 154, 250, 1.000)",
          "dash": "solid",
          "shape": "linear",
          "width": 1
         },
         "mode": "lines",
         "name": "y1",
         "showlegend": true,
         "type": "scatter",
         "x": [
          -10,
          -9,
          -8,
          -7,
          -6,
          -5,
          -4,
          -3,
          -2,
          -1,
          0,
          1,
          2,
          3,
          4,
          5,
          6,
          7,
          8,
          9,
          10
         ],
         "xaxis": "x3",
         "y": [
          -1000,
          -729,
          -512,
          -343,
          -216,
          -125,
          -64,
          -27,
          -8,
          -1,
          0,
          1,
          8,
          27,
          64,
          125,
          216,
          343,
          512,
          729,
          1000
         ],
         "yaxis": "y3",
         "zmax": null,
         "zmin": null
        },
        {
         "colorbar": {
          "title": ""
         },
         "legendgroup": "y1",
         "line": {
          "color": "rgba(0, 154, 250, 1.000)",
          "dash": "solid",
          "shape": "linear",
          "width": 1
         },
         "mode": "lines",
         "name": "y1",
         "showlegend": true,
         "type": "scatter",
         "x": [
          -10,
          -9,
          -8,
          -7,
          -6,
          -5,
          -4,
          -3,
          -2,
          -1,
          0,
          1,
          2,
          3,
          4,
          5,
          6,
          7,
          8,
          9,
          10
         ],
         "xaxis": "x4",
         "y": [
          10000,
          6561,
          4096,
          2401,
          1296,
          625,
          256,
          81,
          16,
          1,
          0,
          1,
          16,
          81,
          256,
          625,
          1296,
          2401,
          4096,
          6561,
          10000
         ],
         "yaxis": "y4",
         "zmax": null,
         "zmin": null
        }
       ],
       "layout": {
        "annotations": [],
        "height": 400,
        "margin": {
         "b": 20,
         "l": 0,
         "r": 0,
         "t": 20
        },
        "paper_bgcolor": "rgba(255, 255, 255, 1.000)",
        "plot_bgcolor": "rgba(255, 255, 255, 1.000)",
        "showlegend": false,
        "width": 600,
        "xaxis1": {
         "anchor": "y1",
         "domain": [
          0.08063575386410031,
          0.49343832020997375
         ],
         "gridcolor": "rgba(0, 0, 0, 0.100)",
         "gridwidth": 0.5,
         "linecolor": "rgba(0, 0, 0, 1.000)",
         "mirror": false,
         "range": [
          -10.6,
          10.6
         ],
         "showgrid": true,
         "showline": true,
         "showticklabels": true,
         "tickangle": 0,
         "tickcolor": "rgb(0, 0, 0)",
         "tickfont": {
          "color": "rgba(0, 0, 0, 1.000)",
          "family": "sans-serif",
          "size": 11
         },
         "tickmode": "array",
         "ticks": "inside",
         "ticktext": [
          "-10",
          "-5",
          "0",
          "5",
          "10"
         ],
         "tickvals": [
          -10,
          -5,
          0,
          5,
          10
         ],
         "title": "",
         "titlefont": {
          "color": "rgba(0, 0, 0, 1.000)",
          "family": "sans-serif",
          "size": 15
         },
         "type": "-",
         "visible": true,
         "zeroline": false,
         "zerolinecolor": "rgba(0, 0, 0, 1.000)"
        },
        "xaxis2": {
         "anchor": "y2",
         "domain": [
          0.5806357538641004,
          0.9934383202099738
         ],
         "gridcolor": "rgba(0, 0, 0, 0.100)",
         "gridwidth": 0.5,
         "linecolor": "rgba(0, 0, 0, 1.000)",
         "mirror": false,
         "range": [
          -10.6,
          10.6
         ],
         "showgrid": true,
         "showline": true,
         "showticklabels": true,
         "tickangle": 0,
         "tickcolor": "rgb(0, 0, 0)",
         "tickfont": {
          "color": "rgba(0, 0, 0, 1.000)",
          "family": "sans-serif",
          "size": 11
         },
         "tickmode": "array",
         "ticks": "inside",
         "ticktext": [
          "-10",
          "-5",
          "0",
          "5",
          "10"
         ],
         "tickvals": [
          -10,
          -5,
          0,
          5,
          10
         ],
         "title": "",
         "titlefont": {
          "color": "rgba(0, 0, 0, 1.000)",
          "family": "sans-serif",
          "size": 15
         },
         "type": "-",
         "visible": true,
         "zeroline": false,
         "zerolinecolor": "rgba(0, 0, 0, 1.000)"
        },
        "xaxis3": {
         "anchor": "y3",
         "domain": [
          0.08063575386410031,
          0.49343832020997375
         ],
         "gridcolor": "rgba(0, 0, 0, 0.100)",
         "gridwidth": 0.5,
         "linecolor": "rgba(0, 0, 0, 1.000)",
         "mirror": false,
         "range": [
          -10.6,
          10.6
         ],
         "showgrid": true,
         "showline": true,
         "showticklabels": true,
         "tickangle": 0,
         "tickcolor": "rgb(0, 0, 0)",
         "tickfont": {
          "color": "rgba(0, 0, 0, 1.000)",
          "family": "sans-serif",
          "size": 11
         },
         "tickmode": "array",
         "ticks": "inside",
         "ticktext": [
          "-10",
          "-5",
          "0",
          "5",
          "10"
         ],
         "tickvals": [
          -10,
          -5,
          0,
          5,
          10
         ],
         "title": "",
         "titlefont": {
          "color": "rgba(0, 0, 0, 1.000)",
          "family": "sans-serif",
          "size": 15
         },
         "type": "-",
         "visible": true,
         "zeroline": false,
         "zerolinecolor": "rgba(0, 0, 0, 1.000)"
        },
        "xaxis4": {
         "anchor": "y4",
         "domain": [
          0.5806357538641004,
          0.9934383202099738
         ],
         "gridcolor": "rgba(0, 0, 0, 0.100)",
         "gridwidth": 0.5,
         "linecolor": "rgba(0, 0, 0, 1.000)",
         "mirror": false,
         "range": [
          -10.6,
          10.6
         ],
         "showgrid": true,
         "showline": true,
         "showticklabels": true,
         "tickangle": 0,
         "tickcolor": "rgb(0, 0, 0)",
         "tickfont": {
          "color": "rgba(0, 0, 0, 1.000)",
          "family": "sans-serif",
          "size": 11
         },
         "tickmode": "array",
         "ticks": "inside",
         "ticktext": [
          "-10",
          "-5",
          "0",
          "5",
          "10"
         ],
         "tickvals": [
          -10,
          -5,
          0,
          5,
          10
         ],
         "title": "",
         "titlefont": {
          "color": "rgba(0, 0, 0, 1.000)",
          "family": "sans-serif",
          "size": 15
         },
         "type": "-",
         "visible": true,
         "zeroline": false,
         "zerolinecolor": "rgba(0, 0, 0, 1.000)"
        },
        "yaxis1": {
         "anchor": "x1",
         "domain": [
          0.5376202974628171,
          0.9901574803149606
         ],
         "gridcolor": "rgba(0, 0, 0, 0.100)",
         "gridwidth": 0.5,
         "linecolor": "rgba(0, 0, 0, 1.000)",
         "mirror": false,
         "range": [
          -10.6,
          10.6
         ],
         "showgrid": true,
         "showline": true,
         "showticklabels": true,
         "tickangle": 0,
         "tickcolor": "rgb(0, 0, 0)",
         "tickfont": {
          "color": "rgba(0, 0, 0, 1.000)",
          "family": "sans-serif",
          "size": 11
         },
         "tickmode": "array",
         "ticks": "inside",
         "ticktext": [
          "-10",
          "-5",
          "0",
          "5",
          "10"
         ],
         "tickvals": [
          -10,
          -5,
          0,
          5,
          10
         ],
         "title": "",
         "titlefont": {
          "color": "rgba(0, 0, 0, 1.000)",
          "family": "sans-serif",
          "size": 15
         },
         "type": "-",
         "visible": true,
         "zeroline": false,
         "zerolinecolor": "rgba(0, 0, 0, 1.000)"
        },
        "yaxis2": {
         "anchor": "x2",
         "domain": [
          0.5376202974628171,
          0.9901574803149606
         ],
         "gridcolor": "rgba(0, 0, 0, 0.100)",
         "gridwidth": 0.5,
         "linecolor": "rgba(0, 0, 0, 1.000)",
         "mirror": false,
         "range": [
          -3,
          103
         ],
         "showgrid": true,
         "showline": true,
         "showticklabels": true,
         "tickangle": 0,
         "tickcolor": "rgb(0, 0, 0)",
         "tickfont": {
          "color": "rgba(0, 0, 0, 1.000)",
          "family": "sans-serif",
          "size": 11
         },
         "tickmode": "array",
         "ticks": "inside",
         "ticktext": [
          "0",
          "25",
          "50",
          "75",
          "100"
         ],
         "tickvals": [
          0,
          25,
          50,
          75,
          100
         ],
         "title": "",
         "titlefont": {
          "color": "rgba(0, 0, 0, 1.000)",
          "family": "sans-serif",
          "size": 15
         },
         "type": "-",
         "visible": true,
         "zeroline": false,
         "zerolinecolor": "rgba(0, 0, 0, 1.000)"
        },
        "yaxis3": {
         "anchor": "x3",
         "domain": [
          0.03762029746281716,
          0.4901574803149606
         ],
         "gridcolor": "rgba(0, 0, 0, 0.100)",
         "gridwidth": 0.5,
         "linecolor": "rgba(0, 0, 0, 1.000)",
         "mirror": false,
         "range": [
          -1060,
          1060
         ],
         "showgrid": true,
         "showline": true,
         "showticklabels": true,
         "tickangle": 0,
         "tickcolor": "rgb(0, 0, 0)",
         "tickfont": {
          "color": "rgba(0, 0, 0, 1.000)",
          "family": "sans-serif",
          "size": 11
         },
         "tickmode": "array",
         "ticks": "inside",
         "ticktext": [
          "-1000",
          "-500",
          "0",
          "500",
          "1000"
         ],
         "tickvals": [
          -1000,
          -500,
          0,
          500,
          1000
         ],
         "title": "",
         "titlefont": {
          "color": "rgba(0, 0, 0, 1.000)",
          "family": "sans-serif",
          "size": 15
         },
         "type": "-",
         "visible": true,
         "zeroline": false,
         "zerolinecolor": "rgba(0, 0, 0, 1.000)"
        },
        "yaxis4": {
         "anchor": "x4",
         "domain": [
          0.03762029746281716,
          0.4901574803149606
         ],
         "gridcolor": "rgba(0, 0, 0, 0.100)",
         "gridwidth": 0.5,
         "linecolor": "rgba(0, 0, 0, 1.000)",
         "mirror": false,
         "range": [
          -300,
          10300
         ],
         "showgrid": true,
         "showline": true,
         "showticklabels": true,
         "tickangle": 0,
         "tickcolor": "rgb(0, 0, 0)",
         "tickfont": {
          "color": "rgba(0, 0, 0, 1.000)",
          "family": "sans-serif",
          "size": 11
         },
         "tickmode": "array",
         "ticks": "inside",
         "ticktext": [
          "0",
          "2500",
          "5000",
          "7500",
          "10000"
         ],
         "tickvals": [
          0,
          2500,
          5000,
          7500,
          10000
         ],
         "title": "",
         "titlefont": {
          "color": "rgba(0, 0, 0, 1.000)",
          "family": "sans-serif",
          "size": 15
         },
         "type": "-",
         "visible": true,
         "zeroline": false,
         "zerolinecolor": "rgba(0, 0, 0, 1.000)"
        }
       }
      },
      "text/html": "<!DOCTYPE html>\n<html>\n    <head>\n        <title>Plots.jl</title>\n        <meta http-equiv=\"content-type\" content=\"text/html; charset=UTF-8\">\n        <script src=\"https://cdn.plot.ly/plotly-1.57.1.min.js\"></script>\n    </head>\n    <body>\n            <div id=\"fb798ca2-b0e3-4ec0-8bc3-d37710235b57\" style=\"width:600px;height:400px;\"></div>\n    <script>\n    PLOT = document.getElementById('fb798ca2-b0e3-4ec0-8bc3-d37710235b57');\n    Plotly.plot(PLOT, [\n    {\n        \"xaxis\": \"x1\",\n        \"colorbar\": {\n            \"title\": \"\"\n        },\n        \"yaxis\": \"y1\",\n        \"x\": [\n            -10,\n            -9,\n            -8,\n            -7,\n            -6,\n            -5,\n            -4,\n            -3,\n            -2,\n            -1,\n            0,\n            1,\n            2,\n            3,\n            4,\n            5,\n            6,\n            7,\n            8,\n            9,\n            10\n        ],\n        \"showlegend\": true,\n        \"mode\": \"lines\",\n        \"name\": \"y1\",\n        \"zmin\": null,\n        \"legendgroup\": \"y1\",\n        \"zmax\": null,\n        \"line\": {\n            \"color\": \"rgba(0, 154, 250, 1.000)\",\n            \"shape\": \"linear\",\n            \"dash\": \"solid\",\n            \"width\": 1\n        },\n        \"y\": [\n            -10,\n            -9,\n            -8,\n            -7,\n            -6,\n            -5,\n            -4,\n            -3,\n            -2,\n            -1,\n            0,\n            1,\n            2,\n            3,\n            4,\n            5,\n            6,\n            7,\n            8,\n            9,\n            10\n        ],\n        \"type\": \"scatter\"\n    },\n    {\n        \"xaxis\": \"x2\",\n        \"colorbar\": {\n            \"title\": \"\"\n        },\n        \"yaxis\": \"y2\",\n        \"x\": [\n            -10,\n            -9,\n            -8,\n            -7,\n            -6,\n            -5,\n            -4,\n            -3,\n            -2,\n            -1,\n            0,\n            1,\n            2,\n            3,\n            4,\n            5,\n            6,\n            7,\n            8,\n            9,\n            10\n        ],\n        \"showlegend\": true,\n        \"mode\": \"lines\",\n        \"name\": \"y1\",\n        \"zmin\": null,\n        \"legendgroup\": \"y1\",\n        \"zmax\": null,\n        \"line\": {\n            \"color\": \"rgba(0, 154, 250, 1.000)\",\n            \"shape\": \"linear\",\n            \"dash\": \"solid\",\n            \"width\": 1\n        },\n        \"y\": [\n            100.0,\n            81.0,\n            64.0,\n            49.0,\n            36.0,\n            25.0,\n            16.0,\n            9.0,\n            4.0,\n            1.0,\n            0.0,\n            1.0,\n            4.0,\n            9.0,\n            16.0,\n            25.0,\n            36.0,\n            49.0,\n            64.0,\n            81.0,\n            100.0\n        ],\n        \"type\": \"scatter\"\n    },\n    {\n        \"xaxis\": \"x3\",\n        \"colorbar\": {\n            \"title\": \"\"\n        },\n        \"yaxis\": \"y3\",\n        \"x\": [\n            -10,\n            -9,\n            -8,\n            -7,\n            -6,\n            -5,\n            -4,\n            -3,\n            -2,\n            -1,\n            0,\n            1,\n            2,\n            3,\n            4,\n            5,\n            6,\n            7,\n            8,\n            9,\n            10\n        ],\n        \"showlegend\": true,\n        \"mode\": \"lines\",\n        \"name\": \"y1\",\n        \"zmin\": null,\n        \"legendgroup\": \"y1\",\n        \"zmax\": null,\n        \"line\": {\n            \"color\": \"rgba(0, 154, 250, 1.000)\",\n            \"shape\": \"linear\",\n            \"dash\": \"solid\",\n            \"width\": 1\n        },\n        \"y\": [\n            -1000.0,\n            -729.0,\n            -512.0,\n            -343.0,\n            -216.0,\n            -125.0,\n            -64.0,\n            -27.0,\n            -8.0,\n            -1.0,\n            0.0,\n            1.0,\n            8.0,\n            27.0,\n            64.0,\n            125.0,\n            216.0,\n            343.0,\n            512.0,\n            729.0,\n            1000.0\n        ],\n        \"type\": \"scatter\"\n    },\n    {\n        \"xaxis\": \"x4\",\n        \"colorbar\": {\n            \"title\": \"\"\n        },\n        \"yaxis\": \"y4\",\n        \"x\": [\n            -10,\n            -9,\n            -8,\n            -7,\n            -6,\n            -5,\n            -4,\n            -3,\n            -2,\n            -1,\n            0,\n            1,\n            2,\n            3,\n            4,\n            5,\n            6,\n            7,\n            8,\n            9,\n            10\n        ],\n        \"showlegend\": true,\n        \"mode\": \"lines\",\n        \"name\": \"y1\",\n        \"zmin\": null,\n        \"legendgroup\": \"y1\",\n        \"zmax\": null,\n        \"line\": {\n            \"color\": \"rgba(0, 154, 250, 1.000)\",\n            \"shape\": \"linear\",\n            \"dash\": \"solid\",\n            \"width\": 1\n        },\n        \"y\": [\n            10000.0,\n            6561.0,\n            4096.0,\n            2401.0,\n            1296.0,\n            625.0,\n            256.0,\n            81.0,\n            16.0,\n            1.0,\n            0.0,\n            1.0,\n            16.0,\n            81.0,\n            256.0,\n            625.0,\n            1296.0,\n            2401.0,\n            4096.0,\n            6561.0,\n            10000.0\n        ],\n        \"type\": \"scatter\"\n    }\n]\n, {\n    \"paper_bgcolor\": \"rgba(255, 255, 255, 1.000)\",\n    \"height\": 400,\n    \"yaxis4\": {\n        \"showticklabels\": true,\n        \"gridwidth\": 0.5,\n        \"tickvals\": [\n            0.0,\n            2500.0,\n            5000.0,\n            7500.0,\n            10000.0\n        ],\n        \"visible\": true,\n        \"ticks\": \"inside\",\n        \"range\": [\n            -300.0,\n            10300.0\n        ],\n        \"domain\": [\n            0.03762029746281716,\n            0.4901574803149606\n        ],\n        \"tickmode\": \"array\",\n        \"linecolor\": \"rgba(0, 0, 0, 1.000)\",\n        \"showgrid\": true,\n        \"title\": \"\",\n        \"mirror\": false,\n        \"tickangle\": 0,\n        \"showline\": true,\n        \"gridcolor\": \"rgba(0, 0, 0, 0.100)\",\n        \"titlefont\": {\n            \"color\": \"rgba(0, 0, 0, 1.000)\",\n            \"family\": \"sans-serif\",\n            \"size\": 15\n        },\n        \"tickcolor\": \"rgb(0, 0, 0)\",\n        \"ticktext\": [\n            \"0\",\n            \"2500\",\n            \"5000\",\n            \"7500\",\n            \"10000\"\n        ],\n        \"zeroline\": false,\n        \"type\": \"-\",\n        \"tickfont\": {\n            \"color\": \"rgba(0, 0, 0, 1.000)\",\n            \"family\": \"sans-serif\",\n            \"size\": 11\n        },\n        \"zerolinecolor\": \"rgba(0, 0, 0, 1.000)\",\n        \"anchor\": \"x4\"\n    },\n    \"yaxis2\": {\n        \"showticklabels\": true,\n        \"gridwidth\": 0.5,\n        \"tickvals\": [\n            0.0,\n            25.0,\n            50.0,\n            75.0,\n            100.0\n        ],\n        \"visible\": true,\n        \"ticks\": \"inside\",\n        \"range\": [\n            -3.0,\n            103.0\n        ],\n        \"domain\": [\n            0.5376202974628171,\n            0.9901574803149606\n        ],\n        \"tickmode\": \"array\",\n        \"linecolor\": \"rgba(0, 0, 0, 1.000)\",\n        \"showgrid\": true,\n        \"title\": \"\",\n        \"mirror\": false,\n        \"tickangle\": 0,\n        \"showline\": true,\n        \"gridcolor\": \"rgba(0, 0, 0, 0.100)\",\n        \"titlefont\": {\n            \"color\": \"rgba(0, 0, 0, 1.000)\",\n            \"family\": \"sans-serif\",\n            \"size\": 15\n        },\n        \"tickcolor\": \"rgb(0, 0, 0)\",\n        \"ticktext\": [\n            \"0\",\n            \"25\",\n            \"50\",\n            \"75\",\n            \"100\"\n        ],\n        \"zeroline\": false,\n        \"type\": \"-\",\n        \"tickfont\": {\n            \"color\": \"rgba(0, 0, 0, 1.000)\",\n            \"family\": \"sans-serif\",\n            \"size\": 11\n        },\n        \"zerolinecolor\": \"rgba(0, 0, 0, 1.000)\",\n        \"anchor\": \"x2\"\n    },\n    \"xaxis3\": {\n        \"showticklabels\": true,\n        \"gridwidth\": 0.5,\n        \"tickvals\": [\n            -10.0,\n            -5.0,\n            0.0,\n            5.0,\n            10.0\n        ],\n        \"visible\": true,\n        \"ticks\": \"inside\",\n        \"range\": [\n            -10.6,\n            10.6\n        ],\n        \"domain\": [\n            0.08063575386410031,\n            0.49343832020997375\n        ],\n        \"tickmode\": \"array\",\n        \"linecolor\": \"rgba(0, 0, 0, 1.000)\",\n        \"showgrid\": true,\n        \"title\": \"\",\n        \"mirror\": false,\n        \"tickangle\": 0,\n        \"showline\": true,\n        \"gridcolor\": \"rgba(0, 0, 0, 0.100)\",\n        \"titlefont\": {\n            \"color\": \"rgba(0, 0, 0, 1.000)\",\n            \"family\": \"sans-serif\",\n            \"size\": 15\n        },\n        \"tickcolor\": \"rgb(0, 0, 0)\",\n        \"ticktext\": [\n            \"-10\",\n            \"-5\",\n            \"0\",\n            \"5\",\n            \"10\"\n        ],\n        \"zeroline\": false,\n        \"type\": \"-\",\n        \"tickfont\": {\n            \"color\": \"rgba(0, 0, 0, 1.000)\",\n            \"family\": \"sans-serif\",\n            \"size\": 11\n        },\n        \"zerolinecolor\": \"rgba(0, 0, 0, 1.000)\",\n        \"anchor\": \"y3\"\n    },\n    \"xaxis4\": {\n        \"showticklabels\": true,\n        \"gridwidth\": 0.5,\n        \"tickvals\": [\n            -10.0,\n            -5.0,\n            0.0,\n            5.0,\n            10.0\n        ],\n        \"visible\": true,\n        \"ticks\": \"inside\",\n        \"range\": [\n            -10.6,\n            10.6\n        ],\n        \"domain\": [\n            0.5806357538641004,\n            0.9934383202099738\n        ],\n        \"tickmode\": \"array\",\n        \"linecolor\": \"rgba(0, 0, 0, 1.000)\",\n        \"showgrid\": true,\n        \"title\": \"\",\n        \"mirror\": false,\n        \"tickangle\": 0,\n        \"showline\": true,\n        \"gridcolor\": \"rgba(0, 0, 0, 0.100)\",\n        \"titlefont\": {\n            \"color\": \"rgba(0, 0, 0, 1.000)\",\n            \"family\": \"sans-serif\",\n            \"size\": 15\n        },\n        \"tickcolor\": \"rgb(0, 0, 0)\",\n        \"ticktext\": [\n            \"-10\",\n            \"-5\",\n            \"0\",\n            \"5\",\n            \"10\"\n        ],\n        \"zeroline\": false,\n        \"type\": \"-\",\n        \"tickfont\": {\n            \"color\": \"rgba(0, 0, 0, 1.000)\",\n            \"family\": \"sans-serif\",\n            \"size\": 11\n        },\n        \"zerolinecolor\": \"rgba(0, 0, 0, 1.000)\",\n        \"anchor\": \"y4\"\n    },\n    \"yaxis1\": {\n        \"showticklabels\": true,\n        \"gridwidth\": 0.5,\n        \"tickvals\": [\n            -10.0,\n            -5.0,\n            0.0,\n            5.0,\n            10.0\n        ],\n        \"visible\": true,\n        \"ticks\": \"inside\",\n        \"range\": [\n            -10.6,\n            10.6\n        ],\n        \"domain\": [\n            0.5376202974628171,\n            0.9901574803149606\n        ],\n        \"tickmode\": \"array\",\n        \"linecolor\": \"rgba(0, 0, 0, 1.000)\",\n        \"showgrid\": true,\n        \"title\": \"\",\n        \"mirror\": false,\n        \"tickangle\": 0,\n        \"showline\": true,\n        \"gridcolor\": \"rgba(0, 0, 0, 0.100)\",\n        \"titlefont\": {\n            \"color\": \"rgba(0, 0, 0, 1.000)\",\n            \"family\": \"sans-serif\",\n            \"size\": 15\n        },\n        \"tickcolor\": \"rgb(0, 0, 0)\",\n        \"ticktext\": [\n            \"-10\",\n            \"-5\",\n            \"0\",\n            \"5\",\n            \"10\"\n        ],\n        \"zeroline\": false,\n        \"type\": \"-\",\n        \"tickfont\": {\n            \"color\": \"rgba(0, 0, 0, 1.000)\",\n            \"family\": \"sans-serif\",\n            \"size\": 11\n        },\n        \"zerolinecolor\": \"rgba(0, 0, 0, 1.000)\",\n        \"anchor\": \"x1\"\n    },\n    \"annotations\": [],\n    \"plot_bgcolor\": \"rgba(255, 255, 255, 1.000)\",\n    \"showlegend\": false,\n    \"xaxis1\": {\n        \"showticklabels\": true,\n        \"gridwidth\": 0.5,\n        \"tickvals\": [\n            -10.0,\n            -5.0,\n            0.0,\n            5.0,\n            10.0\n        ],\n        \"visible\": true,\n        \"ticks\": \"inside\",\n        \"range\": [\n            -10.6,\n            10.6\n        ],\n        \"domain\": [\n            0.08063575386410031,\n            0.49343832020997375\n        ],\n        \"tickmode\": \"array\",\n        \"linecolor\": \"rgba(0, 0, 0, 1.000)\",\n        \"showgrid\": true,\n        \"title\": \"\",\n        \"mirror\": false,\n        \"tickangle\": 0,\n        \"showline\": true,\n        \"gridcolor\": \"rgba(0, 0, 0, 0.100)\",\n        \"titlefont\": {\n            \"color\": \"rgba(0, 0, 0, 1.000)\",\n            \"family\": \"sans-serif\",\n            \"size\": 15\n        },\n        \"tickcolor\": \"rgb(0, 0, 0)\",\n        \"ticktext\": [\n            \"-10\",\n            \"-5\",\n            \"0\",\n            \"5\",\n            \"10\"\n        ],\n        \"zeroline\": false,\n        \"type\": \"-\",\n        \"tickfont\": {\n            \"color\": \"rgba(0, 0, 0, 1.000)\",\n            \"family\": \"sans-serif\",\n            \"size\": 11\n        },\n        \"zerolinecolor\": \"rgba(0, 0, 0, 1.000)\",\n        \"anchor\": \"y1\"\n    },\n    \"yaxis3\": {\n        \"showticklabels\": true,\n        \"gridwidth\": 0.5,\n        \"tickvals\": [\n            -1000.0,\n            -500.0,\n            0.0,\n            500.0,\n            1000.0\n        ],\n        \"visible\": true,\n        \"ticks\": \"inside\",\n        \"range\": [\n            -1060.0,\n            1060.0\n        ],\n        \"domain\": [\n            0.03762029746281716,\n            0.4901574803149606\n        ],\n        \"tickmode\": \"array\",\n        \"linecolor\": \"rgba(0, 0, 0, 1.000)\",\n        \"showgrid\": true,\n        \"title\": \"\",\n        \"mirror\": false,\n        \"tickangle\": 0,\n        \"showline\": true,\n        \"gridcolor\": \"rgba(0, 0, 0, 0.100)\",\n        \"titlefont\": {\n            \"color\": \"rgba(0, 0, 0, 1.000)\",\n            \"family\": \"sans-serif\",\n            \"size\": 15\n        },\n        \"tickcolor\": \"rgb(0, 0, 0)\",\n        \"ticktext\": [\n            \"-1000\",\n            \"-500\",\n            \"0\",\n            \"500\",\n            \"1000\"\n        ],\n        \"zeroline\": false,\n        \"type\": \"-\",\n        \"tickfont\": {\n            \"color\": \"rgba(0, 0, 0, 1.000)\",\n            \"family\": \"sans-serif\",\n            \"size\": 11\n        },\n        \"zerolinecolor\": \"rgba(0, 0, 0, 1.000)\",\n        \"anchor\": \"x3\"\n    },\n    \"xaxis2\": {\n        \"showticklabels\": true,\n        \"gridwidth\": 0.5,\n        \"tickvals\": [\n            -10.0,\n            -5.0,\n            0.0,\n            5.0,\n            10.0\n        ],\n        \"visible\": true,\n        \"ticks\": \"inside\",\n        \"range\": [\n            -10.6,\n            10.6\n        ],\n        \"domain\": [\n            0.5806357538641004,\n            0.9934383202099738\n        ],\n        \"tickmode\": \"array\",\n        \"linecolor\": \"rgba(0, 0, 0, 1.000)\",\n        \"showgrid\": true,\n        \"title\": \"\",\n        \"mirror\": false,\n        \"tickangle\": 0,\n        \"showline\": true,\n        \"gridcolor\": \"rgba(0, 0, 0, 0.100)\",\n        \"titlefont\": {\n            \"color\": \"rgba(0, 0, 0, 1.000)\",\n            \"family\": \"sans-serif\",\n            \"size\": 15\n        },\n        \"tickcolor\": \"rgb(0, 0, 0)\",\n        \"ticktext\": [\n            \"-10\",\n            \"-5\",\n            \"0\",\n            \"5\",\n            \"10\"\n        ],\n        \"zeroline\": false,\n        \"type\": \"-\",\n        \"tickfont\": {\n            \"color\": \"rgba(0, 0, 0, 1.000)\",\n            \"family\": \"sans-serif\",\n            \"size\": 11\n        },\n        \"zerolinecolor\": \"rgba(0, 0, 0, 1.000)\",\n        \"anchor\": \"y2\"\n    },\n    \"margin\": {\n        \"l\": 0,\n        \"b\": 20,\n        \"r\": 0,\n        \"t\": 20\n    },\n    \"width\": 600\n}\n);\n    </script>\n\n    </body>\n</html>\n"
     },
     "execution_count": 106,
     "metadata": {},
     "output_type": "execute_result"
    }
   ],
   "source": [
    "p1 = plot(x, x)\n",
    "p2 = plot(x, x.^2)\n",
    "p3 = plot(x, x.^3)\n",
    "p4 = plot(x, x.^4)\n",
    "plot(p1, p2, p3, p4, layout=(2,2), legend=false)"
   ]
  },
  {
   "cell_type": "code",
   "execution_count": 107,
   "metadata": {},
   "outputs": [
    {
     "data": {
      "application/vnd.plotly.v1+json": {
       "data": [
        {
         "colorbar": {
          "title": ""
         },
         "legendgroup": "y1",
         "line": {
          "color": "rgba(0, 154, 250, 1.000)",
          "dash": "solid",
          "shape": "linear",
          "width": 1
         },
         "mode": "lines",
         "name": "y1",
         "showlegend": true,
         "type": "scatter",
         "x": [
          -10,
          -9,
          -8,
          -7,
          -6,
          -5,
          -4,
          -3,
          -2,
          -1,
          0,
          1,
          2,
          3,
          4,
          5,
          6,
          7,
          8,
          9,
          10
         ],
         "xaxis": "x1",
         "y": [
          -10,
          -9,
          -8,
          -7,
          -6,
          -5,
          -4,
          -3,
          -2,
          -1,
          0,
          1,
          2,
          3,
          4,
          5,
          6,
          7,
          8,
          9,
          10
         ],
         "yaxis": "y1",
         "zmax": null,
         "zmin": null
        },
        {
         "colorbar": {
          "title": ""
         },
         "legendgroup": "y1",
         "line": {
          "color": "rgba(0, 154, 250, 1.000)",
          "dash": "solid",
          "shape": "linear",
          "width": 1
         },
         "mode": "lines",
         "name": "y1",
         "showlegend": true,
         "type": "scatter",
         "x": [
          -10,
          -9,
          -8,
          -7,
          -6,
          -5,
          -4,
          -3,
          -2,
          -1,
          0,
          1,
          2,
          3,
          4,
          5,
          6,
          7,
          8,
          9,
          10
         ],
         "xaxis": "x2",
         "y": [
          100,
          81,
          64,
          49,
          36,
          25,
          16,
          9,
          4,
          1,
          0,
          1,
          4,
          9,
          16,
          25,
          36,
          49,
          64,
          81,
          100
         ],
         "yaxis": "y2",
         "zmax": null,
         "zmin": null
        },
        {
         "colorbar": {
          "title": ""
         },
         "legendgroup": "y1",
         "line": {
          "color": "rgba(0, 154, 250, 1.000)",
          "dash": "solid",
          "shape": "linear",
          "width": 1
         },
         "mode": "lines",
         "name": "y1",
         "showlegend": true,
         "type": "scatter",
         "x": [
          -10,
          -9,
          -8,
          -7,
          -6,
          -5,
          -4,
          -3,
          -2,
          -1,
          0,
          1,
          2,
          3,
          4,
          5,
          6,
          7,
          8,
          9,
          10
         ],
         "xaxis": "x3",
         "y": [
          -1000,
          -729,
          -512,
          -343,
          -216,
          -125,
          -64,
          -27,
          -8,
          -1,
          0,
          1,
          8,
          27,
          64,
          125,
          216,
          343,
          512,
          729,
          1000
         ],
         "yaxis": "y3",
         "zmax": null,
         "zmin": null
        },
        {
         "colorbar": {
          "title": ""
         },
         "legendgroup": "y1",
         "line": {
          "color": "rgba(0, 154, 250, 1.000)",
          "dash": "solid",
          "shape": "linear",
          "width": 1
         },
         "mode": "lines",
         "name": "y1",
         "showlegend": true,
         "type": "scatter",
         "x": [
          -10,
          -9,
          -8,
          -7,
          -6,
          -5,
          -4,
          -3,
          -2,
          -1,
          0,
          1,
          2,
          3,
          4,
          5,
          6,
          7,
          8,
          9,
          10
         ],
         "xaxis": "x4",
         "y": [
          10000,
          6561,
          4096,
          2401,
          1296,
          625,
          256,
          81,
          16,
          1,
          0,
          1,
          16,
          81,
          256,
          625,
          1296,
          2401,
          4096,
          6561,
          10000
         ],
         "yaxis": "y4",
         "zmax": null,
         "zmin": null
        }
       ],
       "layout": {
        "annotations": [],
        "height": 400,
        "margin": {
         "b": 20,
         "l": 0,
         "r": 0,
         "t": 20
        },
        "paper_bgcolor": "rgba(255, 255, 255, 1.000)",
        "plot_bgcolor": "rgba(255, 255, 255, 1.000)",
        "showlegend": false,
        "width": 600,
        "xaxis1": {
         "anchor": "y1",
         "domain": [
          0.08063575386410031,
          0.9934383202099737
         ],
         "gridcolor": "rgba(0, 0, 0, 0.100)",
         "gridwidth": 0.5,
         "linecolor": "rgba(0, 0, 0, 1.000)",
         "mirror": false,
         "range": [
          -10.6,
          10.6
         ],
         "showgrid": true,
         "showline": true,
         "showticklabels": true,
         "tickangle": 0,
         "tickcolor": "rgb(0, 0, 0)",
         "tickfont": {
          "color": "rgba(0, 0, 0, 1.000)",
          "family": "sans-serif",
          "size": 11
         },
         "tickmode": "array",
         "ticks": "inside",
         "ticktext": [
          "-10",
          "-5",
          "0",
          "5",
          "10"
         ],
         "tickvals": [
          -10,
          -5,
          0,
          5,
          10
         ],
         "title": "",
         "titlefont": {
          "color": "rgba(0, 0, 0, 1.000)",
          "family": "sans-serif",
          "size": 15
         },
         "type": "-",
         "visible": true,
         "zeroline": false,
         "zerolinecolor": "rgba(0, 0, 0, 1.000)"
        },
        "xaxis2": {
         "anchor": "y2",
         "domain": [
          0.08063575386410031,
          0.9934383202099737
         ],
         "gridcolor": "rgba(0, 0, 0, 0.100)",
         "gridwidth": 0.5,
         "linecolor": "rgba(0, 0, 0, 1.000)",
         "mirror": false,
         "range": [
          -10.6,
          10.6
         ],
         "showgrid": true,
         "showline": true,
         "showticklabels": true,
         "tickangle": 0,
         "tickcolor": "rgb(0, 0, 0)",
         "tickfont": {
          "color": "rgba(0, 0, 0, 1.000)",
          "family": "sans-serif",
          "size": 11
         },
         "tickmode": "array",
         "ticks": "inside",
         "ticktext": [
          "-10",
          "-5",
          "0",
          "5",
          "10"
         ],
         "tickvals": [
          -10,
          -5,
          0,
          5,
          10
         ],
         "title": "",
         "titlefont": {
          "color": "rgba(0, 0, 0, 1.000)",
          "family": "sans-serif",
          "size": 15
         },
         "type": "-",
         "visible": true,
         "zeroline": false,
         "zerolinecolor": "rgba(0, 0, 0, 1.000)"
        },
        "xaxis3": {
         "anchor": "y3",
         "domain": [
          0.08063575386410031,
          0.9934383202099737
         ],
         "gridcolor": "rgba(0, 0, 0, 0.100)",
         "gridwidth": 0.5,
         "linecolor": "rgba(0, 0, 0, 1.000)",
         "mirror": false,
         "range": [
          -10.6,
          10.6
         ],
         "showgrid": true,
         "showline": true,
         "showticklabels": true,
         "tickangle": 0,
         "tickcolor": "rgb(0, 0, 0)",
         "tickfont": {
          "color": "rgba(0, 0, 0, 1.000)",
          "family": "sans-serif",
          "size": 11
         },
         "tickmode": "array",
         "ticks": "inside",
         "ticktext": [
          "-10",
          "-5",
          "0",
          "5",
          "10"
         ],
         "tickvals": [
          -10,
          -5,
          0,
          5,
          10
         ],
         "title": "",
         "titlefont": {
          "color": "rgba(0, 0, 0, 1.000)",
          "family": "sans-serif",
          "size": 15
         },
         "type": "-",
         "visible": true,
         "zeroline": false,
         "zerolinecolor": "rgba(0, 0, 0, 1.000)"
        },
        "xaxis4": {
         "anchor": "y4",
         "domain": [
          0.08063575386410031,
          0.9934383202099737
         ],
         "gridcolor": "rgba(0, 0, 0, 0.100)",
         "gridwidth": 0.5,
         "linecolor": "rgba(0, 0, 0, 1.000)",
         "mirror": false,
         "range": [
          -10.6,
          10.6
         ],
         "showgrid": true,
         "showline": true,
         "showticklabels": true,
         "tickangle": 0,
         "tickcolor": "rgb(0, 0, 0)",
         "tickfont": {
          "color": "rgba(0, 0, 0, 1.000)",
          "family": "sans-serif",
          "size": 11
         },
         "tickmode": "array",
         "ticks": "inside",
         "ticktext": [
          "-10",
          "-5",
          "0",
          "5",
          "10"
         ],
         "tickvals": [
          -10,
          -5,
          0,
          5,
          10
         ],
         "title": "",
         "titlefont": {
          "color": "rgba(0, 0, 0, 1.000)",
          "family": "sans-serif",
          "size": 15
         },
         "type": "-",
         "visible": true,
         "zeroline": false,
         "zerolinecolor": "rgba(0, 0, 0, 1.000)"
        },
        "yaxis1": {
         "anchor": "x1",
         "domain": [
          0.787620297462817,
          0.9901574803149605
         ],
         "gridcolor": "rgba(0, 0, 0, 0.100)",
         "gridwidth": 0.5,
         "linecolor": "rgba(0, 0, 0, 1.000)",
         "mirror": false,
         "range": [
          -10.6,
          10.6
         ],
         "showgrid": true,
         "showline": true,
         "showticklabels": true,
         "tickangle": 0,
         "tickcolor": "rgb(0, 0, 0)",
         "tickfont": {
          "color": "rgba(0, 0, 0, 1.000)",
          "family": "sans-serif",
          "size": 11
         },
         "tickmode": "array",
         "ticks": "inside",
         "ticktext": [
          "-10",
          "-5",
          "0",
          "5",
          "10"
         ],
         "tickvals": [
          -10,
          -5,
          0,
          5,
          10
         ],
         "title": "",
         "titlefont": {
          "color": "rgba(0, 0, 0, 1.000)",
          "family": "sans-serif",
          "size": 15
         },
         "type": "-",
         "visible": true,
         "zeroline": false,
         "zerolinecolor": "rgba(0, 0, 0, 1.000)"
        },
        "yaxis2": {
         "anchor": "x2",
         "domain": [
          0.5376202974628171,
          0.7401574803149606
         ],
         "gridcolor": "rgba(0, 0, 0, 0.100)",
         "gridwidth": 0.5,
         "linecolor": "rgba(0, 0, 0, 1.000)",
         "mirror": false,
         "range": [
          -3,
          103
         ],
         "showgrid": true,
         "showline": true,
         "showticklabels": true,
         "tickangle": 0,
         "tickcolor": "rgb(0, 0, 0)",
         "tickfont": {
          "color": "rgba(0, 0, 0, 1.000)",
          "family": "sans-serif",
          "size": 11
         },
         "tickmode": "array",
         "ticks": "inside",
         "ticktext": [
          "0",
          "25",
          "50",
          "75",
          "100"
         ],
         "tickvals": [
          0,
          25,
          50,
          75,
          100
         ],
         "title": "",
         "titlefont": {
          "color": "rgba(0, 0, 0, 1.000)",
          "family": "sans-serif",
          "size": 15
         },
         "type": "-",
         "visible": true,
         "zeroline": false,
         "zerolinecolor": "rgba(0, 0, 0, 1.000)"
        },
        "yaxis3": {
         "anchor": "x3",
         "domain": [
          0.28762029746281725,
          0.49015748031496076
         ],
         "gridcolor": "rgba(0, 0, 0, 0.100)",
         "gridwidth": 0.5,
         "linecolor": "rgba(0, 0, 0, 1.000)",
         "mirror": false,
         "range": [
          -1060,
          1060
         ],
         "showgrid": true,
         "showline": true,
         "showticklabels": true,
         "tickangle": 0,
         "tickcolor": "rgb(0, 0, 0)",
         "tickfont": {
          "color": "rgba(0, 0, 0, 1.000)",
          "family": "sans-serif",
          "size": 11
         },
         "tickmode": "array",
         "ticks": "inside",
         "ticktext": [
          "-1000",
          "-500",
          "0",
          "500",
          "1000"
         ],
         "tickvals": [
          -1000,
          -500,
          0,
          500,
          1000
         ],
         "title": "",
         "titlefont": {
          "color": "rgba(0, 0, 0, 1.000)",
          "family": "sans-serif",
          "size": 15
         },
         "type": "-",
         "visible": true,
         "zeroline": false,
         "zerolinecolor": "rgba(0, 0, 0, 1.000)"
        },
        "yaxis4": {
         "anchor": "x4",
         "domain": [
          0.03762029746281716,
          0.24015748031496065
         ],
         "gridcolor": "rgba(0, 0, 0, 0.100)",
         "gridwidth": 0.5,
         "linecolor": "rgba(0, 0, 0, 1.000)",
         "mirror": false,
         "range": [
          -300,
          10300
         ],
         "showgrid": true,
         "showline": true,
         "showticklabels": true,
         "tickangle": 0,
         "tickcolor": "rgb(0, 0, 0)",
         "tickfont": {
          "color": "rgba(0, 0, 0, 1.000)",
          "family": "sans-serif",
          "size": 11
         },
         "tickmode": "array",
         "ticks": "inside",
         "ticktext": [
          "0",
          "2500",
          "5000",
          "7500",
          "10000"
         ],
         "tickvals": [
          0,
          2500,
          5000,
          7500,
          10000
         ],
         "title": "",
         "titlefont": {
          "color": "rgba(0, 0, 0, 1.000)",
          "family": "sans-serif",
          "size": 15
         },
         "type": "-",
         "visible": true,
         "zeroline": false,
         "zerolinecolor": "rgba(0, 0, 0, 1.000)"
        }
       }
      },
      "text/html": "<!DOCTYPE html>\n<html>\n    <head>\n        <title>Plots.jl</title>\n        <meta http-equiv=\"content-type\" content=\"text/html; charset=UTF-8\">\n        <script src=\"https://cdn.plot.ly/plotly-1.57.1.min.js\"></script>\n    </head>\n    <body>\n            <div id=\"289a4921-af97-4b1b-b5b9-3a24dbaeebcf\" style=\"width:600px;height:400px;\"></div>\n    <script>\n    PLOT = document.getElementById('289a4921-af97-4b1b-b5b9-3a24dbaeebcf');\n    Plotly.plot(PLOT, [\n    {\n        \"xaxis\": \"x1\",\n        \"colorbar\": {\n            \"title\": \"\"\n        },\n        \"yaxis\": \"y1\",\n        \"x\": [\n            -10,\n            -9,\n            -8,\n            -7,\n            -6,\n            -5,\n            -4,\n            -3,\n            -2,\n            -1,\n            0,\n            1,\n            2,\n            3,\n            4,\n            5,\n            6,\n            7,\n            8,\n            9,\n            10\n        ],\n        \"showlegend\": true,\n        \"mode\": \"lines\",\n        \"name\": \"y1\",\n        \"zmin\": null,\n        \"legendgroup\": \"y1\",\n        \"zmax\": null,\n        \"line\": {\n            \"color\": \"rgba(0, 154, 250, 1.000)\",\n            \"shape\": \"linear\",\n            \"dash\": \"solid\",\n            \"width\": 1\n        },\n        \"y\": [\n            -10,\n            -9,\n            -8,\n            -7,\n            -6,\n            -5,\n            -4,\n            -3,\n            -2,\n            -1,\n            0,\n            1,\n            2,\n            3,\n            4,\n            5,\n            6,\n            7,\n            8,\n            9,\n            10\n        ],\n        \"type\": \"scatter\"\n    },\n    {\n        \"xaxis\": \"x2\",\n        \"colorbar\": {\n            \"title\": \"\"\n        },\n        \"yaxis\": \"y2\",\n        \"x\": [\n            -10,\n            -9,\n            -8,\n            -7,\n            -6,\n            -5,\n            -4,\n            -3,\n            -2,\n            -1,\n            0,\n            1,\n            2,\n            3,\n            4,\n            5,\n            6,\n            7,\n            8,\n            9,\n            10\n        ],\n        \"showlegend\": true,\n        \"mode\": \"lines\",\n        \"name\": \"y1\",\n        \"zmin\": null,\n        \"legendgroup\": \"y1\",\n        \"zmax\": null,\n        \"line\": {\n            \"color\": \"rgba(0, 154, 250, 1.000)\",\n            \"shape\": \"linear\",\n            \"dash\": \"solid\",\n            \"width\": 1\n        },\n        \"y\": [\n            100.0,\n            81.0,\n            64.0,\n            49.0,\n            36.0,\n            25.0,\n            16.0,\n            9.0,\n            4.0,\n            1.0,\n            0.0,\n            1.0,\n            4.0,\n            9.0,\n            16.0,\n            25.0,\n            36.0,\n            49.0,\n            64.0,\n            81.0,\n            100.0\n        ],\n        \"type\": \"scatter\"\n    },\n    {\n        \"xaxis\": \"x3\",\n        \"colorbar\": {\n            \"title\": \"\"\n        },\n        \"yaxis\": \"y3\",\n        \"x\": [\n            -10,\n            -9,\n            -8,\n            -7,\n            -6,\n            -5,\n            -4,\n            -3,\n            -2,\n            -1,\n            0,\n            1,\n            2,\n            3,\n            4,\n            5,\n            6,\n            7,\n            8,\n            9,\n            10\n        ],\n        \"showlegend\": true,\n        \"mode\": \"lines\",\n        \"name\": \"y1\",\n        \"zmin\": null,\n        \"legendgroup\": \"y1\",\n        \"zmax\": null,\n        \"line\": {\n            \"color\": \"rgba(0, 154, 250, 1.000)\",\n            \"shape\": \"linear\",\n            \"dash\": \"solid\",\n            \"width\": 1\n        },\n        \"y\": [\n            -1000.0,\n            -729.0,\n            -512.0,\n            -343.0,\n            -216.0,\n            -125.0,\n            -64.0,\n            -27.0,\n            -8.0,\n            -1.0,\n            0.0,\n            1.0,\n            8.0,\n            27.0,\n            64.0,\n            125.0,\n            216.0,\n            343.0,\n            512.0,\n            729.0,\n            1000.0\n        ],\n        \"type\": \"scatter\"\n    },\n    {\n        \"xaxis\": \"x4\",\n        \"colorbar\": {\n            \"title\": \"\"\n        },\n        \"yaxis\": \"y4\",\n        \"x\": [\n            -10,\n            -9,\n            -8,\n            -7,\n            -6,\n            -5,\n            -4,\n            -3,\n            -2,\n            -1,\n            0,\n            1,\n            2,\n            3,\n            4,\n            5,\n            6,\n            7,\n            8,\n            9,\n            10\n        ],\n        \"showlegend\": true,\n        \"mode\": \"lines\",\n        \"name\": \"y1\",\n        \"zmin\": null,\n        \"legendgroup\": \"y1\",\n        \"zmax\": null,\n        \"line\": {\n            \"color\": \"rgba(0, 154, 250, 1.000)\",\n            \"shape\": \"linear\",\n            \"dash\": \"solid\",\n            \"width\": 1\n        },\n        \"y\": [\n            10000.0,\n            6561.0,\n            4096.0,\n            2401.0,\n            1296.0,\n            625.0,\n            256.0,\n            81.0,\n            16.0,\n            1.0,\n            0.0,\n            1.0,\n            16.0,\n            81.0,\n            256.0,\n            625.0,\n            1296.0,\n            2401.0,\n            4096.0,\n            6561.0,\n            10000.0\n        ],\n        \"type\": \"scatter\"\n    }\n]\n, {\n    \"paper_bgcolor\": \"rgba(255, 255, 255, 1.000)\",\n    \"height\": 400,\n    \"yaxis4\": {\n        \"showticklabels\": true,\n        \"gridwidth\": 0.5,\n        \"tickvals\": [\n            0.0,\n            2500.0,\n            5000.0,\n            7500.0,\n            10000.0\n        ],\n        \"visible\": true,\n        \"ticks\": \"inside\",\n        \"range\": [\n            -300.0,\n            10300.0\n        ],\n        \"domain\": [\n            0.03762029746281716,\n            0.24015748031496065\n        ],\n        \"tickmode\": \"array\",\n        \"linecolor\": \"rgba(0, 0, 0, 1.000)\",\n        \"showgrid\": true,\n        \"title\": \"\",\n        \"mirror\": false,\n        \"tickangle\": 0,\n        \"showline\": true,\n        \"gridcolor\": \"rgba(0, 0, 0, 0.100)\",\n        \"titlefont\": {\n            \"color\": \"rgba(0, 0, 0, 1.000)\",\n            \"family\": \"sans-serif\",\n            \"size\": 15\n        },\n        \"tickcolor\": \"rgb(0, 0, 0)\",\n        \"ticktext\": [\n            \"0\",\n            \"2500\",\n            \"5000\",\n            \"7500\",\n            \"10000\"\n        ],\n        \"zeroline\": false,\n        \"type\": \"-\",\n        \"tickfont\": {\n            \"color\": \"rgba(0, 0, 0, 1.000)\",\n            \"family\": \"sans-serif\",\n            \"size\": 11\n        },\n        \"zerolinecolor\": \"rgba(0, 0, 0, 1.000)\",\n        \"anchor\": \"x4\"\n    },\n    \"yaxis2\": {\n        \"showticklabels\": true,\n        \"gridwidth\": 0.5,\n        \"tickvals\": [\n            0.0,\n            25.0,\n            50.0,\n            75.0,\n            100.0\n        ],\n        \"visible\": true,\n        \"ticks\": \"inside\",\n        \"range\": [\n            -3.0,\n            103.0\n        ],\n        \"domain\": [\n            0.5376202974628171,\n            0.7401574803149606\n        ],\n        \"tickmode\": \"array\",\n        \"linecolor\": \"rgba(0, 0, 0, 1.000)\",\n        \"showgrid\": true,\n        \"title\": \"\",\n        \"mirror\": false,\n        \"tickangle\": 0,\n        \"showline\": true,\n        \"gridcolor\": \"rgba(0, 0, 0, 0.100)\",\n        \"titlefont\": {\n            \"color\": \"rgba(0, 0, 0, 1.000)\",\n            \"family\": \"sans-serif\",\n            \"size\": 15\n        },\n        \"tickcolor\": \"rgb(0, 0, 0)\",\n        \"ticktext\": [\n            \"0\",\n            \"25\",\n            \"50\",\n            \"75\",\n            \"100\"\n        ],\n        \"zeroline\": false,\n        \"type\": \"-\",\n        \"tickfont\": {\n            \"color\": \"rgba(0, 0, 0, 1.000)\",\n            \"family\": \"sans-serif\",\n            \"size\": 11\n        },\n        \"zerolinecolor\": \"rgba(0, 0, 0, 1.000)\",\n        \"anchor\": \"x2\"\n    },\n    \"xaxis3\": {\n        \"showticklabels\": true,\n        \"gridwidth\": 0.5,\n        \"tickvals\": [\n            -10.0,\n            -5.0,\n            0.0,\n            5.0,\n            10.0\n        ],\n        \"visible\": true,\n        \"ticks\": \"inside\",\n        \"range\": [\n            -10.6,\n            10.6\n        ],\n        \"domain\": [\n            0.08063575386410031,\n            0.9934383202099737\n        ],\n        \"tickmode\": \"array\",\n        \"linecolor\": \"rgba(0, 0, 0, 1.000)\",\n        \"showgrid\": true,\n        \"title\": \"\",\n        \"mirror\": false,\n        \"tickangle\": 0,\n        \"showline\": true,\n        \"gridcolor\": \"rgba(0, 0, 0, 0.100)\",\n        \"titlefont\": {\n            \"color\": \"rgba(0, 0, 0, 1.000)\",\n            \"family\": \"sans-serif\",\n            \"size\": 15\n        },\n        \"tickcolor\": \"rgb(0, 0, 0)\",\n        \"ticktext\": [\n            \"-10\",\n            \"-5\",\n            \"0\",\n            \"5\",\n            \"10\"\n        ],\n        \"zeroline\": false,\n        \"type\": \"-\",\n        \"tickfont\": {\n            \"color\": \"rgba(0, 0, 0, 1.000)\",\n            \"family\": \"sans-serif\",\n            \"size\": 11\n        },\n        \"zerolinecolor\": \"rgba(0, 0, 0, 1.000)\",\n        \"anchor\": \"y3\"\n    },\n    \"xaxis4\": {\n        \"showticklabels\": true,\n        \"gridwidth\": 0.5,\n        \"tickvals\": [\n            -10.0,\n            -5.0,\n            0.0,\n            5.0,\n            10.0\n        ],\n        \"visible\": true,\n        \"ticks\": \"inside\",\n        \"range\": [\n            -10.6,\n            10.6\n        ],\n        \"domain\": [\n            0.08063575386410031,\n            0.9934383202099737\n        ],\n        \"tickmode\": \"array\",\n        \"linecolor\": \"rgba(0, 0, 0, 1.000)\",\n        \"showgrid\": true,\n        \"title\": \"\",\n        \"mirror\": false,\n        \"tickangle\": 0,\n        \"showline\": true,\n        \"gridcolor\": \"rgba(0, 0, 0, 0.100)\",\n        \"titlefont\": {\n            \"color\": \"rgba(0, 0, 0, 1.000)\",\n            \"family\": \"sans-serif\",\n            \"size\": 15\n        },\n        \"tickcolor\": \"rgb(0, 0, 0)\",\n        \"ticktext\": [\n            \"-10\",\n            \"-5\",\n            \"0\",\n            \"5\",\n            \"10\"\n        ],\n        \"zeroline\": false,\n        \"type\": \"-\",\n        \"tickfont\": {\n            \"color\": \"rgba(0, 0, 0, 1.000)\",\n            \"family\": \"sans-serif\",\n            \"size\": 11\n        },\n        \"zerolinecolor\": \"rgba(0, 0, 0, 1.000)\",\n        \"anchor\": \"y4\"\n    },\n    \"yaxis1\": {\n        \"showticklabels\": true,\n        \"gridwidth\": 0.5,\n        \"tickvals\": [\n            -10.0,\n            -5.0,\n            0.0,\n            5.0,\n            10.0\n        ],\n        \"visible\": true,\n        \"ticks\": \"inside\",\n        \"range\": [\n            -10.6,\n            10.6\n        ],\n        \"domain\": [\n            0.787620297462817,\n            0.9901574803149605\n        ],\n        \"tickmode\": \"array\",\n        \"linecolor\": \"rgba(0, 0, 0, 1.000)\",\n        \"showgrid\": true,\n        \"title\": \"\",\n        \"mirror\": false,\n        \"tickangle\": 0,\n        \"showline\": true,\n        \"gridcolor\": \"rgba(0, 0, 0, 0.100)\",\n        \"titlefont\": {\n            \"color\": \"rgba(0, 0, 0, 1.000)\",\n            \"family\": \"sans-serif\",\n            \"size\": 15\n        },\n        \"tickcolor\": \"rgb(0, 0, 0)\",\n        \"ticktext\": [\n            \"-10\",\n            \"-5\",\n            \"0\",\n            \"5\",\n            \"10\"\n        ],\n        \"zeroline\": false,\n        \"type\": \"-\",\n        \"tickfont\": {\n            \"color\": \"rgba(0, 0, 0, 1.000)\",\n            \"family\": \"sans-serif\",\n            \"size\": 11\n        },\n        \"zerolinecolor\": \"rgba(0, 0, 0, 1.000)\",\n        \"anchor\": \"x1\"\n    },\n    \"annotations\": [],\n    \"plot_bgcolor\": \"rgba(255, 255, 255, 1.000)\",\n    \"showlegend\": false,\n    \"xaxis1\": {\n        \"showticklabels\": true,\n        \"gridwidth\": 0.5,\n        \"tickvals\": [\n            -10.0,\n            -5.0,\n            0.0,\n            5.0,\n            10.0\n        ],\n        \"visible\": true,\n        \"ticks\": \"inside\",\n        \"range\": [\n            -10.6,\n            10.6\n        ],\n        \"domain\": [\n            0.08063575386410031,\n            0.9934383202099737\n        ],\n        \"tickmode\": \"array\",\n        \"linecolor\": \"rgba(0, 0, 0, 1.000)\",\n        \"showgrid\": true,\n        \"title\": \"\",\n        \"mirror\": false,\n        \"tickangle\": 0,\n        \"showline\": true,\n        \"gridcolor\": \"rgba(0, 0, 0, 0.100)\",\n        \"titlefont\": {\n            \"color\": \"rgba(0, 0, 0, 1.000)\",\n            \"family\": \"sans-serif\",\n            \"size\": 15\n        },\n        \"tickcolor\": \"rgb(0, 0, 0)\",\n        \"ticktext\": [\n            \"-10\",\n            \"-5\",\n            \"0\",\n            \"5\",\n            \"10\"\n        ],\n        \"zeroline\": false,\n        \"type\": \"-\",\n        \"tickfont\": {\n            \"color\": \"rgba(0, 0, 0, 1.000)\",\n            \"family\": \"sans-serif\",\n            \"size\": 11\n        },\n        \"zerolinecolor\": \"rgba(0, 0, 0, 1.000)\",\n        \"anchor\": \"y1\"\n    },\n    \"yaxis3\": {\n        \"showticklabels\": true,\n        \"gridwidth\": 0.5,\n        \"tickvals\": [\n            -1000.0,\n            -500.0,\n            0.0,\n            500.0,\n            1000.0\n        ],\n        \"visible\": true,\n        \"ticks\": \"inside\",\n        \"range\": [\n            -1060.0,\n            1060.0\n        ],\n        \"domain\": [\n            0.28762029746281725,\n            0.49015748031496076\n        ],\n        \"tickmode\": \"array\",\n        \"linecolor\": \"rgba(0, 0, 0, 1.000)\",\n        \"showgrid\": true,\n        \"title\": \"\",\n        \"mirror\": false,\n        \"tickangle\": 0,\n        \"showline\": true,\n        \"gridcolor\": \"rgba(0, 0, 0, 0.100)\",\n        \"titlefont\": {\n            \"color\": \"rgba(0, 0, 0, 1.000)\",\n            \"family\": \"sans-serif\",\n            \"size\": 15\n        },\n        \"tickcolor\": \"rgb(0, 0, 0)\",\n        \"ticktext\": [\n            \"-1000\",\n            \"-500\",\n            \"0\",\n            \"500\",\n            \"1000\"\n        ],\n        \"zeroline\": false,\n        \"type\": \"-\",\n        \"tickfont\": {\n            \"color\": \"rgba(0, 0, 0, 1.000)\",\n            \"family\": \"sans-serif\",\n            \"size\": 11\n        },\n        \"zerolinecolor\": \"rgba(0, 0, 0, 1.000)\",\n        \"anchor\": \"x3\"\n    },\n    \"xaxis2\": {\n        \"showticklabels\": true,\n        \"gridwidth\": 0.5,\n        \"tickvals\": [\n            -10.0,\n            -5.0,\n            0.0,\n            5.0,\n            10.0\n        ],\n        \"visible\": true,\n        \"ticks\": \"inside\",\n        \"range\": [\n            -10.6,\n            10.6\n        ],\n        \"domain\": [\n            0.08063575386410031,\n            0.9934383202099737\n        ],\n        \"tickmode\": \"array\",\n        \"linecolor\": \"rgba(0, 0, 0, 1.000)\",\n        \"showgrid\": true,\n        \"title\": \"\",\n        \"mirror\": false,\n        \"tickangle\": 0,\n        \"showline\": true,\n        \"gridcolor\": \"rgba(0, 0, 0, 0.100)\",\n        \"titlefont\": {\n            \"color\": \"rgba(0, 0, 0, 1.000)\",\n            \"family\": \"sans-serif\",\n            \"size\": 15\n        },\n        \"tickcolor\": \"rgb(0, 0, 0)\",\n        \"ticktext\": [\n            \"-10\",\n            \"-5\",\n            \"0\",\n            \"5\",\n            \"10\"\n        ],\n        \"zeroline\": false,\n        \"type\": \"-\",\n        \"tickfont\": {\n            \"color\": \"rgba(0, 0, 0, 1.000)\",\n            \"family\": \"sans-serif\",\n            \"size\": 11\n        },\n        \"zerolinecolor\": \"rgba(0, 0, 0, 1.000)\",\n        \"anchor\": \"y2\"\n    },\n    \"margin\": {\n        \"l\": 0,\n        \"b\": 20,\n        \"r\": 0,\n        \"t\": 20\n    },\n    \"width\": 600\n}\n);\n    </script>\n\n    </body>\n</html>\n"
     },
     "execution_count": 107,
     "metadata": {},
     "output_type": "execute_result"
    }
   ],
   "source": [
    "plot(p1, p2, p3, p4, layout=(4,1), legend=false)"
   ]
  },
  {
   "cell_type": "markdown",
   "metadata": {},
   "source": [
    "# 9. Multiple Dispatch\n",
    "\n",
    "Functions can behave differently depending on types of the arguments. Object-Oriented Programming is _single dispatch_ where a single argument, namely the argument is used to determine a function's behavior (eg consider how an object in Python can have a `__str__` method which tells Python how to represent that object has a string.). In Julia, multiple arguments, including the type of the argument itself, are used to determine the function's behavior.\n",
    "\n",
    "Let's use `+` as an example."
   ]
  },
  {
   "cell_type": "code",
   "execution_count": 108,
   "metadata": {},
   "outputs": [
    {
     "data": {
      "text/html": "# 200 methods for generic function <b>+</b>:<ul><li> +(dt::<b>Dates.DateTime</b>, z::<b>Dates.Month</b>) in Dates at <a href=\"file:///Users/julia/buildbot/worker/package_macos64/build/usr/share/julia/stdlib/v1.5/Dates/src/arithmetic.jl\" target=\"_blank\">/Applications/Julia-1.5.app/Contents/Resources/julia/share/julia/stdlib/v1.5/Dates/src/arithmetic.jl:47</a></li> <li> +(dt::<b>Dates.DateTime</b>, y::<b>Dates.Year</b>) in Dates at <a href=\"file:///Users/julia/buildbot/worker/package_macos64/build/usr/share/julia/stdlib/v1.5/Dates/src/arithmetic.jl\" target=\"_blank\">/Applications/Julia-1.5.app/Contents/Resources/julia/share/julia/stdlib/v1.5/Dates/src/arithmetic.jl:23</a></li> <li> +(x::<b>Dates.DateTime</b>, y::<b>Dates.Period</b>) in Dates at <a href=\"file:///Users/julia/buildbot/worker/package_macos64/build/usr/share/julia/stdlib/v1.5/Dates/src/arithmetic.jl\" target=\"_blank\">/Applications/Julia-1.5.app/Contents/Resources/julia/share/julia/stdlib/v1.5/Dates/src/arithmetic.jl:76</a></li> <li> +(z::<b>Complex{Bool}</b>, x::<b>Bool</b>) in Base at <a href=\"https://github.com/JuliaLang/julia/tree/539f3ce943f59dec8aff3f2238b083f1b27f41e5/base/complex.jl#L287\" target=\"_blank\">complex.jl:287</a></li> <li> +(z::<b>Complex{Bool}</b>, x::<b>Real</b>) in Base at <a href=\"https://github.com/JuliaLang/julia/tree/539f3ce943f59dec8aff3f2238b083f1b27f41e5/base/complex.jl#L301\" target=\"_blank\">complex.jl:301</a></li> <li> +(c::<b>BigInt</b>, x::<b>BigFloat</b>) in Base.MPFR at <a href=\"https://github.com/JuliaLang/julia/tree/539f3ce943f59dec8aff3f2238b083f1b27f41e5/base/mpfr.jl#L399\" target=\"_blank\">mpfr.jl:399</a></li> <li> +(a::<b>BigInt</b>, b::<b>BigInt</b>, c::<b>BigInt</b>, d::<b>BigInt</b>, e::<b>BigInt</b>) in Base.GMP at <a href=\"https://github.com/JuliaLang/julia/tree/539f3ce943f59dec8aff3f2238b083f1b27f41e5/base/gmp.jl#L518\" target=\"_blank\">gmp.jl:518</a></li> <li> +(a::<b>BigInt</b>, b::<b>BigInt</b>, c::<b>BigInt</b>, d::<b>BigInt</b>) in Base.GMP at <a href=\"https://github.com/JuliaLang/julia/tree/539f3ce943f59dec8aff3f2238b083f1b27f41e5/base/gmp.jl#L517\" target=\"_blank\">gmp.jl:517</a></li> <li> +(a::<b>BigInt</b>, b::<b>BigInt</b>, c::<b>BigInt</b>) in Base.GMP at <a href=\"https://github.com/JuliaLang/julia/tree/539f3ce943f59dec8aff3f2238b083f1b27f41e5/base/gmp.jl#L516\" target=\"_blank\">gmp.jl:516</a></li> <li> +(x::<b>BigInt</b>, y::<b>BigInt</b>) in Base.GMP at <a href=\"https://github.com/JuliaLang/julia/tree/539f3ce943f59dec8aff3f2238b083f1b27f41e5/base/gmp.jl#L476\" target=\"_blank\">gmp.jl:476</a></li> <li> +(x::<b>BigInt</b>, c::<b>Union{UInt16, UInt32, UInt64, UInt8}</b>) in Base.GMP at <a href=\"https://github.com/JuliaLang/julia/tree/539f3ce943f59dec8aff3f2238b083f1b27f41e5/base/gmp.jl#L524\" target=\"_blank\">gmp.jl:524</a></li> <li> +(x::<b>BigInt</b>, c::<b>Union{Int16, Int32, Int64, Int8}</b>) in Base.GMP at <a href=\"https://github.com/JuliaLang/julia/tree/539f3ce943f59dec8aff3f2238b083f1b27f41e5/base/gmp.jl#L530\" target=\"_blank\">gmp.jl:530</a></li> <li> +(level::<b>Base.CoreLogging.LogLevel</b>, inc::<b>Integer</b>) in Base.CoreLogging at <a href=\"https://github.com/JuliaLang/julia/tree/539f3ce943f59dec8aff3f2238b083f1b27f41e5/base/logging.jl#L116\" target=\"_blank\">logging.jl:116</a></li> <li> +(B::<b>BitArray{2}</b>, J::<b>LinearAlgebra.UniformScaling</b>) in LinearAlgebra at <a href=\"file:///Users/julia/buildbot/worker/package_macos64/build/usr/share/julia/stdlib/v1.5/LinearAlgebra/src/uniformscaling.jl\" target=\"_blank\">/Applications/Julia-1.5.app/Contents/Resources/julia/share/julia/stdlib/v1.5/LinearAlgebra/src/uniformscaling.jl:117</a></li> <li> +(::<b>Missing</b>, ::<b>Missing</b>) in Base at <a href=\"https://github.com/JuliaLang/julia/tree/539f3ce943f59dec8aff3f2238b083f1b27f41e5/base/missing.jl#L114\" target=\"_blank\">missing.jl:114</a></li> <li> +(::<b>Missing</b>) in Base at <a href=\"https://github.com/JuliaLang/julia/tree/539f3ce943f59dec8aff3f2238b083f1b27f41e5/base/missing.jl#L100\" target=\"_blank\">missing.jl:100</a></li> <li> +(::<b>Missing</b>, ::<b>Number</b>) in Base at <a href=\"https://github.com/JuliaLang/julia/tree/539f3ce943f59dec8aff3f2238b083f1b27f41e5/base/missing.jl#L115\" target=\"_blank\">missing.jl:115</a></li> <li> +(x::<b>Float64</b>, y::<b>Float64</b>) in Base at <a href=\"https://github.com/JuliaLang/julia/tree/539f3ce943f59dec8aff3f2238b083f1b27f41e5/base/float.jl#L401\" target=\"_blank\">float.jl:401</a></li> <li> +(x::<b>Bool</b>, z::<b>Complex{Bool}</b>) in Base at <a href=\"https://github.com/JuliaLang/julia/tree/539f3ce943f59dec8aff3f2238b083f1b27f41e5/base/complex.jl#L286\" target=\"_blank\">complex.jl:286</a></li> <li> +(x::<b>Bool</b>, y::<b>Bool</b>) in Base at <a href=\"https://github.com/JuliaLang/julia/tree/539f3ce943f59dec8aff3f2238b083f1b27f41e5/base/bool.jl#L96\" target=\"_blank\">bool.jl:96</a></li> <li> +(x::<b>Bool</b>) in Base at <a href=\"https://github.com/JuliaLang/julia/tree/539f3ce943f59dec8aff3f2238b083f1b27f41e5/base/bool.jl#L93\" target=\"_blank\">bool.jl:93</a></li> <li> +(x::<b>Bool</b>, y::<b>T</b>)<i> where T<:AbstractFloat</i> in Base at <a href=\"https://github.com/JuliaLang/julia/tree/539f3ce943f59dec8aff3f2238b083f1b27f41e5/base/bool.jl#L103\" target=\"_blank\">bool.jl:103</a></li> <li> +(x::<b>Bool</b>, z::<b>Complex</b>) in Base at <a href=\"https://github.com/JuliaLang/julia/tree/539f3ce943f59dec8aff3f2238b083f1b27f41e5/base/complex.jl#L293\" target=\"_blank\">complex.jl:293</a></li> <li> +(x::<b>Dates.Date</b>, y::<b>Dates.Day</b>) in Dates at <a href=\"file:///Users/julia/buildbot/worker/package_macos64/build/usr/share/julia/stdlib/v1.5/Dates/src/arithmetic.jl\" target=\"_blank\">/Applications/Julia-1.5.app/Contents/Resources/julia/share/julia/stdlib/v1.5/Dates/src/arithmetic.jl:74</a></li> <li> +(x::<b>Dates.Date</b>, y::<b>Dates.Week</b>) in Dates at <a href=\"file:///Users/julia/buildbot/worker/package_macos64/build/usr/share/julia/stdlib/v1.5/Dates/src/arithmetic.jl\" target=\"_blank\">/Applications/Julia-1.5.app/Contents/Resources/julia/share/julia/stdlib/v1.5/Dates/src/arithmetic.jl:72</a></li> <li> +(dt::<b>Dates.Date</b>, z::<b>Dates.Month</b>) in Dates at <a href=\"file:///Users/julia/buildbot/worker/package_macos64/build/usr/share/julia/stdlib/v1.5/Dates/src/arithmetic.jl\" target=\"_blank\">/Applications/Julia-1.5.app/Contents/Resources/julia/share/julia/stdlib/v1.5/Dates/src/arithmetic.jl:54</a></li> <li> +(dt::<b>Dates.Date</b>, y::<b>Dates.Year</b>) in Dates at <a href=\"file:///Users/julia/buildbot/worker/package_macos64/build/usr/share/julia/stdlib/v1.5/Dates/src/arithmetic.jl\" target=\"_blank\">/Applications/Julia-1.5.app/Contents/Resources/julia/share/julia/stdlib/v1.5/Dates/src/arithmetic.jl:27</a></li> <li> +(dt::<b>Dates.Date</b>, t::<b>Dates.Time</b>) in Dates at <a href=\"file:///Users/julia/buildbot/worker/package_macos64/build/usr/share/julia/stdlib/v1.5/Dates/src/arithmetic.jl\" target=\"_blank\">/Applications/Julia-1.5.app/Contents/Resources/julia/share/julia/stdlib/v1.5/Dates/src/arithmetic.jl:19</a></li> <li> +(a::<b>Pkg.Resolve.VersionWeight</b>, b::<b>Pkg.Resolve.VersionWeight</b>) in Pkg.Resolve at <a href=\"file:///Users/julia/buildbot/worker/package_macos64/build/usr/share/julia/stdlib/v1.5/Pkg/src/Resolve/versionweights.jl\" target=\"_blank\">/Applications/Julia-1.5.app/Contents/Resources/julia/share/julia/stdlib/v1.5/Pkg/src/Resolve/versionweights.jl:22</a></li> <li> +(a::<b>Pkg.Resolve.FieldValue</b>, b::<b>Pkg.Resolve.FieldValue</b>) in Pkg.Resolve at <a href=\"file:///Users/julia/buildbot/worker/package_macos64/build/usr/share/julia/stdlib/v1.5/Pkg/src/Resolve/fieldvalues.jl\" target=\"_blank\">/Applications/Julia-1.5.app/Contents/Resources/julia/share/julia/stdlib/v1.5/Pkg/src/Resolve/fieldvalues.jl:43</a></li> <li> +(t::<b>Dates.Time</b>, dt::<b>Dates.Date</b>) in Dates at <a href=\"file:///Users/julia/buildbot/worker/package_macos64/build/usr/share/julia/stdlib/v1.5/Dates/src/arithmetic.jl\" target=\"_blank\">/Applications/Julia-1.5.app/Contents/Resources/julia/share/julia/stdlib/v1.5/Dates/src/arithmetic.jl:20</a></li> <li> +(x::<b>Dates.Time</b>, y::<b>Dates.TimePeriod</b>) in Dates at <a href=\"file:///Users/julia/buildbot/worker/package_macos64/build/usr/share/julia/stdlib/v1.5/Dates/src/arithmetic.jl\" target=\"_blank\">/Applications/Julia-1.5.app/Contents/Resources/julia/share/julia/stdlib/v1.5/Dates/src/arithmetic.jl:78</a></li> <li> +(a::<b>BigFloat</b>, b::<b>BigFloat</b>, c::<b>BigFloat</b>, d::<b>BigFloat</b>, e::<b>BigFloat</b>) in Base.MPFR at <a href=\"https://github.com/JuliaLang/julia/tree/539f3ce943f59dec8aff3f2238b083f1b27f41e5/base/mpfr.jl#L548\" target=\"_blank\">mpfr.jl:548</a></li> <li> +(a::<b>BigFloat</b>, b::<b>BigFloat</b>, c::<b>BigFloat</b>, d::<b>BigFloat</b>) in Base.MPFR at <a href=\"https://github.com/JuliaLang/julia/tree/539f3ce943f59dec8aff3f2238b083f1b27f41e5/base/mpfr.jl#L541\" target=\"_blank\">mpfr.jl:541</a></li> <li> +(a::<b>BigFloat</b>, b::<b>BigFloat</b>, c::<b>BigFloat</b>) in Base.MPFR at <a href=\"https://github.com/JuliaLang/julia/tree/539f3ce943f59dec8aff3f2238b083f1b27f41e5/base/mpfr.jl#L535\" target=\"_blank\">mpfr.jl:535</a></li> <li> +(x::<b>BigFloat</b>, c::<b>BigInt</b>) in Base.MPFR at <a href=\"https://github.com/JuliaLang/julia/tree/539f3ce943f59dec8aff3f2238b083f1b27f41e5/base/mpfr.jl#L394\" target=\"_blank\">mpfr.jl:394</a></li> <li> +(x::<b>BigFloat</b>, y::<b>BigFloat</b>) in Base.MPFR at <a href=\"https://github.com/JuliaLang/julia/tree/539f3ce943f59dec8aff3f2238b083f1b27f41e5/base/mpfr.jl#L363\" target=\"_blank\">mpfr.jl:363</a></li> <li> +(x::<b>BigFloat</b>, c::<b>Union{UInt16, UInt32, UInt64, UInt8}</b>) in Base.MPFR at <a href=\"https://github.com/JuliaLang/julia/tree/539f3ce943f59dec8aff3f2238b083f1b27f41e5/base/mpfr.jl#L370\" target=\"_blank\">mpfr.jl:370</a></li> <li> +(x::<b>BigFloat</b>, c::<b>Union{Int16, Int32, Int64, Int8}</b>) in Base.MPFR at <a href=\"https://github.com/JuliaLang/julia/tree/539f3ce943f59dec8aff3f2238b083f1b27f41e5/base/mpfr.jl#L378\" target=\"_blank\">mpfr.jl:378</a></li> <li> +(x::<b>BigFloat</b>, c::<b>Union{Float16, Float32, Float64}</b>) in Base.MPFR at <a href=\"https://github.com/JuliaLang/julia/tree/539f3ce943f59dec8aff3f2238b083f1b27f41e5/base/mpfr.jl#L386\" target=\"_blank\">mpfr.jl:386</a></li> <li> +(a::<b>Float16</b>, b::<b>Float16</b>) in Base at <a href=\"https://github.com/JuliaLang/julia/tree/539f3ce943f59dec8aff3f2238b083f1b27f41e5/base/float.jl#L398\" target=\"_blank\">float.jl:398</a></li> <li> +(x::<b>Float32</b>, y::<b>Float32</b>) in Base at <a href=\"https://github.com/JuliaLang/julia/tree/539f3ce943f59dec8aff3f2238b083f1b27f41e5/base/float.jl#L400\" target=\"_blank\">float.jl:400</a></li> <li> +(x::<b>Dates.CompoundPeriod</b>, y::<b>Dates.CompoundPeriod</b>) in Dates at <a href=\"file:///Users/julia/buildbot/worker/package_macos64/build/usr/share/julia/stdlib/v1.5/Dates/src/periods.jl\" target=\"_blank\">/Applications/Julia-1.5.app/Contents/Resources/julia/share/julia/stdlib/v1.5/Dates/src/periods.jl:347</a></li> <li> +(x::<b>Dates.CompoundPeriod</b>, y::<b>Dates.Period</b>) in Dates at <a href=\"file:///Users/julia/buildbot/worker/package_macos64/build/usr/share/julia/stdlib/v1.5/Dates/src/periods.jl\" target=\"_blank\">/Applications/Julia-1.5.app/Contents/Resources/julia/share/julia/stdlib/v1.5/Dates/src/periods.jl:345</a></li> <li> +(x::<b>Dates.CompoundPeriod</b>, y::<b>Dates.TimeType</b>) in Dates at <a href=\"file:///Users/julia/buildbot/worker/package_macos64/build/usr/share/julia/stdlib/v1.5/Dates/src/periods.jl\" target=\"_blank\">/Applications/Julia-1.5.app/Contents/Resources/julia/share/julia/stdlib/v1.5/Dates/src/periods.jl:375</a></li> <li> +(y::<b>AbstractFloat</b>, x::<b>Bool</b>) in Base at <a href=\"https://github.com/JuliaLang/julia/tree/539f3ce943f59dec8aff3f2238b083f1b27f41e5/base/bool.jl#L106\" target=\"_blank\">bool.jl:106</a></li> <li> +(x::<b>T</b>, y::<b>T</b>)<i> where T<:Union{Int128, Int16, Int32, Int64, Int8, UInt128, UInt16, UInt32, UInt64, UInt8}</i> in Base at <a href=\"https://github.com/JuliaLang/julia/tree/539f3ce943f59dec8aff3f2238b083f1b27f41e5/base/int.jl#L86\" target=\"_blank\">int.jl:86</a></li> <li> +(c::<b>Union{UInt16, UInt32, UInt64, UInt8}</b>, x::<b>BigInt</b>) in Base.GMP at <a href=\"https://github.com/JuliaLang/julia/tree/539f3ce943f59dec8aff3f2238b083f1b27f41e5/base/gmp.jl#L525\" target=\"_blank\">gmp.jl:525</a></li> <li> +(c::<b>Union{Int16, Int32, Int64, Int8}</b>, x::<b>BigInt</b>) in Base.GMP at <a href=\"https://github.com/JuliaLang/julia/tree/539f3ce943f59dec8aff3f2238b083f1b27f41e5/base/gmp.jl#L531\" target=\"_blank\">gmp.jl:531</a></li> <li> +(x::<b>GeometryBasics.OffsetInteger{O,T} where T<:Integer</b>, y::<b>GeometryBasics.OffsetInteger{O,T} where T<:Integer</b>)<i> where O</i> in GeometryBasics at <a href=\"file:///Users/jontysinai/.julia/packages/GeometryBasics/avaBr/src/offsetintegers.jl\" target=\"_blank\">/Users/jontysinai/.julia/packages/GeometryBasics/avaBr/src/offsetintegers.jl:63</a></li> <li> +(a::<b>Integer</b>, b::<b>Integer</b>) in Base at <a href=\"https://github.com/JuliaLang/julia/tree/539f3ce943f59dec8aff3f2238b083f1b27f41e5/base/int.jl#L918\" target=\"_blank\">int.jl:918</a></li> <li> +(x::<b>Integer</b>, y::<b>Ptr</b>) in Base at <a href=\"https://github.com/JuliaLang/julia/tree/539f3ce943f59dec8aff3f2238b083f1b27f41e5/base/pointer.jl#L161\" target=\"_blank\">pointer.jl:161</a></li> <li> +(z::<b>Complex</b>) in Base at <a href=\"https://github.com/JuliaLang/julia/tree/539f3ce943f59dec8aff3f2238b083f1b27f41e5/base/complex.jl#L273\" target=\"_blank\">complex.jl:273</a></li> <li> +(z::<b>Complex</b>, w::<b>Complex</b>) in Base at <a href=\"https://github.com/JuliaLang/julia/tree/539f3ce943f59dec8aff3f2238b083f1b27f41e5/base/complex.jl#L275\" target=\"_blank\">complex.jl:275</a></li> <li> +(z::<b>Complex</b>, x::<b>Bool</b>) in Base at <a href=\"https://github.com/JuliaLang/julia/tree/539f3ce943f59dec8aff3f2238b083f1b27f41e5/base/complex.jl#L294\" target=\"_blank\">complex.jl:294</a></li> <li> +(x::<b>Rational</b>) in Base at <a href=\"https://github.com/JuliaLang/julia/tree/539f3ce943f59dec8aff3f2238b083f1b27f41e5/base/rational.jl#L266\" target=\"_blank\">rational.jl:266</a></li> <li> +(x::<b>Real</b>, z::<b>Complex{Bool}</b>) in Base at <a href=\"https://github.com/JuliaLang/julia/tree/539f3ce943f59dec8aff3f2238b083f1b27f41e5/base/complex.jl#L300\" target=\"_blank\">complex.jl:300</a></li> <li> +(x::<b>Real</b>, z::<b>Complex</b>) in Base at <a href=\"https://github.com/JuliaLang/julia/tree/539f3ce943f59dec8aff3f2238b083f1b27f41e5/base/complex.jl#L312\" target=\"_blank\">complex.jl:312</a></li> <li> +(z::<b>Complex</b>, x::<b>Real</b>) in Base at <a href=\"https://github.com/JuliaLang/julia/tree/539f3ce943f59dec8aff3f2238b083f1b27f41e5/base/complex.jl#L313\" target=\"_blank\">complex.jl:313</a></li> <li> +(x::<b>Rational</b>, y::<b>Rational</b>) in Base at <a href=\"https://github.com/JuliaLang/julia/tree/539f3ce943f59dec8aff3f2238b083f1b27f41e5/base/rational.jl#L282\" target=\"_blank\">rational.jl:282</a></li> <li> +(x::<b>Rational</b>, y::<b>Integer</b>) in Base at <a href=\"https://github.com/JuliaLang/julia/tree/539f3ce943f59dec8aff3f2238b083f1b27f41e5/base/rational.jl#L287\" target=\"_blank\">rational.jl:287</a></li> <li> +(y::<b>Integer</b>, x::<b>Rational</b>) in Base at <a href=\"https://github.com/JuliaLang/julia/tree/539f3ce943f59dec8aff3f2238b083f1b27f41e5/base/rational.jl#L294\" target=\"_blank\">rational.jl:294</a></li> <li> +(x::<b>Integer</b>, y::<b>AbstractChar</b>) in Base at <a href=\"https://github.com/JuliaLang/julia/tree/539f3ce943f59dec8aff3f2238b083f1b27f41e5/base/char.jl#L224\" target=\"_blank\">char.jl:224</a></li> <li> +(c::<b>Union{UInt16, UInt32, UInt64, UInt8}</b>, x::<b>BigFloat</b>) in Base.MPFR at <a href=\"https://github.com/JuliaLang/julia/tree/539f3ce943f59dec8aff3f2238b083f1b27f41e5/base/mpfr.jl#L375\" target=\"_blank\">mpfr.jl:375</a></li> <li> +(c::<b>Union{Int16, Int32, Int64, Int8}</b>, x::<b>BigFloat</b>) in Base.MPFR at <a href=\"https://github.com/JuliaLang/julia/tree/539f3ce943f59dec8aff3f2238b083f1b27f41e5/base/mpfr.jl#L383\" target=\"_blank\">mpfr.jl:383</a></li> <li> +(c::<b>Union{Float16, Float32, Float64}</b>, x::<b>BigFloat</b>) in Base.MPFR at <a href=\"https://github.com/JuliaLang/julia/tree/539f3ce943f59dec8aff3f2238b083f1b27f41e5/base/mpfr.jl#L391\" target=\"_blank\">mpfr.jl:391</a></li> <li> +(x::<b>AbstractIrrational</b>, y::<b>AbstractIrrational</b>) in Base at <a href=\"https://github.com/JuliaLang/julia/tree/539f3ce943f59dec8aff3f2238b083f1b27f41e5/base/irrationals.jl#L156\" target=\"_blank\">irrationals.jl:156</a></li> <li> +(x::<b>X</b>, y::<b>X</b>)<i> where X<:FixedPointNumbers.FixedPoint</i> in FixedPointNumbers at <a href=\"file:///Users/jontysinai/.julia/packages/FixedPointNumbers/HAGk2/src/FixedPointNumbers.jl\" target=\"_blank\">/Users/jontysinai/.julia/packages/FixedPointNumbers/HAGk2/src/FixedPointNumbers.jl:237</a></li> <li> +(x::<b>Number</b>) in Base at <a href=\"https://github.com/JuliaLang/julia/tree/539f3ce943f59dec8aff3f2238b083f1b27f41e5/base/operators.jl#L513\" target=\"_blank\">operators.jl:513</a></li> <li> +(x::<b>T</b>, y::<b>T</b>)<i> where T<:Number</i> in Base at <a href=\"https://github.com/JuliaLang/julia/tree/539f3ce943f59dec8aff3f2238b083f1b27f41e5/base/promotion.jl#L384\" target=\"_blank\">promotion.jl:384</a></li> <li> +(x::<b>Number</b>, y::<b>Number</b>) in Base at <a href=\"https://github.com/JuliaLang/julia/tree/539f3ce943f59dec8aff3f2238b083f1b27f41e5/base/promotion.jl#L311\" target=\"_blank\">promotion.jl:311</a></li> <li> +(r1::<b>OrdinalRange</b>, r2::<b>OrdinalRange</b>) in Base at <a href=\"https://github.com/JuliaLang/julia/tree/539f3ce943f59dec8aff3f2238b083f1b27f41e5/base/range.jl#L1055\" target=\"_blank\">range.jl:1055</a></li> <li> +(r1::<b>LinRange{T}</b>, r2::<b>LinRange{T}</b>)<i> where T</i> in Base at <a href=\"https://github.com/JuliaLang/julia/tree/539f3ce943f59dec8aff3f2238b083f1b27f41e5/base/range.jl#L1062\" target=\"_blank\">range.jl:1062</a></li> <li> +(r1::<b>StepRangeLen{T,R,S} where S</b>, r2::<b>StepRangeLen{T,R,S} where S</b>)<i> where {R<:Base.TwicePrecision, T}</i> in Base at <a href=\"https://github.com/JuliaLang/julia/tree/539f3ce943f59dec8aff3f2238b083f1b27f41e5/base/twiceprecision.jl#L577\" target=\"_blank\">twiceprecision.jl:577</a></li> <li> +(r1::<b>StepRangeLen{T,S,S1} where S1</b>, r2::<b>StepRangeLen{T,S,S1} where S1</b>)<i> where {T, S}</i> in Base at <a href=\"https://github.com/JuliaLang/julia/tree/539f3ce943f59dec8aff3f2238b083f1b27f41e5/base/range.jl#L1078\" target=\"_blank\">range.jl:1078</a></li> <li> +(r1::<b>Union{LinRange, OrdinalRange, StepRangeLen}</b>, r2::<b>Union{LinRange, OrdinalRange, StepRangeLen}</b>) in Base at <a href=\"https://github.com/JuliaLang/julia/tree/539f3ce943f59dec8aff3f2238b083f1b27f41e5/base/range.jl#L1071\" target=\"_blank\">range.jl:1071</a></li> <li> +(x::<b>Ptr</b>, y::<b>Integer</b>) in Base at <a href=\"https://github.com/JuliaLang/julia/tree/539f3ce943f59dec8aff3f2238b083f1b27f41e5/base/pointer.jl#L159\" target=\"_blank\">pointer.jl:159</a></li> <li> +(x::<b>Base.TwicePrecision</b>, y::<b>Number</b>) in Base at <a href=\"https://github.com/JuliaLang/julia/tree/539f3ce943f59dec8aff3f2238b083f1b27f41e5/base/twiceprecision.jl#L267\" target=\"_blank\">twiceprecision.jl:267</a></li> <li> +(x::<b>Number</b>, y::<b>Base.TwicePrecision</b>) in Base at <a href=\"https://github.com/JuliaLang/julia/tree/539f3ce943f59dec8aff3f2238b083f1b27f41e5/base/twiceprecision.jl#L271\" target=\"_blank\">twiceprecision.jl:271</a></li> <li> +(x::<b>Base.TwicePrecision{T}</b>, y::<b>Base.TwicePrecision{T}</b>)<i> where T</i> in Base at <a href=\"https://github.com/JuliaLang/julia/tree/539f3ce943f59dec8aff3f2238b083f1b27f41e5/base/twiceprecision.jl#L273\" target=\"_blank\">twiceprecision.jl:273</a></li> <li> +(x::<b>Base.TwicePrecision</b>, y::<b>Base.TwicePrecision</b>) in Base at <a href=\"https://github.com/JuliaLang/julia/tree/539f3ce943f59dec8aff3f2238b083f1b27f41e5/base/twiceprecision.jl#L278\" target=\"_blank\">twiceprecision.jl:278</a></li> <li> +(A::<b>Array</b>, Bs::<b>Array...</b>) in Base at <a href=\"https://github.com/JuliaLang/julia/tree/539f3ce943f59dec8aff3f2238b083f1b27f41e5/base/arraymath.jl#L43\" target=\"_blank\">arraymath.jl:43</a></li> <li> +(A::<b>BitArray</b>, B::<b>BitArray</b>) in Base at <a href=\"https://github.com/JuliaLang/julia/tree/539f3ce943f59dec8aff3f2238b083f1b27f41e5/base/bitarray.jl#L1110\" target=\"_blank\">bitarray.jl:1110</a></li> <li> +(r::<b>AbstractRange{var\"#s828\"} where var\"#s828\"<:Dates.TimeType</b>, x::<b>Dates.Period</b>) in Dates at <a href=\"file:///Users/julia/buildbot/worker/package_macos64/build/usr/share/julia/stdlib/v1.5/Dates/src/ranges.jl\" target=\"_blank\">/Applications/Julia-1.5.app/Contents/Resources/julia/share/julia/stdlib/v1.5/Dates/src/ranges.jl:59</a></li> <li> +(A::<b>Array</b>, B::<b>SparseArrays.AbstractSparseMatrixCSC</b>) in SparseArrays at <a href=\"file:///Users/julia/buildbot/worker/package_macos64/build/usr/share/julia/stdlib/v1.5/SparseArrays/src/sparsematrix.jl\" target=\"_blank\">/Applications/Julia-1.5.app/Contents/Resources/julia/share/julia/stdlib/v1.5/SparseArrays/src/sparsematrix.jl:1683</a></li> <li> +(x::<b>StridedArray{var\"#s828\", N} where N where var\"#s828\"<:Union{Dates.CompoundPeriod, Dates.Period}</b>) in Dates at <a href=\"file:///Users/julia/buildbot/worker/package_macos64/build/usr/share/julia/stdlib/v1.5/Dates/src/deprecated.jl\" target=\"_blank\">/Applications/Julia-1.5.app/Contents/Resources/julia/share/julia/stdlib/v1.5/Dates/src/deprecated.jl:55</a></li> <li> +(x::<b>StridedArray{var\"#s828\", N} where N where var\"#s828\"<:Union{Dates.CompoundPeriod, Dates.Period}</b>, y::<b>Dates.TimeType</b>) in Dates at <a href=\"file:///Users/julia/buildbot/worker/package_macos64/build/usr/share/julia/stdlib/v1.5/Dates/src/deprecated.jl\" target=\"_blank\">/Applications/Julia-1.5.app/Contents/Resources/julia/share/julia/stdlib/v1.5/Dates/src/deprecated.jl:10</a></li> <li> +(X::<b>StridedArray{var\"#s828\", N} where N where var\"#s828\"<:Union{Dates.CompoundPeriod, Dates.Period}</b>, Y::<b>StridedArray{var\"#s827\", N} where N where var\"#s827\"<:Union{Dates.CompoundPeriod, Dates.Period}</b>) in Dates at <a href=\"file:///Users/julia/buildbot/worker/package_macos64/build/usr/share/julia/stdlib/v1.5/Dates/src/deprecated.jl\" target=\"_blank\">/Applications/Julia-1.5.app/Contents/Resources/julia/share/julia/stdlib/v1.5/Dates/src/deprecated.jl:62</a></li> <li> +(A::<b>LinearAlgebra.SymTridiagonal</b>, B::<b>LinearAlgebra.SymTridiagonal</b>) in LinearAlgebra at <a href=\"file:///Users/julia/buildbot/worker/package_macos64/build/usr/share/julia/stdlib/v1.5/LinearAlgebra/src/tridiag.jl\" target=\"_blank\">/Applications/Julia-1.5.app/Contents/Resources/julia/share/julia/stdlib/v1.5/LinearAlgebra/src/tridiag.jl:205</a></li> <li> +(A::<b>LinearAlgebra.Tridiagonal</b>, B::<b>LinearAlgebra.Tridiagonal</b>) in LinearAlgebra at <a href=\"file:///Users/julia/buildbot/worker/package_macos64/build/usr/share/julia/stdlib/v1.5/LinearAlgebra/src/tridiag.jl\" target=\"_blank\">/Applications/Julia-1.5.app/Contents/Resources/julia/share/julia/stdlib/v1.5/LinearAlgebra/src/tridiag.jl:732</a></li> <li> +(A::<b>LinearAlgebra.UpperTriangular</b>, B::<b>LinearAlgebra.UpperTriangular</b>) in LinearAlgebra at <a href=\"file:///Users/julia/buildbot/worker/package_macos64/build/usr/share/julia/stdlib/v1.5/LinearAlgebra/src/triangular.jl\" target=\"_blank\">/Applications/Julia-1.5.app/Contents/Resources/julia/share/julia/stdlib/v1.5/LinearAlgebra/src/triangular.jl:659</a></li> <li> +(A::<b>LinearAlgebra.LowerTriangular</b>, B::<b>LinearAlgebra.LowerTriangular</b>) in LinearAlgebra at <a href=\"file:///Users/julia/buildbot/worker/package_macos64/build/usr/share/julia/stdlib/v1.5/LinearAlgebra/src/triangular.jl\" target=\"_blank\">/Applications/Julia-1.5.app/Contents/Resources/julia/share/julia/stdlib/v1.5/LinearAlgebra/src/triangular.jl:660</a></li> <li> +(A::<b>LinearAlgebra.UpperTriangular</b>, B::<b>LinearAlgebra.UnitUpperTriangular</b>) in LinearAlgebra at <a href=\"file:///Users/julia/buildbot/worker/package_macos64/build/usr/share/julia/stdlib/v1.5/LinearAlgebra/src/triangular.jl\" target=\"_blank\">/Applications/Julia-1.5.app/Contents/Resources/julia/share/julia/stdlib/v1.5/LinearAlgebra/src/triangular.jl:661</a></li> <li> +(A::<b>LinearAlgebra.LowerTriangular</b>, B::<b>LinearAlgebra.UnitLowerTriangular</b>) in LinearAlgebra at <a href=\"file:///Users/julia/buildbot/worker/package_macos64/build/usr/share/julia/stdlib/v1.5/LinearAlgebra/src/triangular.jl\" target=\"_blank\">/Applications/Julia-1.5.app/Contents/Resources/julia/share/julia/stdlib/v1.5/LinearAlgebra/src/triangular.jl:662</a></li> <li> +(A::<b>LinearAlgebra.UnitUpperTriangular</b>, B::<b>LinearAlgebra.UpperTriangular</b>) in LinearAlgebra at <a href=\"file:///Users/julia/buildbot/worker/package_macos64/build/usr/share/julia/stdlib/v1.5/LinearAlgebra/src/triangular.jl\" target=\"_blank\">/Applications/Julia-1.5.app/Contents/Resources/julia/share/julia/stdlib/v1.5/LinearAlgebra/src/triangular.jl:663</a></li> <li> +(A::<b>LinearAlgebra.UnitLowerTriangular</b>, B::<b>LinearAlgebra.LowerTriangular</b>) in LinearAlgebra at <a href=\"file:///Users/julia/buildbot/worker/package_macos64/build/usr/share/julia/stdlib/v1.5/LinearAlgebra/src/triangular.jl\" target=\"_blank\">/Applications/Julia-1.5.app/Contents/Resources/julia/share/julia/stdlib/v1.5/LinearAlgebra/src/triangular.jl:664</a></li> <li> +(A::<b>LinearAlgebra.UnitUpperTriangular</b>, B::<b>LinearAlgebra.UnitUpperTriangular</b>) in LinearAlgebra at <a href=\"file:///Users/julia/buildbot/worker/package_macos64/build/usr/share/julia/stdlib/v1.5/LinearAlgebra/src/triangular.jl\" target=\"_blank\">/Applications/Julia-1.5.app/Contents/Resources/julia/share/julia/stdlib/v1.5/LinearAlgebra/src/triangular.jl:665</a></li> <li> +(A::<b>LinearAlgebra.UnitLowerTriangular</b>, B::<b>LinearAlgebra.UnitLowerTriangular</b>) in LinearAlgebra at <a href=\"file:///Users/julia/buildbot/worker/package_macos64/build/usr/share/julia/stdlib/v1.5/LinearAlgebra/src/triangular.jl\" target=\"_blank\">/Applications/Julia-1.5.app/Contents/Resources/julia/share/julia/stdlib/v1.5/LinearAlgebra/src/triangular.jl:666</a></li> <li> +(A::<b>LinearAlgebra.AbstractTriangular</b>, B::<b>LinearAlgebra.AbstractTriangular</b>) in LinearAlgebra at <a href=\"file:///Users/julia/buildbot/worker/package_macos64/build/usr/share/julia/stdlib/v1.5/LinearAlgebra/src/triangular.jl\" target=\"_blank\">/Applications/Julia-1.5.app/Contents/Resources/julia/share/julia/stdlib/v1.5/LinearAlgebra/src/triangular.jl:667</a></li> <li> +(A::<b>LinearAlgebra.Hermitian</b>, B::<b>LinearAlgebra.Hermitian</b>) in LinearAlgebra at <a href=\"file:///Users/julia/buildbot/worker/package_macos64/build/usr/share/julia/stdlib/v1.5/LinearAlgebra/src/symmetric.jl\" target=\"_blank\">/Applications/Julia-1.5.app/Contents/Resources/julia/share/julia/stdlib/v1.5/LinearAlgebra/src/symmetric.jl:466</a></li> <li> +(A::<b>LinearAlgebra.Symmetric</b>, B::<b>LinearAlgebra.Symmetric</b>) in LinearAlgebra at <a href=\"file:///Users/julia/buildbot/worker/package_macos64/build/usr/share/julia/stdlib/v1.5/LinearAlgebra/src/symmetric.jl\" target=\"_blank\">/Applications/Julia-1.5.app/Contents/Resources/julia/share/julia/stdlib/v1.5/LinearAlgebra/src/symmetric.jl:466</a></li> <li> +(A::<b>LinearAlgebra.Hermitian{var\"#s816\",var\"#s815\"} where var\"#s815\"<:(SparseArrays.AbstractSparseArray{Tv,Ti,2} where Ti where Tv) where var\"#s816\"</b>, B::<b>LinearAlgebra.Symmetric{var\"#s814\",var\"#s813\"} where var\"#s813\"<:(SparseArrays.AbstractSparseArray{Tv,Ti,2} where Ti where Tv) where var\"#s814\"<:Real</b>) in SparseArrays at <a href=\"file:///Users/julia/buildbot/worker/package_macos64/build/usr/share/julia/stdlib/v1.5/SparseArrays/src/linalg.jl\" target=\"_blank\">/Applications/Julia-1.5.app/Contents/Resources/julia/share/julia/stdlib/v1.5/SparseArrays/src/linalg.jl:24</a></li> <li> +(A::<b>LinearAlgebra.Hermitian</b>, B::<b>LinearAlgebra.Symmetric{var\"#s828\",S} where S<:(AbstractArray{var\"#s8281\",2} where var\"#s8281\"<:var\"#s828\") where var\"#s828\"<:Real</b>) in LinearAlgebra at <a href=\"file:///Users/julia/buildbot/worker/package_macos64/build/usr/share/julia/stdlib/v1.5/LinearAlgebra/src/symmetric.jl\" target=\"_blank\">/Applications/Julia-1.5.app/Contents/Resources/julia/share/julia/stdlib/v1.5/LinearAlgebra/src/symmetric.jl:480</a></li> <li> +(A::<b>LinearAlgebra.Symmetric{var\"#s820\",var\"#s819\"} where var\"#s819\"<:(SparseArrays.AbstractSparseArray{Tv,Ti,2} where Ti where Tv) where var\"#s820\"<:Real</b>, B::<b>LinearAlgebra.Hermitian{var\"#s818\",var\"#s817\"} where var\"#s817\"<:(SparseArrays.AbstractSparseArray{Tv,Ti,2} where Ti where Tv) where var\"#s818\"</b>) in SparseArrays at <a href=\"file:///Users/julia/buildbot/worker/package_macos64/build/usr/share/julia/stdlib/v1.5/SparseArrays/src/linalg.jl\" target=\"_blank\">/Applications/Julia-1.5.app/Contents/Resources/julia/share/julia/stdlib/v1.5/SparseArrays/src/linalg.jl:23</a></li> <li> +(A::<b>LinearAlgebra.Symmetric{var\"#s827\",S} where S<:(AbstractArray{var\"#s828\",2} where var\"#s828\"<:var\"#s827\") where var\"#s827\"<:Real</b>, B::<b>LinearAlgebra.Hermitian</b>) in LinearAlgebra at <a href=\"file:///Users/julia/buildbot/worker/package_macos64/build/usr/share/julia/stdlib/v1.5/LinearAlgebra/src/symmetric.jl\" target=\"_blank\">/Applications/Julia-1.5.app/Contents/Resources/julia/share/julia/stdlib/v1.5/LinearAlgebra/src/symmetric.jl:481</a></li> <li> +(Da::<b>LinearAlgebra.Diagonal</b>, Db::<b>LinearAlgebra.Diagonal</b>) in LinearAlgebra at <a href=\"file:///Users/julia/buildbot/worker/package_macos64/build/usr/share/julia/stdlib/v1.5/LinearAlgebra/src/diagonal.jl\" target=\"_blank\">/Applications/Julia-1.5.app/Contents/Resources/julia/share/julia/stdlib/v1.5/LinearAlgebra/src/diagonal.jl:156</a></li> <li> +(D::<b>LinearAlgebra.Diagonal</b>, S::<b>LinearAlgebra.Symmetric</b>) in LinearAlgebra at <a href=\"file:///Users/julia/buildbot/worker/package_macos64/build/usr/share/julia/stdlib/v1.5/LinearAlgebra/src/diagonal.jl\" target=\"_blank\">/Applications/Julia-1.5.app/Contents/Resources/julia/share/julia/stdlib/v1.5/LinearAlgebra/src/diagonal.jl:160</a></li> <li> +(S::<b>LinearAlgebra.Symmetric</b>, D::<b>LinearAlgebra.Diagonal</b>) in LinearAlgebra at <a href=\"file:///Users/julia/buildbot/worker/package_macos64/build/usr/share/julia/stdlib/v1.5/LinearAlgebra/src/diagonal.jl\" target=\"_blank\">/Applications/Julia-1.5.app/Contents/Resources/julia/share/julia/stdlib/v1.5/LinearAlgebra/src/diagonal.jl:163</a></li> <li> +(D::<b>LinearAlgebra.Diagonal{var\"#s828\",V} where V<:AbstractArray{var\"#s828\",1} where var\"#s828\"<:Real</b>, H::<b>LinearAlgebra.Hermitian</b>) in LinearAlgebra at <a href=\"file:///Users/julia/buildbot/worker/package_macos64/build/usr/share/julia/stdlib/v1.5/LinearAlgebra/src/diagonal.jl\" target=\"_blank\">/Applications/Julia-1.5.app/Contents/Resources/julia/share/julia/stdlib/v1.5/LinearAlgebra/src/diagonal.jl:166</a></li> <li> +(H::<b>LinearAlgebra.Hermitian</b>, D::<b>LinearAlgebra.Diagonal{var\"#s828\",V} where V<:AbstractArray{var\"#s828\",1} where var\"#s828\"<:Real</b>) in LinearAlgebra at <a href=\"file:///Users/julia/buildbot/worker/package_macos64/build/usr/share/julia/stdlib/v1.5/LinearAlgebra/src/diagonal.jl\" target=\"_blank\">/Applications/Julia-1.5.app/Contents/Resources/julia/share/julia/stdlib/v1.5/LinearAlgebra/src/diagonal.jl:169</a></li> <li> +(A::<b>LinearAlgebra.Bidiagonal</b>, B::<b>LinearAlgebra.Bidiagonal</b>) in LinearAlgebra at <a href=\"file:///Users/julia/buildbot/worker/package_macos64/build/usr/share/julia/stdlib/v1.5/LinearAlgebra/src/bidiag.jl\" target=\"_blank\">/Applications/Julia-1.5.app/Contents/Resources/julia/share/julia/stdlib/v1.5/LinearAlgebra/src/bidiag.jl:347</a></li> <li> +(UL::<b>LinearAlgebra.UnitUpperTriangular</b>, J::<b>LinearAlgebra.UniformScaling</b>) in LinearAlgebra at <a href=\"file:///Users/julia/buildbot/worker/package_macos64/build/usr/share/julia/stdlib/v1.5/LinearAlgebra/src/uniformscaling.jl\" target=\"_blank\">/Applications/Julia-1.5.app/Contents/Resources/julia/share/julia/stdlib/v1.5/LinearAlgebra/src/uniformscaling.jl:147</a></li> <li> +(UL::<b>LinearAlgebra.UnitLowerTriangular</b>, J::<b>LinearAlgebra.UniformScaling</b>) in LinearAlgebra at <a href=\"file:///Users/julia/buildbot/worker/package_macos64/build/usr/share/julia/stdlib/v1.5/LinearAlgebra/src/uniformscaling.jl\" target=\"_blank\">/Applications/Julia-1.5.app/Contents/Resources/julia/share/julia/stdlib/v1.5/LinearAlgebra/src/uniformscaling.jl:147</a></li> <li> +(A::<b>LinearAlgebra.Hermitian</b>, J::<b>LinearAlgebra.UniformScaling{var\"#s828\"} where var\"#s828\"<:Complex</b>) in LinearAlgebra at <a href=\"file:///Users/julia/buildbot/worker/package_macos64/build/usr/share/julia/stdlib/v1.5/LinearAlgebra/src/uniformscaling.jl\" target=\"_blank\">/Applications/Julia-1.5.app/Contents/Resources/julia/share/julia/stdlib/v1.5/LinearAlgebra/src/uniformscaling.jl:161</a></li> <li> +(H::<b>LinearAlgebra.UpperHessenberg</b>, J::<b>LinearAlgebra.UniformScaling</b>) in LinearAlgebra at <a href=\"file:///Users/julia/buildbot/worker/package_macos64/build/usr/share/julia/stdlib/v1.5/LinearAlgebra/src/hessenberg.jl\" target=\"_blank\">/Applications/Julia-1.5.app/Contents/Resources/julia/share/julia/stdlib/v1.5/LinearAlgebra/src/hessenberg.jl:106</a></li> <li> +(A::<b>LinearAlgebra.Tridiagonal{var\"#s828\",V} where V<:AbstractArray{var\"#s828\",1} where var\"#s828\"<:Number</b>, B::<b>LinearAlgebra.UniformScaling</b>) in LinearAlgebra at <a href=\"file:///Users/julia/buildbot/worker/package_macos64/build/usr/share/julia/stdlib/v1.5/LinearAlgebra/src/special.jl\" target=\"_blank\">/Applications/Julia-1.5.app/Contents/Resources/julia/share/julia/stdlib/v1.5/LinearAlgebra/src/special.jl:226</a></li> <li> +(A::<b>LinearAlgebra.SymTridiagonal{var\"#s828\",V} where V<:AbstractArray{var\"#s828\",1} where var\"#s828\"<:Number</b>, B::<b>LinearAlgebra.UniformScaling</b>) in LinearAlgebra at <a href=\"file:///Users/julia/buildbot/worker/package_macos64/build/usr/share/julia/stdlib/v1.5/LinearAlgebra/src/special.jl\" target=\"_blank\">/Applications/Julia-1.5.app/Contents/Resources/julia/share/julia/stdlib/v1.5/LinearAlgebra/src/special.jl:231</a></li> <li> +(A::<b>LinearAlgebra.Bidiagonal{var\"#s828\",V} where V<:AbstractArray{var\"#s828\",1} where var\"#s828\"<:Number</b>, B::<b>LinearAlgebra.UniformScaling</b>) in LinearAlgebra at <a href=\"file:///Users/julia/buildbot/worker/package_macos64/build/usr/share/julia/stdlib/v1.5/LinearAlgebra/src/special.jl\" target=\"_blank\">/Applications/Julia-1.5.app/Contents/Resources/julia/share/julia/stdlib/v1.5/LinearAlgebra/src/special.jl:236</a></li> <li> +(A::<b>LinearAlgebra.Diagonal{var\"#s828\",V} where V<:AbstractArray{var\"#s828\",1} where var\"#s828\"<:Number</b>, B::<b>LinearAlgebra.UniformScaling</b>) in LinearAlgebra at <a href=\"file:///Users/julia/buildbot/worker/package_macos64/build/usr/share/julia/stdlib/v1.5/LinearAlgebra/src/special.jl\" target=\"_blank\">/Applications/Julia-1.5.app/Contents/Resources/julia/share/julia/stdlib/v1.5/LinearAlgebra/src/special.jl:241</a></li> <li> +(A::<b>SparseArrays.AbstractSparseMatrixCSC</b>, J::<b>LinearAlgebra.UniformScaling</b>) in SparseArrays at <a href=\"file:///Users/julia/buildbot/worker/package_macos64/build/usr/share/julia/stdlib/v1.5/SparseArrays/src/sparsematrix.jl\" target=\"_blank\">/Applications/Julia-1.5.app/Contents/Resources/julia/share/julia/stdlib/v1.5/SparseArrays/src/sparsematrix.jl:3641</a></li> <li> +(a::<b>StaticArrays.StaticArray{Tuple{N,M},T,2} where T where M where N</b>, b::<b>LinearAlgebra.UniformScaling</b>) in StaticArrays at <a href=\"file:///Users/jontysinai/.julia/packages/StaticArrays/NTbHj/src/linalg.jl\" target=\"_blank\">/Users/jontysinai/.julia/packages/StaticArrays/NTbHj/src/linalg.jl:28</a></li> <li> +(A::<b>AbstractArray{T,2} where T</b>, J::<b>LinearAlgebra.UniformScaling</b>) in LinearAlgebra at <a href=\"file:///Users/julia/buildbot/worker/package_macos64/build/usr/share/julia/stdlib/v1.5/LinearAlgebra/src/uniformscaling.jl\" target=\"_blank\">/Applications/Julia-1.5.app/Contents/Resources/julia/share/julia/stdlib/v1.5/LinearAlgebra/src/uniformscaling.jl:180</a></li> <li> +(A::<b>LinearAlgebra.UpperHessenberg</b>, B::<b>LinearAlgebra.UpperHessenberg</b>) in LinearAlgebra at <a href=\"file:///Users/julia/buildbot/worker/package_macos64/build/usr/share/julia/stdlib/v1.5/LinearAlgebra/src/hessenberg.jl\" target=\"_blank\">/Applications/Julia-1.5.app/Contents/Resources/julia/share/julia/stdlib/v1.5/LinearAlgebra/src/hessenberg.jl:101</a></li> <li> +(A::<b>LinearAlgebra.UpperTriangular</b>, B::<b>LinearAlgebra.Bidiagonal</b>) in LinearAlgebra at <a href=\"file:///Users/julia/buildbot/worker/package_macos64/build/usr/share/julia/stdlib/v1.5/LinearAlgebra/src/special.jl\" target=\"_blank\">/Applications/Julia-1.5.app/Contents/Resources/julia/share/julia/stdlib/v1.5/LinearAlgebra/src/special.jl:86</a></li> <li> +(A::<b>LinearAlgebra.Bidiagonal</b>, B::<b>LinearAlgebra.UpperTriangular</b>) in LinearAlgebra at <a href=\"file:///Users/julia/buildbot/worker/package_macos64/build/usr/share/julia/stdlib/v1.5/LinearAlgebra/src/special.jl\" target=\"_blank\">/Applications/Julia-1.5.app/Contents/Resources/julia/share/julia/stdlib/v1.5/LinearAlgebra/src/special.jl:94</a></li> <li> +(A::<b>LinearAlgebra.UnitUpperTriangular</b>, B::<b>LinearAlgebra.Bidiagonal</b>) in LinearAlgebra at <a href=\"file:///Users/julia/buildbot/worker/package_macos64/build/usr/share/julia/stdlib/v1.5/LinearAlgebra/src/special.jl\" target=\"_blank\">/Applications/Julia-1.5.app/Contents/Resources/julia/share/julia/stdlib/v1.5/LinearAlgebra/src/special.jl:86</a></li> <li> +(A::<b>LinearAlgebra.Bidiagonal</b>, B::<b>LinearAlgebra.UnitUpperTriangular</b>) in LinearAlgebra at <a href=\"file:///Users/julia/buildbot/worker/package_macos64/build/usr/share/julia/stdlib/v1.5/LinearAlgebra/src/special.jl\" target=\"_blank\">/Applications/Julia-1.5.app/Contents/Resources/julia/share/julia/stdlib/v1.5/LinearAlgebra/src/special.jl:94</a></li> <li> +(A::<b>LinearAlgebra.LowerTriangular</b>, B::<b>LinearAlgebra.Bidiagonal</b>) in LinearAlgebra at <a href=\"file:///Users/julia/buildbot/worker/package_macos64/build/usr/share/julia/stdlib/v1.5/LinearAlgebra/src/special.jl\" target=\"_blank\">/Applications/Julia-1.5.app/Contents/Resources/julia/share/julia/stdlib/v1.5/LinearAlgebra/src/special.jl:86</a></li> <li> +(A::<b>LinearAlgebra.Bidiagonal</b>, B::<b>LinearAlgebra.LowerTriangular</b>) in LinearAlgebra at <a href=\"file:///Users/julia/buildbot/worker/package_macos64/build/usr/share/julia/stdlib/v1.5/LinearAlgebra/src/special.jl\" target=\"_blank\">/Applications/Julia-1.5.app/Contents/Resources/julia/share/julia/stdlib/v1.5/LinearAlgebra/src/special.jl:94</a></li> <li> +(A::<b>LinearAlgebra.UnitLowerTriangular</b>, B::<b>LinearAlgebra.Bidiagonal</b>) in LinearAlgebra at <a href=\"file:///Users/julia/buildbot/worker/package_macos64/build/usr/share/julia/stdlib/v1.5/LinearAlgebra/src/special.jl\" target=\"_blank\">/Applications/Julia-1.5.app/Contents/Resources/julia/share/julia/stdlib/v1.5/LinearAlgebra/src/special.jl:86</a></li> <li> +(A::<b>LinearAlgebra.Bidiagonal</b>, B::<b>LinearAlgebra.UnitLowerTriangular</b>) in LinearAlgebra at <a href=\"file:///Users/julia/buildbot/worker/package_macos64/build/usr/share/julia/stdlib/v1.5/LinearAlgebra/src/special.jl\" target=\"_blank\">/Applications/Julia-1.5.app/Contents/Resources/julia/share/julia/stdlib/v1.5/LinearAlgebra/src/special.jl:94</a></li> <li> +(A::<b>LinearAlgebra.Bidiagonal</b>, B::<b>LinearAlgebra.Diagonal</b>) in LinearAlgebra at <a href=\"file:///Users/julia/buildbot/worker/package_macos64/build/usr/share/julia/stdlib/v1.5/LinearAlgebra/src/special.jl\" target=\"_blank\">/Applications/Julia-1.5.app/Contents/Resources/julia/share/julia/stdlib/v1.5/LinearAlgebra/src/special.jl:115</a></li> <li> +(A::<b>LinearAlgebra.Diagonal</b>, B::<b>LinearAlgebra.Bidiagonal</b>) in LinearAlgebra at <a href=\"file:///Users/julia/buildbot/worker/package_macos64/build/usr/share/julia/stdlib/v1.5/LinearAlgebra/src/special.jl\" target=\"_blank\">/Applications/Julia-1.5.app/Contents/Resources/julia/share/julia/stdlib/v1.5/LinearAlgebra/src/special.jl:125</a></li> <li> +(A::<b>LinearAlgebra.Diagonal</b>, B::<b>LinearAlgebra.SymTridiagonal</b>) in LinearAlgebra at <a href=\"file:///Users/julia/buildbot/worker/package_macos64/build/usr/share/julia/stdlib/v1.5/LinearAlgebra/src/special.jl\" target=\"_blank\">/Applications/Julia-1.5.app/Contents/Resources/julia/share/julia/stdlib/v1.5/LinearAlgebra/src/special.jl:135</a></li> <li> +(A::<b>LinearAlgebra.SymTridiagonal</b>, B::<b>LinearAlgebra.Diagonal</b>) in LinearAlgebra at <a href=\"file:///Users/julia/buildbot/worker/package_macos64/build/usr/share/julia/stdlib/v1.5/LinearAlgebra/src/special.jl\" target=\"_blank\">/Applications/Julia-1.5.app/Contents/Resources/julia/share/julia/stdlib/v1.5/LinearAlgebra/src/special.jl:145</a></li> <li> +(A::<b>LinearAlgebra.Tridiagonal</b>, B::<b>LinearAlgebra.SymTridiagonal</b>) in LinearAlgebra at <a href=\"file:///Users/julia/buildbot/worker/package_macos64/build/usr/share/julia/stdlib/v1.5/LinearAlgebra/src/special.jl\" target=\"_blank\">/Applications/Julia-1.5.app/Contents/Resources/julia/share/julia/stdlib/v1.5/LinearAlgebra/src/special.jl:157</a></li> <li> +(A::<b>LinearAlgebra.SymTridiagonal</b>, B::<b>LinearAlgebra.Tridiagonal</b>) in LinearAlgebra at <a href=\"file:///Users/julia/buildbot/worker/package_macos64/build/usr/share/julia/stdlib/v1.5/LinearAlgebra/src/special.jl\" target=\"_blank\">/Applications/Julia-1.5.app/Contents/Resources/julia/share/julia/stdlib/v1.5/LinearAlgebra/src/special.jl:159</a></li> <li> +(A::<b>LinearAlgebra.Diagonal</b>, B::<b>LinearAlgebra.Tridiagonal</b>) in LinearAlgebra at <a href=\"file:///Users/julia/buildbot/worker/package_macos64/build/usr/share/julia/stdlib/v1.5/LinearAlgebra/src/special.jl\" target=\"_blank\">/Applications/Julia-1.5.app/Contents/Resources/julia/share/julia/stdlib/v1.5/LinearAlgebra/src/special.jl:163</a></li> <li> +(A::<b>LinearAlgebra.Tridiagonal</b>, B::<b>LinearAlgebra.Diagonal</b>) in LinearAlgebra at <a href=\"file:///Users/julia/buildbot/worker/package_macos64/build/usr/share/julia/stdlib/v1.5/LinearAlgebra/src/special.jl\" target=\"_blank\">/Applications/Julia-1.5.app/Contents/Resources/julia/share/julia/stdlib/v1.5/LinearAlgebra/src/special.jl:173</a></li> <li> +(A::<b>LinearAlgebra.Bidiagonal</b>, B::<b>LinearAlgebra.Tridiagonal</b>) in LinearAlgebra at <a href=\"file:///Users/julia/buildbot/worker/package_macos64/build/usr/share/julia/stdlib/v1.5/LinearAlgebra/src/special.jl\" target=\"_blank\">/Applications/Julia-1.5.app/Contents/Resources/julia/share/julia/stdlib/v1.5/LinearAlgebra/src/special.jl:183</a></li> <li> +(A::<b>LinearAlgebra.Tridiagonal</b>, B::<b>LinearAlgebra.Bidiagonal</b>) in LinearAlgebra at <a href=\"file:///Users/julia/buildbot/worker/package_macos64/build/usr/share/julia/stdlib/v1.5/LinearAlgebra/src/special.jl\" target=\"_blank\">/Applications/Julia-1.5.app/Contents/Resources/julia/share/julia/stdlib/v1.5/LinearAlgebra/src/special.jl:193</a></li> <li> +(A::<b>LinearAlgebra.Bidiagonal</b>, B::<b>LinearAlgebra.SymTridiagonal</b>) in LinearAlgebra at <a href=\"file:///Users/julia/buildbot/worker/package_macos64/build/usr/share/julia/stdlib/v1.5/LinearAlgebra/src/special.jl\" target=\"_blank\">/Applications/Julia-1.5.app/Contents/Resources/julia/share/julia/stdlib/v1.5/LinearAlgebra/src/special.jl:203</a></li> <li> +(A::<b>LinearAlgebra.SymTridiagonal</b>, B::<b>LinearAlgebra.Bidiagonal</b>) in LinearAlgebra at <a href=\"file:///Users/julia/buildbot/worker/package_macos64/build/usr/share/julia/stdlib/v1.5/LinearAlgebra/src/special.jl\" target=\"_blank\">/Applications/Julia-1.5.app/Contents/Resources/julia/share/julia/stdlib/v1.5/LinearAlgebra/src/special.jl:213</a></li> <li> +(A::<b>SparseArrays.AbstractSparseMatrixCSC</b>, B::<b>SparseArrays.AbstractSparseMatrixCSC</b>) in SparseArrays at <a href=\"file:///Users/julia/buildbot/worker/package_macos64/build/usr/share/julia/stdlib/v1.5/SparseArrays/src/sparsematrix.jl\" target=\"_blank\">/Applications/Julia-1.5.app/Contents/Resources/julia/share/julia/stdlib/v1.5/SparseArrays/src/sparsematrix.jl:1679</a></li> <li> +(A::<b>SparseArrays.AbstractSparseMatrixCSC</b>, B::<b>Array</b>) in SparseArrays at <a href=\"file:///Users/julia/buildbot/worker/package_macos64/build/usr/share/julia/stdlib/v1.5/SparseArrays/src/sparsematrix.jl\" target=\"_blank\">/Applications/Julia-1.5.app/Contents/Resources/julia/share/julia/stdlib/v1.5/SparseArrays/src/sparsematrix.jl:1682</a></li> <li> +(x::<b>SparseArrays.AbstractSparseArray{Tv,Ti,1} where Ti where Tv</b>, y::<b>SparseArrays.AbstractSparseArray{Tv,Ti,1} where Ti where Tv</b>) in SparseArrays at <a href=\"file:///Users/julia/buildbot/worker/package_macos64/build/usr/share/julia/stdlib/v1.5/SparseArrays/src/sparsevector.jl\" target=\"_blank\">/Applications/Julia-1.5.app/Contents/Resources/julia/share/julia/stdlib/v1.5/SparseArrays/src/sparsevector.jl:1302</a></li> <li> +(A::<b>SparseArrays.AbstractSparseArray{Tv,Ti,2} where Ti where Tv</b>, B::<b>LinearAlgebra.Hermitian{var\"#s828\",var\"#s827\"} where var\"#s827\"<:(SparseArrays.AbstractSparseArray{Tv,Ti,2} where Ti where Tv) where var\"#s828\"</b>) in SparseArrays at <a href=\"file:///Users/julia/buildbot/worker/package_macos64/build/usr/share/julia/stdlib/v1.5/SparseArrays/src/linalg.jl\" target=\"_blank\">/Applications/Julia-1.5.app/Contents/Resources/julia/share/julia/stdlib/v1.5/SparseArrays/src/linalg.jl:12</a></li> <li> +(A::<b>LinearAlgebra.Hermitian{var\"#s826\",var\"#s825\"} where var\"#s825\"<:(SparseArrays.AbstractSparseArray{Tv,Ti,2} where Ti where Tv) where var\"#s826\"</b>, B::<b>SparseArrays.AbstractSparseArray{Tv,Ti,2} where Ti where Tv</b>) in SparseArrays at <a href=\"file:///Users/julia/buildbot/worker/package_macos64/build/usr/share/julia/stdlib/v1.5/SparseArrays/src/linalg.jl\" target=\"_blank\">/Applications/Julia-1.5.app/Contents/Resources/julia/share/julia/stdlib/v1.5/SparseArrays/src/linalg.jl:13</a></li> <li> +(A::<b>SparseArrays.AbstractSparseArray{Tv,Ti,2} where Ti where Tv</b>, B::<b>LinearAlgebra.Hermitian</b>) in SparseArrays at <a href=\"file:///Users/julia/buildbot/worker/package_macos64/build/usr/share/julia/stdlib/v1.5/SparseArrays/src/linalg.jl\" target=\"_blank\">/Applications/Julia-1.5.app/Contents/Resources/julia/share/julia/stdlib/v1.5/SparseArrays/src/linalg.jl:15</a></li> <li> +(A::<b>LinearAlgebra.Hermitian</b>, B::<b>SparseArrays.AbstractSparseArray{Tv,Ti,2} where Ti where Tv</b>) in SparseArrays at <a href=\"file:///Users/julia/buildbot/worker/package_macos64/build/usr/share/julia/stdlib/v1.5/SparseArrays/src/linalg.jl\" target=\"_blank\">/Applications/Julia-1.5.app/Contents/Resources/julia/share/julia/stdlib/v1.5/SparseArrays/src/linalg.jl:16</a></li> <li> +(A::<b>SparseArrays.AbstractSparseArray{Tv,Ti,2} where Ti where Tv</b>, B::<b>LinearAlgebra.Symmetric{var\"#s828\",var\"#s827\"} where var\"#s827\"<:(SparseArrays.AbstractSparseArray{Tv,Ti,2} where Ti where Tv) where var\"#s828\"</b>) in SparseArrays at <a href=\"file:///Users/julia/buildbot/worker/package_macos64/build/usr/share/julia/stdlib/v1.5/SparseArrays/src/linalg.jl\" target=\"_blank\">/Applications/Julia-1.5.app/Contents/Resources/julia/share/julia/stdlib/v1.5/SparseArrays/src/linalg.jl:12</a></li> <li> +(A::<b>LinearAlgebra.Symmetric{var\"#s826\",var\"#s825\"} where var\"#s825\"<:(SparseArrays.AbstractSparseArray{Tv,Ti,2} where Ti where Tv) where var\"#s826\"</b>, B::<b>SparseArrays.AbstractSparseArray{Tv,Ti,2} where Ti where Tv</b>) in SparseArrays at <a href=\"file:///Users/julia/buildbot/worker/package_macos64/build/usr/share/julia/stdlib/v1.5/SparseArrays/src/linalg.jl\" target=\"_blank\">/Applications/Julia-1.5.app/Contents/Resources/julia/share/julia/stdlib/v1.5/SparseArrays/src/linalg.jl:13</a></li> <li> +(A::<b>SparseArrays.AbstractSparseArray{Tv,Ti,2} where Ti where Tv</b>, B::<b>LinearAlgebra.Symmetric</b>) in SparseArrays at <a href=\"file:///Users/julia/buildbot/worker/package_macos64/build/usr/share/julia/stdlib/v1.5/SparseArrays/src/linalg.jl\" target=\"_blank\">/Applications/Julia-1.5.app/Contents/Resources/julia/share/julia/stdlib/v1.5/SparseArrays/src/linalg.jl:15</a></li> <li> +(A::<b>LinearAlgebra.Symmetric</b>, B::<b>SparseArrays.AbstractSparseArray{Tv,Ti,2} where Ti where Tv</b>) in SparseArrays at <a href=\"file:///Users/julia/buildbot/worker/package_macos64/build/usr/share/julia/stdlib/v1.5/SparseArrays/src/linalg.jl\" target=\"_blank\">/Applications/Julia-1.5.app/Contents/Resources/julia/share/julia/stdlib/v1.5/SparseArrays/src/linalg.jl:16</a></li> <li> +(A::<b>LinearAlgebra.Symmetric{var\"#s828\",var\"#s827\"} where var\"#s827\"<:(SparseArrays.AbstractSparseArray{Tv,Ti,2} where Ti where Tv) where var\"#s828\"</b>, B::<b>LinearAlgebra.Hermitian{var\"#s826\",var\"#s825\"} where var\"#s825\"<:(SparseArrays.AbstractSparseArray{Tv,Ti,2} where Ti where Tv) where var\"#s826\"</b>) in SparseArrays at <a href=\"file:///Users/julia/buildbot/worker/package_macos64/build/usr/share/julia/stdlib/v1.5/SparseArrays/src/linalg.jl\" target=\"_blank\">/Applications/Julia-1.5.app/Contents/Resources/julia/share/julia/stdlib/v1.5/SparseArrays/src/linalg.jl:21</a></li> <li> +(A::<b>LinearAlgebra.Hermitian{var\"#s824\",var\"#s823\"} where var\"#s823\"<:(SparseArrays.AbstractSparseArray{Tv,Ti,2} where Ti where Tv) where var\"#s824\"</b>, B::<b>LinearAlgebra.Symmetric{var\"#s822\",var\"#s821\"} where var\"#s821\"<:(SparseArrays.AbstractSparseArray{Tv,Ti,2} where Ti where Tv) where var\"#s822\"</b>) in SparseArrays at <a href=\"file:///Users/julia/buildbot/worker/package_macos64/build/usr/share/julia/stdlib/v1.5/SparseArrays/src/linalg.jl\" target=\"_blank\">/Applications/Julia-1.5.app/Contents/Resources/julia/share/julia/stdlib/v1.5/SparseArrays/src/linalg.jl:22</a></li> <li> +(a::<b>StaticArrays.StaticArray</b>, b::<b>StaticArrays.StaticArray</b>) in StaticArrays at <a href=\"file:///Users/jontysinai/.julia/packages/StaticArrays/NTbHj/src/linalg.jl\" target=\"_blank\">/Users/jontysinai/.julia/packages/StaticArrays/NTbHj/src/linalg.jl:11</a></li> <li> +(a::<b>StaticArrays.StaticArray</b>, b::<b>AbstractArray</b>) in StaticArrays at <a href=\"file:///Users/jontysinai/.julia/packages/StaticArrays/NTbHj/src/linalg.jl\" target=\"_blank\">/Users/jontysinai/.julia/packages/StaticArrays/NTbHj/src/linalg.jl:13</a></li> <li> +(x::<b>AbstractArray{var\"#s91\",N} where N where var\"#s91\"<:Number</b>) in Base at <a href=\"https://github.com/JuliaLang/julia/tree/539f3ce943f59dec8aff3f2238b083f1b27f41e5/base/abstractarraymath.jl#L97\" target=\"_blank\">abstractarraymath.jl:97</a></li> <li> +(a::<b>AbstractArray</b>, b::<b>StaticArrays.StaticArray</b>) in StaticArrays at <a href=\"file:///Users/jontysinai/.julia/packages/StaticArrays/NTbHj/src/linalg.jl\" target=\"_blank\">/Users/jontysinai/.julia/packages/StaticArrays/NTbHj/src/linalg.jl:12</a></li> <li> +(A::<b>AbstractArray</b>, B::<b>AbstractArray</b>) in Base at <a href=\"https://github.com/JuliaLang/julia/tree/539f3ce943f59dec8aff3f2238b083f1b27f41e5/base/arraymath.jl#L37\" target=\"_blank\">arraymath.jl:37</a></li> <li> +(x::<b>T</b>, y::<b>Integer</b>)<i> where T<:AbstractChar</i> in Base at <a href=\"https://github.com/JuliaLang/julia/tree/539f3ce943f59dec8aff3f2238b083f1b27f41e5/base/char.jl#L223\" target=\"_blank\">char.jl:223</a></li> <li> +(index1::<b>CartesianIndex{N}</b>, index2::<b>CartesianIndex{N}</b>)<i> where N</i> in Base.IteratorsMD at <a href=\"https://github.com/JuliaLang/julia/tree/539f3ce943f59dec8aff3f2238b083f1b27f41e5/base/multidimensional.jl#L113\" target=\"_blank\">multidimensional.jl:113</a></li> <li> +(::<b>Number</b>, ::<b>Missing</b>) in Base at <a href=\"https://github.com/JuliaLang/julia/tree/539f3ce943f59dec8aff3f2238b083f1b27f41e5/base/missing.jl#L116\" target=\"_blank\">missing.jl:116</a></li> <li> +(x::<b>P</b>, y::<b>P</b>)<i> where P<:Dates.Period</i> in Dates at <a href=\"file:///Users/julia/buildbot/worker/package_macos64/build/usr/share/julia/stdlib/v1.5/Dates/src/periods.jl\" target=\"_blank\">/Applications/Julia-1.5.app/Contents/Resources/julia/share/julia/stdlib/v1.5/Dates/src/periods.jl:78</a></li> <li> +(x::<b>Dates.Period</b>, y::<b>Dates.Period</b>) in Dates at <a href=\"file:///Users/julia/buildbot/worker/package_macos64/build/usr/share/julia/stdlib/v1.5/Dates/src/periods.jl\" target=\"_blank\">/Applications/Julia-1.5.app/Contents/Resources/julia/share/julia/stdlib/v1.5/Dates/src/periods.jl:344</a></li> <li> +(y::<b>Dates.Period</b>, x::<b>Dates.CompoundPeriod</b>) in Dates at <a href=\"file:///Users/julia/buildbot/worker/package_macos64/build/usr/share/julia/stdlib/v1.5/Dates/src/periods.jl\" target=\"_blank\">/Applications/Julia-1.5.app/Contents/Resources/julia/share/julia/stdlib/v1.5/Dates/src/periods.jl:346</a></li> <li> +(x::<b>Union{Dates.CompoundPeriod, Dates.Period}</b>) in Dates at <a href=\"file:///Users/julia/buildbot/worker/package_macos64/build/usr/share/julia/stdlib/v1.5/Dates/src/periods.jl\" target=\"_blank\">/Applications/Julia-1.5.app/Contents/Resources/julia/share/julia/stdlib/v1.5/Dates/src/periods.jl:355</a></li> <li> +(x::<b>Dates.TimeType</b>) in Dates at <a href=\"file:///Users/julia/buildbot/worker/package_macos64/build/usr/share/julia/stdlib/v1.5/Dates/src/arithmetic.jl\" target=\"_blank\">/Applications/Julia-1.5.app/Contents/Resources/julia/share/julia/stdlib/v1.5/Dates/src/arithmetic.jl:8</a></li> <li> +(a::<b>Dates.TimeType</b>, b::<b>Dates.Period</b>, c::<b>Dates.Period</b>) in Dates at <a href=\"file:///Users/julia/buildbot/worker/package_macos64/build/usr/share/julia/stdlib/v1.5/Dates/src/periods.jl\" target=\"_blank\">/Applications/Julia-1.5.app/Contents/Resources/julia/share/julia/stdlib/v1.5/Dates/src/periods.jl:366</a></li> <li> +(a::<b>Dates.TimeType</b>, b::<b>Dates.Period</b>, c::<b>Dates.Period</b>, d::<b>Dates.Period...</b>) in Dates at <a href=\"file:///Users/julia/buildbot/worker/package_macos64/build/usr/share/julia/stdlib/v1.5/Dates/src/periods.jl\" target=\"_blank\">/Applications/Julia-1.5.app/Contents/Resources/julia/share/julia/stdlib/v1.5/Dates/src/periods.jl:367</a></li> <li> +(x::<b>Dates.TimeType</b>, y::<b>Dates.CompoundPeriod</b>) in Dates at <a href=\"file:///Users/julia/buildbot/worker/package_macos64/build/usr/share/julia/stdlib/v1.5/Dates/src/periods.jl\" target=\"_blank\">/Applications/Julia-1.5.app/Contents/Resources/julia/share/julia/stdlib/v1.5/Dates/src/periods.jl:369</a></li> <li> +(x::<b>Dates.Instant</b>) in Dates at <a href=\"file:///Users/julia/buildbot/worker/package_macos64/build/usr/share/julia/stdlib/v1.5/Dates/src/arithmetic.jl\" target=\"_blank\">/Applications/Julia-1.5.app/Contents/Resources/julia/share/julia/stdlib/v1.5/Dates/src/arithmetic.jl:4</a></li> <li> +(y::<b>Dates.Period</b>, x::<b>Dates.TimeType</b>) in Dates at <a href=\"file:///Users/julia/buildbot/worker/package_macos64/build/usr/share/julia/stdlib/v1.5/Dates/src/arithmetic.jl\" target=\"_blank\">/Applications/Julia-1.5.app/Contents/Resources/julia/share/julia/stdlib/v1.5/Dates/src/arithmetic.jl:80</a></li> <li> +(x::<b>Dates.Period</b>, r::<b>AbstractRange{var\"#s828\"} where var\"#s828\"<:Dates.TimeType</b>) in Dates at <a href=\"file:///Users/julia/buildbot/worker/package_macos64/build/usr/share/julia/stdlib/v1.5/Dates/src/ranges.jl\" target=\"_blank\">/Applications/Julia-1.5.app/Contents/Resources/julia/share/julia/stdlib/v1.5/Dates/src/ranges.jl:58</a></li> <li> +(x::<b>AbstractArray{var\"#s828\",N} where N where var\"#s828\"<:Dates.TimeType</b>, y::<b>Union{Dates.CompoundPeriod, Dates.Period}</b>) in Dates at <a href=\"file:///Users/julia/buildbot/worker/package_macos64/build/usr/share/julia/stdlib/v1.5/Dates/src/deprecated.jl\" target=\"_blank\">/Applications/Julia-1.5.app/Contents/Resources/julia/share/julia/stdlib/v1.5/Dates/src/deprecated.jl:6</a></li> <li> +(y::<b>Union{Dates.CompoundPeriod, Dates.Period}</b>, x::<b>AbstractArray{var\"#s828\",N} where N where var\"#s828\"<:Dates.TimeType</b>) in Dates at <a href=\"file:///Users/julia/buildbot/worker/package_macos64/build/usr/share/julia/stdlib/v1.5/Dates/src/deprecated.jl\" target=\"_blank\">/Applications/Julia-1.5.app/Contents/Resources/julia/share/julia/stdlib/v1.5/Dates/src/deprecated.jl:14</a></li> <li> +(y::<b>Dates.TimeType</b>, x::<b>StridedArray{var\"#s828\", N} where N where var\"#s828\"<:Union{Dates.CompoundPeriod, Dates.Period}</b>) in Dates at <a href=\"file:///Users/julia/buildbot/worker/package_macos64/build/usr/share/julia/stdlib/v1.5/Dates/src/deprecated.jl\" target=\"_blank\">/Applications/Julia-1.5.app/Contents/Resources/julia/share/julia/stdlib/v1.5/Dates/src/deprecated.jl:18</a></li> <li> +(J::<b>LinearAlgebra.UniformScaling</b>, x::<b>Number</b>) in LinearAlgebra at <a href=\"file:///Users/julia/buildbot/worker/package_macos64/build/usr/share/julia/stdlib/v1.5/LinearAlgebra/src/uniformscaling.jl\" target=\"_blank\">/Applications/Julia-1.5.app/Contents/Resources/julia/share/julia/stdlib/v1.5/LinearAlgebra/src/uniformscaling.jl:111</a></li> <li> +(x::<b>Number</b>, J::<b>LinearAlgebra.UniformScaling</b>) in LinearAlgebra at <a href=\"file:///Users/julia/buildbot/worker/package_macos64/build/usr/share/julia/stdlib/v1.5/LinearAlgebra/src/uniformscaling.jl\" target=\"_blank\">/Applications/Julia-1.5.app/Contents/Resources/julia/share/julia/stdlib/v1.5/LinearAlgebra/src/uniformscaling.jl:112</a></li> <li> +(J1::<b>LinearAlgebra.UniformScaling</b>, J2::<b>LinearAlgebra.UniformScaling</b>) in LinearAlgebra at <a href=\"file:///Users/julia/buildbot/worker/package_macos64/build/usr/share/julia/stdlib/v1.5/LinearAlgebra/src/uniformscaling.jl\" target=\"_blank\">/Applications/Julia-1.5.app/Contents/Resources/julia/share/julia/stdlib/v1.5/LinearAlgebra/src/uniformscaling.jl:116</a></li> <li> +(J::<b>LinearAlgebra.UniformScaling</b>, B::<b>BitArray{2}</b>) in LinearAlgebra at <a href=\"file:///Users/julia/buildbot/worker/package_macos64/build/usr/share/julia/stdlib/v1.5/LinearAlgebra/src/uniformscaling.jl\" target=\"_blank\">/Applications/Julia-1.5.app/Contents/Resources/julia/share/julia/stdlib/v1.5/LinearAlgebra/src/uniformscaling.jl:118</a></li> <li> +(A::<b>LinearAlgebra.UniformScaling</b>, B::<b>LinearAlgebra.Tridiagonal{var\"#s828\",V} where V<:AbstractArray{var\"#s828\",1} where var\"#s828\"<:Number</b>) in LinearAlgebra at <a href=\"file:///Users/julia/buildbot/worker/package_macos64/build/usr/share/julia/stdlib/v1.5/LinearAlgebra/src/special.jl\" target=\"_blank\">/Applications/Julia-1.5.app/Contents/Resources/julia/share/julia/stdlib/v1.5/LinearAlgebra/src/special.jl:245</a></li> <li> +(A::<b>LinearAlgebra.UniformScaling</b>, B::<b>LinearAlgebra.SymTridiagonal{var\"#s828\",V} where V<:AbstractArray{var\"#s828\",1} where var\"#s828\"<:Number</b>) in LinearAlgebra at <a href=\"file:///Users/julia/buildbot/worker/package_macos64/build/usr/share/julia/stdlib/v1.5/LinearAlgebra/src/special.jl\" target=\"_blank\">/Applications/Julia-1.5.app/Contents/Resources/julia/share/julia/stdlib/v1.5/LinearAlgebra/src/special.jl:250</a></li> <li> +(A::<b>LinearAlgebra.UniformScaling</b>, B::<b>LinearAlgebra.Bidiagonal{var\"#s828\",V} where V<:AbstractArray{var\"#s828\",1} where var\"#s828\"<:Number</b>) in LinearAlgebra at <a href=\"file:///Users/julia/buildbot/worker/package_macos64/build/usr/share/julia/stdlib/v1.5/LinearAlgebra/src/special.jl\" target=\"_blank\">/Applications/Julia-1.5.app/Contents/Resources/julia/share/julia/stdlib/v1.5/LinearAlgebra/src/special.jl:255</a></li> <li> +(A::<b>LinearAlgebra.UniformScaling</b>, B::<b>LinearAlgebra.Diagonal{var\"#s828\",V} where V<:AbstractArray{var\"#s828\",1} where var\"#s828\"<:Number</b>) in LinearAlgebra at <a href=\"file:///Users/julia/buildbot/worker/package_macos64/build/usr/share/julia/stdlib/v1.5/LinearAlgebra/src/special.jl\" target=\"_blank\">/Applications/Julia-1.5.app/Contents/Resources/julia/share/julia/stdlib/v1.5/LinearAlgebra/src/special.jl:260</a></li> <li> +(a::<b>LinearAlgebra.UniformScaling</b>, b::<b>StaticArrays.StaticArray{Tuple{N,M},T,2} where T where M where N</b>) in StaticArrays at <a href=\"file:///Users/jontysinai/.julia/packages/StaticArrays/NTbHj/src/linalg.jl\" target=\"_blank\">/Users/jontysinai/.julia/packages/StaticArrays/NTbHj/src/linalg.jl:29</a></li> <li> +(J::<b>LinearAlgebra.UniformScaling</b>, A::<b>AbstractArray{T,2} where T</b>) in LinearAlgebra at <a href=\"file:///Users/julia/buildbot/worker/package_macos64/build/usr/share/julia/stdlib/v1.5/LinearAlgebra/src/uniformscaling.jl\" target=\"_blank\">/Applications/Julia-1.5.app/Contents/Resources/julia/share/julia/stdlib/v1.5/LinearAlgebra/src/uniformscaling.jl:119</a></li> <li> +(F::<b>LinearAlgebra.Hessenberg</b>, J::<b>LinearAlgebra.UniformScaling</b>) in LinearAlgebra at <a href=\"file:///Users/julia/buildbot/worker/package_macos64/build/usr/share/julia/stdlib/v1.5/LinearAlgebra/src/hessenberg.jl\" target=\"_blank\">/Applications/Julia-1.5.app/Contents/Resources/julia/share/julia/stdlib/v1.5/LinearAlgebra/src/hessenberg.jl:559</a></li> <li> +(J::<b>LinearAlgebra.UniformScaling</b>, F::<b>LinearAlgebra.Hessenberg</b>) in LinearAlgebra at <a href=\"file:///Users/julia/buildbot/worker/package_macos64/build/usr/share/julia/stdlib/v1.5/LinearAlgebra/src/hessenberg.jl\" target=\"_blank\">/Applications/Julia-1.5.app/Contents/Resources/julia/share/julia/stdlib/v1.5/LinearAlgebra/src/hessenberg.jl:560</a></li> <li> +(a::<b>Union{LMS, XYZ}</b>, b::<b>Union{LMS, XYZ}</b>) in Colors at <a href=\"file:///Users/jontysinai/.julia/packages/Colors/frs2W/src/algorithms.jl\" target=\"_blank\">/Users/jontysinai/.julia/packages/Colors/frs2W/src/algorithms.jl:4</a></li> <li> +(a::<b>Measures.Length{U,T} where T</b>, b::<b>Measures.Length{U,T} where T</b>)<i> where U</i> in Measures at <a href=\"file:///Users/jontysinai/.julia/packages/Measures/0Zkai/src/length.jl\" target=\"_blank\">/Users/jontysinai/.julia/packages/Measures/0Zkai/src/length.jl:28</a></li> <li> +(a::<b>Measures.Measure</b>, b::<b>Measures.Measure</b>) in Measures at <a href=\"file:///Users/jontysinai/.julia/packages/Measures/0Zkai/src/operations.jl\" target=\"_blank\">/Users/jontysinai/.julia/packages/Measures/0Zkai/src/operations.jl:41</a></li> <li> +(a::<b>Tuple{Vararg{Measures.Measure,N}}</b>, b::<b>Tuple{Vararg{Measures.Measure,N}}</b>)<i> where N</i> in Measures at <a href=\"file:///Users/jontysinai/.julia/packages/Measures/0Zkai/src/point.jl\" target=\"_blank\">/Users/jontysinai/.julia/packages/Measures/0Zkai/src/point.jl:21</a></li> <li> +(a::<b>Tuple{Vararg{Measures.Measure,N}} where N</b>, b::<b>Tuple{Vararg{Measures.Measure,N}} where N</b>) in Measures at <a href=\"file:///Users/jontysinai/.julia/packages/Measures/0Zkai/src/point.jl\" target=\"_blank\">/Users/jontysinai/.julia/packages/Measures/0Zkai/src/point.jl:15</a></li> <li> +(h::<b>GeometryBasics.HyperRectangle{N,T}</b>, move::<b>Number</b>)<i> where {N, T}</i> in GeometryBasics at <a href=\"file:///Users/jontysinai/.julia/packages/GeometryBasics/avaBr/src/primitives/rectangles.jl\" target=\"_blank\">/Users/jontysinai/.julia/packages/GeometryBasics/avaBr/src/primitives/rectangles.jl:264</a></li> <li> +(h::<b>GeometryBasics.HyperRectangle{N,T}</b>, move::<b>StaticArrays.StaticArray{Tuple{N},T,1} where T</b>)<i> where {N, T}</i> in GeometryBasics at <a href=\"file:///Users/jontysinai/.julia/packages/GeometryBasics/avaBr/src/primitives/rectangles.jl\" target=\"_blank\">/Users/jontysinai/.julia/packages/GeometryBasics/avaBr/src/primitives/rectangles.jl:270</a></li> <li> +(bb1::<b>Measures.BoundingBox</b>, bb2::<b>Measures.BoundingBox</b>) in Plots at <a href=\"file:///Users/jontysinai/.julia/packages/Plots/IjNHT/src/layouts.jl\" target=\"_blank\">/Users/jontysinai/.julia/packages/Plots/IjNHT/src/layouts.jl:19</a></li> <li> +(l1::<b>Lazy.List</b>, ls::<b>Lazy.List...</b>) in Lazy at <a href=\"file:///Users/jontysinai/.julia/packages/Lazy/9Xnd3/src/Lazy.jl\" target=\"_blank\">/Users/jontysinai/.julia/packages/Lazy/9Xnd3/src/Lazy.jl:20</a></li> <li> +(a, b, c, xs...) in Base at <a href=\"https://github.com/JuliaLang/julia/tree/539f3ce943f59dec8aff3f2238b083f1b27f41e5/base/operators.jl#L538\" target=\"_blank\">operators.jl:538</a></li> </ul>",
      "text/plain": "# 200 methods for generic function \"+\":\n[1] +(dt::Dates.DateTime, z::Dates.Month) in Dates at /Applications/Julia-1.5.app/Contents/Resources/julia/share/julia/stdlib/v1.5/Dates/src/arithmetic.jl:47\n[2] +(dt::Dates.DateTime, y::Dates.Year) in Dates at /Applications/Julia-1.5.app/Contents/Resources/julia/share/julia/stdlib/v1.5/Dates/src/arithmetic.jl:23\n[3] +(x::Dates.DateTime, y::Dates.Period) in Dates at /Applications/Julia-1.5.app/Contents/Resources/julia/share/julia/stdlib/v1.5/Dates/src/arithmetic.jl:76\n[4] +(z::Complex{Bool}, x::Bool) in Base at complex.jl:287\n[5] +(z::Complex{Bool}, x::Real) in Base at complex.jl:301\n[6] +(c::BigInt, x::BigFloat) in Base.MPFR at mpfr.jl:399\n[7] +(a::BigInt, b::BigInt, c::BigInt, d::BigInt, e::BigInt) in Base.GMP at gmp.jl:518\n[8] +(a::BigInt, b::BigInt, c::BigInt, d::BigInt) in Base.GMP at gmp.jl:517\n[9] +(a::BigInt, b::BigInt, c::BigInt) in Base.GMP at gmp.jl:516\n[10] +(x::BigInt, y::BigInt) in Base.GMP at gmp.jl:476\n[11] +(x::BigInt, c::Union{UInt16, UInt32, UInt64, UInt8}) in Base.GMP at gmp.jl:524\n[12] +(x::BigInt, c::Union{Int16, Int32, Int64, Int8}) in Base.GMP at gmp.jl:530\n[13] +(level::Base.CoreLogging.LogLevel, inc::Integer) in Base.CoreLogging at logging.jl:116\n[14] +(B::BitArray{2}, J::LinearAlgebra.UniformScaling) in LinearAlgebra at /Applications/Julia-1.5.app/Contents/Resources/julia/share/julia/stdlib/v1.5/LinearAlgebra/src/uniformscaling.jl:117\n[15] +(::Missing, ::Missing) in Base at missing.jl:114\n[16] +(::Missing) in Base at missing.jl:100\n[17] +(::Missing, ::Number) in Base at missing.jl:115\n[18] +(x::Float64, y::Float64) in Base at float.jl:401\n[19] +(x::Bool, z::Complex{Bool}) in Base at complex.jl:286\n[20] +(x::Bool, y::Bool) in Base at bool.jl:96\n[21] +(x::Bool) in Base at bool.jl:93\n[22] +(x::Bool, y::T) where T<:AbstractFloat in Base at bool.jl:103\n[23] +(x::Bool, z::Complex) in Base at complex.jl:293\n[24] +(x::Dates.Date, y::Dates.Day) in Dates at /Applications/Julia-1.5.app/Contents/Resources/julia/share/julia/stdlib/v1.5/Dates/src/arithmetic.jl:74\n[25] +(x::Dates.Date, y::Dates.Week) in Dates at /Applications/Julia-1.5.app/Contents/Resources/julia/share/julia/stdlib/v1.5/Dates/src/arithmetic.jl:72\n[26] +(dt::Dates.Date, z::Dates.Month) in Dates at /Applications/Julia-1.5.app/Contents/Resources/julia/share/julia/stdlib/v1.5/Dates/src/arithmetic.jl:54\n[27] +(dt::Dates.Date, y::Dates.Year) in Dates at /Applications/Julia-1.5.app/Contents/Resources/julia/share/julia/stdlib/v1.5/Dates/src/arithmetic.jl:27\n[28] +(dt::Dates.Date, t::Dates.Time) in Dates at /Applications/Julia-1.5.app/Contents/Resources/julia/share/julia/stdlib/v1.5/Dates/src/arithmetic.jl:19\n[29] +(a::Pkg.Resolve.VersionWeight, b::Pkg.Resolve.VersionWeight) in Pkg.Resolve at /Applications/Julia-1.5.app/Contents/Resources/julia/share/julia/stdlib/v1.5/Pkg/src/Resolve/versionweights.jl:22\n[30] +(a::Pkg.Resolve.FieldValue, b::Pkg.Resolve.FieldValue) in Pkg.Resolve at /Applications/Julia-1.5.app/Contents/Resources/julia/share/julia/stdlib/v1.5/Pkg/src/Resolve/fieldvalues.jl:43\n[31] +(t::Dates.Time, dt::Dates.Date) in Dates at /Applications/Julia-1.5.app/Contents/Resources/julia/share/julia/stdlib/v1.5/Dates/src/arithmetic.jl:20\n[32] +(x::Dates.Time, y::Dates.TimePeriod) in Dates at /Applications/Julia-1.5.app/Contents/Resources/julia/share/julia/stdlib/v1.5/Dates/src/arithmetic.jl:78\n[33] +(a::BigFloat, b::BigFloat, c::BigFloat, d::BigFloat, e::BigFloat) in Base.MPFR at mpfr.jl:548\n[34] +(a::BigFloat, b::BigFloat, c::BigFloat, d::BigFloat) in Base.MPFR at mpfr.jl:541\n[35] +(a::BigFloat, b::BigFloat, c::BigFloat) in Base.MPFR at mpfr.jl:535\n[36] +(x::BigFloat, c::BigInt) in Base.MPFR at mpfr.jl:394\n[37] +(x::BigFloat, y::BigFloat) in Base.MPFR at mpfr.jl:363\n[38] +(x::BigFloat, c::Union{UInt16, UInt32, UInt64, UInt8}) in Base.MPFR at mpfr.jl:370\n[39] +(x::BigFloat, c::Union{Int16, Int32, Int64, Int8}) in Base.MPFR at mpfr.jl:378\n[40] +(x::BigFloat, c::Union{Float16, Float32, Float64}) in Base.MPFR at mpfr.jl:386\n[41] +(a::Float16, b::Float16) in Base at float.jl:398\n[42] +(x::Float32, y::Float32) in Base at float.jl:400\n[43] +(x::Dates.CompoundPeriod, y::Dates.CompoundPeriod) in Dates at /Applications/Julia-1.5.app/Contents/Resources/julia/share/julia/stdlib/v1.5/Dates/src/periods.jl:347\n[44] +(x::Dates.CompoundPeriod, y::Dates.Period) in Dates at /Applications/Julia-1.5.app/Contents/Resources/julia/share/julia/stdlib/v1.5/Dates/src/periods.jl:345\n[45] +(x::Dates.CompoundPeriod, y::Dates.TimeType) in Dates at /Applications/Julia-1.5.app/Contents/Resources/julia/share/julia/stdlib/v1.5/Dates/src/periods.jl:375\n[46] +(y::AbstractFloat, x::Bool) in Base at bool.jl:106\n[47] +(x::T, y::T) where T<:Union{Int128, Int16, Int32, Int64, Int8, UInt128, UInt16, UInt32, UInt64, UInt8} in Base at int.jl:86\n[48] +(c::Union{UInt16, UInt32, UInt64, UInt8}, x::BigInt) in Base.GMP at gmp.jl:525\n[49] +(c::Union{Int16, Int32, Int64, Int8}, x::BigInt) in Base.GMP at gmp.jl:531\n[50] +(x::GeometryBasics.OffsetInteger{O,T} where T<:Integer, y::GeometryBasics.OffsetInteger{O,T} where T<:Integer) where O in GeometryBasics at /Users/jontysinai/.julia/packages/GeometryBasics/avaBr/src/offsetintegers.jl:63\n[51] +(a::Integer, b::Integer) in Base at int.jl:918\n[52] +(x::Integer, y::Ptr) in Base at pointer.jl:161\n[53] +(z::Complex) in Base at complex.jl:273\n[54] +(z::Complex, w::Complex) in Base at complex.jl:275\n[55] +(z::Complex, x::Bool) in Base at complex.jl:294\n[56] +(x::Rational) in Base at rational.jl:266\n[57] +(x::Real, z::Complex{Bool}) in Base at complex.jl:300\n[58] +(x::Real, z::Complex) in Base at complex.jl:312\n[59] +(z::Complex, x::Real) in Base at complex.jl:313\n[60] +(x::Rational, y::Rational) in Base at rational.jl:282\n[61] +(x::Rational, y::Integer) in Base at rational.jl:287\n[62] +(y::Integer, x::Rational) in Base at rational.jl:294\n[63] +(x::Integer, y::AbstractChar) in Base at char.jl:224\n[64] +(c::Union{UInt16, UInt32, UInt64, UInt8}, x::BigFloat) in Base.MPFR at mpfr.jl:375\n[65] +(c::Union{Int16, Int32, Int64, Int8}, x::BigFloat) in Base.MPFR at mpfr.jl:383\n[66] +(c::Union{Float16, Float32, Float64}, x::BigFloat) in Base.MPFR at mpfr.jl:391\n[67] +(x::AbstractIrrational, y::AbstractIrrational) in Base at irrationals.jl:156\n[68] +(x::X, y::X) where X<:FixedPointNumbers.FixedPoint in FixedPointNumbers at /Users/jontysinai/.julia/packages/FixedPointNumbers/HAGk2/src/FixedPointNumbers.jl:237\n[69] +(x::Number) in Base at operators.jl:513\n[70] +(x::T, y::T) where T<:Number in Base at promotion.jl:384\n[71] +(x::Number, y::Number) in Base at promotion.jl:311\n[72] +(r1::OrdinalRange, r2::OrdinalRange) in Base at range.jl:1055\n[73] +(r1::LinRange{T}, r2::LinRange{T}) where T in Base at range.jl:1062\n[74] +(r1::StepRangeLen{T,R,S} where S, r2::StepRangeLen{T,R,S} where S) where {R<:Base.TwicePrecision, T} in Base at twiceprecision.jl:577\n[75] +(r1::StepRangeLen{T,S,S1} where S1, r2::StepRangeLen{T,S,S1} where S1) where {T, S} in Base at range.jl:1078\n[76] +(r1::Union{LinRange, OrdinalRange, StepRangeLen}, r2::Union{LinRange, OrdinalRange, StepRangeLen}) in Base at range.jl:1071\n[77] +(x::Ptr, y::Integer) in Base at pointer.jl:159\n[78] +(x::Base.TwicePrecision, y::Number) in Base at twiceprecision.jl:267\n[79] +(x::Number, y::Base.TwicePrecision) in Base at twiceprecision.jl:271\n[80] +(x::Base.TwicePrecision{T}, y::Base.TwicePrecision{T}) where T in Base at twiceprecision.jl:273\n[81] +(x::Base.TwicePrecision, y::Base.TwicePrecision) in Base at twiceprecision.jl:278\n[82] +(A::Array, Bs::Array...) in Base at arraymath.jl:43\n[83] +(A::BitArray, B::BitArray) in Base at bitarray.jl:1110\n[84] +(r::AbstractRange{var\"#s828\"} where var\"#s828\"<:Dates.TimeType, x::Dates.Period) in Dates at /Applications/Julia-1.5.app/Contents/Resources/julia/share/julia/stdlib/v1.5/Dates/src/ranges.jl:59\n[85] +(A::Array, B::SparseArrays.AbstractSparseMatrixCSC) in SparseArrays at /Applications/Julia-1.5.app/Contents/Resources/julia/share/julia/stdlib/v1.5/SparseArrays/src/sparsematrix.jl:1683\n[86] +(x::StridedArray{var\"#s828\", N} where N where var\"#s828\"<:Union{Dates.CompoundPeriod, Dates.Period}) in Dates at /Applications/Julia-1.5.app/Contents/Resources/julia/share/julia/stdlib/v1.5/Dates/src/deprecated.jl:55\n[87] +(x::StridedArray{var\"#s828\", N} where N where var\"#s828\"<:Union{Dates.CompoundPeriod, Dates.Period}, y::Dates.TimeType) in Dates at /Applications/Julia-1.5.app/Contents/Resources/julia/share/julia/stdlib/v1.5/Dates/src/deprecated.jl:10\n[88] +(X::StridedArray{var\"#s828\", N} where N where var\"#s828\"<:Union{Dates.CompoundPeriod, Dates.Period}, Y::StridedArray{var\"#s827\", N} where N where var\"#s827\"<:Union{Dates.CompoundPeriod, Dates.Period}) in Dates at /Applications/Julia-1.5.app/Contents/Resources/julia/share/julia/stdlib/v1.5/Dates/src/deprecated.jl:62\n[89] +(A::LinearAlgebra.SymTridiagonal, B::LinearAlgebra.SymTridiagonal) in LinearAlgebra at /Applications/Julia-1.5.app/Contents/Resources/julia/share/julia/stdlib/v1.5/LinearAlgebra/src/tridiag.jl:205\n[90] +(A::LinearAlgebra.Tridiagonal, B::LinearAlgebra.Tridiagonal) in LinearAlgebra at /Applications/Julia-1.5.app/Contents/Resources/julia/share/julia/stdlib/v1.5/LinearAlgebra/src/tridiag.jl:732\n[91] +(A::LinearAlgebra.UpperTriangular, B::LinearAlgebra.UpperTriangular) in LinearAlgebra at /Applications/Julia-1.5.app/Contents/Resources/julia/share/julia/stdlib/v1.5/LinearAlgebra/src/triangular.jl:659\n[92] +(A::LinearAlgebra.LowerTriangular, B::LinearAlgebra.LowerTriangular) in LinearAlgebra at /Applications/Julia-1.5.app/Contents/Resources/julia/share/julia/stdlib/v1.5/LinearAlgebra/src/triangular.jl:660\n[93] +(A::LinearAlgebra.UpperTriangular, B::LinearAlgebra.UnitUpperTriangular) in LinearAlgebra at /Applications/Julia-1.5.app/Contents/Resources/julia/share/julia/stdlib/v1.5/LinearAlgebra/src/triangular.jl:661\n[94] +(A::LinearAlgebra.LowerTriangular, B::LinearAlgebra.UnitLowerTriangular) in LinearAlgebra at /Applications/Julia-1.5.app/Contents/Resources/julia/share/julia/stdlib/v1.5/LinearAlgebra/src/triangular.jl:662\n[95] +(A::LinearAlgebra.UnitUpperTriangular, B::LinearAlgebra.UpperTriangular) in LinearAlgebra at /Applications/Julia-1.5.app/Contents/Resources/julia/share/julia/stdlib/v1.5/LinearAlgebra/src/triangular.jl:663\n[96] +(A::LinearAlgebra.UnitLowerTriangular, B::LinearAlgebra.LowerTriangular) in LinearAlgebra at /Applications/Julia-1.5.app/Contents/Resources/julia/share/julia/stdlib/v1.5/LinearAlgebra/src/triangular.jl:664\n[97] +(A::LinearAlgebra.UnitUpperTriangular, B::LinearAlgebra.UnitUpperTriangular) in LinearAlgebra at /Applications/Julia-1.5.app/Contents/Resources/julia/share/julia/stdlib/v1.5/LinearAlgebra/src/triangular.jl:665\n[98] +(A::LinearAlgebra.UnitLowerTriangular, B::LinearAlgebra.UnitLowerTriangular) in LinearAlgebra at /Applications/Julia-1.5.app/Contents/Resources/julia/share/julia/stdlib/v1.5/LinearAlgebra/src/triangular.jl:666\n[99] +(A::LinearAlgebra.AbstractTriangular, B::LinearAlgebra.AbstractTriangular) in LinearAlgebra at /Applications/Julia-1.5.app/Contents/Resources/julia/share/julia/stdlib/v1.5/LinearAlgebra/src/triangular.jl:667\n[100] +(A::LinearAlgebra.Hermitian, B::LinearAlgebra.Hermitian) in LinearAlgebra at /Applications/Julia-1.5.app/Contents/Resources/julia/share/julia/stdlib/v1.5/LinearAlgebra/src/symmetric.jl:466\n[101] +(A::LinearAlgebra.Symmetric, B::LinearAlgebra.Symmetric) in LinearAlgebra at /Applications/Julia-1.5.app/Contents/Resources/julia/share/julia/stdlib/v1.5/LinearAlgebra/src/symmetric.jl:466\n[102] +(A::LinearAlgebra.Hermitian{var\"#s816\",var\"#s815\"} where var\"#s815\"<:(SparseArrays.AbstractSparseArray{Tv,Ti,2} where Ti where Tv) where var\"#s816\", B::LinearAlgebra.Symmetric{var\"#s814\",var\"#s813\"} where var\"#s813\"<:(SparseArrays.AbstractSparseArray{Tv,Ti,2} where Ti where Tv) where var\"#s814\"<:Real) in SparseArrays at /Applications/Julia-1.5.app/Contents/Resources/julia/share/julia/stdlib/v1.5/SparseArrays/src/linalg.jl:24\n[103] +(A::LinearAlgebra.Hermitian, B::LinearAlgebra.Symmetric{var\"#s828\",S} where S<:(AbstractArray{var\"#s8281\",2} where var\"#s8281\"<:var\"#s828\") where var\"#s828\"<:Real) in LinearAlgebra at /Applications/Julia-1.5.app/Contents/Resources/julia/share/julia/stdlib/v1.5/LinearAlgebra/src/symmetric.jl:480\n[104] +(A::LinearAlgebra.Symmetric{var\"#s820\",var\"#s819\"} where var\"#s819\"<:(SparseArrays.AbstractSparseArray{Tv,Ti,2} where Ti where Tv) where var\"#s820\"<:Real, B::LinearAlgebra.Hermitian{var\"#s818\",var\"#s817\"} where var\"#s817\"<:(SparseArrays.AbstractSparseArray{Tv,Ti,2} where Ti where Tv) where var\"#s818\") in SparseArrays at /Applications/Julia-1.5.app/Contents/Resources/julia/share/julia/stdlib/v1.5/SparseArrays/src/linalg.jl:23\n[105] +(A::LinearAlgebra.Symmetric{var\"#s827\",S} where S<:(AbstractArray{var\"#s828\",2} where var\"#s828\"<:var\"#s827\") where var\"#s827\"<:Real, B::LinearAlgebra.Hermitian) in LinearAlgebra at /Applications/Julia-1.5.app/Contents/Resources/julia/share/julia/stdlib/v1.5/LinearAlgebra/src/symmetric.jl:481\n[106] +(Da::LinearAlgebra.Diagonal, Db::LinearAlgebra.Diagonal) in LinearAlgebra at /Applications/Julia-1.5.app/Contents/Resources/julia/share/julia/stdlib/v1.5/LinearAlgebra/src/diagonal.jl:156\n[107] +(D::LinearAlgebra.Diagonal, S::LinearAlgebra.Symmetric) in LinearAlgebra at /Applications/Julia-1.5.app/Contents/Resources/julia/share/julia/stdlib/v1.5/LinearAlgebra/src/diagonal.jl:160\n[108] +(S::LinearAlgebra.Symmetric, D::LinearAlgebra.Diagonal) in LinearAlgebra at /Applications/Julia-1.5.app/Contents/Resources/julia/share/julia/stdlib/v1.5/LinearAlgebra/src/diagonal.jl:163\n[109] +(D::LinearAlgebra.Diagonal{var\"#s828\",V} where V<:AbstractArray{var\"#s828\",1} where var\"#s828\"<:Real, H::LinearAlgebra.Hermitian) in LinearAlgebra at /Applications/Julia-1.5.app/Contents/Resources/julia/share/julia/stdlib/v1.5/LinearAlgebra/src/diagonal.jl:166\n[110] +(H::LinearAlgebra.Hermitian, D::LinearAlgebra.Diagonal{var\"#s828\",V} where V<:AbstractArray{var\"#s828\",1} where var\"#s828\"<:Real) in LinearAlgebra at /Applications/Julia-1.5.app/Contents/Resources/julia/share/julia/stdlib/v1.5/LinearAlgebra/src/diagonal.jl:169\n[111] +(A::LinearAlgebra.Bidiagonal, B::LinearAlgebra.Bidiagonal) in LinearAlgebra at /Applications/Julia-1.5.app/Contents/Resources/julia/share/julia/stdlib/v1.5/LinearAlgebra/src/bidiag.jl:347\n[112] +(UL::LinearAlgebra.UnitUpperTriangular, J::LinearAlgebra.UniformScaling) in LinearAlgebra at /Applications/Julia-1.5.app/Contents/Resources/julia/share/julia/stdlib/v1.5/LinearAlgebra/src/uniformscaling.jl:147\n[113] +(UL::LinearAlgebra.UnitLowerTriangular, J::LinearAlgebra.UniformScaling) in LinearAlgebra at /Applications/Julia-1.5.app/Contents/Resources/julia/share/julia/stdlib/v1.5/LinearAlgebra/src/uniformscaling.jl:147\n[114] +(A::LinearAlgebra.Hermitian, J::LinearAlgebra.UniformScaling{var\"#s828\"} where var\"#s828\"<:Complex) in LinearAlgebra at /Applications/Julia-1.5.app/Contents/Resources/julia/share/julia/stdlib/v1.5/LinearAlgebra/src/uniformscaling.jl:161\n[115] +(H::LinearAlgebra.UpperHessenberg, J::LinearAlgebra.UniformScaling) in LinearAlgebra at /Applications/Julia-1.5.app/Contents/Resources/julia/share/julia/stdlib/v1.5/LinearAlgebra/src/hessenberg.jl:106\n[116] +(A::LinearAlgebra.Tridiagonal{var\"#s828\",V} where V<:AbstractArray{var\"#s828\",1} where var\"#s828\"<:Number, B::LinearAlgebra.UniformScaling) in LinearAlgebra at /Applications/Julia-1.5.app/Contents/Resources/julia/share/julia/stdlib/v1.5/LinearAlgebra/src/special.jl:226\n[117] +(A::LinearAlgebra.SymTridiagonal{var\"#s828\",V} where V<:AbstractArray{var\"#s828\",1} where var\"#s828\"<:Number, B::LinearAlgebra.UniformScaling) in LinearAlgebra at /Applications/Julia-1.5.app/Contents/Resources/julia/share/julia/stdlib/v1.5/LinearAlgebra/src/special.jl:231\n[118] +(A::LinearAlgebra.Bidiagonal{var\"#s828\",V} where V<:AbstractArray{var\"#s828\",1} where var\"#s828\"<:Number, B::LinearAlgebra.UniformScaling) in LinearAlgebra at /Applications/Julia-1.5.app/Contents/Resources/julia/share/julia/stdlib/v1.5/LinearAlgebra/src/special.jl:236\n[119] +(A::LinearAlgebra.Diagonal{var\"#s828\",V} where V<:AbstractArray{var\"#s828\",1} where var\"#s828\"<:Number, B::LinearAlgebra.UniformScaling) in LinearAlgebra at /Applications/Julia-1.5.app/Contents/Resources/julia/share/julia/stdlib/v1.5/LinearAlgebra/src/special.jl:241\n[120] +(A::SparseArrays.AbstractSparseMatrixCSC, J::LinearAlgebra.UniformScaling) in SparseArrays at /Applications/Julia-1.5.app/Contents/Resources/julia/share/julia/stdlib/v1.5/SparseArrays/src/sparsematrix.jl:3641\n[121] +(a::StaticArrays.StaticArray{Tuple{N,M},T,2} where T where M where N, b::LinearAlgebra.UniformScaling) in StaticArrays at /Users/jontysinai/.julia/packages/StaticArrays/NTbHj/src/linalg.jl:28\n[122] +(A::AbstractArray{T,2} where T, J::LinearAlgebra.UniformScaling) in LinearAlgebra at /Applications/Julia-1.5.app/Contents/Resources/julia/share/julia/stdlib/v1.5/LinearAlgebra/src/uniformscaling.jl:180\n[123] +(A::LinearAlgebra.UpperHessenberg, B::LinearAlgebra.UpperHessenberg) in LinearAlgebra at /Applications/Julia-1.5.app/Contents/Resources/julia/share/julia/stdlib/v1.5/LinearAlgebra/src/hessenberg.jl:101\n[124] +(A::LinearAlgebra.UpperTriangular, B::LinearAlgebra.Bidiagonal) in LinearAlgebra at /Applications/Julia-1.5.app/Contents/Resources/julia/share/julia/stdlib/v1.5/LinearAlgebra/src/special.jl:86\n[125] +(A::LinearAlgebra.Bidiagonal, B::LinearAlgebra.UpperTriangular) in LinearAlgebra at /Applications/Julia-1.5.app/Contents/Resources/julia/share/julia/stdlib/v1.5/LinearAlgebra/src/special.jl:94\n[126] +(A::LinearAlgebra.UnitUpperTriangular, B::LinearAlgebra.Bidiagonal) in LinearAlgebra at /Applications/Julia-1.5.app/Contents/Resources/julia/share/julia/stdlib/v1.5/LinearAlgebra/src/special.jl:86\n[127] +(A::LinearAlgebra.Bidiagonal, B::LinearAlgebra.UnitUpperTriangular) in LinearAlgebra at /Applications/Julia-1.5.app/Contents/Resources/julia/share/julia/stdlib/v1.5/LinearAlgebra/src/special.jl:94\n[128] +(A::LinearAlgebra.LowerTriangular, B::LinearAlgebra.Bidiagonal) in LinearAlgebra at /Applications/Julia-1.5.app/Contents/Resources/julia/share/julia/stdlib/v1.5/LinearAlgebra/src/special.jl:86\n[129] +(A::LinearAlgebra.Bidiagonal, B::LinearAlgebra.LowerTriangular) in LinearAlgebra at /Applications/Julia-1.5.app/Contents/Resources/julia/share/julia/stdlib/v1.5/LinearAlgebra/src/special.jl:94\n[130] +(A::LinearAlgebra.UnitLowerTriangular, B::LinearAlgebra.Bidiagonal) in LinearAlgebra at /Applications/Julia-1.5.app/Contents/Resources/julia/share/julia/stdlib/v1.5/LinearAlgebra/src/special.jl:86\n[131] +(A::LinearAlgebra.Bidiagonal, B::LinearAlgebra.UnitLowerTriangular) in LinearAlgebra at /Applications/Julia-1.5.app/Contents/Resources/julia/share/julia/stdlib/v1.5/LinearAlgebra/src/special.jl:94\n[132] +(A::LinearAlgebra.Bidiagonal, B::LinearAlgebra.Diagonal) in LinearAlgebra at /Applications/Julia-1.5.app/Contents/Resources/julia/share/julia/stdlib/v1.5/LinearAlgebra/src/special.jl:115\n[133] +(A::LinearAlgebra.Diagonal, B::LinearAlgebra.Bidiagonal) in LinearAlgebra at /Applications/Julia-1.5.app/Contents/Resources/julia/share/julia/stdlib/v1.5/LinearAlgebra/src/special.jl:125\n[134] +(A::LinearAlgebra.Diagonal, B::LinearAlgebra.SymTridiagonal) in LinearAlgebra at /Applications/Julia-1.5.app/Contents/Resources/julia/share/julia/stdlib/v1.5/LinearAlgebra/src/special.jl:135\n[135] +(A::LinearAlgebra.SymTridiagonal, B::LinearAlgebra.Diagonal) in LinearAlgebra at /Applications/Julia-1.5.app/Contents/Resources/julia/share/julia/stdlib/v1.5/LinearAlgebra/src/special.jl:145\n[136] +(A::LinearAlgebra.Tridiagonal, B::LinearAlgebra.SymTridiagonal) in LinearAlgebra at /Applications/Julia-1.5.app/Contents/Resources/julia/share/julia/stdlib/v1.5/LinearAlgebra/src/special.jl:157\n[137] +(A::LinearAlgebra.SymTridiagonal, B::LinearAlgebra.Tridiagonal) in LinearAlgebra at /Applications/Julia-1.5.app/Contents/Resources/julia/share/julia/stdlib/v1.5/LinearAlgebra/src/special.jl:159\n[138] +(A::LinearAlgebra.Diagonal, B::LinearAlgebra.Tridiagonal) in LinearAlgebra at /Applications/Julia-1.5.app/Contents/Resources/julia/share/julia/stdlib/v1.5/LinearAlgebra/src/special.jl:163\n[139] +(A::LinearAlgebra.Tridiagonal, B::LinearAlgebra.Diagonal) in LinearAlgebra at /Applications/Julia-1.5.app/Contents/Resources/julia/share/julia/stdlib/v1.5/LinearAlgebra/src/special.jl:173\n[140] +(A::LinearAlgebra.Bidiagonal, B::LinearAlgebra.Tridiagonal) in LinearAlgebra at /Applications/Julia-1.5.app/Contents/Resources/julia/share/julia/stdlib/v1.5/LinearAlgebra/src/special.jl:183\n[141] +(A::LinearAlgebra.Tridiagonal, B::LinearAlgebra.Bidiagonal) in LinearAlgebra at /Applications/Julia-1.5.app/Contents/Resources/julia/share/julia/stdlib/v1.5/LinearAlgebra/src/special.jl:193\n[142] +(A::LinearAlgebra.Bidiagonal, B::LinearAlgebra.SymTridiagonal) in LinearAlgebra at /Applications/Julia-1.5.app/Contents/Resources/julia/share/julia/stdlib/v1.5/LinearAlgebra/src/special.jl:203\n[143] +(A::LinearAlgebra.SymTridiagonal, B::LinearAlgebra.Bidiagonal) in LinearAlgebra at /Applications/Julia-1.5.app/Contents/Resources/julia/share/julia/stdlib/v1.5/LinearAlgebra/src/special.jl:213\n[144] +(A::SparseArrays.AbstractSparseMatrixCSC, B::SparseArrays.AbstractSparseMatrixCSC) in SparseArrays at /Applications/Julia-1.5.app/Contents/Resources/julia/share/julia/stdlib/v1.5/SparseArrays/src/sparsematrix.jl:1679\n[145] +(A::SparseArrays.AbstractSparseMatrixCSC, B::Array) in SparseArrays at /Applications/Julia-1.5.app/Contents/Resources/julia/share/julia/stdlib/v1.5/SparseArrays/src/sparsematrix.jl:1682\n[146] +(x::SparseArrays.AbstractSparseArray{Tv,Ti,1} where Ti where Tv, y::SparseArrays.AbstractSparseArray{Tv,Ti,1} where Ti where Tv) in SparseArrays at /Applications/Julia-1.5.app/Contents/Resources/julia/share/julia/stdlib/v1.5/SparseArrays/src/sparsevector.jl:1302\n[147] +(A::SparseArrays.AbstractSparseArray{Tv,Ti,2} where Ti where Tv, B::LinearAlgebra.Hermitian{var\"#s828\",var\"#s827\"} where var\"#s827\"<:(SparseArrays.AbstractSparseArray{Tv,Ti,2} where Ti where Tv) where var\"#s828\") in SparseArrays at /Applications/Julia-1.5.app/Contents/Resources/julia/share/julia/stdlib/v1.5/SparseArrays/src/linalg.jl:12\n[148] +(A::LinearAlgebra.Hermitian{var\"#s826\",var\"#s825\"} where var\"#s825\"<:(SparseArrays.AbstractSparseArray{Tv,Ti,2} where Ti where Tv) where var\"#s826\", B::SparseArrays.AbstractSparseArray{Tv,Ti,2} where Ti where Tv) in SparseArrays at /Applications/Julia-1.5.app/Contents/Resources/julia/share/julia/stdlib/v1.5/SparseArrays/src/linalg.jl:13\n[149] +(A::SparseArrays.AbstractSparseArray{Tv,Ti,2} where Ti where Tv, B::LinearAlgebra.Hermitian) in SparseArrays at /Applications/Julia-1.5.app/Contents/Resources/julia/share/julia/stdlib/v1.5/SparseArrays/src/linalg.jl:15\n[150] +(A::LinearAlgebra.Hermitian, B::SparseArrays.AbstractSparseArray{Tv,Ti,2} where Ti where Tv) in SparseArrays at /Applications/Julia-1.5.app/Contents/Resources/julia/share/julia/stdlib/v1.5/SparseArrays/src/linalg.jl:16\n[151] +(A::SparseArrays.AbstractSparseArray{Tv,Ti,2} where Ti where Tv, B::LinearAlgebra.Symmetric{var\"#s828\",var\"#s827\"} where var\"#s827\"<:(SparseArrays.AbstractSparseArray{Tv,Ti,2} where Ti where Tv) where var\"#s828\") in SparseArrays at /Applications/Julia-1.5.app/Contents/Resources/julia/share/julia/stdlib/v1.5/SparseArrays/src/linalg.jl:12\n[152] +(A::LinearAlgebra.Symmetric{var\"#s826\",var\"#s825\"} where var\"#s825\"<:(SparseArrays.AbstractSparseArray{Tv,Ti,2} where Ti where Tv) where var\"#s826\", B::SparseArrays.AbstractSparseArray{Tv,Ti,2} where Ti where Tv) in SparseArrays at /Applications/Julia-1.5.app/Contents/Resources/julia/share/julia/stdlib/v1.5/SparseArrays/src/linalg.jl:13\n[153] +(A::SparseArrays.AbstractSparseArray{Tv,Ti,2} where Ti where Tv, B::LinearAlgebra.Symmetric) in SparseArrays at /Applications/Julia-1.5.app/Contents/Resources/julia/share/julia/stdlib/v1.5/SparseArrays/src/linalg.jl:15\n[154] +(A::LinearAlgebra.Symmetric, B::SparseArrays.AbstractSparseArray{Tv,Ti,2} where Ti where Tv) in SparseArrays at /Applications/Julia-1.5.app/Contents/Resources/julia/share/julia/stdlib/v1.5/SparseArrays/src/linalg.jl:16\n[155] +(A::LinearAlgebra.Symmetric{var\"#s828\",var\"#s827\"} where var\"#s827\"<:(SparseArrays.AbstractSparseArray{Tv,Ti,2} where Ti where Tv) where var\"#s828\", B::LinearAlgebra.Hermitian{var\"#s826\",var\"#s825\"} where var\"#s825\"<:(SparseArrays.AbstractSparseArray{Tv,Ti,2} where Ti where Tv) where var\"#s826\") in SparseArrays at /Applications/Julia-1.5.app/Contents/Resources/julia/share/julia/stdlib/v1.5/SparseArrays/src/linalg.jl:21\n[156] +(A::LinearAlgebra.Hermitian{var\"#s824\",var\"#s823\"} where var\"#s823\"<:(SparseArrays.AbstractSparseArray{Tv,Ti,2} where Ti where Tv) where var\"#s824\", B::LinearAlgebra.Symmetric{var\"#s822\",var\"#s821\"} where var\"#s821\"<:(SparseArrays.AbstractSparseArray{Tv,Ti,2} where Ti where Tv) where var\"#s822\") in SparseArrays at /Applications/Julia-1.5.app/Contents/Resources/julia/share/julia/stdlib/v1.5/SparseArrays/src/linalg.jl:22\n[157] +(a::StaticArrays.StaticArray, b::StaticArrays.StaticArray) in StaticArrays at /Users/jontysinai/.julia/packages/StaticArrays/NTbHj/src/linalg.jl:11\n[158] +(a::StaticArrays.StaticArray, b::AbstractArray) in StaticArrays at /Users/jontysinai/.julia/packages/StaticArrays/NTbHj/src/linalg.jl:13\n[159] +(x::AbstractArray{var\"#s91\",N} where N where var\"#s91\"<:Number) in Base at abstractarraymath.jl:97\n[160] +(a::AbstractArray, b::StaticArrays.StaticArray) in StaticArrays at /Users/jontysinai/.julia/packages/StaticArrays/NTbHj/src/linalg.jl:12\n[161] +(A::AbstractArray, B::AbstractArray) in Base at arraymath.jl:37\n[162] +(x::T, y::Integer) where T<:AbstractChar in Base at char.jl:223\n[163] +(index1::CartesianIndex{N}, index2::CartesianIndex{N}) where N in Base.IteratorsMD at multidimensional.jl:113\n[164] +(::Number, ::Missing) in Base at missing.jl:116\n[165] +(x::P, y::P) where P<:Dates.Period in Dates at /Applications/Julia-1.5.app/Contents/Resources/julia/share/julia/stdlib/v1.5/Dates/src/periods.jl:78\n[166] +(x::Dates.Period, y::Dates.Period) in Dates at /Applications/Julia-1.5.app/Contents/Resources/julia/share/julia/stdlib/v1.5/Dates/src/periods.jl:344\n[167] +(y::Dates.Period, x::Dates.CompoundPeriod) in Dates at /Applications/Julia-1.5.app/Contents/Resources/julia/share/julia/stdlib/v1.5/Dates/src/periods.jl:346\n[168] +(x::Union{Dates.CompoundPeriod, Dates.Period}) in Dates at /Applications/Julia-1.5.app/Contents/Resources/julia/share/julia/stdlib/v1.5/Dates/src/periods.jl:355\n[169] +(x::Dates.TimeType) in Dates at /Applications/Julia-1.5.app/Contents/Resources/julia/share/julia/stdlib/v1.5/Dates/src/arithmetic.jl:8\n[170] +(a::Dates.TimeType, b::Dates.Period, c::Dates.Period) in Dates at /Applications/Julia-1.5.app/Contents/Resources/julia/share/julia/stdlib/v1.5/Dates/src/periods.jl:366\n[171] +(a::Dates.TimeType, b::Dates.Period, c::Dates.Period, d::Dates.Period...) in Dates at /Applications/Julia-1.5.app/Contents/Resources/julia/share/julia/stdlib/v1.5/Dates/src/periods.jl:367\n[172] +(x::Dates.TimeType, y::Dates.CompoundPeriod) in Dates at /Applications/Julia-1.5.app/Contents/Resources/julia/share/julia/stdlib/v1.5/Dates/src/periods.jl:369\n[173] +(x::Dates.Instant) in Dates at /Applications/Julia-1.5.app/Contents/Resources/julia/share/julia/stdlib/v1.5/Dates/src/arithmetic.jl:4\n[174] +(y::Dates.Period, x::Dates.TimeType) in Dates at /Applications/Julia-1.5.app/Contents/Resources/julia/share/julia/stdlib/v1.5/Dates/src/arithmetic.jl:80\n[175] +(x::Dates.Period, r::AbstractRange{var\"#s828\"} where var\"#s828\"<:Dates.TimeType) in Dates at /Applications/Julia-1.5.app/Contents/Resources/julia/share/julia/stdlib/v1.5/Dates/src/ranges.jl:58\n[176] +(x::AbstractArray{var\"#s828\",N} where N where var\"#s828\"<:Dates.TimeType, y::Union{Dates.CompoundPeriod, Dates.Period}) in Dates at /Applications/Julia-1.5.app/Contents/Resources/julia/share/julia/stdlib/v1.5/Dates/src/deprecated.jl:6\n[177] +(y::Union{Dates.CompoundPeriod, Dates.Period}, x::AbstractArray{var\"#s828\",N} where N where var\"#s828\"<:Dates.TimeType) in Dates at /Applications/Julia-1.5.app/Contents/Resources/julia/share/julia/stdlib/v1.5/Dates/src/deprecated.jl:14\n[178] +(y::Dates.TimeType, x::StridedArray{var\"#s828\", N} where N where var\"#s828\"<:Union{Dates.CompoundPeriod, Dates.Period}) in Dates at /Applications/Julia-1.5.app/Contents/Resources/julia/share/julia/stdlib/v1.5/Dates/src/deprecated.jl:18\n[179] +(J::LinearAlgebra.UniformScaling, x::Number) in LinearAlgebra at /Applications/Julia-1.5.app/Contents/Resources/julia/share/julia/stdlib/v1.5/LinearAlgebra/src/uniformscaling.jl:111\n[180] +(x::Number, J::LinearAlgebra.UniformScaling) in LinearAlgebra at /Applications/Julia-1.5.app/Contents/Resources/julia/share/julia/stdlib/v1.5/LinearAlgebra/src/uniformscaling.jl:112\n[181] +(J1::LinearAlgebra.UniformScaling, J2::LinearAlgebra.UniformScaling) in LinearAlgebra at /Applications/Julia-1.5.app/Contents/Resources/julia/share/julia/stdlib/v1.5/LinearAlgebra/src/uniformscaling.jl:116\n[182] +(J::LinearAlgebra.UniformScaling, B::BitArray{2}) in LinearAlgebra at /Applications/Julia-1.5.app/Contents/Resources/julia/share/julia/stdlib/v1.5/LinearAlgebra/src/uniformscaling.jl:118\n[183] +(A::LinearAlgebra.UniformScaling, B::LinearAlgebra.Tridiagonal{var\"#s828\",V} where V<:AbstractArray{var\"#s828\",1} where var\"#s828\"<:Number) in LinearAlgebra at /Applications/Julia-1.5.app/Contents/Resources/julia/share/julia/stdlib/v1.5/LinearAlgebra/src/special.jl:245\n[184] +(A::LinearAlgebra.UniformScaling, B::LinearAlgebra.SymTridiagonal{var\"#s828\",V} where V<:AbstractArray{var\"#s828\",1} where var\"#s828\"<:Number) in LinearAlgebra at /Applications/Julia-1.5.app/Contents/Resources/julia/share/julia/stdlib/v1.5/LinearAlgebra/src/special.jl:250\n[185] +(A::LinearAlgebra.UniformScaling, B::LinearAlgebra.Bidiagonal{var\"#s828\",V} where V<:AbstractArray{var\"#s828\",1} where var\"#s828\"<:Number) in LinearAlgebra at /Applications/Julia-1.5.app/Contents/Resources/julia/share/julia/stdlib/v1.5/LinearAlgebra/src/special.jl:255\n[186] +(A::LinearAlgebra.UniformScaling, B::LinearAlgebra.Diagonal{var\"#s828\",V} where V<:AbstractArray{var\"#s828\",1} where var\"#s828\"<:Number) in LinearAlgebra at /Applications/Julia-1.5.app/Contents/Resources/julia/share/julia/stdlib/v1.5/LinearAlgebra/src/special.jl:260\n[187] +(a::LinearAlgebra.UniformScaling, b::StaticArrays.StaticArray{Tuple{N,M},T,2} where T where M where N) in StaticArrays at /Users/jontysinai/.julia/packages/StaticArrays/NTbHj/src/linalg.jl:29\n[188] +(J::LinearAlgebra.UniformScaling, A::AbstractArray{T,2} where T) in LinearAlgebra at /Applications/Julia-1.5.app/Contents/Resources/julia/share/julia/stdlib/v1.5/LinearAlgebra/src/uniformscaling.jl:119\n[189] +(F::LinearAlgebra.Hessenberg, J::LinearAlgebra.UniformScaling) in LinearAlgebra at /Applications/Julia-1.5.app/Contents/Resources/julia/share/julia/stdlib/v1.5/LinearAlgebra/src/hessenberg.jl:559\n[190] +(J::LinearAlgebra.UniformScaling, F::LinearAlgebra.Hessenberg) in LinearAlgebra at /Applications/Julia-1.5.app/Contents/Resources/julia/share/julia/stdlib/v1.5/LinearAlgebra/src/hessenberg.jl:560\n[191] +(a::Union{LMS, XYZ}, b::Union{LMS, XYZ}) in Colors at /Users/jontysinai/.julia/packages/Colors/frs2W/src/algorithms.jl:4\n[192] +(a::Measures.Length{U,T} where T, b::Measures.Length{U,T} where T) where U in Measures at /Users/jontysinai/.julia/packages/Measures/0Zkai/src/length.jl:28\n[193] +(a::Measures.Measure, b::Measures.Measure) in Measures at /Users/jontysinai/.julia/packages/Measures/0Zkai/src/operations.jl:41\n[194] +(a::Tuple{Vararg{Measures.Measure,N}}, b::Tuple{Vararg{Measures.Measure,N}}) where N in Measures at /Users/jontysinai/.julia/packages/Measures/0Zkai/src/point.jl:21\n[195] +(a::Tuple{Vararg{Measures.Measure,N}} where N, b::Tuple{Vararg{Measures.Measure,N}} where N) in Measures at /Users/jontysinai/.julia/packages/Measures/0Zkai/src/point.jl:15\n[196] +(h::GeometryBasics.HyperRectangle{N,T}, move::Number) where {N, T} in GeometryBasics at /Users/jontysinai/.julia/packages/GeometryBasics/avaBr/src/primitives/rectangles.jl:264\n[197] +(h::GeometryBasics.HyperRectangle{N,T}, move::StaticArrays.StaticArray{Tuple{N},T,1} where T) where {N, T} in GeometryBasics at /Users/jontysinai/.julia/packages/GeometryBasics/avaBr/src/primitives/rectangles.jl:270\n[198] +(bb1::Measures.BoundingBox, bb2::Measures.BoundingBox) in Plots at /Users/jontysinai/.julia/packages/Plots/IjNHT/src/layouts.jl:19\n[199] +(l1::Lazy.List, ls::Lazy.List...) in Lazy at /Users/jontysinai/.julia/packages/Lazy/9Xnd3/src/Lazy.jl:20\n[200] +(a, b, c, xs...) in Base at operators.jl:538"
     },
     "execution_count": 108,
     "metadata": {},
     "output_type": "execute_result"
    }
   ],
   "source": [
    "methods(+)"
   ]
  },
  {
   "cell_type": "markdown",
   "metadata": {},
   "source": [
    "So there are **200** diferrent behaviours of addition implemented in this Julia environment, depending on the type of arguments parsed. We can specifically request the behaviour of the dispatch using the `@which` macro:"
   ]
  },
  {
   "cell_type": "code",
   "execution_count": 109,
   "metadata": {},
   "outputs": [
    {
     "data": {
      "text/html": "+(x::<b>T</b>, y::<b>T</b>)<i> where T<:Union{Int128, Int16, Int32, Int64, Int8, UInt128, UInt16, UInt32, UInt64, UInt8}</i> in Base at <a href=\"https://github.com/JuliaLang/julia/tree/539f3ce943f59dec8aff3f2238b083f1b27f41e5/base/int.jl#L86\" target=\"_blank\">int.jl:86</a>",
      "text/plain": "+(x::T, y::T) where T<:Union{Int128, Int16, Int32, Int64, Int8, UInt128, UInt16, UInt32, UInt64, UInt8} in Base at int.jl:86"
     },
     "execution_count": 109,
     "metadata": {},
     "output_type": "execute_result"
    }
   ],
   "source": [
    "@which 3 + 3"
   ]
  },
  {
   "cell_type": "code",
   "execution_count": 110,
   "metadata": {},
   "outputs": [
    {
     "data": {
      "text/html": "+(x::<b>Float64</b>, y::<b>Float64</b>) in Base at <a href=\"https://github.com/JuliaLang/julia/tree/539f3ce943f59dec8aff3f2238b083f1b27f41e5/base/float.jl#L401\" target=\"_blank\">float.jl:401</a>",
      "text/plain": "+(x::Float64, y::Float64) in Base at float.jl:401"
     },
     "execution_count": 110,
     "metadata": {},
     "output_type": "execute_result"
    }
   ],
   "source": [
    "@which 3.0 + 3.0"
   ]
  },
  {
   "cell_type": "code",
   "execution_count": 111,
   "metadata": {},
   "outputs": [
    {
     "data": {
      "text/html": "+(x::<b>Number</b>, y::<b>Number</b>) in Base at <a href=\"https://github.com/JuliaLang/julia/tree/539f3ce943f59dec8aff3f2238b083f1b27f41e5/base/promotion.jl#L311\" target=\"_blank\">promotion.jl:311</a>",
      "text/plain": "+(x::Number, y::Number) in Base at promotion.jl:311"
     },
     "execution_count": 111,
     "metadata": {},
     "output_type": "execute_result"
    }
   ],
   "source": [
    "@which 3 + 3.0"
   ]
  },
  {
   "cell_type": "markdown",
   "metadata": {},
   "source": [
    "### Extending an existing function\n",
    "\n",
    "Suppose we want to extend `+` to concatenate strings. To overload it, we have to first import it:"
   ]
  },
  {
   "cell_type": "code",
   "execution_count": 112,
   "metadata": {},
   "outputs": [],
   "source": [
    "import Base: +"
   ]
  },
  {
   "cell_type": "code",
   "execution_count": 113,
   "metadata": {},
   "outputs": [
    {
     "ename": "LoadError",
     "evalue": "MethodError: no method matching +(::String, ::String)\nClosest candidates are:\n  +(::Any, ::Any, !Matched::Any, !Matched::Any...) at operators.jl:538",
     "output_type": "error",
     "traceback": [
      "MethodError: no method matching +(::String, ::String)\nClosest candidates are:\n  +(::Any, ::Any, !Matched::Any, !Matched::Any...) at operators.jl:538",
      "",
      "Stacktrace:",
      " [1] top-level scope at In[113]:1",
      " [2] include_string(::Function, ::Module, ::String, ::String) at ./loading.jl:1091",
      " [3] execute_code(::String, ::String) at /Users/jontysinai/.julia/packages/IJulia/rWZ9e/src/execute_request.jl:27",
      " [4] execute_request(::ZMQ.Socket, ::IJulia.Msg) at /Users/jontysinai/.julia/packages/IJulia/rWZ9e/src/execute_request.jl:86",
      " [5] #invokelatest#1 at ./essentials.jl:710 [inlined]",
      " [6] invokelatest at ./essentials.jl:709 [inlined]",
      " [7] eventloop(::ZMQ.Socket) at /Users/jontysinai/.julia/packages/IJulia/rWZ9e/src/eventloop.jl:8",
      " [8] (::IJulia.var\"#15#18\")() at ./task.jl:356"
     ]
    }
   ],
   "source": [
    "\"hello \" + \"world!\""
   ]
  },
  {
   "cell_type": "code",
   "execution_count": 114,
   "metadata": {},
   "outputs": [
    {
     "ename": "LoadError",
     "evalue": "no unique matching method found for the specified argument types",
     "output_type": "error",
     "traceback": [
      "no unique matching method found for the specified argument types",
      "",
      "Stacktrace:",
      " [1] error(::String) at ./error.jl:33",
      " [2] which(::Any, ::Any) at ./reflection.jl:1158",
      " [3] top-level scope at In[114]:1",
      " [4] include_string(::Function, ::Module, ::String, ::String) at ./loading.jl:1091",
      " [5] execute_code(::String, ::String) at /Users/jontysinai/.julia/packages/IJulia/rWZ9e/src/execute_request.jl:27",
      " [6] execute_request(::ZMQ.Socket, ::IJulia.Msg) at /Users/jontysinai/.julia/packages/IJulia/rWZ9e/src/execute_request.jl:86",
      " [7] #invokelatest#1 at ./essentials.jl:710 [inlined]",
      " [8] invokelatest at ./essentials.jl:709 [inlined]",
      " [9] eventloop(::ZMQ.Socket) at /Users/jontysinai/.julia/packages/IJulia/rWZ9e/src/eventloop.jl:8",
      " [10] (::IJulia.var\"#15#18\")() at ./task.jl:356"
     ]
    }
   ],
   "source": [
    "@which \"hello \" + \"world!\""
   ]
  },
  {
   "cell_type": "markdown",
   "metadata": {},
   "source": [
    "Now let's overload `+` with a matching method for `(String, String)` arguments:"
   ]
  },
  {
   "cell_type": "code",
   "execution_count": 115,
   "metadata": {},
   "outputs": [
    {
     "data": {
      "text/plain": "+ (generic function with 201 methods)"
     },
     "execution_count": 115,
     "metadata": {},
     "output_type": "execute_result"
    }
   ],
   "source": [
    "+(x::String, y::String) = string(x,y)"
   ]
  },
  {
   "cell_type": "markdown",
   "metadata": {},
   "source": [
    "What is a generic function? It is an abstraction of a function which then has specific methods depending on the input arguments. By extending `+` with a method for two strings, we have extended the generic function `+` with an additional method."
   ]
  },
  {
   "cell_type": "code",
   "execution_count": 116,
   "metadata": {},
   "outputs": [
    {
     "data": {
      "text/plain": "\"hello world!\""
     },
     "execution_count": 116,
     "metadata": {},
     "output_type": "execute_result"
    }
   ],
   "source": [
    "\"hello \" + \"world!\""
   ]
  },
  {
   "cell_type": "code",
   "execution_count": 117,
   "metadata": {},
   "outputs": [
    {
     "data": {
      "text/html": "+(x::<b>String</b>, y::<b>String</b>) in Main at In[115]:1",
      "text/plain": "+(x::String, y::String) in Main at In[115]:1"
     },
     "execution_count": 117,
     "metadata": {},
     "output_type": "execute_result"
    }
   ],
   "source": [
    "@which \"hello \" + \"world!\""
   ]
  },
  {
   "cell_type": "markdown",
   "metadata": {},
   "source": [
    "A homemade example:"
   ]
  },
  {
   "cell_type": "code",
   "execution_count": 118,
   "metadata": {},
   "outputs": [
    {
     "data": {
      "text/plain": "foo (generic function with 4 methods)"
     },
     "execution_count": 118,
     "metadata": {},
     "output_type": "execute_result"
    }
   ],
   "source": [
    "foo(x, y) = println(\"duck-type foo!\")\n",
    "foo(x::Int, y::Float64) = println(\"foo with an integer and a float!\")\n",
    "foo(x::Float64, y::Float64) = println(\"foo with a float and a float!\")\n",
    "foo(x::Int, y::Int) = println(\"foo with an integer and an integer!\")"
   ]
  },
  {
   "cell_type": "code",
   "execution_count": 119,
   "metadata": {},
   "outputs": [
    {
     "name": "stdout",
     "output_type": "stream",
     "text": [
      "foo with an integer and an integer!\n"
     ]
    }
   ],
   "source": [
    "foo(1,1)"
   ]
  },
  {
   "cell_type": "code",
   "execution_count": 120,
   "metadata": {},
   "outputs": [
    {
     "name": "stdout",
     "output_type": "stream",
     "text": [
      "foo with a float and a float!\n"
     ]
    }
   ],
   "source": [
    "foo(1.0, 1.0)"
   ]
  },
  {
   "cell_type": "code",
   "execution_count": 121,
   "metadata": {},
   "outputs": [
    {
     "name": "stdout",
     "output_type": "stream",
     "text": [
      "foo with a float and a float!\n"
     ]
    }
   ],
   "source": [
    "foo(1., 1.)"
   ]
  },
  {
   "cell_type": "code",
   "execution_count": 122,
   "metadata": {},
   "outputs": [
    {
     "name": "stdout",
     "output_type": "stream",
     "text": [
      "duck-type foo!\n"
     ]
    }
   ],
   "source": [
    "foo('a', 'b')"
   ]
  },
  {
   "cell_type": "markdown",
   "metadata": {},
   "source": [
    "# 10. Speeding up Julia\n",
    "\n",
    "We can speed up Julia by taking advntage of compiler optimizations.\n",
    "\n",
    "Let's benchmark the sum function.\n",
    "\n",
    "First let's declare a very large 1-D vector:"
   ]
  },
  {
   "cell_type": "code",
   "execution_count": 123,
   "metadata": {},
   "outputs": [
    {
     "data": {
      "text/plain": "10000000-element Array{Float64,1}:\n 0.16379991330279675\n 0.04734043066476845\n 0.7007830915075706\n 0.6337678799163444\n 0.9721312804762465\n 0.5613158246291787\n 0.27498222474784595\n 0.8733604397183496\n 0.026085533519998316\n 0.41038014350887275\n 0.17414269400980698\n 0.998616840809444\n 0.808267494265855\n ⋮\n 0.5809983884547629\n 0.7330365571006094\n 0.4285551933474758\n 0.5530308704201585\n 0.8540910697411626\n 0.6037476609274672\n 0.8792661887586668\n 0.9512634962736337\n 0.18342916883085492\n 0.4091212937980466\n 0.9485382401092304\n 0.9308069286553486"
     },
     "execution_count": 123,
     "metadata": {},
     "output_type": "execute_result"
    }
   ],
   "source": [
    "a = rand(10^7)"
   ]
  },
  {
   "cell_type": "code",
   "execution_count": 124,
   "metadata": {},
   "outputs": [
    {
     "data": {
      "text/plain": "1-element Array{Float64,1}:\n 4.999999702159105e6"
     },
     "execution_count": 124,
     "metadata": {},
     "output_type": "execute_result"
    }
   ],
   "source": [
    "sum(a, dims=1)"
   ]
  },
  {
   "cell_type": "markdown",
   "metadata": {},
   "source": [
    "We will use benchmark tools to compare the performance of Julia implementations of sum vs C vs Python"
   ]
  },
  {
   "cell_type": "code",
   "execution_count": 126,
   "metadata": {},
   "outputs": [
    {
     "name": "stderr",
     "output_type": "stream",
     "text": [
      "┌ Info: Precompiling BenchmarkTools [6e4b80f9-dd63-53aa-95a3-0cdb28fa8baf]\n",
      "└ @ Base loading.jl:1278\n"
     ]
    }
   ],
   "source": [
    "using BenchmarkTools"
   ]
  },
  {
   "cell_type": "markdown",
   "metadata": {},
   "source": [
    "## vs C"
   ]
  },
  {
   "cell_type": "code",
   "execution_count": 129,
   "metadata": {},
   "outputs": [
    {
     "name": "stderr",
     "output_type": "stream",
     "text": [
      "WARNING: redefinition of constant Clib. This may fail, cause incorrect answers, or produce other errors.\n"
     ]
    },
    {
     "data": {
      "text/plain": "c_sum (generic function with 1 method)"
     },
     "execution_count": 129,
     "metadata": {},
     "output_type": "execute_result"
    }
   ],
   "source": [
    "using Libdl\n",
    "C_code = \"\"\"\n",
    "#include <stddef.h>\n",
    "double c_sum(size_t n, double *X) {\n",
    "    double s = 0.0;\n",
    "    for (size_t i = 0; i < n; ++i) {\n",
    "        s += X[i];\n",
    "    }\n",
    "    return s;\n",
    "}\n",
    "\"\"\"\n",
    "\n",
    "const Clib = tempname()   # make a temporary file\n",
    "\n",
    "\n",
    "# compile to a shared library by piping C_code to gcc\n",
    "# (works only if you have gcc installed):\n",
    "\n",
    "open(`gcc -fPIC -O3 -msse3 -xc -shared -o $(Clib * \".\" * Libdl.dlext) -`, \"w\") do f\n",
    "    print(f, C_code) \n",
    "end\n",
    "\n",
    "# define a Julia function that calls the C function:\n",
    "c_sum(X::Array{Float64}) = ccall((\"c_sum\", Clib), Float64, (Csize_t, Ptr{Float64}), length(X), X)"
   ]
  },
  {
   "cell_type": "code",
   "execution_count": 130,
   "metadata": {},
   "outputs": [
    {
     "data": {
      "text/plain": "4.999999702158734e6"
     },
     "execution_count": 130,
     "metadata": {},
     "output_type": "execute_result"
    }
   ],
   "source": [
    "c_sum(a)"
   ]
  },
  {
   "cell_type": "markdown",
   "metadata": {},
   "source": [
    "Julia has an elegant way of verifying that two methods are approximately equivalent"
   ]
  },
  {
   "cell_type": "code",
   "execution_count": 131,
   "metadata": {},
   "outputs": [
    {
     "data": {
      "text/plain": "true"
     },
     "execution_count": 131,
     "metadata": {},
     "output_type": "execute_result"
    }
   ],
   "source": [
    "c_sum(a) ≈ sum(a)"
   ]
  },
  {
   "cell_type": "markdown",
   "metadata": {},
   "source": [
    "Now let's benchmark C:"
   ]
  },
  {
   "cell_type": "code",
   "execution_count": 132,
   "metadata": {},
   "outputs": [
    {
     "data": {
      "text/plain": "BenchmarkTools.Trial: \n  memory estimate:  16 bytes\n  allocs estimate:  1\n  --------------\n  minimum time:     10.848 ms (0.00% GC)\n  median time:      12.659 ms (0.00% GC)\n  mean time:        12.903 ms (0.00% GC)\n  maximum time:     16.721 ms (0.00% GC)\n  --------------\n  samples:          388\n  evals/sample:     1"
     },
     "execution_count": 132,
     "metadata": {},
     "output_type": "execute_result"
    }
   ],
   "source": [
    "c_benchmark = @benchmark c_sum(a)"
   ]
  },
  {
   "cell_type": "markdown",
   "metadata": {},
   "source": [
    "We will create a dictionary to compare the minimum benchmarked execution time for each method:"
   ]
  },
  {
   "cell_type": "code",
   "execution_count": 135,
   "metadata": {},
   "outputs": [
    {
     "data": {
      "text/plain": "Dict{String,Float64} with 1 entry:\n  \"C\" => 10.848"
     },
     "execution_count": 135,
     "metadata": {},
     "output_type": "execute_result"
    }
   ],
   "source": [
    "results = Dict{String, Float64}()\n",
    "\n",
    "results[\"C\"] = minimum(c_benchmark.times) / 1e6  # convert to milliseconds\n",
    "results"
   ]
  },
  {
   "cell_type": "markdown",
   "metadata": {},
   "source": [
    "C can be even faster using `-ffast-math` which lets C vectorize the operation using SIMD (single instruction, multiple data)"
   ]
  },
  {
   "cell_type": "code",
   "execution_count": 137,
   "metadata": {},
   "outputs": [
    {
     "data": {
      "text/plain": "c_sum_fastmath (generic function with 1 method)"
     },
     "execution_count": 137,
     "metadata": {},
     "output_type": "execute_result"
    }
   ],
   "source": [
    "const Clib_fastmath = tempname()   # make a temporary file\n",
    "\n",
    "# The same as above but with a -ffast-math flag added\n",
    "open(`gcc -fPIC -O3 -msse3 -xc -shared -ffast-math -o $(Clib_fastmath * \".\" * Libdl.dlext) -`, \"w\") do f\n",
    "    print(f, C_code) \n",
    "end\n",
    "\n",
    "# define a Julia function that calls the C function:\n",
    "c_sum_fastmath(X::Array{Float64}) = ccall((\"c_sum\", Clib_fastmath), Float64, (Csize_t, Ptr{Float64}), length(X), X)"
   ]
  },
  {
   "cell_type": "code",
   "execution_count": 139,
   "metadata": {},
   "outputs": [
    {
     "data": {
      "text/plain": "true"
     },
     "execution_count": 139,
     "metadata": {},
     "output_type": "execute_result"
    }
   ],
   "source": [
    "c_sum_fastmath(a) ≈ sum(a)"
   ]
  },
  {
   "cell_type": "code",
   "execution_count": 138,
   "metadata": {},
   "outputs": [
    {
     "data": {
      "text/plain": "BenchmarkTools.Trial: \n  memory estimate:  0 bytes\n  allocs estimate:  0\n  --------------\n  minimum time:     4.745 ms (0.00% GC)\n  median time:      6.018 ms (0.00% GC)\n  mean time:        7.014 ms (0.00% GC)\n  maximum time:     93.961 ms (0.00% GC)\n  --------------\n  samples:          713\n  evals/sample:     1"
     },
     "execution_count": 138,
     "metadata": {},
     "output_type": "execute_result"
    }
   ],
   "source": [
    "c_fastmath_benchmark = @benchmark $c_sum_fastmath($a)"
   ]
  },
  {
   "cell_type": "code",
   "execution_count": 140,
   "metadata": {},
   "outputs": [
    {
     "data": {
      "text/plain": "Dict{String,Float64} with 2 entries:\n  \"C\"             => 10.848\n  \"C -ffast-math\" => 4.7446"
     },
     "execution_count": 140,
     "metadata": {},
     "output_type": "execute_result"
    }
   ],
   "source": [
    "results[\"C -ffast-math\"] = minimum(c_fastmath_benchmark.times) / 1e6\n",
    "results"
   ]
  },
  {
   "cell_type": "markdown",
   "metadata": {},
   "source": [
    "## vs Python\n",
    "\n",
    "We'll start with Python's built-in sum"
   ]
  },
  {
   "cell_type": "code",
   "execution_count": 141,
   "metadata": {},
   "outputs": [
    {
     "name": "stderr",
     "output_type": "stream",
     "text": [
      "┌ Info: Precompiling PyCall [438e738f-606a-5dbb-bf0a-cddfbfd45ab0]\n",
      "└ @ Base loading.jl:1278\n"
     ]
    }
   ],
   "source": [
    "using PyCall"
   ]
  },
  {
   "cell_type": "code",
   "execution_count": 142,
   "metadata": {},
   "outputs": [
    {
     "data": {
      "text/plain": "PyObject <built-in function sum>"
     },
     "execution_count": 142,
     "metadata": {},
     "output_type": "execute_result"
    }
   ],
   "source": [
    "# get the Python built-in \"sum\" function:\n",
    "pysum = pybuiltin(\"sum\")"
   ]
  },
  {
   "cell_type": "code",
   "execution_count": 143,
   "metadata": {},
   "outputs": [
    {
     "data": {
      "text/plain": "true"
     },
     "execution_count": 143,
     "metadata": {},
     "output_type": "execute_result"
    }
   ],
   "source": [
    "pysum(a) ≈ sum(a)"
   ]
  },
  {
   "cell_type": "code",
   "execution_count": 144,
   "metadata": {},
   "outputs": [
    {
     "data": {
      "text/plain": "BenchmarkTools.Trial: \n  memory estimate:  336 bytes\n  allocs estimate:  6\n  --------------\n  minimum time:     2.719 s (0.00% GC)\n  median time:      3.068 s (0.00% GC)\n  mean time:        3.068 s (0.00% GC)\n  maximum time:     3.417 s (0.00% GC)\n  --------------\n  samples:          2\n  evals/sample:     1"
     },
     "execution_count": 144,
     "metadata": {},
     "output_type": "execute_result"
    }
   ],
   "source": [
    "pysum_benchmark = @benchmark $pysum($a)"
   ]
  },
  {
   "cell_type": "code",
   "execution_count": 146,
   "metadata": {},
   "outputs": [
    {
     "data": {
      "text/plain": "Dict{String,Float64} with 3 entries:\n  \"C\"               => 10.848\n  \"Python built-in\" => 2718.9\n  \"C -ffast-math\"   => 4.7446"
     },
     "execution_count": 146,
     "metadata": {},
     "output_type": "execute_result"
    }
   ],
   "source": [
    "results[\"Python built-in\"] = minimum(pysum_benchmark.times) / 1e6\n",
    "results"
   ]
  },
  {
   "cell_type": "markdown",
   "metadata": {},
   "source": [
    "Let's use `numpy` which is highly \"optimized\""
   ]
  },
  {
   "cell_type": "code",
   "execution_count": 147,
   "metadata": {},
   "outputs": [],
   "source": [
    "using Conda"
   ]
  },
  {
   "cell_type": "code",
   "execution_count": 148,
   "metadata": {},
   "outputs": [
    {
     "name": "stderr",
     "output_type": "stream",
     "text": [
      "┌ Info: Running `conda install -y numpy` in root environment\n",
      "└ @ Conda /Users/jontysinai/.julia/packages/Conda/x5ml4/src/Conda.jl:115\n"
     ]
    },
    {
     "name": "stdout",
     "output_type": "stream",
     "text": [
      "Collecting package metadata (current_repodata.json): ...working...done\n",
      "Solving environment: ...working... done\n",
      "\n",
      "# All requested packages already installed.\n",
      "\n"
     ]
    }
   ],
   "source": [
    "Conda.add(\"numpy\")"
   ]
  },
  {
   "cell_type": "code",
   "execution_count": 149,
   "metadata": {},
   "outputs": [
    {
     "data": {
      "text/plain": "PyObject <function sum at 0x7feefac57040>"
     },
     "execution_count": 149,
     "metadata": {},
     "output_type": "execute_result"
    }
   ],
   "source": [
    "numpy_sum = pyimport(\"numpy\")[\"sum\"]"
   ]
  },
  {
   "cell_type": "code",
   "execution_count": 150,
   "metadata": {},
   "outputs": [
    {
     "data": {
      "text/plain": "true"
     },
     "execution_count": 150,
     "metadata": {},
     "output_type": "execute_result"
    }
   ],
   "source": [
    "numpy_sum(a) ≈ sum(a)"
   ]
  },
  {
   "cell_type": "code",
   "execution_count": 151,
   "metadata": {},
   "outputs": [
    {
     "data": {
      "text/plain": "BenchmarkTools.Trial: \n  memory estimate:  336 bytes\n  allocs estimate:  6\n  --------------\n  minimum time:     5.041 ms (0.00% GC)\n  median time:      6.946 ms (0.00% GC)\n  mean time:        7.948 ms (0.00% GC)\n  maximum time:     28.724 ms (0.00% GC)\n  --------------\n  samples:          629\n  evals/sample:     1"
     },
     "execution_count": 151,
     "metadata": {},
     "output_type": "execute_result"
    }
   ],
   "source": [
    "numpy_benchmark = @benchmark $numpy_sum($a)"
   ]
  },
  {
   "cell_type": "code",
   "execution_count": 152,
   "metadata": {},
   "outputs": [
    {
     "data": {
      "text/plain": "Dict{String,Float64} with 4 entries:\n  \"C\"               => 10.848\n  \"Python numpy\"    => 5.0412\n  \"Python built-in\" => 2718.9\n  \"C -ffast-math\"   => 4.7446"
     },
     "execution_count": 152,
     "metadata": {},
     "output_type": "execute_result"
    }
   ],
   "source": [
    "results[\"Python numpy\"] = minimum(numpy_benchmark.times) / 1e6\n",
    "results"
   ]
  },
  {
   "cell_type": "markdown",
   "metadata": {},
   "source": [
    "And finally some handwritten numpy:"
   ]
  },
  {
   "cell_type": "code",
   "execution_count": 154,
   "metadata": {},
   "outputs": [
    {
     "data": {
      "text/plain": "PyObject <function py_sum at 0x7feefa239b80>"
     },
     "execution_count": 154,
     "metadata": {},
     "output_type": "execute_result"
    }
   ],
   "source": [
    "py\"\"\"\n",
    "def py_sum(A):\n",
    "    s = 0.0\n",
    "    for a in A:\n",
    "        s += a\n",
    "    return s\n",
    "\"\"\"\n",
    "\n",
    "py_hand = py\"py_sum\""
   ]
  },
  {
   "cell_type": "code",
   "execution_count": 156,
   "metadata": {},
   "outputs": [
    {
     "data": {
      "text/plain": "true"
     },
     "execution_count": 156,
     "metadata": {},
     "output_type": "execute_result"
    }
   ],
   "source": [
    "py_hand(a) ≈ sum(a)"
   ]
  },
  {
   "cell_type": "code",
   "execution_count": 155,
   "metadata": {},
   "outputs": [
    {
     "data": {
      "text/plain": "BenchmarkTools.Trial: \n  memory estimate:  336 bytes\n  allocs estimate:  6\n  --------------\n  minimum time:     3.407 s (0.00% GC)\n  median time:      3.833 s (0.00% GC)\n  mean time:        3.833 s (0.00% GC)\n  maximum time:     4.258 s (0.00% GC)\n  --------------\n  samples:          2\n  evals/sample:     1"
     },
     "execution_count": 155,
     "metadata": {},
     "output_type": "execute_result"
    }
   ],
   "source": [
    "py_hand_benchmark = @benchmark $py_hand($a)"
   ]
  },
  {
   "cell_type": "code",
   "execution_count": 157,
   "metadata": {},
   "outputs": [
    {
     "data": {
      "text/plain": "Dict{String,Float64} with 5 entries:\n  \"C\"                   => 10.848\n  \"Python numpy\"        => 5.0412\n  \"Python hand-written\" => 3406.78\n  \"Python built-in\"     => 2718.9\n  \"C -ffast-math\"       => 4.7446"
     },
     "execution_count": 157,
     "metadata": {},
     "output_type": "execute_result"
    }
   ],
   "source": [
    "results[\"Python hand-written\"] = minimum(py_hand_benchmark.times) / 1e6\n",
    "results"
   ]
  },
  {
   "cell_type": "markdown",
   "metadata": {},
   "source": [
    "## Julia Benchmarks\n",
    "\n",
    "Note, the Julia built-in sum is written directly in Julia and not C!"
   ]
  },
  {
   "cell_type": "code",
   "execution_count": 158,
   "metadata": {},
   "outputs": [
    {
     "data": {
      "text/html": "sum(a::<b>AbstractArray</b>; <i>dims</i>) in Base at <a href=\"https://github.com/JuliaLang/julia/tree/539f3ce943f59dec8aff3f2238b083f1b27f41e5/base/reducedim.jl#L722\" target=\"_blank\">reducedim.jl:722</a>",
      "text/plain": "sum(a::AbstractArray; dims) in Base at reducedim.jl:722"
     },
     "execution_count": 158,
     "metadata": {},
     "output_type": "execute_result"
    }
   ],
   "source": [
    "@which sum(a)"
   ]
  },
  {
   "cell_type": "code",
   "execution_count": 160,
   "metadata": {},
   "outputs": [
    {
     "data": {
      "text/plain": "BenchmarkTools.Trial: \n  memory estimate:  0 bytes\n  allocs estimate:  0\n  --------------\n  minimum time:     5.034 ms (0.00% GC)\n  median time:      5.881 ms (0.00% GC)\n  mean time:        6.334 ms (0.00% GC)\n  maximum time:     14.804 ms (0.00% GC)\n  --------------\n  samples:          789\n  evals/sample:     1"
     },
     "execution_count": 160,
     "metadata": {},
     "output_type": "execute_result"
    }
   ],
   "source": [
    "j_builtin_benchmark = @benchmark $sum($a)"
   ]
  },
  {
   "cell_type": "code",
   "execution_count": 161,
   "metadata": {},
   "outputs": [
    {
     "data": {
      "text/plain": "Dict{String,Float64} with 6 entries:\n  \"C\"                   => 10.848\n  \"Python numpy\"        => 5.0412\n  \"Python hand-written\" => 3406.78\n  \"Python built-in\"     => 2718.9\n  \"Julia built-in\"      => 5.03415\n  \"C -ffast-math\"       => 4.7446"
     },
     "execution_count": 161,
     "metadata": {},
     "output_type": "execute_result"
    }
   ],
   "source": [
    "results[\"Julia built-in\"] = minimum(j_builtin_benchmark.times) / 1e6\n",
    "results"
   ]
  },
  {
   "cell_type": "markdown",
   "metadata": {},
   "source": [
    "We can see that base Julia is pretty much as good as numpy without even trying hard.\n",
    "\n",
    "Now let's write our own naive sum function:"
   ]
  },
  {
   "cell_type": "code",
   "execution_count": 162,
   "metadata": {},
   "outputs": [
    {
     "data": {
      "text/plain": "mysum (generic function with 1 method)"
     },
     "execution_count": 162,
     "metadata": {},
     "output_type": "execute_result"
    }
   ],
   "source": [
    "function mysum(A)   \n",
    "    s = 0.0 # s = zero(eltype(a))\n",
    "    for a in A\n",
    "        s += a\n",
    "    end\n",
    "    s\n",
    "end"
   ]
  },
  {
   "cell_type": "code",
   "execution_count": 163,
   "metadata": {},
   "outputs": [
    {
     "data": {
      "text/plain": "true"
     },
     "execution_count": 163,
     "metadata": {},
     "output_type": "execute_result"
    }
   ],
   "source": [
    "mysum(a) ≈ sum(a)"
   ]
  },
  {
   "cell_type": "code",
   "execution_count": 164,
   "metadata": {},
   "outputs": [
    {
     "data": {
      "text/plain": "BenchmarkTools.Trial: \n  memory estimate:  0 bytes\n  allocs estimate:  0\n  --------------\n  minimum time:     11.913 ms (0.00% GC)\n  median time:      14.608 ms (0.00% GC)\n  mean time:        16.013 ms (0.00% GC)\n  maximum time:     39.191 ms (0.00% GC)\n  --------------\n  samples:          313\n  evals/sample:     1"
     },
     "execution_count": 164,
     "metadata": {},
     "output_type": "execute_result"
    }
   ],
   "source": [
    "j_hand_benchmark = @benchmark $mysum($a)"
   ]
  },
  {
   "cell_type": "code",
   "execution_count": 165,
   "metadata": {},
   "outputs": [
    {
     "data": {
      "text/plain": "Dict{String,Float64} with 7 entries:\n  \"C\"                   => 10.848\n  \"Python numpy\"        => 5.0412\n  \"Julia hand-written\"  => 11.9126\n  \"Python hand-written\" => 3406.78\n  \"Python built-in\"     => 2718.9\n  \"Julia built-in\"      => 5.03415\n  \"C -ffast-math\"       => 4.7446"
     },
     "execution_count": 165,
     "metadata": {},
     "output_type": "execute_result"
    }
   ],
   "source": [
    "results[\"Julia hand-written\"] = minimum(j_hand_benchmark.times) / 1e6\n",
    "results"
   ]
  },
  {
   "cell_type": "markdown",
   "metadata": {},
   "source": [
    "And we can see that Julia handwritten is significantly faster than Python handwritten (and the built in sum might we note) and not much slower than the C function we wrote.\n",
    "\n",
    "However it turns out that it is not too hard to optimize handwritten Julia using a macro:"
   ]
  },
  {
   "cell_type": "code",
   "execution_count": 166,
   "metadata": {},
   "outputs": [
    {
     "data": {
      "text/plain": "mysum_simd (generic function with 1 method)"
     },
     "execution_count": 166,
     "metadata": {},
     "output_type": "execute_result"
    }
   ],
   "source": [
    "function mysum_simd(A)   \n",
    "    s = 0.0 # s = zero(eltype(A))\n",
    "    @simd for a in A\n",
    "        s += a\n",
    "    end\n",
    "    s\n",
    "end"
   ]
  },
  {
   "cell_type": "code",
   "execution_count": 167,
   "metadata": {},
   "outputs": [
    {
     "data": {
      "text/plain": "true"
     },
     "execution_count": 167,
     "metadata": {},
     "output_type": "execute_result"
    }
   ],
   "source": [
    "mysum_simd(a) ≈ sum(a)"
   ]
  },
  {
   "cell_type": "code",
   "execution_count": 168,
   "metadata": {},
   "outputs": [
    {
     "data": {
      "text/plain": "BenchmarkTools.Trial: \n  memory estimate:  0 bytes\n  allocs estimate:  0\n  --------------\n  minimum time:     5.094 ms (0.00% GC)\n  median time:      7.942 ms (0.00% GC)\n  mean time:        8.557 ms (0.00% GC)\n  maximum time:     31.802 ms (0.00% GC)\n  --------------\n  samples:          584\n  evals/sample:     1"
     },
     "execution_count": 168,
     "metadata": {},
     "output_type": "execute_result"
    }
   ],
   "source": [
    "j_hand_simd_benchmark = @benchmark $mysum_simd($a)"
   ]
  },
  {
   "cell_type": "code",
   "execution_count": 169,
   "metadata": {},
   "outputs": [
    {
     "data": {
      "text/plain": "Dict{String,Float64} with 8 entries:\n  \"Julia hand-written with simd\" => 5.09362\n  \"C\"                            => 10.848\n  \"Python numpy\"                 => 5.0412\n  \"Julia hand-written\"           => 11.9126\n  \"Python hand-written\"          => 3406.78\n  \"Python built-in\"              => 2718.9\n  \"Julia built-in\"               => 5.03415\n  \"C -ffast-math\"                => 4.7446"
     },
     "execution_count": 169,
     "metadata": {},
     "output_type": "execute_result"
    }
   ],
   "source": [
    "results[\"Julia hand-written with simd\"] = minimum(j_hand_simd_benchmark.times) / 1e6\n",
    "results"
   ]
  },
  {
   "cell_type": "markdown",
   "metadata": {},
   "source": [
    "Using simd let us double the speed of the handwritten function\n",
    "\n",
    "### Summary:\n",
    "\n",
    "We can order by the values:"
   ]
  },
  {
   "cell_type": "code",
   "execution_count": 181,
   "metadata": {},
   "outputs": [
    {
     "name": "stdout",
     "output_type": "stream",
     "text": [
      "C -ffast-math.......................4.74\n",
      "Julia built-in......................5.03\n",
      "Python numpy........................5.04\n",
      "Julia hand-written with simd........5.09\n",
      "C..................................10.85\n",
      "Julia hand-written.................11.91\n",
      "Python built-in...................2718.9\n",
      "Python hand-written..............3406.78\n"
     ]
    }
   ],
   "source": [
    "for (key, value) in sort(collect(results), by = x -> x[2])\n",
    "    println(rpad(key, 30, \".\"), lpad(round(value, digits=2), 10, \".\"))\n",
    "end"
   ]
  },
  {
   "cell_type": "markdown",
   "metadata": {},
   "source": [
    "# 11. Basic Linear Algebra"
   ]
  },
  {
   "cell_type": "code",
   "execution_count": 182,
   "metadata": {},
   "outputs": [
    {
     "data": {
      "text/plain": "3×3 Array{Int64,2}:\n 1  3  1\n 2  4  4\n 4  3  2"
     },
     "execution_count": 182,
     "metadata": {},
     "output_type": "execute_result"
    }
   ],
   "source": [
    "A = rand(1:4, 3, 3)"
   ]
  },
  {
   "cell_type": "markdown",
   "metadata": {},
   "source": [
    "A note on memory references with arrays:"
   ]
  },
  {
   "cell_type": "code",
   "execution_count": 184,
   "metadata": {},
   "outputs": [
    {
     "data": {
      "text/plain": "3×6 Array{Int64,2}:\n 1  3  1  1  3  1\n 2  4  4  2  4  4\n 4  3  2  4  3  2"
     },
     "execution_count": 184,
     "metadata": {},
     "output_type": "execute_result"
    }
   ],
   "source": [
    "B = A\n",
    "C = copy(A)\n",
    "\n",
    "[ B C ]"
   ]
  },
  {
   "cell_type": "markdown",
   "metadata": {},
   "source": [
    "Now let's modify an element of A"
   ]
  },
  {
   "cell_type": "code",
   "execution_count": 195,
   "metadata": {},
   "outputs": [
    {
     "data": {
      "text/plain": "3×7 Array{Int64,2}:\n 17  3  1  0  1  3  1\n  2  4  4  0  2  4  4\n  4  3  2  0  4  3  2"
     },
     "execution_count": 195,
     "metadata": {},
     "output_type": "execute_result"
    }
   ],
   "source": [
    "A[1] = 17\n",
    "\n",
    "delim = fill(0, 3)\n",
    "\n",
    "[ B delim C ]"
   ]
  },
  {
   "cell_type": "markdown",
   "metadata": {},
   "source": [
    "We can see that C is un-modified"
   ]
  },
  {
   "cell_type": "code",
   "execution_count": 196,
   "metadata": {},
   "outputs": [
    {
     "data": {
      "text/plain": "1"
     },
     "execution_count": 196,
     "metadata": {},
     "output_type": "execute_result"
    }
   ],
   "source": [
    "A[1] = 1"
   ]
  },
  {
   "cell_type": "code",
   "execution_count": 183,
   "metadata": {},
   "outputs": [
    {
     "data": {
      "text/plain": "3-element Array{Float64,1}:\n 1.0\n 1.0\n 1.0"
     },
     "execution_count": 183,
     "metadata": {},
     "output_type": "execute_result"
    }
   ],
   "source": [
    "x = fill(1.0, 3)"
   ]
  },
  {
   "cell_type": "markdown",
   "metadata": {},
   "source": [
    "Vector-matrix multiplication:"
   ]
  },
  {
   "cell_type": "code",
   "execution_count": 187,
   "metadata": {},
   "outputs": [
    {
     "data": {
      "text/plain": "3-element Array{Float64,1}:\n  5.0\n 10.0\n  9.0"
     },
     "execution_count": 187,
     "metadata": {},
     "output_type": "execute_result"
    }
   ],
   "source": [
    "b = A*x"
   ]
  },
  {
   "cell_type": "markdown",
   "metadata": {},
   "source": [
    "conjugate transpose:"
   ]
  },
  {
   "cell_type": "code",
   "execution_count": 197,
   "metadata": {},
   "outputs": [
    {
     "data": {
      "text/plain": "3×7 Array{Int64,2}:\n 1  3  1  0  1  2  4\n 2  4  4  0  3  4  3\n 4  3  2  0  1  4  2"
     },
     "execution_count": 197,
     "metadata": {},
     "output_type": "execute_result"
    }
   ],
   "source": [
    "[ A delim A' ]"
   ]
  },
  {
   "cell_type": "code",
   "execution_count": 190,
   "metadata": {},
   "outputs": [
    {
     "data": {
      "text/plain": "3×3 Array{Int64,2}:\n 2  5  5\n 5  8  7\n 5  7  4"
     },
     "execution_count": 190,
     "metadata": {},
     "output_type": "execute_result"
    }
   ],
   "source": [
    "asym = A + A'"
   ]
  },
  {
   "cell_type": "markdown",
   "metadata": {},
   "source": [
    "To get the (not necessarily conjugate transpose) use `transpose`:"
   ]
  },
  {
   "cell_type": "code",
   "execution_count": 198,
   "metadata": {},
   "outputs": [
    {
     "data": {
      "text/plain": "3×11 Array{Int64,2}:\n 1  3  1  0  1  2  4  0  1  2  4\n 2  4  4  0  3  4  3  0  3  4  3\n 4  3  2  0  1  4  2  0  1  4  2"
     },
     "execution_count": 198,
     "metadata": {},
     "output_type": "execute_result"
    }
   ],
   "source": [
    "[A delim A' delim transpose(A)]"
   ]
  },
  {
   "cell_type": "code",
   "execution_count": null,
   "metadata": {},
   "outputs": [],
   "source": []
  }
 ],
 "metadata": {
  "kernel_info": {
   "name": "python3"
  },
  "kernelspec": {
   "display_name": "Julia 1.5.2",
   "language": "julia",
   "name": "julia-1.5"
  },
  "language_info": {
   "file_extension": ".jl",
   "mimetype": "application/julia",
   "name": "julia",
   "version": "1.5.2"
  },
  "nteract": {
   "version": "0.25.1"
  }
 },
 "nbformat": 4,
 "nbformat_minor": 1
}