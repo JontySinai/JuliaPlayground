{
 "cells": [
  {
   "cell_type": "markdown",
   "metadata": {},
   "source": [
    "# Julia Academy\n",
    "\n",
    "# 6. Reshaping Data and Next Steps\n",
    "\n",
    "**Bogumił Kamiński**\n",
    "\n",
    "**Source:** https://github.com/JuliaAcademy/DataFrames/blob/main/6.%20Next%20steps.ipynb\n",
    "\n",
    "We will use weather forecast data from two cities in Poland."
   ]
  },
  {
   "cell_type": "raw",
   "metadata": {},
   "source": [
    "using DataFrames\n",
    "using CSV\n",
    "using Pipe\n",
    "using Unitful\n",
    "using Dates"
   ]
  },
  {
   "cell_type": "raw",
   "metadata": {},
   "source": [
    "rainfall_long = CSV.File(\"rainfall_forecast.csv\") |> DataFrame"
   ]
  },
  {
   "cell_type": "markdown",
   "metadata": {},
   "source": [
    "### Adding units\n",
    "\n",
    "Rainfall is measured in millimeters, so it would be nice to add these as units to the `rainfall` column without effecting how we compute with the numerical values."
   ]
  },
  {
   "cell_type": "raw",
   "metadata": {},
   "source": [
    "transform!(rainfall_long, :rainfall => x -> x .* u\"mm\", renamecols=false)"
   ]
  },
  {
   "cell_type": "markdown",
   "metadata": {},
   "source": [
    "Notice how the type of `rainfall` has changed to `Quantity...?`"
   ]
  },
  {
   "cell_type": "markdown",
   "metadata": {},
   "source": [
    "### Wide format data\n",
    "\n",
    "Wide format data will be easier to read and compare:"
   ]
  },
  {
   "cell_type": "raw",
   "metadata": {},
   "source": [
    "rainfall_wide = unstack(rainfall_long, :date, :city, :rainfall)"
   ]
  },
  {
   "cell_type": "markdown",
   "metadata": {},
   "source": [
    "The gaps in `Ełk` are filled with `missing` values. \n",
    "\n",
    "> We can perform the reverse operation using `stack`\n",
    "\n",
    "Also note that \"Ełk\" has a nonstandard character \"ł\". This is not a problem in Julia. Use"
   ]
  },
  {
   "cell_type": "raw",
   "metadata": {},
   "source": [
    "rainfall_wide.Ełk"
   ]
  },
  {
   "cell_type": "markdown",
   "metadata": {},
   "source": [
    "### Replace the missing data\n",
    "\n",
    "When we read the data, there are gaps in the information as certain days had no forecasted rain (eg we don't have any rain forecasted for the 18th) and in Ełk, there was no forecasted rain on some days. \n",
    "\n",
    "First we need the full range of dates:"
   ]
  },
  {
   "cell_type": "raw",
   "metadata": {},
   "source": [
    "all_dates = DataFrame(date=Date.(2020, 11, 16:22))"
   ]
  },
  {
   "cell_type": "markdown",
   "metadata": {},
   "source": [
    "And now we should left-join this daterange to the data, treating missing as 0mm of rain:"
   ]
  },
  {
   "cell_type": "raw",
   "metadata": {},
   "source": [
    "@pipe leftjoin(all_dates, rainfall_wide, on=:date) |>\n",
    "      coalesce.(_, 0.0u\"mm\")"
   ]
  },
  {
   "cell_type": "raw",
   "metadata": {},
   "source": []
  }
 ],
 "metadata": {
  "kernelspec": {
   "display_name": "Julia 1.5.3",
   "name": "julia-1.5"
  },
  "language_info": {
   "file_extension": ".jl",
   "mimetype": "application/julia",
   "name": "julia",
   "version": "1.5.3"
  },
  "orig_nbformat": 2
 },
 "nbformat": 4,
 "nbformat_minor": 2
}