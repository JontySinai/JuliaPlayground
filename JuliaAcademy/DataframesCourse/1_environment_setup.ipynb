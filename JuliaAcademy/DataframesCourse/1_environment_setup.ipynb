{
 "metadata": {
  "language_info": {
   "codemirror_mode": {
    "name": "ipython",
    "version": 3
   },
   "file_extension": ".py",
   "mimetype": "text/x-python",
   "name": "python",
   "nbconvert_exporter": "python",
   "pygments_lexer": "ipython3",
   "version": 3
  },
  "orig_nbformat": 2,
  "kernelspec": {
   "name": "julia-1.5",
   "display_name": "Julia 1.5.3",
   "language": "julia"
  }
 },
 "nbformat": 4,
 "nbformat_minor": 2,
 "cells": [
  {
   "source": [
    "# Julia Academy\n",
    "\n",
    "# 1. Environment Setup\n",
    "\n",
    "**Bogumił Kamiński**\n",
    "\n",
    "**Source:** https://github.com/JuliaAcademy/DataFrames/blob/main/1.%20Environment%20setup.ipynb\n",
    "\n",
    "### Dependencies\n",
    "\n",
    "We will make sure that we have the necessary dependencies for doing this course.\n",
    "\n",
    "First we will check the Julia version:\n",
    "\n"
   ],
   "cell_type": "markdown",
   "metadata": {}
  },
  {
   "cell_type": "code",
   "execution_count": 1,
   "metadata": {},
   "outputs": [
    {
     "output_type": "execute_result",
     "data": {
      "text/plain": [
       "v\"1.5.3\""
      ]
     },
     "metadata": {},
     "execution_count": 1
    }
   ],
   "source": [
    "VERSION"
   ]
  },
  {
   "source": [
    "Now we will make sure we have the necessary files for environment reproducibility"
   ],
   "cell_type": "markdown",
   "metadata": {}
  },
  {
   "cell_type": "code",
   "execution_count": 2,
   "metadata": {},
   "outputs": [
    {
     "output_type": "execute_result",
     "data": {
      "text/plain": [
       "2-element BitArray{1}:\n",
       " 1\n",
       " 1"
      ]
     },
     "metadata": {},
     "execution_count": 2
    }
   ],
   "source": [
    "isfile.([\"Project.toml\", \"Manifest.toml\"])"
   ]
  },
  {
   "source": [
    "We can use these files to resolve all dependencies"
   ],
   "cell_type": "markdown",
   "metadata": {}
  },
  {
   "cell_type": "code",
   "execution_count": 3,
   "metadata": {},
   "outputs": [
    {
     "output_type": "stream",
     "name": "stdout",
     "text": [
      "\u001b[32m\u001b[1mStatus\u001b[22m\u001b[39m `/mnt/c/Users/josinai/workspace/JuliaPlayground/JuliaAcademy/DataframesCourse/Project.toml`\n",
      " \u001b[90m [69666777] \u001b[39m\u001b[37mArrow v1.0.0\u001b[39m\n",
      " \u001b[90m [336ed68f] \u001b[39m\u001b[37mCSV v0.8.0\u001b[39m\n",
      " \u001b[90m [a93c6f00] \u001b[39m\u001b[37mDataFrames v0.22.0\u001b[39m\n",
      " \u001b[90m [da1fdf0e] \u001b[39m\u001b[37mFreqTables v0.4.2\u001b[39m\n",
      " \u001b[90m [38e38edf] \u001b[39m\u001b[37mGLM v1.3.11\u001b[39m\n",
      " \u001b[90m [b98c9c47] \u001b[39m\u001b[37mPipe v1.3.0\u001b[39m\n",
      " \u001b[90m [d330b81b] \u001b[39m\u001b[37mPyPlot v2.9.0\u001b[39m\n",
      " \u001b[90m [1986cc42] \u001b[39m\u001b[37mUnitful v1.5.0\u001b[39m\n"
     ]
    }
   ],
   "source": [
    "] status"
   ]
  },
  {
   "cell_type": "code",
   "execution_count": 4,
   "metadata": {},
   "outputs": [],
   "source": [
    "] instantiate"
   ]
  },
  {
   "cell_type": "code",
   "execution_count": null,
   "metadata": {},
   "outputs": [],
   "source": []
  }
 ]
}